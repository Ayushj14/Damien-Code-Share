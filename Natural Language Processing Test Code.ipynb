{
  "nbformat": 4,
  "nbformat_minor": 0,
  "metadata": {
    "celltoolbar": "Slideshow",
    "kernelspec": {
      "display_name": "Python 3",
      "language": "python",
      "name": "python3"
    },
    "language_info": {
      "codemirror_mode": {
        "name": "ipython",
        "version": 3
      },
      "file_extension": ".py",
      "mimetype": "text/x-python",
      "name": "python",
      "nbconvert_exporter": "python",
      "pygments_lexer": "ipython3",
      "version": "3.7.4"
    },
    "colab": {
      "name": "Joshi-Ayush-20177214.ipynb",
      "provenance": [],
      "collapsed_sections": [
        "ahvQIoOoQqJ_"
      ]
    },
    "widgets": {
      "application/vnd.jupyter.widget-state+json": {
        "3303af56bd7a4218ba2a1229e1dada2d": {
          "model_module": "@jupyter-widgets/controls",
          "model_name": "HBoxModel",
          "state": {
            "_view_name": "HBoxView",
            "_dom_classes": [],
            "_model_name": "HBoxModel",
            "_view_module": "@jupyter-widgets/controls",
            "_model_module_version": "1.5.0",
            "_view_count": null,
            "_view_module_version": "1.5.0",
            "box_style": "",
            "layout": "IPY_MODEL_5adb70b042f0410ab0f521f2eb67c4c7",
            "_model_module": "@jupyter-widgets/controls",
            "children": [
              "IPY_MODEL_5750da95ed88413888febdf046fd76ed",
              "IPY_MODEL_23d357f4188b491381d9efe91ff9a979"
            ]
          }
        },
        "5adb70b042f0410ab0f521f2eb67c4c7": {
          "model_module": "@jupyter-widgets/base",
          "model_name": "LayoutModel",
          "state": {
            "_view_name": "LayoutView",
            "grid_template_rows": null,
            "right": null,
            "justify_content": null,
            "_view_module": "@jupyter-widgets/base",
            "overflow": null,
            "_model_module_version": "1.2.0",
            "_view_count": null,
            "flex_flow": null,
            "width": null,
            "min_width": null,
            "border": null,
            "align_items": null,
            "bottom": null,
            "_model_module": "@jupyter-widgets/base",
            "top": null,
            "grid_column": null,
            "overflow_y": null,
            "overflow_x": null,
            "grid_auto_flow": null,
            "grid_area": null,
            "grid_template_columns": null,
            "flex": null,
            "_model_name": "LayoutModel",
            "justify_items": null,
            "grid_row": null,
            "max_height": null,
            "align_content": null,
            "visibility": null,
            "align_self": null,
            "height": null,
            "min_height": null,
            "padding": null,
            "grid_auto_rows": null,
            "grid_gap": null,
            "max_width": null,
            "order": null,
            "_view_module_version": "1.2.0",
            "grid_template_areas": null,
            "object_position": null,
            "object_fit": null,
            "grid_auto_columns": null,
            "margin": null,
            "display": null,
            "left": null
          }
        },
        "5750da95ed88413888febdf046fd76ed": {
          "model_module": "@jupyter-widgets/controls",
          "model_name": "FloatProgressModel",
          "state": {
            "_view_name": "ProgressView",
            "style": "IPY_MODEL_131e0fc2c49244a9b1652b173376dbf5",
            "_dom_classes": [],
            "description": "Downloading: 100%",
            "_model_name": "FloatProgressModel",
            "bar_style": "success",
            "max": 433,
            "_view_module": "@jupyter-widgets/controls",
            "_model_module_version": "1.5.0",
            "value": 433,
            "_view_count": null,
            "_view_module_version": "1.5.0",
            "orientation": "horizontal",
            "min": 0,
            "description_tooltip": null,
            "_model_module": "@jupyter-widgets/controls",
            "layout": "IPY_MODEL_4da8a092f9984763a4cce4aa037a5944"
          }
        },
        "23d357f4188b491381d9efe91ff9a979": {
          "model_module": "@jupyter-widgets/controls",
          "model_name": "HTMLModel",
          "state": {
            "_view_name": "HTMLView",
            "style": "IPY_MODEL_73e46508629844b1888f163847d6cff5",
            "_dom_classes": [],
            "description": "",
            "_model_name": "HTMLModel",
            "placeholder": "​",
            "_view_module": "@jupyter-widgets/controls",
            "_model_module_version": "1.5.0",
            "value": " 433/433 [00:00&lt;00:00, 639B/s]",
            "_view_count": null,
            "_view_module_version": "1.5.0",
            "description_tooltip": null,
            "_model_module": "@jupyter-widgets/controls",
            "layout": "IPY_MODEL_29ed5ca672bb45e38e4e858b28406d64"
          }
        },
        "131e0fc2c49244a9b1652b173376dbf5": {
          "model_module": "@jupyter-widgets/controls",
          "model_name": "ProgressStyleModel",
          "state": {
            "_view_name": "StyleView",
            "_model_name": "ProgressStyleModel",
            "description_width": "initial",
            "_view_module": "@jupyter-widgets/base",
            "_model_module_version": "1.5.0",
            "_view_count": null,
            "_view_module_version": "1.2.0",
            "bar_color": null,
            "_model_module": "@jupyter-widgets/controls"
          }
        },
        "4da8a092f9984763a4cce4aa037a5944": {
          "model_module": "@jupyter-widgets/base",
          "model_name": "LayoutModel",
          "state": {
            "_view_name": "LayoutView",
            "grid_template_rows": null,
            "right": null,
            "justify_content": null,
            "_view_module": "@jupyter-widgets/base",
            "overflow": null,
            "_model_module_version": "1.2.0",
            "_view_count": null,
            "flex_flow": null,
            "width": null,
            "min_width": null,
            "border": null,
            "align_items": null,
            "bottom": null,
            "_model_module": "@jupyter-widgets/base",
            "top": null,
            "grid_column": null,
            "overflow_y": null,
            "overflow_x": null,
            "grid_auto_flow": null,
            "grid_area": null,
            "grid_template_columns": null,
            "flex": null,
            "_model_name": "LayoutModel",
            "justify_items": null,
            "grid_row": null,
            "max_height": null,
            "align_content": null,
            "visibility": null,
            "align_self": null,
            "height": null,
            "min_height": null,
            "padding": null,
            "grid_auto_rows": null,
            "grid_gap": null,
            "max_width": null,
            "order": null,
            "_view_module_version": "1.2.0",
            "grid_template_areas": null,
            "object_position": null,
            "object_fit": null,
            "grid_auto_columns": null,
            "margin": null,
            "display": null,
            "left": null
          }
        },
        "73e46508629844b1888f163847d6cff5": {
          "model_module": "@jupyter-widgets/controls",
          "model_name": "DescriptionStyleModel",
          "state": {
            "_view_name": "StyleView",
            "_model_name": "DescriptionStyleModel",
            "description_width": "",
            "_view_module": "@jupyter-widgets/base",
            "_model_module_version": "1.5.0",
            "_view_count": null,
            "_view_module_version": "1.2.0",
            "_model_module": "@jupyter-widgets/controls"
          }
        },
        "29ed5ca672bb45e38e4e858b28406d64": {
          "model_module": "@jupyter-widgets/base",
          "model_name": "LayoutModel",
          "state": {
            "_view_name": "LayoutView",
            "grid_template_rows": null,
            "right": null,
            "justify_content": null,
            "_view_module": "@jupyter-widgets/base",
            "overflow": null,
            "_model_module_version": "1.2.0",
            "_view_count": null,
            "flex_flow": null,
            "width": null,
            "min_width": null,
            "border": null,
            "align_items": null,
            "bottom": null,
            "_model_module": "@jupyter-widgets/base",
            "top": null,
            "grid_column": null,
            "overflow_y": null,
            "overflow_x": null,
            "grid_auto_flow": null,
            "grid_area": null,
            "grid_template_columns": null,
            "flex": null,
            "_model_name": "LayoutModel",
            "justify_items": null,
            "grid_row": null,
            "max_height": null,
            "align_content": null,
            "visibility": null,
            "align_self": null,
            "height": null,
            "min_height": null,
            "padding": null,
            "grid_auto_rows": null,
            "grid_gap": null,
            "max_width": null,
            "order": null,
            "_view_module_version": "1.2.0",
            "grid_template_areas": null,
            "object_position": null,
            "object_fit": null,
            "grid_auto_columns": null,
            "margin": null,
            "display": null,
            "left": null
          }
        },
        "93b8fd37fcfc4d83b6e75dfc56a729b8": {
          "model_module": "@jupyter-widgets/controls",
          "model_name": "HBoxModel",
          "state": {
            "_view_name": "HBoxView",
            "_dom_classes": [],
            "_model_name": "HBoxModel",
            "_view_module": "@jupyter-widgets/controls",
            "_model_module_version": "1.5.0",
            "_view_count": null,
            "_view_module_version": "1.5.0",
            "box_style": "",
            "layout": "IPY_MODEL_b7fb7cf1c0174d6c92c05d0091d6b067",
            "_model_module": "@jupyter-widgets/controls",
            "children": [
              "IPY_MODEL_af13ce49a0574a25ac7f0c3f0c6a85ee",
              "IPY_MODEL_71fc53591fbd45a886914872da790404"
            ]
          }
        },
        "b7fb7cf1c0174d6c92c05d0091d6b067": {
          "model_module": "@jupyter-widgets/base",
          "model_name": "LayoutModel",
          "state": {
            "_view_name": "LayoutView",
            "grid_template_rows": null,
            "right": null,
            "justify_content": null,
            "_view_module": "@jupyter-widgets/base",
            "overflow": null,
            "_model_module_version": "1.2.0",
            "_view_count": null,
            "flex_flow": null,
            "width": null,
            "min_width": null,
            "border": null,
            "align_items": null,
            "bottom": null,
            "_model_module": "@jupyter-widgets/base",
            "top": null,
            "grid_column": null,
            "overflow_y": null,
            "overflow_x": null,
            "grid_auto_flow": null,
            "grid_area": null,
            "grid_template_columns": null,
            "flex": null,
            "_model_name": "LayoutModel",
            "justify_items": null,
            "grid_row": null,
            "max_height": null,
            "align_content": null,
            "visibility": null,
            "align_self": null,
            "height": null,
            "min_height": null,
            "padding": null,
            "grid_auto_rows": null,
            "grid_gap": null,
            "max_width": null,
            "order": null,
            "_view_module_version": "1.2.0",
            "grid_template_areas": null,
            "object_position": null,
            "object_fit": null,
            "grid_auto_columns": null,
            "margin": null,
            "display": null,
            "left": null
          }
        },
        "af13ce49a0574a25ac7f0c3f0c6a85ee": {
          "model_module": "@jupyter-widgets/controls",
          "model_name": "FloatProgressModel",
          "state": {
            "_view_name": "ProgressView",
            "style": "IPY_MODEL_ed6cef883d5e45888123c7a55b4ef93a",
            "_dom_classes": [],
            "description": "Downloading: 100%",
            "_model_name": "FloatProgressModel",
            "bar_style": "success",
            "max": 231508,
            "_view_module": "@jupyter-widgets/controls",
            "_model_module_version": "1.5.0",
            "value": 231508,
            "_view_count": null,
            "_view_module_version": "1.5.0",
            "orientation": "horizontal",
            "min": 0,
            "description_tooltip": null,
            "_model_module": "@jupyter-widgets/controls",
            "layout": "IPY_MODEL_5ecc219d60c34d468ae57d812553b444"
          }
        },
        "71fc53591fbd45a886914872da790404": {
          "model_module": "@jupyter-widgets/controls",
          "model_name": "HTMLModel",
          "state": {
            "_view_name": "HTMLView",
            "style": "IPY_MODEL_de36d9fa9ec347b68cd4c0e2968093d7",
            "_dom_classes": [],
            "description": "",
            "_model_name": "HTMLModel",
            "placeholder": "​",
            "_view_module": "@jupyter-widgets/controls",
            "_model_module_version": "1.5.0",
            "value": " 232k/232k [00:16&lt;00:00, 14.0kB/s]",
            "_view_count": null,
            "_view_module_version": "1.5.0",
            "description_tooltip": null,
            "_model_module": "@jupyter-widgets/controls",
            "layout": "IPY_MODEL_a04000e07f1a4bd9ae53d769436afab9"
          }
        },
        "ed6cef883d5e45888123c7a55b4ef93a": {
          "model_module": "@jupyter-widgets/controls",
          "model_name": "ProgressStyleModel",
          "state": {
            "_view_name": "StyleView",
            "_model_name": "ProgressStyleModel",
            "description_width": "initial",
            "_view_module": "@jupyter-widgets/base",
            "_model_module_version": "1.5.0",
            "_view_count": null,
            "_view_module_version": "1.2.0",
            "bar_color": null,
            "_model_module": "@jupyter-widgets/controls"
          }
        },
        "5ecc219d60c34d468ae57d812553b444": {
          "model_module": "@jupyter-widgets/base",
          "model_name": "LayoutModel",
          "state": {
            "_view_name": "LayoutView",
            "grid_template_rows": null,
            "right": null,
            "justify_content": null,
            "_view_module": "@jupyter-widgets/base",
            "overflow": null,
            "_model_module_version": "1.2.0",
            "_view_count": null,
            "flex_flow": null,
            "width": null,
            "min_width": null,
            "border": null,
            "align_items": null,
            "bottom": null,
            "_model_module": "@jupyter-widgets/base",
            "top": null,
            "grid_column": null,
            "overflow_y": null,
            "overflow_x": null,
            "grid_auto_flow": null,
            "grid_area": null,
            "grid_template_columns": null,
            "flex": null,
            "_model_name": "LayoutModel",
            "justify_items": null,
            "grid_row": null,
            "max_height": null,
            "align_content": null,
            "visibility": null,
            "align_self": null,
            "height": null,
            "min_height": null,
            "padding": null,
            "grid_auto_rows": null,
            "grid_gap": null,
            "max_width": null,
            "order": null,
            "_view_module_version": "1.2.0",
            "grid_template_areas": null,
            "object_position": null,
            "object_fit": null,
            "grid_auto_columns": null,
            "margin": null,
            "display": null,
            "left": null
          }
        },
        "de36d9fa9ec347b68cd4c0e2968093d7": {
          "model_module": "@jupyter-widgets/controls",
          "model_name": "DescriptionStyleModel",
          "state": {
            "_view_name": "StyleView",
            "_model_name": "DescriptionStyleModel",
            "description_width": "",
            "_view_module": "@jupyter-widgets/base",
            "_model_module_version": "1.5.0",
            "_view_count": null,
            "_view_module_version": "1.2.0",
            "_model_module": "@jupyter-widgets/controls"
          }
        },
        "a04000e07f1a4bd9ae53d769436afab9": {
          "model_module": "@jupyter-widgets/base",
          "model_name": "LayoutModel",
          "state": {
            "_view_name": "LayoutView",
            "grid_template_rows": null,
            "right": null,
            "justify_content": null,
            "_view_module": "@jupyter-widgets/base",
            "overflow": null,
            "_model_module_version": "1.2.0",
            "_view_count": null,
            "flex_flow": null,
            "width": null,
            "min_width": null,
            "border": null,
            "align_items": null,
            "bottom": null,
            "_model_module": "@jupyter-widgets/base",
            "top": null,
            "grid_column": null,
            "overflow_y": null,
            "overflow_x": null,
            "grid_auto_flow": null,
            "grid_area": null,
            "grid_template_columns": null,
            "flex": null,
            "_model_name": "LayoutModel",
            "justify_items": null,
            "grid_row": null,
            "max_height": null,
            "align_content": null,
            "visibility": null,
            "align_self": null,
            "height": null,
            "min_height": null,
            "padding": null,
            "grid_auto_rows": null,
            "grid_gap": null,
            "max_width": null,
            "order": null,
            "_view_module_version": "1.2.0",
            "grid_template_areas": null,
            "object_position": null,
            "object_fit": null,
            "grid_auto_columns": null,
            "margin": null,
            "display": null,
            "left": null
          }
        },
        "31cba671b0624e1684e610a70559c3bc": {
          "model_module": "@jupyter-widgets/controls",
          "model_name": "HBoxModel",
          "state": {
            "_view_name": "HBoxView",
            "_dom_classes": [],
            "_model_name": "HBoxModel",
            "_view_module": "@jupyter-widgets/controls",
            "_model_module_version": "1.5.0",
            "_view_count": null,
            "_view_module_version": "1.5.0",
            "box_style": "",
            "layout": "IPY_MODEL_b724a77f66cd4aa7acdb922978fed460",
            "_model_module": "@jupyter-widgets/controls",
            "children": [
              "IPY_MODEL_45e7e956a6f749058e9becc7bcc0dea8",
              "IPY_MODEL_168b38ff6f00470f9e2ba0cb7406e863"
            ]
          }
        },
        "b724a77f66cd4aa7acdb922978fed460": {
          "model_module": "@jupyter-widgets/base",
          "model_name": "LayoutModel",
          "state": {
            "_view_name": "LayoutView",
            "grid_template_rows": null,
            "right": null,
            "justify_content": null,
            "_view_module": "@jupyter-widgets/base",
            "overflow": null,
            "_model_module_version": "1.2.0",
            "_view_count": null,
            "flex_flow": null,
            "width": null,
            "min_width": null,
            "border": null,
            "align_items": null,
            "bottom": null,
            "_model_module": "@jupyter-widgets/base",
            "top": null,
            "grid_column": null,
            "overflow_y": null,
            "overflow_x": null,
            "grid_auto_flow": null,
            "grid_area": null,
            "grid_template_columns": null,
            "flex": null,
            "_model_name": "LayoutModel",
            "justify_items": null,
            "grid_row": null,
            "max_height": null,
            "align_content": null,
            "visibility": null,
            "align_self": null,
            "height": null,
            "min_height": null,
            "padding": null,
            "grid_auto_rows": null,
            "grid_gap": null,
            "max_width": null,
            "order": null,
            "_view_module_version": "1.2.0",
            "grid_template_areas": null,
            "object_position": null,
            "object_fit": null,
            "grid_auto_columns": null,
            "margin": null,
            "display": null,
            "left": null
          }
        },
        "45e7e956a6f749058e9becc7bcc0dea8": {
          "model_module": "@jupyter-widgets/controls",
          "model_name": "FloatProgressModel",
          "state": {
            "_view_name": "ProgressView",
            "style": "IPY_MODEL_3c6ac90d2eff4720b45c585070d06ecc",
            "_dom_classes": [],
            "description": "Downloading: 100%",
            "_model_name": "FloatProgressModel",
            "bar_style": "success",
            "max": 466062,
            "_view_module": "@jupyter-widgets/controls",
            "_model_module_version": "1.5.0",
            "value": 466062,
            "_view_count": null,
            "_view_module_version": "1.5.0",
            "orientation": "horizontal",
            "min": 0,
            "description_tooltip": null,
            "_model_module": "@jupyter-widgets/controls",
            "layout": "IPY_MODEL_9777082268ea4a2b9301f4c645e7aa9a"
          }
        },
        "168b38ff6f00470f9e2ba0cb7406e863": {
          "model_module": "@jupyter-widgets/controls",
          "model_name": "HTMLModel",
          "state": {
            "_view_name": "HTMLView",
            "style": "IPY_MODEL_c98fde75a55e4fa28f067330ff7352ce",
            "_dom_classes": [],
            "description": "",
            "_model_name": "HTMLModel",
            "placeholder": "​",
            "_view_module": "@jupyter-widgets/controls",
            "_model_module_version": "1.5.0",
            "value": " 466k/466k [00:02&lt;00:00, 202kB/s]",
            "_view_count": null,
            "_view_module_version": "1.5.0",
            "description_tooltip": null,
            "_model_module": "@jupyter-widgets/controls",
            "layout": "IPY_MODEL_c977db98341d4d458a5d20f9eaca7bc7"
          }
        },
        "3c6ac90d2eff4720b45c585070d06ecc": {
          "model_module": "@jupyter-widgets/controls",
          "model_name": "ProgressStyleModel",
          "state": {
            "_view_name": "StyleView",
            "_model_name": "ProgressStyleModel",
            "description_width": "initial",
            "_view_module": "@jupyter-widgets/base",
            "_model_module_version": "1.5.0",
            "_view_count": null,
            "_view_module_version": "1.2.0",
            "bar_color": null,
            "_model_module": "@jupyter-widgets/controls"
          }
        },
        "9777082268ea4a2b9301f4c645e7aa9a": {
          "model_module": "@jupyter-widgets/base",
          "model_name": "LayoutModel",
          "state": {
            "_view_name": "LayoutView",
            "grid_template_rows": null,
            "right": null,
            "justify_content": null,
            "_view_module": "@jupyter-widgets/base",
            "overflow": null,
            "_model_module_version": "1.2.0",
            "_view_count": null,
            "flex_flow": null,
            "width": null,
            "min_width": null,
            "border": null,
            "align_items": null,
            "bottom": null,
            "_model_module": "@jupyter-widgets/base",
            "top": null,
            "grid_column": null,
            "overflow_y": null,
            "overflow_x": null,
            "grid_auto_flow": null,
            "grid_area": null,
            "grid_template_columns": null,
            "flex": null,
            "_model_name": "LayoutModel",
            "justify_items": null,
            "grid_row": null,
            "max_height": null,
            "align_content": null,
            "visibility": null,
            "align_self": null,
            "height": null,
            "min_height": null,
            "padding": null,
            "grid_auto_rows": null,
            "grid_gap": null,
            "max_width": null,
            "order": null,
            "_view_module_version": "1.2.0",
            "grid_template_areas": null,
            "object_position": null,
            "object_fit": null,
            "grid_auto_columns": null,
            "margin": null,
            "display": null,
            "left": null
          }
        },
        "c98fde75a55e4fa28f067330ff7352ce": {
          "model_module": "@jupyter-widgets/controls",
          "model_name": "DescriptionStyleModel",
          "state": {
            "_view_name": "StyleView",
            "_model_name": "DescriptionStyleModel",
            "description_width": "",
            "_view_module": "@jupyter-widgets/base",
            "_model_module_version": "1.5.0",
            "_view_count": null,
            "_view_module_version": "1.2.0",
            "_model_module": "@jupyter-widgets/controls"
          }
        },
        "c977db98341d4d458a5d20f9eaca7bc7": {
          "model_module": "@jupyter-widgets/base",
          "model_name": "LayoutModel",
          "state": {
            "_view_name": "LayoutView",
            "grid_template_rows": null,
            "right": null,
            "justify_content": null,
            "_view_module": "@jupyter-widgets/base",
            "overflow": null,
            "_model_module_version": "1.2.0",
            "_view_count": null,
            "flex_flow": null,
            "width": null,
            "min_width": null,
            "border": null,
            "align_items": null,
            "bottom": null,
            "_model_module": "@jupyter-widgets/base",
            "top": null,
            "grid_column": null,
            "overflow_y": null,
            "overflow_x": null,
            "grid_auto_flow": null,
            "grid_area": null,
            "grid_template_columns": null,
            "flex": null,
            "_model_name": "LayoutModel",
            "justify_items": null,
            "grid_row": null,
            "max_height": null,
            "align_content": null,
            "visibility": null,
            "align_self": null,
            "height": null,
            "min_height": null,
            "padding": null,
            "grid_auto_rows": null,
            "grid_gap": null,
            "max_width": null,
            "order": null,
            "_view_module_version": "1.2.0",
            "grid_template_areas": null,
            "object_position": null,
            "object_fit": null,
            "grid_auto_columns": null,
            "margin": null,
            "display": null,
            "left": null
          }
        },
        "1467a5a29da84d7ea0ddf9754df07d9e": {
          "model_module": "@jupyter-widgets/controls",
          "model_name": "HBoxModel",
          "state": {
            "_view_name": "HBoxView",
            "_dom_classes": [],
            "_model_name": "HBoxModel",
            "_view_module": "@jupyter-widgets/controls",
            "_model_module_version": "1.5.0",
            "_view_count": null,
            "_view_module_version": "1.5.0",
            "box_style": "",
            "layout": "IPY_MODEL_c4ad212d64ef4e609f0e900aaa5a1b16",
            "_model_module": "@jupyter-widgets/controls",
            "children": [
              "IPY_MODEL_c4eb4ae9263740cd9b7f2af092431889",
              "IPY_MODEL_af3299f2eb59490fafd3eeae125e5a8c"
            ]
          }
        },
        "c4ad212d64ef4e609f0e900aaa5a1b16": {
          "model_module": "@jupyter-widgets/base",
          "model_name": "LayoutModel",
          "state": {
            "_view_name": "LayoutView",
            "grid_template_rows": null,
            "right": null,
            "justify_content": null,
            "_view_module": "@jupyter-widgets/base",
            "overflow": null,
            "_model_module_version": "1.2.0",
            "_view_count": null,
            "flex_flow": null,
            "width": null,
            "min_width": null,
            "border": null,
            "align_items": null,
            "bottom": null,
            "_model_module": "@jupyter-widgets/base",
            "top": null,
            "grid_column": null,
            "overflow_y": null,
            "overflow_x": null,
            "grid_auto_flow": null,
            "grid_area": null,
            "grid_template_columns": null,
            "flex": null,
            "_model_name": "LayoutModel",
            "justify_items": null,
            "grid_row": null,
            "max_height": null,
            "align_content": null,
            "visibility": null,
            "align_self": null,
            "height": null,
            "min_height": null,
            "padding": null,
            "grid_auto_rows": null,
            "grid_gap": null,
            "max_width": null,
            "order": null,
            "_view_module_version": "1.2.0",
            "grid_template_areas": null,
            "object_position": null,
            "object_fit": null,
            "grid_auto_columns": null,
            "margin": null,
            "display": null,
            "left": null
          }
        },
        "c4eb4ae9263740cd9b7f2af092431889": {
          "model_module": "@jupyter-widgets/controls",
          "model_name": "FloatProgressModel",
          "state": {
            "_view_name": "ProgressView",
            "style": "IPY_MODEL_ec4475c4c543406481155a97c33ac986",
            "_dom_classes": [],
            "description": "Downloading: 100%",
            "_model_name": "FloatProgressModel",
            "bar_style": "success",
            "max": 28,
            "_view_module": "@jupyter-widgets/controls",
            "_model_module_version": "1.5.0",
            "value": 28,
            "_view_count": null,
            "_view_module_version": "1.5.0",
            "orientation": "horizontal",
            "min": 0,
            "description_tooltip": null,
            "_model_module": "@jupyter-widgets/controls",
            "layout": "IPY_MODEL_0cfea845e1614863ad1dea713111a0b7"
          }
        },
        "af3299f2eb59490fafd3eeae125e5a8c": {
          "model_module": "@jupyter-widgets/controls",
          "model_name": "HTMLModel",
          "state": {
            "_view_name": "HTMLView",
            "style": "IPY_MODEL_7987488b787a46dc8b735b61a4483d6c",
            "_dom_classes": [],
            "description": "",
            "_model_name": "HTMLModel",
            "placeholder": "​",
            "_view_module": "@jupyter-widgets/controls",
            "_model_module_version": "1.5.0",
            "value": " 28.0/28.0 [00:00&lt;00:00, 42.1B/s]",
            "_view_count": null,
            "_view_module_version": "1.5.0",
            "description_tooltip": null,
            "_model_module": "@jupyter-widgets/controls",
            "layout": "IPY_MODEL_e29a7450a370441491b3ed4b4ec428d5"
          }
        },
        "ec4475c4c543406481155a97c33ac986": {
          "model_module": "@jupyter-widgets/controls",
          "model_name": "ProgressStyleModel",
          "state": {
            "_view_name": "StyleView",
            "_model_name": "ProgressStyleModel",
            "description_width": "initial",
            "_view_module": "@jupyter-widgets/base",
            "_model_module_version": "1.5.0",
            "_view_count": null,
            "_view_module_version": "1.2.0",
            "bar_color": null,
            "_model_module": "@jupyter-widgets/controls"
          }
        },
        "0cfea845e1614863ad1dea713111a0b7": {
          "model_module": "@jupyter-widgets/base",
          "model_name": "LayoutModel",
          "state": {
            "_view_name": "LayoutView",
            "grid_template_rows": null,
            "right": null,
            "justify_content": null,
            "_view_module": "@jupyter-widgets/base",
            "overflow": null,
            "_model_module_version": "1.2.0",
            "_view_count": null,
            "flex_flow": null,
            "width": null,
            "min_width": null,
            "border": null,
            "align_items": null,
            "bottom": null,
            "_model_module": "@jupyter-widgets/base",
            "top": null,
            "grid_column": null,
            "overflow_y": null,
            "overflow_x": null,
            "grid_auto_flow": null,
            "grid_area": null,
            "grid_template_columns": null,
            "flex": null,
            "_model_name": "LayoutModel",
            "justify_items": null,
            "grid_row": null,
            "max_height": null,
            "align_content": null,
            "visibility": null,
            "align_self": null,
            "height": null,
            "min_height": null,
            "padding": null,
            "grid_auto_rows": null,
            "grid_gap": null,
            "max_width": null,
            "order": null,
            "_view_module_version": "1.2.0",
            "grid_template_areas": null,
            "object_position": null,
            "object_fit": null,
            "grid_auto_columns": null,
            "margin": null,
            "display": null,
            "left": null
          }
        },
        "7987488b787a46dc8b735b61a4483d6c": {
          "model_module": "@jupyter-widgets/controls",
          "model_name": "DescriptionStyleModel",
          "state": {
            "_view_name": "StyleView",
            "_model_name": "DescriptionStyleModel",
            "description_width": "",
            "_view_module": "@jupyter-widgets/base",
            "_model_module_version": "1.5.0",
            "_view_count": null,
            "_view_module_version": "1.2.0",
            "_model_module": "@jupyter-widgets/controls"
          }
        },
        "e29a7450a370441491b3ed4b4ec428d5": {
          "model_module": "@jupyter-widgets/base",
          "model_name": "LayoutModel",
          "state": {
            "_view_name": "LayoutView",
            "grid_template_rows": null,
            "right": null,
            "justify_content": null,
            "_view_module": "@jupyter-widgets/base",
            "overflow": null,
            "_model_module_version": "1.2.0",
            "_view_count": null,
            "flex_flow": null,
            "width": null,
            "min_width": null,
            "border": null,
            "align_items": null,
            "bottom": null,
            "_model_module": "@jupyter-widgets/base",
            "top": null,
            "grid_column": null,
            "overflow_y": null,
            "overflow_x": null,
            "grid_auto_flow": null,
            "grid_area": null,
            "grid_template_columns": null,
            "flex": null,
            "_model_name": "LayoutModel",
            "justify_items": null,
            "grid_row": null,
            "max_height": null,
            "align_content": null,
            "visibility": null,
            "align_self": null,
            "height": null,
            "min_height": null,
            "padding": null,
            "grid_auto_rows": null,
            "grid_gap": null,
            "max_width": null,
            "order": null,
            "_view_module_version": "1.2.0",
            "grid_template_areas": null,
            "object_position": null,
            "object_fit": null,
            "grid_auto_columns": null,
            "margin": null,
            "display": null,
            "left": null
          }
        },
        "c1c28ef85d3848dd957aa11a4db87493": {
          "model_module": "@jupyter-widgets/controls",
          "model_name": "HBoxModel",
          "state": {
            "_view_name": "HBoxView",
            "_dom_classes": [],
            "_model_name": "HBoxModel",
            "_view_module": "@jupyter-widgets/controls",
            "_model_module_version": "1.5.0",
            "_view_count": null,
            "_view_module_version": "1.5.0",
            "box_style": "",
            "layout": "IPY_MODEL_3d9c600be1944a2fb3be9cce72be98b0",
            "_model_module": "@jupyter-widgets/controls",
            "children": [
              "IPY_MODEL_9b72783634bb4e4e8b7fab393d9c2fa3",
              "IPY_MODEL_d1e1d010e0454caba1001441b468670f"
            ]
          }
        },
        "3d9c600be1944a2fb3be9cce72be98b0": {
          "model_module": "@jupyter-widgets/base",
          "model_name": "LayoutModel",
          "state": {
            "_view_name": "LayoutView",
            "grid_template_rows": null,
            "right": null,
            "justify_content": null,
            "_view_module": "@jupyter-widgets/base",
            "overflow": null,
            "_model_module_version": "1.2.0",
            "_view_count": null,
            "flex_flow": null,
            "width": null,
            "min_width": null,
            "border": null,
            "align_items": null,
            "bottom": null,
            "_model_module": "@jupyter-widgets/base",
            "top": null,
            "grid_column": null,
            "overflow_y": null,
            "overflow_x": null,
            "grid_auto_flow": null,
            "grid_area": null,
            "grid_template_columns": null,
            "flex": null,
            "_model_name": "LayoutModel",
            "justify_items": null,
            "grid_row": null,
            "max_height": null,
            "align_content": null,
            "visibility": null,
            "align_self": null,
            "height": null,
            "min_height": null,
            "padding": null,
            "grid_auto_rows": null,
            "grid_gap": null,
            "max_width": null,
            "order": null,
            "_view_module_version": "1.2.0",
            "grid_template_areas": null,
            "object_position": null,
            "object_fit": null,
            "grid_auto_columns": null,
            "margin": null,
            "display": null,
            "left": null
          }
        },
        "9b72783634bb4e4e8b7fab393d9c2fa3": {
          "model_module": "@jupyter-widgets/controls",
          "model_name": "FloatProgressModel",
          "state": {
            "_view_name": "ProgressView",
            "style": "IPY_MODEL_82c1264f4e6344adae6701d48db89485",
            "_dom_classes": [],
            "description": "Downloading: 100%",
            "_model_name": "FloatProgressModel",
            "bar_style": "success",
            "max": 440473133,
            "_view_module": "@jupyter-widgets/controls",
            "_model_module_version": "1.5.0",
            "value": 440473133,
            "_view_count": null,
            "_view_module_version": "1.5.0",
            "orientation": "horizontal",
            "min": 0,
            "description_tooltip": null,
            "_model_module": "@jupyter-widgets/controls",
            "layout": "IPY_MODEL_90790e2479ad4d7994307199d36d2448"
          }
        },
        "d1e1d010e0454caba1001441b468670f": {
          "model_module": "@jupyter-widgets/controls",
          "model_name": "HTMLModel",
          "state": {
            "_view_name": "HTMLView",
            "style": "IPY_MODEL_65f733227f4948968506cad02a64d0ad",
            "_dom_classes": [],
            "description": "",
            "_model_name": "HTMLModel",
            "placeholder": "​",
            "_view_module": "@jupyter-widgets/controls",
            "_model_module_version": "1.5.0",
            "value": " 440M/440M [00:12&lt;00:00, 34.0MB/s]",
            "_view_count": null,
            "_view_module_version": "1.5.0",
            "description_tooltip": null,
            "_model_module": "@jupyter-widgets/controls",
            "layout": "IPY_MODEL_d9777cafb1a6432081cc645b0e62f272"
          }
        },
        "82c1264f4e6344adae6701d48db89485": {
          "model_module": "@jupyter-widgets/controls",
          "model_name": "ProgressStyleModel",
          "state": {
            "_view_name": "StyleView",
            "_model_name": "ProgressStyleModel",
            "description_width": "initial",
            "_view_module": "@jupyter-widgets/base",
            "_model_module_version": "1.5.0",
            "_view_count": null,
            "_view_module_version": "1.2.0",
            "bar_color": null,
            "_model_module": "@jupyter-widgets/controls"
          }
        },
        "90790e2479ad4d7994307199d36d2448": {
          "model_module": "@jupyter-widgets/base",
          "model_name": "LayoutModel",
          "state": {
            "_view_name": "LayoutView",
            "grid_template_rows": null,
            "right": null,
            "justify_content": null,
            "_view_module": "@jupyter-widgets/base",
            "overflow": null,
            "_model_module_version": "1.2.0",
            "_view_count": null,
            "flex_flow": null,
            "width": null,
            "min_width": null,
            "border": null,
            "align_items": null,
            "bottom": null,
            "_model_module": "@jupyter-widgets/base",
            "top": null,
            "grid_column": null,
            "overflow_y": null,
            "overflow_x": null,
            "grid_auto_flow": null,
            "grid_area": null,
            "grid_template_columns": null,
            "flex": null,
            "_model_name": "LayoutModel",
            "justify_items": null,
            "grid_row": null,
            "max_height": null,
            "align_content": null,
            "visibility": null,
            "align_self": null,
            "height": null,
            "min_height": null,
            "padding": null,
            "grid_auto_rows": null,
            "grid_gap": null,
            "max_width": null,
            "order": null,
            "_view_module_version": "1.2.0",
            "grid_template_areas": null,
            "object_position": null,
            "object_fit": null,
            "grid_auto_columns": null,
            "margin": null,
            "display": null,
            "left": null
          }
        },
        "65f733227f4948968506cad02a64d0ad": {
          "model_module": "@jupyter-widgets/controls",
          "model_name": "DescriptionStyleModel",
          "state": {
            "_view_name": "StyleView",
            "_model_name": "DescriptionStyleModel",
            "description_width": "",
            "_view_module": "@jupyter-widgets/base",
            "_model_module_version": "1.5.0",
            "_view_count": null,
            "_view_module_version": "1.2.0",
            "_model_module": "@jupyter-widgets/controls"
          }
        },
        "d9777cafb1a6432081cc645b0e62f272": {
          "model_module": "@jupyter-widgets/base",
          "model_name": "LayoutModel",
          "state": {
            "_view_name": "LayoutView",
            "grid_template_rows": null,
            "right": null,
            "justify_content": null,
            "_view_module": "@jupyter-widgets/base",
            "overflow": null,
            "_model_module_version": "1.2.0",
            "_view_count": null,
            "flex_flow": null,
            "width": null,
            "min_width": null,
            "border": null,
            "align_items": null,
            "bottom": null,
            "_model_module": "@jupyter-widgets/base",
            "top": null,
            "grid_column": null,
            "overflow_y": null,
            "overflow_x": null,
            "grid_auto_flow": null,
            "grid_area": null,
            "grid_template_columns": null,
            "flex": null,
            "_model_name": "LayoutModel",
            "justify_items": null,
            "grid_row": null,
            "max_height": null,
            "align_content": null,
            "visibility": null,
            "align_self": null,
            "height": null,
            "min_height": null,
            "padding": null,
            "grid_auto_rows": null,
            "grid_gap": null,
            "max_width": null,
            "order": null,
            "_view_module_version": "1.2.0",
            "grid_template_areas": null,
            "object_position": null,
            "object_fit": null,
            "grid_auto_columns": null,
            "margin": null,
            "display": null,
            "left": null
          }
        }
      }
    }
  },
  "cells": [
    {
      "cell_type": "markdown",
      "metadata": {
        "id": "xPWAzPhgmh35"
      },
      "source": [
        "<img src=\"https://drive.google.com/uc?id=1xZ4bHsFuk8oiEcWpX8YlT5jFdnkhSxLw\" style=\"width: 100%;\" />\n",
        "<!--<img src=\"img/ucl_header.png\" style=\"width: 100%;\" />-->\n",
        "<br /><br /><br />\n",
        "\n",
        "<h2 style=\"text-align: center; font-size: 5rem; margin-top: 0;\">MSIN0221:</h2>\n",
        "<h1 style=\"text-align: center; font-size: 8rem; margin-top: 4px;\">Individual Assignment</h1>\n",
        "<br /><br /><br />\n",
        "\n",
        "<div>\n",
        "    <img src=\"https://drive.google.com/uc?id=12YWZTkqdD8rgOBnTedQMFZy4xvPzbs0o\" style=\"float: left;\" />\n",
        "    <!--<img src=\"img/ucl_som_logo.png\" style=\"float: left;\" />-->\n",
        "    <div>\n",
        "        <p style=\"text-align: right; font-weight: bold;\">\n",
        "            Max Bartolo<br />\n",
        "            <a href=\"https://maxbartolo.com\" target=\"_blank\">https://maxbartolo.com</a><br />\n",
        "            <a href=\"https://twitter.com/max_nlp\" target=\"_blank\">@max_nlp</a>\n",
        "        </p>\n",
        "    </div>\n",
        "</div>"
      ]
    },
    {
      "cell_type": "markdown",
      "metadata": {
        "id": "g7niNUcBJGch"
      },
      "source": [
        "<hr />"
      ]
    },
    {
      "cell_type": "markdown",
      "metadata": {
        "id": "_wu2z4euqnqx"
      },
      "source": [
        "# Individual Assignment\n",
        "The individual assignment is designed to support your learning as you navigate through the first half of this course. \n",
        "\n",
        "The total number of marks available for this assignment is 100, which will constitute 40% of the overall score for this module.\n",
        "\n",
        "## Instructions\n",
        "\n",
        "1.   Make a copy of this notebook \n",
        "  - Click on \"File -> Save a copy in Drive\" and open it in Colab afterwards\n",
        "  - **Not recommended!**: Alternatively, download the notebook and work on it on your local machine though keep in mind that you will have to make sure it still runs on Colab afterwards and does not depend on any packages that you installed locally\n",
        "2.   Rename your notebook to **surname-forename-studentnumber.ipynb**\n",
        "  - Make sure to exactly follow this naming scheme (don't replace `-` with `_` or something like that)\n",
        "  - **Failure to comply with this scheme will result in -10 marks!**\n",
        "3.   For math exercises, use $\\LaTeX$  to typset your answer\n",
        "4.   For coding exercises, insert your code at `# TODO` statements\n",
        "5.   For multiple-choice questions, choose an answer from the drop-down list\n",
        "6.   Before submitting your notebook, **make sure that it runs without errors when executed from start to end on Colab**\n",
        "  - To check this, reload your notebook and the Python kernel, and run the notebook from the first to the last cell\n",
        "  - **If your notebook throws any errors, you will be penalized by -25 marks in addition to any penalities from incorrect answers**\n",
        "  - You are responsible for delivering a fully functional notebook (as you would be in a business presentation setting). We won't be fixing any errors (no matter how small) to make your code work\n",
        "7.  Download your notebook and submit it on Moodle\n",
        "  - Click on \"File -> Download .ipynb\"\n",
        "  \n",
        "\n"
      ]
    },
    {
      "cell_type": "markdown",
      "metadata": {
        "id": "38oUb7Gzv2M5"
      },
      "source": [
        "## Notebook Setup"
      ]
    },
    {
      "cell_type": "code",
      "metadata": {
        "id": "3AR9Ye5KttUt"
      },
      "source": [
        "# Imports [don't change this cell!]\n",
        "import matplotlib.pyplot as plt\n",
        "import numpy as np\n",
        "import pandas as pd\n",
        "import random\n",
        "import re\n",
        "import sklearn\n",
        "import string\n",
        "from sklearn.feature_extraction.text import TfidfVectorizer\n",
        "%matplotlib inline\n",
        "import os\n",
        "import sys\n",
        "IN_COLAB = 'google.colab' in sys.modules\n",
        "\n",
        "# Set the random seed for reproducibility\n",
        "RAND_SEED = 27\n",
        "random.seed(RAND_SEED)\n",
        "np.random.seed(RAND_SEED)"
      ],
      "execution_count": 1,
      "outputs": []
    },
    {
      "cell_type": "code",
      "metadata": {
        "id": "gP05BXXigv1-",
        "colab": {
          "base_uri": "https://localhost:8080/"
        },
        "outputId": "bcf64ee6-8621-41bb-8765-f5b2c8bce1ce"
      },
      "source": [
        "# Your Imports [import any other libraries you need in this cell]\n",
        "# Import spacy for tokenisation\n",
        "import spacy\n",
        "# try:\n",
        "#     nlp = spacy.load(\"en_core_web_md\")\n",
        "# except OSError:\n",
        "#     import spacy.cli \n",
        "#     print(\"Model not found. Downloading.\")\n",
        "#     spacy.cli.download(\"en_core_web_md\")\n",
        "#     import en_core_web_md\n",
        "#     nlp = en_core_web_md.load()\n",
        "# Show spaCy stopwords\n",
        "from spacy.lang.en.stop_words import STOP_WORDS\n",
        "import sklearn.linear_model as lm\n",
        "from sklearn.linear_model import LogisticRegression\n",
        "from sklearn.metrics import accuracy_score\n",
        "from sklearn.feature_extraction.text import TfidfVectorizer\n",
        "from sklearn import metrics \n",
        "import matplotlib.pyplot as plt\n",
        "import seaborn as sns\n",
        "from sklearn import metrics\n",
        "from sklearn.metrics.pairwise import cosine_similarity\n",
        "from numpy import dot\n",
        "from numpy.linalg import norm\n",
        "\n",
        "import torch\n",
        "torch.manual_seed(RAND_SEED)  # set for reproducibility\n",
        "from sklearn.model_selection import train_test_split\n",
        "# Load the data using torchtext\n",
        "import torchtext\n",
        "print(f\"torchtext version is {torchtext.__version__}\")\n",
        "\n",
        "if torchtext.__version__ >= '0.9':\n",
        "  from torchtext.legacy import data\n",
        "  from torchtext.legacy.data import Field, Dataset, Example\n",
        "else:\n",
        "  from torchtext import data\n",
        "  from torchtext.data import Field, Dataset, Example\n",
        "\n"
      ],
      "execution_count": 2,
      "outputs": [
        {
          "output_type": "stream",
          "text": [
            "torchtext version is 0.9.0\n"
          ],
          "name": "stdout"
        }
      ]
    },
    {
      "cell_type": "markdown",
      "metadata": {
        "id": "K3uq9tNPJJM9"
      },
      "source": [
        "<hr />"
      ]
    },
    {
      "cell_type": "markdown",
      "metadata": {
        "id": "PFhWCRX00J55"
      },
      "source": [
        "## Q1: Text Preprocessing [5 marks]"
      ]
    },
    {
      "cell_type": "markdown",
      "metadata": {
        "id": "gquLmO0O0OYC"
      },
      "source": [
        "### Q1.1: Tokenisation [3 marks]\n",
        "Create a function called `word_tokenize` to split input text into tokens separated by any whitespace character, or punctuation character (as listed in Python's `string.punctuation`).\n",
        "\n",
        "For example, the following input:\n",
        "\n",
        "`Pre-processing is useful to most NLP algorithms -- it allows us to transform text into a more digestible format for models.`\n",
        "\n",
        "should be transformed into:\n",
        "\n",
        "`['Pre', '-', 'processing', 'is', 'useful', 'to', 'most', 'NLP', 'algorithms', '-', '-', 'it', 'allows', 'us', 'to', 'transform', 'text', 'into', 'a', 'more', 'digestible', 'format', 'for', 'models', '.']`\n"
      ]
    },
    {
      "cell_type": "code",
      "metadata": {
        "id": "MyFEfew91k3r",
        "colab": {
          "base_uri": "https://localhost:8080/"
        },
        "outputId": "9418b82a-22c2-4adc-9802-018dbfa44f69"
      },
      "source": [
        "#TODO: complete the function below\n",
        "def word_tokenize(text: str) -> list:\n",
        "  text = re.findall(r\"\\w+|[^\\w\\s]\", text)\n",
        "  return text\n",
        "\n",
        "\n",
        "\n",
        "input_text = \"Pre-processing is useful to most NLP algorithms -- it allows us to transform text into a more digestible format for models.\"\n",
        "print(word_tokenize(input_text))"
      ],
      "execution_count": 3,
      "outputs": [
        {
          "output_type": "stream",
          "text": [
            "['Pre', '-', 'processing', 'is', 'useful', 'to', 'most', 'NLP', 'algorithms', '-', '-', 'it', 'allows', 'us', 'to', 'transform', 'text', 'into', 'a', 'more', 'digestible', 'format', 'for', 'models', '.']\n"
          ],
          "name": "stdout"
        }
      ]
    },
    {
      "cell_type": "markdown",
      "metadata": {
        "id": "YSL2EXu65Y9T"
      },
      "source": [
        "### Q1.2: Remove stopwords [2 marks]\n",
        "Create a function called `remove_stopwords` to remove the stopwords `['a', 'in', 'to', 'as', 'for', 'the']` from an input list of tokens.\n",
        "\n",
        "For example, the following input:\n",
        "\n",
        "`['Pre', '-', 'processing', 'is', 'useful', 'to', 'most', 'NLP', 'algorithms', '-', '-', 'it', 'allows', 'us', 'to', 'transform', 'text', 'into', 'a', 'more', 'digestible', 'format', 'for', 'models', '.']`\n",
        "\n",
        "should be transformed into:\n",
        "\n",
        "`['Pre', '-', 'processing', 'is', 'useful', 'most', 'NLP', 'algorithms', '-', '-', 'it', 'allows', 'us', 'transform', 'text', 'into', 'more', 'digestible', 'format', 'models', '.']`\n"
      ]
    },
    {
      "cell_type": "code",
      "metadata": {
        "id": "_GKh0eIF57XB",
        "colab": {
          "base_uri": "https://localhost:8080/"
        },
        "outputId": "f7f50ea2-c430-4891-9f45-6cf9ad960786"
      },
      "source": [
        "#TODO: complete the function below\n",
        "def remove_stopwords(tokens: list) -> list:\n",
        "  stopwords = ['a', 'in', 'to', 'as', 'for', 'the']\n",
        "  return[w for w in tokens if not w in stopwords]\n",
        "\n",
        "  \n",
        "  \n",
        "\n",
        "input_tokens = ['Pre', '-', 'processing', 'is', 'useful', 'to', 'most', 'NLP', 'algorithms', '-', '-', 'it', 'allows', 'us', 'to', 'transform', 'text', 'into', 'a', 'more', 'digestible', 'format', 'for', 'models', '.']\n",
        "print(remove_stopwords(input_tokens))"
      ],
      "execution_count": 4,
      "outputs": [
        {
          "output_type": "stream",
          "text": [
            "['Pre', '-', 'processing', 'is', 'useful', 'most', 'NLP', 'algorithms', '-', '-', 'it', 'allows', 'us', 'transform', 'text', 'into', 'more', 'digestible', 'format', 'models', '.']\n"
          ],
          "name": "stdout"
        }
      ]
    },
    {
      "cell_type": "markdown",
      "metadata": {
        "id": "bSLb-Y0yqjqm"
      },
      "source": [
        ""
      ]
    },
    {
      "cell_type": "markdown",
      "metadata": {
        "id": "2NYXlU14JL5k"
      },
      "source": [
        "<hr />"
      ]
    },
    {
      "cell_type": "markdown",
      "metadata": {
        "id": "RVqYcfRlz3cG"
      },
      "source": [
        "## Q2: Feature Exploration [20 marks]"
      ]
    },
    {
      "cell_type": "code",
      "metadata": {
        "id": "2q2YRPFO-lO7",
        "colab": {
          "base_uri": "https://localhost:8080/",
          "height": 359
        },
        "outputId": "bcfdfb95-120a-453c-f3d3-4d5f2658f10c"
      },
      "source": [
        "# This cell loads the SST-2 dataset [do not change!]\n",
        "path_train = \"https://drive.google.com/uc?id=1IsO72aOzjx-6eu2Z5VOaXZBShatNxBaj\"\n",
        "path_dev = \"https://drive.google.com/uc?id=1tUiTEzR14wmYTdr0mYEKaDbj9-pN05-u\"\n",
        "\n",
        "# Load in the train and dev data\n",
        "df_train = pd.read_csv(path_train, sep='\\t')\n",
        "df_dev = pd.read_csv(path_dev, sep='\\t')\n",
        "# We'll split df_dev into a validation and test set for the purposes of this assignment\n",
        "df_dev, df_test = df_dev[:400], df_dev[400:]\n",
        "\n",
        "# Quick look at the training data\n",
        "pd.set_option('max_colwidth', 1000)\n",
        "df_train[:10]\n"
      ],
      "execution_count": 5,
      "outputs": [
        {
          "output_type": "execute_result",
          "data": {
            "text/html": [
              "<div>\n",
              "<style scoped>\n",
              "    .dataframe tbody tr th:only-of-type {\n",
              "        vertical-align: middle;\n",
              "    }\n",
              "\n",
              "    .dataframe tbody tr th {\n",
              "        vertical-align: top;\n",
              "    }\n",
              "\n",
              "    .dataframe thead th {\n",
              "        text-align: right;\n",
              "    }\n",
              "</style>\n",
              "<table border=\"1\" class=\"dataframe\">\n",
              "  <thead>\n",
              "    <tr style=\"text-align: right;\">\n",
              "      <th></th>\n",
              "      <th>sentence</th>\n",
              "      <th>label</th>\n",
              "    </tr>\n",
              "  </thead>\n",
              "  <tbody>\n",
              "    <tr>\n",
              "      <th>0</th>\n",
              "      <td>hide new secretions from the parental units</td>\n",
              "      <td>0</td>\n",
              "    </tr>\n",
              "    <tr>\n",
              "      <th>1</th>\n",
              "      <td>contains no wit , only labored gags</td>\n",
              "      <td>0</td>\n",
              "    </tr>\n",
              "    <tr>\n",
              "      <th>2</th>\n",
              "      <td>that loves its characters and communicates something rather beautiful about human nature</td>\n",
              "      <td>1</td>\n",
              "    </tr>\n",
              "    <tr>\n",
              "      <th>3</th>\n",
              "      <td>remains utterly satisfied to remain the same throughout</td>\n",
              "      <td>0</td>\n",
              "    </tr>\n",
              "    <tr>\n",
              "      <th>4</th>\n",
              "      <td>on the worst revenge-of-the-nerds clichés the filmmakers could dredge up</td>\n",
              "      <td>0</td>\n",
              "    </tr>\n",
              "    <tr>\n",
              "      <th>5</th>\n",
              "      <td>that 's far too tragic to merit such superficial treatment</td>\n",
              "      <td>0</td>\n",
              "    </tr>\n",
              "    <tr>\n",
              "      <th>6</th>\n",
              "      <td>demonstrates that the director of such hollywood blockbusters as patriot games can still turn out a small , personal film with an emotional wallop .</td>\n",
              "      <td>1</td>\n",
              "    </tr>\n",
              "    <tr>\n",
              "      <th>7</th>\n",
              "      <td>of saucy</td>\n",
              "      <td>1</td>\n",
              "    </tr>\n",
              "    <tr>\n",
              "      <th>8</th>\n",
              "      <td>a depressed fifteen-year-old 's suicidal poetry</td>\n",
              "      <td>0</td>\n",
              "    </tr>\n",
              "    <tr>\n",
              "      <th>9</th>\n",
              "      <td>are more deeply thought through than in most ` right-thinking ' films</td>\n",
              "      <td>1</td>\n",
              "    </tr>\n",
              "  </tbody>\n",
              "</table>\n",
              "</div>"
            ],
            "text/plain": [
              "                                                                                                                                                sentence  label\n",
              "0                                                                                                           hide new secretions from the parental units       0\n",
              "1                                                                                                                   contains no wit , only labored gags       0\n",
              "2                                                              that loves its characters and communicates something rather beautiful about human nature       1\n",
              "3                                                                                               remains utterly satisfied to remain the same throughout       0\n",
              "4                                                                              on the worst revenge-of-the-nerds clichés the filmmakers could dredge up       0\n",
              "5                                                                                            that 's far too tragic to merit such superficial treatment       0\n",
              "6  demonstrates that the director of such hollywood blockbusters as patriot games can still turn out a small , personal film with an emotional wallop .       1\n",
              "7                                                                                                                                              of saucy       1\n",
              "8                                                                                                       a depressed fifteen-year-old 's suicidal poetry       0\n",
              "9                                                                                 are more deeply thought through than in most ` right-thinking ' films       1"
            ]
          },
          "metadata": {
            "tags": []
          },
          "execution_count": 5
        }
      ]
    },
    {
      "cell_type": "markdown",
      "metadata": {
        "id": "HMRLOL3w_A8C"
      },
      "source": [
        "### Q2.1: Distinguish \"good\" from \"bad\" [2 marks]\n",
        "Create a function called `is_good` to identify whether either of the words `['good', 'nice', 'love']` occur in a text string. The function should return `1` if any of the words are present, and `0` otherwise. Make sure that you only match the complete words (for example, if the word `loves` occurs, the function should return `0`).\n",
        "\n",
        "Create another function called `is_bad` to identify whether either of the words `['bad', 'ugly', 'boring']` occur in a text string. The function should return `1` if any of the words are present, and `0` otherwise.\n"
      ]
    },
    {
      "cell_type": "code",
      "metadata": {
        "id": "1XPML_co-lME",
        "colab": {
          "base_uri": "https://localhost:8080/"
        },
        "outputId": "e2d14936-d563-4029-bb4b-a3dae8dfc2e6"
      },
      "source": [
        "#TODO: complete the function below\n",
        "def is_good(text: str) -> int:\n",
        "  good_words = ['good', 'nice', 'love']\n",
        "  tokenised_text = text.split()\n",
        "  check = [w for w in tokenised_text if not w in good_words]\n",
        "  if check == tokenised_text:\n",
        "    return 0\n",
        "  else:\n",
        "    return 1\n",
        "\n",
        "\n",
        "input_text = \"that loves its characters and communicates something rather beautiful about human nature\"\n",
        "print(input_text)\n",
        "print(is_good(input_text))  # should print 0\n",
        "\n",
        "input_text = \"I love NLP\"\n",
        "print(input_text)\n",
        "print(is_good(input_text))  # should print 1"
      ],
      "execution_count": 6,
      "outputs": [
        {
          "output_type": "stream",
          "text": [
            "that loves its characters and communicates something rather beautiful about human nature\n",
            "0\n",
            "I love NLP\n",
            "1\n"
          ],
          "name": "stdout"
        }
      ]
    },
    {
      "cell_type": "code",
      "metadata": {
        "id": "GJwEKb1p-lJp",
        "colab": {
          "base_uri": "https://localhost:8080/"
        },
        "outputId": "42d284f6-393d-4e3c-e4ae-55b4d51776fc"
      },
      "source": [
        "#TODO: complete the function below\n",
        "def is_bad(text: str) -> int:\n",
        "  bad_words = ['bad', 'ugly', 'boring']\n",
        "  tokenised_text = text.split()\n",
        "  check = [w for w in tokenised_text if not w in bad_words]\n",
        "  if check == tokenised_text:\n",
        "    return 0\n",
        "  else:\n",
        "    return 1\n",
        "  \n",
        "  \n",
        "\n",
        "input_text = \"that loves its characters and communicates something rather beautiful about human nature\"\n",
        "print(input_text)\n",
        "print(is_bad(input_text))  # should print 0\n",
        "\n",
        "input_text = \"lockdowns can be boring but learning NLP totally makes up for it\"\n",
        "print(input_text)\n",
        "print(is_bad(input_text))  # should print 1\n",
        "\n"
      ],
      "execution_count": 7,
      "outputs": [
        {
          "output_type": "stream",
          "text": [
            "that loves its characters and communicates something rather beautiful about human nature\n",
            "0\n",
            "lockdowns can be boring but learning NLP totally makes up for it\n",
            "1\n"
          ],
          "name": "stdout"
        }
      ]
    },
    {
      "cell_type": "markdown",
      "metadata": {
        "id": "JbHV983TDaD3"
      },
      "source": [
        " \n",
        "### Q2.2: Logistic Regression [3 marks]\n",
        "Train a Logistic Regression model (feel free to use scikit-learn) using the `is_good()` and `is_bad()` functions as features. For example, the input sentence `I love NLP` would be featurised as the vector `[1, 0]` since `is_good()` will return `1` and `is_bad()` will return 0.\n",
        "\n",
        "Report your results (accuracy) on the training set and the validation set."
      ]
    },
    {
      "cell_type": "code",
      "metadata": {
        "id": "IGt1gY48-lHe",
        "colab": {
          "base_uri": "https://localhost:8080/"
        },
        "outputId": "437aef8a-f5cc-4b5d-e60e-b1877cfe5f54"
      },
      "source": [
        "#TODO: complete the function below\n",
        "#insipration from notebook 9 on neural networks \n",
        "\n",
        "# Logistic sigmoid function\n",
        "def sigmoid(x):\n",
        "    return 1 / (1 + np.exp(-x))\n",
        "class LogisticRegression():\n",
        "    def __init__(self, rand_seed=RAND_SEED):\n",
        "        self.rand_seed = rand_seed\n",
        "        np.random.seed(self.rand_seed)  # set the random seed for reproducibility\n",
        "        self.w1 = np.random.randn()\n",
        "        self.w2 = np.random.randn()\n",
        "        self.b = np.random.randn()\n",
        "        \n",
        "    def forward(self, x1: int, x2: int) -> int:\n",
        "        weighted_sum = self.w1*x1 + self.w2*x2 + self.b\n",
        "        activation = sigmoid(weighted_sum)\n",
        "        return activation\n",
        "\n",
        "\n",
        "#Combine function\n",
        "def good_or_bad(text):\n",
        "  is_good_is_bad = [is_good,is_bad]\n",
        "  return np.array([function(text)for function in is_good_is_bad])\n",
        " \n",
        "\n",
        "#apply functions \n",
        "df_train[\"good or bad\"] = df_train[\"sentence\"].apply(good_or_bad)\n",
        "df_dev[\"good or bad\"] = df_dev[\"sentence\"].apply(good_or_bad)\n",
        "\n",
        "\n",
        "# Get probabilities of class = 1 i.e. positive for training\n",
        "model = LogisticRegression()\n",
        "training_probabilities = []\n",
        "for x1, x2 in df_train[\"good or bad\"]:\n",
        "    prob = model.forward(x1, x2)\n",
        "    training_probabilities.append(prob)\n",
        "\n",
        "# Get probabilities of class = 1 i.e. positive for dev \n",
        "model = LogisticRegression()\n",
        "dev_probabilities = []\n",
        "for x1, x2 in df_dev[\"good or bad\"]:\n",
        "    prob = model.forward(x1, x2)\n",
        "    dev_probabilities.append(prob)\n",
        "\n",
        "# predictions by applying our threshold\n",
        "threshold = 0.5\n",
        "training_predictions = [1 if p >= 0.5 else 0 for p in training_probabilities]\n",
        "dev_predictions = [1 if p >= 0.5 else 0 for p in dev_probabilities]\n",
        "\n",
        "# Compute the accuracy score\n",
        "def accuracy(y_true: list, y_pred: list) -> int:\n",
        "    assert len(y_true) == len(y_pred), \"y_true and y_pred must be the same length\"\n",
        "    num_correct = 0\n",
        "    for y_t, y_p in zip(y_true, y_pred):\n",
        "        if y_t == y_p:\n",
        "            num_correct += 1\n",
        "    return 100*num_correct / len(y_true)\n",
        "\n",
        "training_model_acc = accuracy(df_train[\"label\"], training_predictions)\n",
        "print(\"The training model's accuracy score is {:.2f}%\".format(training_model_acc))\n",
        "\n",
        "dev_model_acc = accuracy(df_dev[\"label\"], dev_predictions)\n",
        "print(\"The development model's accuracy score is {:.2f}%\".format(dev_model_acc))\n",
        "\n",
        "\n",
        "\n",
        "\n",
        "\n",
        "\n",
        "\n",
        "\n",
        "\n"
      ],
      "execution_count": 8,
      "outputs": [
        {
          "output_type": "stream",
          "text": [
            "The training model's accuracy score is 55.78%\n",
            "The development model's accuracy score is 52.00%\n"
          ],
          "name": "stdout"
        }
      ]
    },
    {
      "cell_type": "markdown",
      "metadata": {
        "id": "i4s_rD4vHdix"
      },
      "source": [
        "### Q2.3: Develop your own features [5 marks]\n",
        "Develop your own feature functions and use them to train a Logistic Regression model. Describe the intuition behind any of the features you create, and make sure to show explanations and code for all interesting features you come up with, even if they don't make it to the final feature selection you use to train your model.\n",
        "\n",
        "Report your results (accuracy) on the training set and the validation set."
      ]
    },
    {
      "cell_type": "markdown",
      "metadata": {
        "id": "TmFzoLNydKjl"
      },
      "source": [
        "- Removal of stop words (Do we want to keep all the tokens in the list? We don't. In fact, we want to remove all the words that don’t provide additional information.)\n",
        "- Now that we have all the useful tokens, we can apply word transformations. Stemming and Lemmatization both generate the root form of words\n",
        "- It’s important to have a look at the length of the text because it’s an easy calculation that can give a lot of insights. Maybe, for instance, we are lucky enough to discover that one category is systematically longer than another and the length would simply be the only feature needed to build the model.\n",
        "- convert to lower case as we dont want model to generate new tokens for a word in good() or bad() simply because it is in capital \n",
        "- add word frequency as a feature in your dataframe. We just need the CountVectorizer from Scikit-learn"
      ]
    },
    {
      "cell_type": "code",
      "metadata": {
        "id": "N3rj3SrEMFCS",
        "colab": {
          "base_uri": "https://localhost:8080/"
        },
        "outputId": "f2a083b2-833d-46e2-fc3a-d92758889a79"
      },
      "source": [
        "# Load the opinion lexicon\n",
        "# Define where the data is located\n",
        "DATA_DIR = \"data/opinion-lexicon-en/\"\n",
        "path_pos_words = os.path.join(DATA_DIR, 'positive-words.txt')\n",
        "path_neg_words = os.path.join(DATA_DIR, 'negative-words.txt')\n",
        "\n",
        "if IN_COLAB:\n",
        "    path_pos_words = \"uc?id=15nUrNvPy0a9hpBStZ1rjZvU5I73glhVs\"\n",
        "    path_neg_words = \"uc?id=1nlCloWzQ_SeI5jpptBgWX5GOjkmsJvMx\"\n",
        "    if not os.path.exists(path_pos_words):\n",
        "      # If the files don't exist, download them from drive\n",
        "      !wget https://drive.google.com/uc?id=15nUrNvPy0a9hpBStZ1rjZvU5I73glhVs\n",
        "      !wget https://drive.google.com/uc?id=1nlCloWzQ_SeI5jpptBgWX5GOjkmsJvMx\n",
        "\n",
        "# Load in the train and dev data\n",
        "with open(path_pos_words, 'r', encoding='ISO-8859-1') as f:\n",
        "    POS_WORDS = set([u''+word.strip()+'' for word in f.readlines()[30:]])\n",
        "with open(path_neg_words, 'r', encoding='ISO-8859-1') as f:\n",
        "    NEG_WORDS = set([u''+word.strip()+'' for word in f.readlines()[31:]]) \n",
        "\n",
        "print(\"Loaded {} positive and {} negative words.\".format(len(POS_WORDS), len(NEG_WORDS)))\n",
        "print(\"Example positive words: {}\".format(list(POS_WORDS)[:6]))\n",
        "print(\"Example negative words: {}\".format(list(NEG_WORDS)[:6]))"
      ],
      "execution_count": 9,
      "outputs": [
        {
          "output_type": "stream",
          "text": [
            "--2021-03-23 19:58:13--  https://drive.google.com/uc?id=15nUrNvPy0a9hpBStZ1rjZvU5I73glhVs\n",
            "Resolving drive.google.com (drive.google.com)... 108.177.119.100, 108.177.119.139, 108.177.119.138, ...\n",
            "Connecting to drive.google.com (drive.google.com)|108.177.119.100|:443... connected.\n",
            "HTTP request sent, awaiting response... 302 Moved Temporarily\n",
            "Location: https://doc-08-40-docs.googleusercontent.com/docs/securesc/ha0ro937gcuc7l7deffksulhg5h7mbp1/nfg3147phrh84mm4rcefut2p04inq0f8/1616529450000/04136828060170594848/*/15nUrNvPy0a9hpBStZ1rjZvU5I73glhVs [following]\n",
            "Warning: wildcards not supported in HTTP.\n",
            "--2021-03-23 19:58:14--  https://doc-08-40-docs.googleusercontent.com/docs/securesc/ha0ro937gcuc7l7deffksulhg5h7mbp1/nfg3147phrh84mm4rcefut2p04inq0f8/1616529450000/04136828060170594848/*/15nUrNvPy0a9hpBStZ1rjZvU5I73glhVs\n",
            "Resolving doc-08-40-docs.googleusercontent.com (doc-08-40-docs.googleusercontent.com)... 108.177.127.132, 2a00:1450:4013:c07::84\n",
            "Connecting to doc-08-40-docs.googleusercontent.com (doc-08-40-docs.googleusercontent.com)|108.177.127.132|:443... connected.\n",
            "HTTP request sent, awaiting response... 200 OK\n",
            "Length: 22408 (22K) [text/plain]\n",
            "Saving to: ‘uc?id=15nUrNvPy0a9hpBStZ1rjZvU5I73glhVs’\n",
            "\n",
            "uc?id=15nUrNvPy0a9h 100%[===================>]  21.88K  --.-KB/s    in 0s      \n",
            "\n",
            "2021-03-23 19:58:14 (83.2 MB/s) - ‘uc?id=15nUrNvPy0a9hpBStZ1rjZvU5I73glhVs’ saved [22408/22408]\n",
            "\n",
            "--2021-03-23 19:58:14--  https://drive.google.com/uc?id=1nlCloWzQ_SeI5jpptBgWX5GOjkmsJvMx\n",
            "Resolving drive.google.com (drive.google.com)... 108.177.119.101, 108.177.119.113, 108.177.119.102, ...\n",
            "Connecting to drive.google.com (drive.google.com)|108.177.119.101|:443... connected.\n",
            "HTTP request sent, awaiting response... 302 Moved Temporarily\n",
            "Location: https://doc-0k-40-docs.googleusercontent.com/docs/securesc/ha0ro937gcuc7l7deffksulhg5h7mbp1/umjbmkour0batprqr4n8i77pqjhgvh7f/1616529450000/04136828060170594848/*/1nlCloWzQ_SeI5jpptBgWX5GOjkmsJvMx [following]\n",
            "Warning: wildcards not supported in HTTP.\n",
            "--2021-03-23 19:58:15--  https://doc-0k-40-docs.googleusercontent.com/docs/securesc/ha0ro937gcuc7l7deffksulhg5h7mbp1/umjbmkour0batprqr4n8i77pqjhgvh7f/1616529450000/04136828060170594848/*/1nlCloWzQ_SeI5jpptBgWX5GOjkmsJvMx\n",
            "Resolving doc-0k-40-docs.googleusercontent.com (doc-0k-40-docs.googleusercontent.com)... 108.177.127.132, 2a00:1450:4013:c07::84\n",
            "Connecting to doc-0k-40-docs.googleusercontent.com (doc-0k-40-docs.googleusercontent.com)|108.177.127.132|:443... connected.\n",
            "HTTP request sent, awaiting response... 200 OK\n",
            "Length: 50857 (50K) [text/plain]\n",
            "Saving to: ‘uc?id=1nlCloWzQ_SeI5jpptBgWX5GOjkmsJvMx’\n",
            "\n",
            "uc?id=1nlCloWzQ_SeI 100%[===================>]  49.67K  --.-KB/s    in 0.002s  \n",
            "\n",
            "2021-03-23 19:58:15 (29.3 MB/s) - ‘uc?id=1nlCloWzQ_SeI5jpptBgWX5GOjkmsJvMx’ saved [50857/50857]\n",
            "\n",
            "Loaded 2006 positive and 4783 negative words.\n",
            "Example positive words: ['cherub', 'gentlest', 'courteous', 'refunded', 'luster', 'lover']\n",
            "Example negative words: ['glum', 'clumsy', 'haughtily', 'shunned', 'spewing', 'hurtful']\n"
          ],
          "name": "stdout"
        }
      ]
    },
    {
      "cell_type": "code",
      "metadata": {
        "id": "tLo_QoEd-lCo",
        "colab": {
          "base_uri": "https://localhost:8080/"
        },
        "outputId": "60701913-3d5e-4fb9-9fee-c7473e38ad03"
      },
      "source": [
        "#TODO: your code goes here\n",
        "import sklearn.linear_model as lm\n",
        "#Define Feature Functions\n",
        "#tokenise\n",
        "def tokenise(text):\n",
        "    return text.split()\n",
        "# Number of stopwords\n",
        "def num_stopwords(tokens):\n",
        "  return len([token for token in tokens if token in STOP_WORDS])\n",
        "\n",
        "#sentence length\n",
        "def text_len(tokens):\n",
        "    return len(\" \".join(tokens))\n",
        "#sentence positivity ... positive and negative words are loaded in cell above\n",
        "def positivity(tokens):\n",
        "    score = 0\n",
        "    for token in tokens:\n",
        "        if token in POS_WORDS:\n",
        "            score += 1\n",
        "        if token in NEG_WORDS:\n",
        "            score -= 1\n",
        "    return score\n",
        "\n",
        "\n",
        "\n",
        "#Apply functions to extract features to training set \n",
        "df_train['Tokenised sentence'] = df_train['sentence'].apply(tokenise)\n",
        "df_train['text length'] = df_train['Tokenised sentence'].apply(text_len)\n",
        "df_train['positivity'] = df_train['Tokenised sentence'].apply(positivity)\n",
        "df_train['Number stopwords'] = df_train['Tokenised sentence'].apply(num_stopwords)\n",
        "\n",
        "#define X and Y train sets\n",
        "X_train = df_train.drop(['label','sentence','good or bad','Tokenised sentence'], axis=1)\n",
        "y_train = df_train['label']\n",
        "\n",
        "#fit model on training set \n",
        "log_reg = lm.LogisticRegression()\n",
        "log_reg.fit(X_train, y_train)\n",
        "\n",
        "#evaluate model performance on training set \n",
        "y_train_pred = log_reg.predict(X_train)\n",
        "accuracy = accuracy_score(y_train,y_train_pred)\n",
        "print(\"Training Accuracy is {:.2f}%\".format(100*accuracy))\n",
        "\n",
        "#Apply Functions to extract features to dev set \n",
        "df_dev['Tokenised sentence'] = df_dev['sentence'].apply(tokenise)\n",
        "df_dev['text length'] = df_dev['Tokenised sentence'].apply(text_len)\n",
        "df_dev['positivity'] = df_dev['Tokenised sentence'].apply(positivity)\n",
        "df_dev['Number stopwords'] = df_dev['Tokenised sentence'].apply(num_stopwords)\n",
        "\n",
        "#define X and Y dev sets\n",
        "X_dev = df_dev.drop(['label','sentence','good or bad','Tokenised sentence'], axis=1)\n",
        "y_dev = df_dev['label']\n",
        "\n",
        "#Evaluate model performance on dev set \n",
        "y_dev_pred = log_reg.predict(X_dev)\n",
        "dev_accuracy = accuracy_score(y_dev, y_dev_pred)\n",
        "print(\"Development Set Accuracy is {:.2f}%\".format(100*dev_accuracy))\n",
        "\n",
        "\n",
        "\n",
        "\n",
        "\n",
        "\n"
      ],
      "execution_count": 10,
      "outputs": [
        {
          "output_type": "stream",
          "text": [
            "Training Accuracy is 72.18%\n",
            "Development Set Accuracy is 69.75%\n"
          ],
          "name": "stdout"
        }
      ]
    },
    {
      "cell_type": "code",
      "metadata": {
        "id": "hOlnH5XTgBqj",
        "colab": {
          "base_uri": "https://localhost:8080/",
          "height": 204
        },
        "outputId": "8298f251-b11a-44f9-a6fb-02f47520fe6d"
      },
      "source": [
        "df_train.head()"
      ],
      "execution_count": 11,
      "outputs": [
        {
          "output_type": "execute_result",
          "data": {
            "text/html": [
              "<div>\n",
              "<style scoped>\n",
              "    .dataframe tbody tr th:only-of-type {\n",
              "        vertical-align: middle;\n",
              "    }\n",
              "\n",
              "    .dataframe tbody tr th {\n",
              "        vertical-align: top;\n",
              "    }\n",
              "\n",
              "    .dataframe thead th {\n",
              "        text-align: right;\n",
              "    }\n",
              "</style>\n",
              "<table border=\"1\" class=\"dataframe\">\n",
              "  <thead>\n",
              "    <tr style=\"text-align: right;\">\n",
              "      <th></th>\n",
              "      <th>sentence</th>\n",
              "      <th>label</th>\n",
              "      <th>good or bad</th>\n",
              "      <th>Tokenised sentence</th>\n",
              "      <th>text length</th>\n",
              "      <th>positivity</th>\n",
              "      <th>Number stopwords</th>\n",
              "    </tr>\n",
              "  </thead>\n",
              "  <tbody>\n",
              "    <tr>\n",
              "      <th>0</th>\n",
              "      <td>hide new secretions from the parental units</td>\n",
              "      <td>0</td>\n",
              "      <td>[0, 0]</td>\n",
              "      <td>[hide, new, secretions, from, the, parental, units]</td>\n",
              "      <td>43</td>\n",
              "      <td>0</td>\n",
              "      <td>2</td>\n",
              "    </tr>\n",
              "    <tr>\n",
              "      <th>1</th>\n",
              "      <td>contains no wit , only labored gags</td>\n",
              "      <td>0</td>\n",
              "      <td>[0, 0]</td>\n",
              "      <td>[contains, no, wit, ,, only, labored, gags]</td>\n",
              "      <td>35</td>\n",
              "      <td>0</td>\n",
              "      <td>2</td>\n",
              "    </tr>\n",
              "    <tr>\n",
              "      <th>2</th>\n",
              "      <td>that loves its characters and communicates something rather beautiful about human nature</td>\n",
              "      <td>1</td>\n",
              "      <td>[0, 0]</td>\n",
              "      <td>[that, loves, its, characters, and, communicates, something, rather, beautiful, about, human, nature]</td>\n",
              "      <td>88</td>\n",
              "      <td>2</td>\n",
              "      <td>6</td>\n",
              "    </tr>\n",
              "    <tr>\n",
              "      <th>3</th>\n",
              "      <td>remains utterly satisfied to remain the same throughout</td>\n",
              "      <td>0</td>\n",
              "      <td>[0, 0]</td>\n",
              "      <td>[remains, utterly, satisfied, to, remain, the, same, throughout]</td>\n",
              "      <td>55</td>\n",
              "      <td>0</td>\n",
              "      <td>4</td>\n",
              "    </tr>\n",
              "    <tr>\n",
              "      <th>4</th>\n",
              "      <td>on the worst revenge-of-the-nerds clichés the filmmakers could dredge up</td>\n",
              "      <td>0</td>\n",
              "      <td>[0, 0]</td>\n",
              "      <td>[on, the, worst, revenge-of-the-nerds, clichés, the, filmmakers, could, dredge, up]</td>\n",
              "      <td>72</td>\n",
              "      <td>-1</td>\n",
              "      <td>5</td>\n",
              "    </tr>\n",
              "  </tbody>\n",
              "</table>\n",
              "</div>"
            ],
            "text/plain": [
              "                                                                                    sentence  ...  Number stopwords\n",
              "0                                               hide new secretions from the parental units   ...                 2\n",
              "1                                                       contains no wit , only labored gags   ...                 2\n",
              "2  that loves its characters and communicates something rather beautiful about human nature   ...                 6\n",
              "3                                   remains utterly satisfied to remain the same throughout   ...                 4\n",
              "4                  on the worst revenge-of-the-nerds clichés the filmmakers could dredge up   ...                 5\n",
              "\n",
              "[5 rows x 7 columns]"
            ]
          },
          "metadata": {
            "tags": []
          },
          "execution_count": 11
        }
      ]
    },
    {
      "cell_type": "markdown",
      "metadata": {
        "id": "oWJusGK4IBus"
      },
      "source": [
        "### Q2.4: TFIDF [2 marks]\n",
        "Train a Logistic Regression model on the TFIDF representations of the input texts.\n",
        "\n",
        "Report your results (accuracy) on the training set and the validation set."
      ]
    },
    {
      "cell_type": "code",
      "metadata": {
        "id": "xsbx2lNP-lAE",
        "colab": {
          "base_uri": "https://localhost:8080/"
        },
        "outputId": "7807e7e9-e150-4c1b-9b4d-d665c520b30f"
      },
      "source": [
        "#TODO: your code goes here\n",
        "\n",
        "#define X and Y train sets\n",
        "x_train, y_train = df_train['sentence'].values, df_train['label'].values\n",
        "x_dev, y_dev = df_dev['sentence'].values, df_dev['label'].values #sentence and label are columns\n",
        "\n",
        "#Define TfidfVectorizer \n",
        "vectorizer = TfidfVectorizer(stop_words='english')\n",
        "vectorizer.fit(x_train)\n",
        "# Then we convert train and dev to BOW... all th sentences we saw before will become a count of each word \n",
        "x_train = vectorizer.transform(x_train)\n",
        "x_dev = vectorizer.transform(x_dev)\n",
        "\n",
        "# Extract the trained vocab\n",
        "vocab = vectorizer.get_feature_names()\n",
        "print(\"{} tokens in vocab\".format(len(vocab)))\n",
        "print()\n",
        "\n",
        "\n",
        "#Define the model\n",
        "log_reg = lm.LogisticRegression()\n",
        "# Train the model\n",
        "log_reg.fit(x_train, y_train);\n",
        "\n",
        "\n",
        "# Get the model predictions on the train and dev set\n",
        "y_pred_train = log_reg.predict(x_train)\n",
        "y_pred_dev = log_reg.predict(x_dev)\n",
        "# Evaluate model accuracy \n",
        "y_pred_dev_proba = log_reg.predict_proba(x_dev) # this will create model probabilities\n",
        "\n",
        "# Evaluate the model accuracy\n",
        "acc_train = 100 * accuracy_score(y_true=y_train, y_pred=y_pred_train)\n",
        "acc_dev = 100 * accuracy_score(y_true=y_dev, y_pred=y_pred_dev)\n",
        "acc_dev_reference = acc_dev  \n",
        "\n",
        "print(\"Accuracy score on train is {:.2f}%\".format(acc_train))\n",
        "print(\"Accuracy score on dev is {:.2f}%\".format(acc_dev))\n",
        "\n"
      ],
      "execution_count": 12,
      "outputs": [
        {
          "output_type": "stream",
          "text": [
            "13491 tokens in vocab\n",
            "\n",
            "Accuracy score on train is 91.27%\n",
            "Accuracy score on dev is 80.00%\n"
          ],
          "name": "stdout"
        },
        {
          "output_type": "stream",
          "text": [
            "/usr/local/lib/python3.7/dist-packages/sklearn/linear_model/_logistic.py:940: ConvergenceWarning: lbfgs failed to converge (status=1):\n",
            "STOP: TOTAL NO. of ITERATIONS REACHED LIMIT.\n",
            "\n",
            "Increase the number of iterations (max_iter) or scale the data as shown in:\n",
            "    https://scikit-learn.org/stable/modules/preprocessing.html\n",
            "Please also refer to the documentation for alternative solver options:\n",
            "    https://scikit-learn.org/stable/modules/linear_model.html#logistic-regression\n",
            "  extra_warning_msg=_LOGISTIC_SOLVER_CONVERGENCE_MSG)\n"
          ],
          "name": "stderr"
        }
      ]
    },
    {
      "cell_type": "markdown",
      "metadata": {
        "id": "n_ByxNZ7IQHA"
      },
      "source": [
        "### Q2.5: Error Analysis [8 marks]\n",
        "Provide a descriptive error analysis comparing your best **feature engineered Logistic Regression model** to the **TFIDF Logistic Regression model**.\n",
        "\n",
        "Make sure to include confusion matrices for both models on the **validation set** and an analysis of the error modes."
      ]
    },
    {
      "cell_type": "code",
      "metadata": {
        "id": "_wbdkSCo-k9q",
        "colab": {
          "base_uri": "https://localhost:8080/",
          "height": 939
        },
        "outputId": "f3049d0d-3a3c-4375-bd08-8dcc7e9eef07"
      },
      "source": [
        "#TODO: your code goes here\n",
        " \n",
        "#Confusion Matrix for TFIDF Logistic regression \n",
        "cnf_matrix_TFIDF = metrics.confusion_matrix(y_dev,y_pred_dev)\n",
        "\n",
        "\n",
        "#visualise matrix heatmap\n",
        "fig, ax = plt.subplots()\n",
        "sns.heatmap(pd.DataFrame(cnf_matrix_TFIDF), annot=True, cmap=\"YlGnBu\" ,fmt='g')\n",
        "ax.xaxis.set_label_position(\"top\")\n",
        "plt.tight_layout()\n",
        "plt.title('Confusion matrix for TFIDF Logistic Regression ')\n",
        "plt.ylabel('Actual label')\n",
        "plt.xlabel('Predicted label')\n",
        "\n",
        "#classification report for TFIDF Logistic Regression \n",
        "TFIDF_report = metrics.classification_report(y_dev,y_pred_dev)\n",
        "print(TFIDF_report)\n",
        "\n",
        "#Confusion Matrix for manual feature engineered logistic regression \n",
        "cnf_matrix_manual  = metrics.confusion_matrix(y_dev,y_dev_pred)\n",
        "cnf_matrix_manual \n",
        "\n",
        "#visualise matrix heatmap\n",
        "fig, ax = plt.subplots()\n",
        "sns.heatmap(pd.DataFrame(cnf_matrix_manual), annot=True, cmap=\"YlGnBu\" ,fmt='g')\n",
        "ax.xaxis.set_label_position(\"top\")\n",
        "plt.tight_layout()\n",
        "plt.title('Confusion matrix for manual feature engineered logistic regression ')\n",
        "plt.ylabel('Actual label')\n",
        "plt.xlabel('Predicted label')\n",
        "\n",
        "#classification report for manual feature engineered Logistic Regression \n",
        "manual_report = metrics.classification_report(y_dev,y_dev_pred)\n",
        "print(manual_report)\n",
        "\n",
        "##print out 10 and then comment "
      ],
      "execution_count": 13,
      "outputs": [
        {
          "output_type": "stream",
          "text": [
            "              precision    recall  f1-score   support\n",
            "\n",
            "           0       0.83      0.73      0.78       192\n",
            "           1       0.78      0.86      0.82       208\n",
            "\n",
            "    accuracy                           0.80       400\n",
            "   macro avg       0.80      0.80      0.80       400\n",
            "weighted avg       0.80      0.80      0.80       400\n",
            "\n",
            "              precision    recall  f1-score   support\n",
            "\n",
            "           0       0.71      0.64      0.67       192\n",
            "           1       0.69      0.75      0.72       208\n",
            "\n",
            "    accuracy                           0.70       400\n",
            "   macro avg       0.70      0.70      0.70       400\n",
            "weighted avg       0.70      0.70      0.70       400\n",
            "\n"
          ],
          "name": "stdout"
        },
        {
          "output_type": "display_data",
          "data": {
            "image/png": "[encoded data removed]",
            "text/plain": [
              "<Figure size 432x288 with 2 Axes>"
            ]
          },
          "metadata": {
            "tags": [],
            "needs_background": "light"
          }
        },
        {
          "output_type": "display_data",
          "data": {
            "image/png": "[encoded data removed]",
            "text/plain": [
              "<Figure size 432x288 with 2 Axes>"
            ]
          },
          "metadata": {
            "tags": [],
            "needs_background": "light"
          }
        }
      ]
    },
    {
      "cell_type": "markdown",
      "metadata": {
        "id": "EMfSdq0JJfwQ"
      },
      "source": [
        "<hr />"
      ]
    },
    {
      "cell_type": "markdown",
      "metadata": {
        "id": "wJIZRYwAJngz"
      },
      "source": [
        "## Q3: Define an NLP Problem [20 marks]\n",
        "\n",
        "1. Write down the *problem statement*\n",
        "1. Define the data *inputs* and *outputs*\n",
        "1. What is the task structure? Is it similar to an existing NLP task you have heard of? If so, are there any sources of data you could use initially?\n",
        "1. Design a **very quick** prototype of your idea for a **data annotation interface**. You can use tools such as:\n",
        "    * Paper and pen\n",
        "    * Spreadsheets (e.g. GSheets, Excel, etc)\n",
        "    * Presentation software (e.g. GSlides, Powerpoint, Keynote, etc)\n",
        "    * Rapid Prototyping apps (e.g. Adobe XD, [Mockplus](https://www.mockplus.com/free-wireframing-tool/), [Sketchappsources](https://www.sketchappsources.com/), etc)\n",
        "    * Anything else!\n",
        "    * **Make sure to upload your prototype interface somewhere that it can easily be shared and include a link to it in your description**\n",
        "1. Briefly describe how you might approach modelling the problem"
      ]
    },
    {
      "cell_type": "markdown",
      "metadata": {
        "id": "nho742QeKKwO"
      },
      "source": [
        "#### Q3.1: Problem Statement"
      ]
    },
    {
      "cell_type": "markdown",
      "metadata": {
        "id": "30gORe-7K7Id"
      },
      "source": [
        "With the recent release of series 3 of the Netflix series 'Formula 1:Drive to Survive', analysts at Netflix are attempting to perform a metaphorical litmus test of opinion on the series. It is important to specifically gauge opinion on the new series on social media platforms as the sport is looking to increase its fanbase amongst the younger generations and their opinion is most prevelant on social media. The analysts will be using sentiment analysis to extract the reaction to the new episodes by detecting positive semtiment within tweets on Twitter. So the task is to classify tweets about the show as positive, or neutral/negative. "
      ]
    },
    {
      "cell_type": "markdown",
      "metadata": {
        "id": "9QppI_I8LAV7"
      },
      "source": [
        "#### Q3.2: Inputs and Outputs"
      ]
    },
    {
      "cell_type": "markdown",
      "metadata": {
        "id": "vLrw0o0ULATg"
      },
      "source": [
        "The data for this task will be collated via a web scrape, utilising a Twitter API. The API will allow programmatic access to live tweets. Queries can be tailored so that all tweets will the hashtag #F1 Drive to Survive to make sure tweets are concerning the appropriate topic. \n",
        "\n",
        "The tweets, once cleaned and feature engineered, a training set of the data will be used as the inputs. The cleaning process and feature engineering will be elaborated on in the following section. The output will consist of labels manually assigned to each tweet, 1 for postive sentiment and 0 for neutral or negative sentiment. The labelling processing and crowdsourcing resources required will be elaborated on in the following section. \n",
        "\n"
      ]
    },
    {
      "cell_type": "markdown",
      "metadata": {
        "id": "2k-PJXC-LARJ"
      },
      "source": [
        "#### Q3.3: Task Structure"
      ]
    },
    {
      "cell_type": "markdown",
      "metadata": {
        "id": "Htd4FsOpLAPF"
      },
      "source": [
        "In many ways, this problem is similiar to many other sentiment analysis problems. These method's are employed in a variety of contexts; whether it be  identifying hate speech on social media platforms or  intelligence agencies identifying suspicious activity on online forums. \n",
        "\n",
        "The task will follow this structure:\n",
        "1. Scraping Data\n",
        "2. Labelling Data \n",
        "3. Cleaning Data \n",
        "4. Feature Extraction \n",
        "5. Model Building - Sentiment Analysis \n",
        "\n",
        "\n",
        "\n",
        "1. **Scraping Data**\n",
        "\n",
        "Tweets will be scraped using a Twitter API. The query submitted will specify the hastag \"#f1 drive to survive.\n",
        "\n",
        "2. **Labelling data**\n",
        "\n",
        "As we will be manually labelling the sentiment of each tweet scraped, crowdsourcing methods are required to make the labelling process feasible. We will use Amazon Mechinical Turk (mTurk). This is an online platform for paid labelling of our data. Those being employed to label the data, will use a prodi.gy data annotation interface for a binary text classification purposes. The data will be loaded, and the input tweets/ data can be classed by the user as positive, negative or neutral sentiment towards the new series of the show\n",
        "\n",
        "3. **Cleaning Data**\n",
        "\n",
        "Cleaning of the data is next and is important in order to extract features from the data. First twitter handles/ any words begining with an '@' are removed using a remove pattern function. Punctuations, numbers and special characters  will be removed. The shortened sentences will be tokenised and stemmed so that variations of words are not missed later when it comes to positivity scoring. \n",
        "\n",
        "\n",
        "4. **Feature Extraction** \n",
        "\n",
        "As we will be comparing multiple models, there will be 2 types of feature engineering. The first batch of feature engineering will be to utilise the TFIDF vectorizer. All tokenised input sentences will be vectorised appropriately. \n",
        "\n",
        "Simultaneously, we will manually enginner the following features;\n",
        "\n",
        "- Sentence postivity ( importing positive and negative word packages)\n",
        "- sentence length \n",
        "- number of stop words. \n",
        "\n",
        "The tokenised sentences wil be engineered into vectors appropriate for modelling. \n",
        "\n",
        "5. **Model Building**\n",
        "\n",
        "The model building is elaborated on in the following section \n",
        "\n"
      ]
    },
    {
      "cell_type": "markdown",
      "metadata": {
        "id": "Xe6AtUWOLAMu"
      },
      "source": [
        "#### Q3.4: Interface Prototype"
      ]
    },
    {
      "cell_type": "markdown",
      "metadata": {
        "id": "Ouen2EDhLAJn"
      },
      "source": [
        "The data annotation interface that will be used to label the input data/ tweets will be prodi.gy. Prodi.gy will be set to be a binary text classifier. The data will be loaded, and the input tweets/ data can be classed by the user as positive, negative or neutral sentiment towards the new series of the show.  Attatched is an annoted example showing what the interface would look like. \n",
        "https://drive.google.com/file/d/1I4uvpcrZviOkUPCgBbNPnCD4WfoS52rO/view?usp=sharing\n",
        "\n",
        "![Capture.PNG](data:image/png;base64,iVBORw0KGgoAAAANSUhEUgAACKoAAATCCAYAAACXXZzjAAAAAXNSR0IArs4c6QAAAARnQU1BAACxjwv8YQUAAAAJcEhZcwAAHYcAAB2HAY/l8WUAAP+lSURBVHhe7P0LeFR1nu/7n/nv3v/d5zy9z/Se6TnT+0yfZ3qf6bOnz2x3jzNt27Zt27Ztd2s3KlcFBUUFBbmqqFy8o6KioqKgoiKCIiCC3BEERRSV+80EQggkIYGQ+z0k8D31WbV+lZVQSSq3IpV6v575PJBVq1atWlVxOqkP39//YgAAAAAAAAAAAAAAAEAcUFQBAAAAAAAAAAAAAABAXFBUAQAAAAAAAAAAAAAAQFxQVAEAAAAAAAAAAAAAAEBcUFQBAAAAAAAAAAAAAABAXFBUAQAAAAAAAAAAAAAAQFxQVAEAAAAAAAAAAAAAAEBcUFQBAAAAAAAAAAAAAABAXFBUAQAAAAAAAAAAAAAAQFxQVAEAAAAAAAAAAAAAAEBcUFQBAAAAAAAAAAAAAABAXFBUAQAAAAAAAAAAAAAAQFxQVAEAAAAAAAAAAAAAAEBcUFQBAAAAAAAAAAAAAABAXFBUAQAAAAAAAAAAAAAAQFxQVAEAAAAAAAAAAAAAAEBcUFQBAAAAAAAAAAAAAABAXFBUAQAAAAAAAAAAAAAAQFxQVAEAAAAAAAAAAAAAAEBcUFQBAAAAAAAAAAAAAABAXFBUAQAAAAAAAAAAAAAAQFxQVAEAAAAAAAAAAAAAAEBcUFQBAAAAAAAAAAAAAABAXFBUAQAAAAAAAAAAAAAAQFxQVAEAAAAAAAAAAAAAAEBcUFQBAAAAAAAAAAAAAABAXFBUAQAAAAAAAAAAAAAAQFxQVAEAAAAAAAAAAAAAAEBcUFQBAAAAAAAAAAAAAABAXFBUAQAAAAAAAAAAAAAAQFxQVAEAAAAAAAAAAAAAAEBcUFQBAAAAAAAAAAAAAABAXFBUAQAAAAAAAAAAAAAAQFxQVAEAAAAAAAAAAAAAAEBcUFQBAAAAAAAAAAAAAABAXFBUAQAAAAAAAAAAAAAAQFxQVAEAAAAAAAAAAAAAAEBcUFQBAAAAAAAAAAAAAABAXFBUAQAAAAAAAAAAAAAAQFxQVAEAAAAAAAAAAAAAAEBcUFQBAAAAAAAAAAAAAABAXFBUAQAAAAAAAAAAAAAAQFxQVAEAAAAAAAAAAAAAAEBcUFQBAAAAAAAAAAAAAABAXFBUAQAAAAAAAAAAAAAAQFxQVAEAAAAAAAAAAAAAAEBcUFQBAAAAAAAAAAAAAABAXFBUAQAAAAAAAAAAAAAAQFxQVAEAAAAAAAAAAAAAAEBcUFQBAAAAAAAAAAAAAABAXFBUAQAAAAAAAAAAAAAAQFxQVAEAAAAAAAAAAAAAAEBcUFQBAAAAAAAAAAAAAABAXFBUAQAAAAAAAAAAAAAAQFxQVAEAAAAAAAAAAAAAAEBcUFQBAAAAAAAAAAAAAABAXFBUAQAAAAAAAAAAAAAAQFxQVAEAAAAAAAAAAAAAAEBcUFQBAAAAAAAAAAAAAABAXFBUAQAAAAAAAAAAAAAAQFxQVAEAAAAAAAAAAAAAAEBcUFQBAAAAAAAAAAAAAABAXFBUAQAAAAAAAAAAAAAAQFxQVAEAAAAAAAAAAAAAAEBcUFQBAAAAAAAAAAAAAABAXFBUAQAAAAAAAAAAAAAAQFxQVAEAAAAAAAAAAAAAAEBcUFQBAAAAAAAAAAAAAABAXFBUAQAAAAAAAAAAAAAAQFxQVAEAAAAAAAAAAAAAAEBcUFQBAAAAAAAAAAAAAABAXFBUAQAAAAAAAAAAAAAAQFxQVAEAAAAAAAAAAAAAAEBcUFQBAABAQqo9c8ZWZ5dbbmWtvwUAAAAAAAAAAHR1FFUAAACQcE5W19kFyzPsf3k7xb7/3kGbdbDIvwUAAAAAAAAAAHRlFFUAAACQcAZvzvFKKsHsLar2bwUAAAAAAAAAAF0VRRUAAAAklIyyU5FyytR9BXb+svBklZFfHff3AAAAAAAAAAAAXRVFFQAAACQULfOjYsoP5h+02jNnbG56ife1lgBKVFvyKm3YllyvhAMAAAAAAAAAQHdGUQUAAAAJZdzWE14x5cp1md7XJ6vrvK+VRFz+J620xr4370CD5wQAAAAAAAAAQHdFUQUAAAAJpcf6LK/UMfabE/4Wsx8tTPO2bcyt8LckjiFf5EaKNiqsAAAAAAAAAADQnVFUAQAAQEL5yeJ0r9QxPaXQ32L24w8Oedu0DFAi0dJFbpqKS0pxjX8rAAAAAAAAAADdD0UVAAAAJBRX6FidXe5vqS+qLM8q87ckBj0H93xcFh0p9W8FAAAAAAAAAKD7oagCAACAhJFVURspdOwtqva3mn13bqq3bUtepb8lMcxMLYo8n++/d9D7c/LufP/W2FXVnbGdBVVeUWd2WrE9vPNkg0zbX+CVYnIra/17AAAAAAAAAABwblBUAQAAQML4/ERlpNihcoZo+Ry3LaPslLctUahEovPWRJhLVh3x/j54c45/a/PSSmu8AsqV6zIjJZdY8tMl6bYxt8I/CgAAAAAAAAAA8UVRBQAAAAlj/uESr2zxwwVp/hbzyimuhOHKK4lCpRSdt4oql6056v29uaKKSjlaGsiVWlw0Ueb8ZRn2h7VHrd+n2WdNVGkclVwAAAAAAAAAADgXKKoAAAAgYUzZk+8VMy5aecTfYt50EG37wfyD/pbE0ZqiypKjpXbe0sPePoqKKVomSEv+iFtGSBNWujItP/TAjjybnlLoFW8AAAAAAAAAAMmFogoAAAASxrAtuV4ZY+CmY/4W8woP2tZjfZa/JXFouonOXUUVlW/09yFf5Pq3hp2srvOem277zpxUr8jiyilBKn9on1kHi/wtsSuqqfOuo8oyOhflirWZ3tJCuq2jqJiigo3OUxn7zQn/FgAAAAAAAABAsqCoAgAAgIShaSEqOKiU4ajYoW0qfSSaYFFFafw8tuRV2o8WpkUKKlrmqCkpxTXefo2LLi1ZnlVm33/voPfY0aJiSUdNPpm6r+Cs42sbAAAAAAAAACB5UFQBAABAwvjpknSv3BCcGuKWw1mXU+5vSRxuGsx356Z6hZRgcUPFExVIVGBRYSUW47fn2ffmHbCqutiKJZqYosdUfrggzSsArc4u96JlhbSckm4LFoPaSlNg9Dx1vAuWZ3iP5x5bE3I6cnILAAAAAAAAAKDroqgCAAAQZ5pOkVtZ63+F1nBTR2anFXtfa1kcV3Zoqeig4sXM1NYvi9OZ9Dzc+bssOlLq3aalgFTmaM17RQUVXaO56SX+lqap2OMes/9nx6ys9rR/Sz2di25XYSXW8ks0uq8rFGnqi0o4yk8Wh4tHiko5eo343gAAAAAAAACA7o2iCgAAQJy5pWq05Apax5Ua3PSU+YdLvK8vW3PU+7o5boJHW5YIUrkoq6LjCxSuCBKMpqdsza/y/t6W94jKLyq5NEfPx5VE+m7M9rdGd8mqI95+7ZlYM27ricjzUxnFUdFIj+9uU1Rk0RJP2k/Pf29RtbfkkaK/65qN/eaE99oDAAAAAAAAABIPRRUAAIA40vIn7gP5thQmkp27dhtzK7yve24IlxzccjnNUcFBJQg30SMWKkqoBKP76HE0WUSli/ZMFwlyhRQXPY6OrSKJluXRn62l+2iJJJVAmqLrp8fTUjwtTTDRtdW+boqNo0KNli5q6Rz1WO76qfQSbX/t4woxrQkAAAAAAAAAIPFQVAEAAIij8dvzIh+yT9lTP1kCLdNEE3ftVDRRoUNFC5UgYl0uxk1g0cSOljywo/61apwr1rZ8f52fyh0jvzruve5ppWeXY7SPK3Eo5y/L8G9pn5aKNO592GN9lr+laW55omBRRYWr78074G1vbpkhLSfklmvS/pqK0hwdV9ddE2GC16VxVBiKpZwEAAAAAAAAAOh6KKoAAADEkYoB7sP2xhMq0DyVHNy1099nphZ5f4+lbBHkShrNTVXRMjfusbRUk1v2R4/rXsPm7q/XVmUKdwxFpRpNIWnsvKWHI/sM25Lrb+1cgzfneI+na9ESd52XHC31vlaZxC2jpLjpNtG4Za6U5got0ajkookzOr7L5ycqYy4lAQAAAAAAAAC6JooqAAAAcaRlZNwH9xRVWie4TE5RTZ03fUR/1/I8raFpI1oap6lSiG7/yeJ079gDNx3zt9bT0jUqoag0EY2W7HHnqXKKpre4c71g+dkTU4JTdlpb5mgrV1QZ+80Jf0vTVDZRMUXXRWUVN0nFJVr5RnRst0//z86+jgAAAAAAAACA5ERRBQAAII6CRRU3oaIr0fI0WlJFJYOHd570SiCabNGRVHhoqtzQHE3UcNdudXZ44smPFqZ5xZHW0vPUZJBo9Px1bJUzVIiJRq9jtNvc0kKK9nGTWLTv998LT1hp/LjTUwoj99H0krZwS+bsLar2tzTPPWYsSw2pIKRSjiu3KCr6uMKKljYK0uvbeN+Ofg8BAAAAAAAAABIXRRUAAIA4ChZVmlsyJd5U9ggu0xKMpoLoNpU7mqNjaDkclVs0VURFF5UnTlY3LHS4kkRTE0maomKP7qeChLuOepyOpOeg8ouOPXl3vr/1bNGWn9E2t9zPRSuPnFXOUKEj2jlfsTbT265Em7jSEl1HVxrRn7EsjaPXyT3mrINNl2NUsNHrGFzGqOeGbO+5uffLd+akRqba6D0dXMpIRRiW6gEAAAAAAAAABFFUAQAAiCN9yO8+xG9qose54EoUKqWM23rCW5ZI0z00WeWSVUe821RI0KQMTcwI0nQTLW/TeEkYRVNJNJEjaF1OeBqKCg2tKTHonHQ/nYf+1PI8sUxT0fmqDKJzb2l/d266Dk1NU2mKK25ocoqbpBKkQolu13k4wcKIS2sKTLq/m9TiookwsQgWk3R9VCDSNVZUMNI2XQe3j8oqweWq9Bz1+rrbG6fH+iwmqQAAAAAAAAAAzkJRBQAAII5UAnEf5DeeNHKuqDCj81EpoamlY1RK0CQQFW1cCSOj7FSDaSAqTAzcdMzbT6WM5ooemtLxn95JsR9/cCjmQoiKM+6xlGBpojlz0+uX42mpxOHKG3qeraHX0pU6mnoMlWS0j66Z45bIUQnEFU5U4Iml4KGSiiuKuPKOomsbC52PXi93v6aix9Axo71Oep3dBJrg/loCCQAAAAAAAACAaCiqAAAAxJGbCqLCQlfhyjOaqhIrTSlRyUT3c5M2Gk9aackMv3jyy5VHYpqMorKE9le0tE6sgmUalSqaeyy3bE1zy+FEM2VPvnc/TZVprnija6Zli0STZlzBRPcPFnF0zs0dR+Wi4DQTFUPc32Mtqjg6D03O0bJDOj9dA01D0VQVTZhp6bXR667H1+MuOlLa6vcBAAAAAAAAACC5UFQBAAAelRU0CQPN0wSJvhuzvQ/0tfSMJmK0ZgkfLeuiMoGmZ8RSznC07/KsMu+xz19WXyjQBJAlR0tbdazGVPrQOWkJn1ipyKH76DzaOhlG56xr+HfzD8Z0DBUn9Jgqd8R6zd20mGAaL0Xk6HxccaQ1r6mo5KH76fVojq6XppiozKHXUffRNlfuCE44URFF35PBwoqu0+Td+Q2WWXLftyoM6evWFlUAAAAAAAAAAIgniioAAMBbQsR96I3oVGIYvz1clFBUEtFkDBUGVG5QiSIWKpu4Y6i0EguVJlwRoqmo8KFjt4WKEjqGlvKJ1bAt4SVyYn3eTXHTXHIrw8sJNUfL8WhflXVi5Yofeo6u3NHU0jx6/rpdaW35xhVctMxQc3QeKpIEl4BS0cjR+yx4m4tKK42X2NFUHk0wcdzrqPcpAAAAAAAAAABdFUUVAADQoDyRVlrjb4VTVnvaWwpF1+enS9K9qSqOCg1u0kcskyzcvooKCS3RkjoqJGh//anihcoQKrnoT03wCE7X0BIsreWWu4m1OCN6rrqPCivt4Y7T0mNr2ot7jppiE4usitpIgURTR1Qs0t/7f3bM36OhYFGltdz9mnsempqifVzhRmnq+uk4l6wKT7qJlivXZZ71veqKKrFeHwAAAAAAAAAAzgWKKgAAwFtKxH0A3paiQ3emCRdXrM30ro3KKiqtRKNCiZbzcUu4NMUdS1HppTl6Ldy+Ki00NfFES8O4CSeauqFzbg2VXXTfsd+0XJxxXLlJy9e0h0ojOk5zBSlN/AmWcWKdGKLno/3d6+Kuka5lNMGiSnC5nVjoMXS/6SmF/pazBcs2is6jpddK10XvLRV6FC251NS1clN3WvM6AgAAAAAAAAAQbxRVAABAZKqFor+jnrs2sZQKVBJpbvkclVw0FcVNSFGaKh3sLaqOlDM0gaOlx9btrqiwJa9+4kssNL1D9/vB/JaLNo4mybhpJc2VTFripoA0tdSOnpfKMFr6Rssbad9Y3qMqmrjyiFueaMqecCFLx4pGj6Xbla35Vf7W2GjCie6nMlM0uq5uH0Xvp6ZKT22lCTs6tt4vAAAAAAAAAAB0VRRVAABApIyhAsWSo6X+VqgsojKGCii5lbX+1qa1VGYJFglcqSTaBI5g6UR/xlpocEUMnYdKHZqUEut9Nd2lqfNpipsO09Zykyal6P4tTZbRUjbatzXnOHVfgbev3tPutQtOqGnqurgyjKaYtMaiI6WRY+uxHRVwZqYWRQo5SmeUVByVcvR4AAAAAAAAAAB0VRRVAABApKhy2Zqj/hZI343Z3nVRwSQWWtqlOZq24Y6nQoH+rrJHY670oJKMChqx0rIwul8wKqvEQsUM7a9STqxTVVzxRuWOtlChQvfXkjyxcGWPlkokKvpoakrjY2vSjLYpOwuiT0xRKUa3R3tdmqPH1PePO76m0wTLKYpez3FbT8R8fQEAAAAAAAAA6I4oqgAAAG9ChT5Ib2myRTLRFA43TaUjZFWEj+eW13GlCU38aDxdQxNXdJtKE7HStBC31I0eZ+CmY5G/N7cckaOihZsmMn57eKmcluh5uOWJPj/RuuWGxJVCVMyJRaxFFVe60XMPLkuk66ztyvKsMn9rQ3oebh8Vf1pDx3flpmB0Hv0/O9ZkOQYAAAAAAAAAgGRCUQUAAEQ+2FcRAGGTd4eX0WnrsjaNjf3mhHc8/em4qR/rchpOYnGFk6bKFEEqmGhqiPZ3cfdzxY7gUjTN0XlofxUrNuZW+Fub5woxsZZbgs5fFl7eSMvjxCLWooo7rgo/jbnlg5q7JppCo310HTT5prXL9GjJKJW/9B5SCaeoJrbnBwAAAAAAAABAMqCoAgBAE/RBs5b/aM3SK4lqydHwUjOajoEwV3aIZRpJSzSdRZNTGk83cYWI4PI8ul3blJYKDpoWctHKI5H9NbVDy/G4YoUrx7RmGZuRXx337qNSSCwFDU1y0f6XrDrib4mNCja6X2sm1sRSVNHyS9pH2Zp/9gSTWKbV6HnrmrnjqDik/TVhRQUeRddZ5Rzt19KSTwAAAAAAAAAAoB5FFQAAmqAP0PUhtSZGdHf64N19KN8ULVuiD+o1YUTlhO5MxRJdiwuWZ/hb2sctcaPJJ0FugomWA1JxQ7REkHstgsvWBGnJHU3rUPlF+6kAM23/2RNCNFlFt0dbXqgp2i+WqSOOK9boMXResXL3izb1pCmxFFVcweSyNUf9LQ1pQkpztzt6PXSN3XSbpqLXjqIKAAAAAAAAAACxo6gCAEAT3AfRLX2g3RyVDlR66Oq25FVGnq+b4qGShD6o1/PXpBV3u9KaCR2JSNMy9Dw1XaS9dG1VJFHhofF7QWUIFR30WMHlf1xRRFNdtHSMpvqo2KFCkYpCbskgt0+0ySGi4ogrs0QrsgTp3PQYmq7jprQ0LtY0xRVIYl0uSNx7rrnJJo21VFRRmUq3K00tm+Re21i/r1Xc0WuggovOVdEEHH1vfH6iMlIwAgAAAAAAAAAAsaGoAgBAFMGpFvpwvDXctAs3kUVRGaHH+ixve6yTLeIpuNzMnVty7bylhyNfu6gcoQ/pVWTo7tySOSootIdKDG4JIS0lFY2btjJu6wl/S325xV37aFHxZcqe/BaLEiqbaH+9fnpfB6lw0dTjqJyk4kcs3HOIZQKL46b4qAASq5aKKu48dM2b4goy7SmgAQAAAAAAAACAtqOoAgBAFMHihiZSxEollUtWhadRNJW+G2Nf6iQeTlbX2XP7C846TxUYNDlFBYu9RdX+3tFpGseV6zK9/d1ElkSm56JroEkm7aHiho6jCSVNFUpUhtE+P1mc7m8J02Nr2ang9BS9F3UsHTfW66zXxi1fo/KJyh6uFKM/3bFdNM1FRR19D8Rq/Pbwcjqa9hIrlWZU3mpqGkw0zRVV9Dxd6aa5pYFEBR8VVgAAAAAAAAAAQPxRVAEAIIpgUUWJlZteoWhiw/zDJd7kCEWFD31A3t7yQ0fROak045aGcfnXjzJs1sEir8ASCz0flSzc/WOZwqFCT1deNuWC5eEpKO2h95CKISpPNHdNVDhxBYtYJ5i0lsogej+q6KESTvBxdJ6tKaU4Knr03JDtlVRcmUbL6nQmN6UoWhHFlW50LizHAwAAAAAAAABA10VRBQAQNyo+6ANmLc+hD801TUGTG/ThdldbDqctRRU9D7e/ygBdlaaj6PoHn5+mwPzt/PDUjZamUQSpbKJljdxx9HrGwl0rFVxamtZyLqjQoSkkbaWihLvGwSV9mqJJNNq3NRNJzjU3LcZFr2Vnfx83NVFFZR83NWba/tiXHwIAAAAAAAAAAPFHUQUA0OnSSmu8ckrjyR3B6EPm5Vll/j3OvdYWVYIflOsD+664/I3KE5p+4aZ3aPKEvtbrI+ctPext19SXWGjJGk0McddIZYtYJ1loooorcug8ulpRSe9VlSLa6oEd4aVwtIxOLM9NE2y0//nLMvwtXZ9ea71X9L3dmqWI2sNNumlcRtHX2q7vwa74vQcAAAAAAAAAAOpRVAEAdBp9QK9pEq4YoejD/5FfHbeZqUVedLsrSKjg0VZ6LBVdNGlB0zrau7xOVkVt5Jy13EhL9Jzc/lpSpyvStdH56cN8FQtUFglyxZFYpnqoGBB8XRUVV1ojWAbSMjJdhXvtNWWmLVZnl3vXRol1KR9NG3LXwhWHcLZo71EVZtySQCpeAQAAAAAAAACAro2iCgCgU+RW1tpFK49EPnzX35ubmKIPmmMphDSm6QlDvsg9qzShaNJDe7jjaIpDc1QscI/f3sfsTFpiR0vzqIgRjZZi0nPQ9WyOykXu2gSve2sLFtrf3berlXt0Tm15P6og5abMqDDVGirG6H6Td8c20SYZ9d2Y7V2jYCFFBSlt0xQc/XcHAAAAAAAAAAB0bRRVAAAdTh/Wa3KKPjxWkWF6SqF/S9M05aO1H9DrQ2ktraLHcdHjuiV4lNZO+QhySxX13JDtb4lO5Q/tp+eayNMwVLLR82iqbKPJFa4ooKhYoaVf3NetNWxLrnc/XeeutvSP3ld6PVtTfND7XssY6TmpzNNa+j7RfRNp+Z94a/we1XvS/TdA7ycAAAAAAAAAAND1UVQBAHQoLefiPqzXZIlYJ2Wo9KDpKLHSB9RuYosKBVoKRMunOFpGSLdpiZu2coWX5j4A1zm7QsvATcf8rYnJLV+k5VUa0/N0Ez8UFVZULnHLCSmt4aZgKHrcrkZTZXRusZSs5PMTlZH3ff/P2vY+0FJMV6zNZPmaZrhSmCuquPdfopfEAAAAAAAAAABIJhRVAAAdRuWR85Ye9j441of2mjDRWabtL/AeR5l/uOESK1raxt2mAkFb6NzdMVTKaIoKMm6/nQVV/tbE5J6LCkBBWjIoOLkmOC0kWDiJ9fVenV0eWR5HE3C62jQV0XPW+Wn5n+YKVDp3XQ8VJbS/ChT6PkDncO9Rlal07d3kpqamAAEAAAAAAAAAgK6HogoAoMNoeok+NNaH9p1Z2lBxwE07ibYsj1uORmWZtpYGZh0s8o6hNC5uODq2m6LR0vJAicC9fvrw39HEClcq0evaeMJIsNCja9YSPYYrdei4W/O7brnHLTOjKScqPwVpSSAtVeVef03VieX5o31cQU3TfdwyVHofaZITAAAAAAAAAABIDBRVAAAdxn1oH5y40RlcEUXlgMYfUKtA4Eosmr7QVj3WZ3nHUPS8otEkF7fPlry2TW7pStwyKj+Yf9CbVuGKGm6bJqFE46ataJpOU8UgXR9NwQger63TbuJF18AtL6X32pXrMr1rcsHyjMjzULTUD8vOxIfeo67o5KJtAAAAAAAAAAAgcVBUAQB0iOBkDZVFOpMrCjRekkclCU2/0G1asqWtS8qcrK7zignu+SjRChiueKGCRncQXMbHLeGk6Ho3nigSNDe9vrCjMoempKhApPeESgSafuFuV85flpEwEzD0Hhq/PS9SfnL5yeJ0b3usyx2hYyw5Wv8eVTShBwAAAAAAAAAAJBaKKgCADrExtyLy4XFHm5la5H0grQKJ4h5HxQqnqu5MZCkQTVxoavpHLNzyIsE0npgRLOY0Xg4nUQVfQ5ex35yIafmk4ASapqKyh65tLMfravT+0nJWukbNlXbQufTe0XtSk23W5bT9exwAAAAAAAAAAJw7FFUAAB1CRQ5XSOjIaRkqqbjjarkYLbPivnaTW7SEjKZ0uO26T1vpg3A3TURTWdwxVVAIGvnVcW/79+YdaPPklq5GRQz3fFUqWZ5V5t/SMhU5VCBoPIlG0fQRFVS0DwAAAAAAAAAAAJIbRRUAQIdRIUHFhId3nvS3tJ+OpWP+dEm6VxZxXytT9uTbRSvrl5VRaURLzbRHcBmb+Yfr/x48roopeixtV2GlO3lgR56N23qizVNDimrqvNdJ10sTLxpPogEAAAAAAAAAAEByo6gCAOgwk3fne+UNTePQEj0dYWt+lbeUjyuMNBUt+9PeUoSmqbiyjSa0yA8XhKeqBMs3sw7WT3nZW1TtbwUAAAAAAAAAAADQEooqAIAOo6Vd3HI5PdZnecWPjqDJJq5AEoyW6Bm/Pa/DyiJT9xVEjq1pIHLB8vCSQkO+yPW+FjfFRX8CAAAAAAAAAAAAiB1FFQBAh1qdXR4pe2jKSUeVVUTL0ewsqJ+woskmHSWj7FRkOZ8r12X6W816bsj2trkJK5+fqIw8v/YuMwQAAAAAAAAAAAAkG4oqAIAON21//WQSTSRRwaQjqUiiY//4g0NWVNP+JYbKak97RRQdU8sWBc/XPReVY/RYl6056n2tJYE0QQYAAAAAAAAAAABA7CiqAAA6xfSUwsjkE5U/ZqZ23PSTLXmVkWOrtKKiSVudrK6zS1aFl/JRtMxQkCatuMfSckZuv458PgAAAAAAAAAAAECyoKgCAOg0W/OrvKknrtxx0cojtreo2r+1fR7YkRc57nlLD3tL8rTWupxy+9HCtMhxpuzJ929pyE1wcfnpkvQOXdIIAAAAAAAAAAAASBYUVQAAnUrL44zfnheZSvLdualeyaQjls0Zt/VEgwJJzw3ZXvmkuRKJbludXd6gfKJzm7qvwN/jbCrXfG/eAW9fFVtSimv8WwAAAAAAAAAAAAC0BkUVAEBcqOyhiSquHKJJKyqMtNfyrLIGU1sULTWkIooKMg/vPOn9OXhzjvf4ui24708Wp8c0jUVLBG3MrWjXMkMAAAAAAAAAAABAsqOoAgCIq1kHiyJlEU0y0QSU9tJ0lukphd4SQMESSnPR8j0zU4tYwgcAAAAAAAAAAACII4oqAIC425pfFSmr9Fif5W/tGDsLqmzy7nzr/9kxb4KKpq1oaspla47awE3HbNr+Am8fAIgnTWPSf5timeAEAAAAAAAAAEB3RlEFANBu+gBWS/CoAKLpJkFaMkfFlEVHSr0leILL/yhT9uT7ewJA9zX2mxORaU4AAAAAAAAAACQziioAgHYbtzX8AWxrog9rtVwPAHR3KvN9b94B7799+u9lWxXV1NngzTn2wI48fwsAAAAAAAAAAImHogoAoN225FV6y+s0LqMEoyV4em7I9iaopBTX+PcEgO5vZmqR999BlVUaT51qDS2V5v6bqtIKAAAAAAAAAACJiKIKAKDD6INTLfOzMbcikoyyU1Z7pu0fzAJAouu7Mdsrl6ho0laz04ojJZX2HAcAAAAAAAAAgHONogoAAADQibTUmQomk3fn+1taJ620xr7/3kHvGPozq6LWvwUAAAAAAAAAgMRDUQUAAADoJFrqx01CWZ5V5m+NnSZVuaKLoskqAAAAAAAAAAAkMooqAAAAQCfRcmiuZKKl0FpDy6ZdsTYzcv8hX+T6twAAAAAAAAAAkLgoqgAAAACdZG56iVcy+e7cVH9L7AZuOhYpqVy5LtMrrgAAAAAAAAAAkOgoqgAAAKDT9dyQnZQTQabuK/CKJuctPexvic24rSciJZXzl2VYWe1p/xYAAAAAAAAAABIbRRUAAAB0qpTiGq9wcdmao/6W5OEKJ6157tP2h8styk+XpFtuZa1/CwAAAAAAAAAAiY+iCgAAADrVupxyr3QxeHOOvyVxaLmdnQVVtiWvsk1TTfSc9dz7bsz2tzRv/uHwUkHKDxekWVppjX8LAAAAAAAAAADdA0UVAAAAdKrZacVe8aLH+ix/S9dXVFNnY785Yd9/72CkOPKdOale4SSrIvYJJ66oEktJR4UePYb21+NqEg0AAAAAAAAAAN0NRRUAAAB0qo25FV75QsvYJAIVRH60MK1BQeXHHxyKfK1JJ7GWSFoqqqicsjW/ysv35h3w9tWfn5+o9PcAAAAAAAAAAKB7oagCAACATqXla1zJQ5NKujKdnyulqDAydV+BnawOn3NuZa0N3HTMu01FllieS3NFlb1F1fbduak2YXueV37RfirFLM8q8/cAAAAAAAAAAKD7oagCAACATueKGHPTS/wtXdPk3fneeapAoiJJNCqvaJ8HduT5W5qm5Y6aKqq4JZH+MTCtZdGRUv9WAAAAAAAAAAC6J4oqAAAA6HRuskjPDdn+lq7pvKWHvfMct/WEvyW6S1YdsYtWHvG/atpla456x4tWVHknPVxUcZm2v8C/BQAAAAAAAACA7ouiCgAAADqdlrNRGUNL22gJnfaqPXPGm87Sd2O2Vy7Rcj0XLM/wCiHzD5dYVd0Zf8/WcaWRliabTNmT7z1uS1xRZew3DYsvZbWn7d+WhUsxytAvzy6yAAAAAAAAAADQHVFUAQAAQKdTscQt/6Olc9pja36V/XRJeqTkES16LBVWWusni8PH1RJAzVHRJKui5cKNK6o8vPOkvyV8X01kCZ6vCjwjvzreISUeAAAAAAAAAAC6MooqAAAAiAtNFVEpQyWTttKkk+/OTfWOoz/dBJWNuRW25GipVwgJllhaKpw0prKI7veD+QftZHWdv7Xt3FJCrqjSuKSia/LAjrzI13pO2kZhBQAAAAAAAADQXVFUAQAAQFzsLKiKFDI+P1Hpb42d7v+9eQe8+2uZn4yyU/4tZ5uZWuRNKVHSSmv8rS3Tvu4xVDJRsaQ9tCSRjqWiis7fTWxRgssBrc4utx8tDE+cUSisAAAAAAAAAAC6K4oqAAAALVB5QRM2VCBQ0UBTN1pTfkC985dleNdR17C1VE7RfWMtkExPKfT211JDKn1cuS7TUopbft00tUUFF91X00/aU1ZxRRVNeXHHVDRFpbGqujM2bX+Bff+98HtNUWFl/PY8K6pp/3QXAAAAAAAAAAC6AooqAAAALdiSV+mVDNykDUVf99yQ7U3JQOym7Mn3rp+KP7VnzvhbW6alfdy135of2zVXwURFj+Dr1ndjtn9r8+aml0Tu02N9VqvONSi4zI+i563pKc1RKUUTWIKFFf1d105lFgAAAAAAAAAAEhlFFQAAgBioHKHig4opgzfnNJiOocKKyixoWVZFbeS6LTla6m9tma657nPF2kx/S8tULvnhgvrldBQtrxMrTTdx9xvyRa6/tXVUsNE0FWXc1hN2sjr2ySiusBIs2uj5aFmjthZnAAAAAAAAAAA41yiqAAAAtEFuZa1XXggWVrQkjcoNrSkjJKPL1hz1rtfATcf8LS3Tkku6j5bxiYWKHJqe4l4bt2yQ0hpadsfdrzXFmo6k95qWLtJ0GHcuuh6z04r9PQAAAAAAAAAASBwUVQAAANohrbTGKxFoSRdXIlChQCUJLR/DUi1nm3WwyLtOWs4m1skg7tpqQklLVOy4aGX9kjt6fTQRx329PKvMMspOxfzYmuKi+2kay7l8PaMVVrQcEAAAAAAAAAAAiYSiCgAAQAdQgUETLoIFCUVlDE1e0ZJBCNtRUB25PtP2F/pbm6YJNW5/FUyas+hIqXfN3f5aOkdUStHyO267otKHu23+4ZImiyt6TDc5J9aJLp1JhZVhW3Ltxx8c8ko/AAAAAAAAAAAkEooqAAAAHWxvUbWN23rCm8ARLEZoyZtYJoJ0R67I45b9cdESNi3JqqiN7K9rG43KG8Glfr4374BXWglKKa7xpqNoIomWaXJL+Uzene/dRxNwmqJSi/b54YJzO1UFAAAAAAAAAIBER1EFAACgE2mZmZ4bsiMTORSVNbbkVfp7dG9ackfTP4JTTpS/XxAu8ehaxMKVfgZvzvG3hJXVnvampgSPf8mqI96STLFy5RmVWNbllEedrKLjuddQrykAAAAAAAAAAGgbiioAAABxoGkeKqy4MoVKDyO/Ou4VLbobFT00PeWC5RmR56toyomKJirp6HZt03STWCaUzEwtihxHS/joOJqgogknbrvKKtqvtVR0ccdQdMyBm47Z9JRC7zw1cUXLN+lcdXtzk1cAAAAAAAAAAEDzKKoAAADEkQorPdZnRUoRP/7gkK3OLvdvTXxa2uj8ZQ0LKiqsqEASLOVklJ2K3K4pJrHQckrB47qoQKKleU5W1/l7tt60/QVnnXe0qAyjZYYAAAAAAAAAAEDbUFQBAAA4BzSp4wfz65er0XSVaEvOJBItieOWx1F5REv+7Cyo8m89m0o62lcTTWKl42nCiSaq6PgqwLSnoNKYikQ6Hy0HpPNTVGDR9BYVZXQ7AAAAAAAAAABoO4oqAAAA54gKFv0/OxYpq1y5LjOhlwL6yeJ073mo1KGJKS1xSyGpdAIAAAAAAAAAAJIDRRUAAIBzTFNB3CSS85YeTsilZXTOOn+VVWKdDOOW8tH0EgAAAAAAAAAAkBwoqgAAAHQBq7PLI0sBqeyRaEvMqJyi5X5aUzpRQUfP96dL0v0tAAAAAAAAAACgu6OoAgAA0EWonPLDBWleeUN/JlpZZeRXx73zrqqLbaLKupxyiioAAAAAAAAAACQZiioAAABdiJbQ+dHCcFlFfybSMkBltadtyBe51nNDtr+leVvyKr3nydI/AAAAAAAAAAAkD4oqAAAAXUxwsoqmjSRSWUVUWInFxtwK7zmq3AIAAAAAAAAAAJIDRRUAAIAuqHFZpaimzr+l+9Bz1PObm17ibwEAAAAAAAAAAN0dRRUAAIAu6vMTlfa9eQe8Msclq47EPKkkkSzPKrPaM2f8rwAAAAAAAAAAQHdHUQUAAKALC5ZVrlyXSakDAAAAAAAAAAAkNIoqAAAAXdy6nHL7zpxUr6zywI48fysAAAAAAAAAAEDioagCAACQACbvzveKKsqiI6X+VgAAAAAAAAAAgMRCUQUAACBB9N2Y7RVVtBTQ3qJqfysAAAAAAAAAAEDioKgCAACQIMpqT9tPl6R7ZZWfLE63opo6/xYAAAAAAAAAAIDEQFEFAAAggaQU13gTVVRWuWJtptWeOePfAgAAAAAAAAAA0PVRVAEAAEgwy7PKvKKKMm7rCX8rAAAAAAAAAABA10dRBQAAIAE9sCMvUlaZm17ibwUAAAAAAAAAAOjaKKoAAAAkIC35c+W6TK+ooqWAdhZU+bcAAAAAAAAAAAB0XRRVAAAAElRRTZ39ZHG6V1b58QeH7GR1nX8LAAAAAAAAAABA10RRBQAAIIFpkoomqqisogkrmrQCAAAAAAAAAADQVVFUAQAASHDzD5d4RRXl4Z0n/a0AAAAAAAAAAABdD0UVAACAbmD89rxIWWV1drm/FQAAAAAAAAAAoGuhqAIAANANaMmfK9ZmekWV77930DLKTvm3AAAAAAAAAAAAdB0UVQAAALqJ3Mpa+9HCNK+scv6yDKuqO+PfAgAAAAAAAAAA0DVQVAEAAOhGtuRV2nfmpHpllcGbc/ytAAAAAAAAAADUK6s97f8NiD+KKgAAAN3M9JRCr6iizDpY5G8FAAAAAAAAAHRHWgr+klVHbHZasb+ledP2F3i/P16eVeZvAeKLogoAAEA3NHDTMe8Hje/OTbWt+VX+VgAAAAAAAABAd6OSin4fPPabE/6W5mkat/Yfvz3P3wLEF0UVAACAbkhjG89betj7YePHHxyyk9V1/i0AAAAAAAAAgO4irbTG+z2wklJc429tniuqsHw8zhWKKgAAAN3U3qJq+968A94PHP0/O+ZvBQAAAAAAAAB0Bfodbnv/keHM1CLvd8A/mH/Q39KyK9dlUlTBOUVRBQAAoBubm17i/cChzD9c4m8FAAAAAAAAEktV3RnvQ/0lR0tt6r4Cm7w73zLKTvm3oiNlVdR6UzrQufT+/c6cVPvhgrSYJ6FEo3+kqN//9tyQ7W9p2WVrjlJUwTlFUQUAAKCbG7gp/IOKpqvwwzsAAAAAAAC6qtozZ2xnQVWkjDJsS65dsTbTfrQwLfKPsYJhinDnUHFCv0vMraz1t6AzFNXU2fnLMrz3spZvVxmrLX66JN07xvjtef6WllFUwblGUQUAAKCb0w88GvuoHzxa06oHAAAAAAAAOos+lN+SV2nT9hfYkC9yvQ/sNV1Cv8NqKfpgXiUVpn50PP1DN3edNa0ZnUvlLBVMdL2n7Mn3t7bO998L/+63Nff/yeJwuYWiCs4ViioAAABJILgEkP5FCgAAAAAAABBP+sdU+r2UPpS/ZNUR++7c5kspfxXK/1h62PpuzLYHduR5y1pr2kpbp04gNipOuNdgekqhvxWdbdbBIq880hbu9ZqdVuxvaZkmuOg++v4CzgWKKgAAAEniynWZ3g8f7RkjCQAAAAAAAMQipbjG+/BdExvc0iRNRbfrd1c/eD88GeKOLblWdfq0fyTEm5b90evw8M6T/hbEg8pcbeG+j9pSVNESQMC5QFEFAAAgSewtqo6MT528u21jJAEAAAAAAIBo9LsnLeOjpafdUiTRoiWqtY+WKdmYW2Fltae9KR4XrTzi3a7pKTi3XImBokpicN9bFFWQSCiqAAAAJJFhW3K9H0D0y4K2NvQBAAAAAAAAFUwWHSn1Jqb8cEFa5MPyYPSPpi5YnmFjvznhLd2TVlrj37shTV7R/lr6RKUVnFsUVRJHcKkmlb9iRVEF5xpFFQAAgCSSW1kbWf+XqSoAAAAAAABoDf3Dp5mpRXbF2szI75iCUWFF01I0WWVLXmXMy0+fvyzDu//0lEJ/C1qia6vf9XUGiiqJxX3/teb1oqiCc42iCgAAQJIZ+dVx74cQ/eIg1l8WAAAAAAAAIHlpeoqW5GlcTvnevAPWd2O2NxGlqWkpLUkprokc72R1ckwAzig71ebnmlVRawM3HYu8FlpKSf8grSMn0VBUaT19j5wr7vunNa+XW2qLogrOFYoqAAAASUa/NNDYVf0gon/dAgAAAAAAADRFv0s6b+nhyIfhmn6i0srnJyo7pByh30+543Znq7PLvWkzwbLPJauO2Nb8Kn+Plqmk8tMl6ZH7B6PCUEf50cLwUk6JXFTZWVDlvUfjQcta6fetrVl6pyO590BrXi8VVHQfiio4VyiqAAAAJCH9qwv9IMK6vwAAAAAAAGiOm7zQ2lJFrHqsz/KOP+SLXH9L96LpKa4UEC0qOGzMrfD3bpp+h+eWSFL0eozfnheZfqJoWaaOkOgTVcZtPRG5JlqCqrPpvavHUgmps5Zjao57rm0pqlywvHsXxNB1UVQBAABIQvoXBe4HGDX+AQAAAAAAgGj04bcmgXTWP3ZyE0LO1TSKzqSJHlp+2/0e7vvvHbRhW3Jt0ZFS7/lq6SRt1zVoiUop7jianuJeDxUjtPyPtqtg0hESuagyPaUwcp00CUhFoc6mopF7zFjex5pSpOXZO+p7yj12W4oqHfWeAVqLogoAAECSunJdpvfDCOMdAQAAAAAAcC7og3r3IXt3+8dUKqm4Iooy9psTVlRT598aNutgUeT25goVWvLHLeWtCclVdQ0LDsESy8nqho/RFq6ooskkiUTXxZV2NH2mI65FrDSZRI8bS+lI7wNXWuoI7rWnqIJEQlEFAAAgSelfbrgfYlKKa/ytAAAAAAAAQHyonOF+PxWPJVriRRMzVETQ81LBZHZasX9LQ8FJHM09/2ARZcnRUn9rPRUU3O0dMUHEFVUGb87xtySG1dnlkesQy3JKHWnqvoLIY+v1b4lKKnpvaPJ1e7nHpaiCREJRBQAAIEnpX6y40aOJ9q8jAAAAAAAAkPhUznAfsremYKHlVXqsz4rrxIxY6XdubrqGMje96UkxsUxC0fFc6aWpaR1XrA1PTtYEl47QVFFFE0v0OjWeDNNVuOvZUdehNbbm1y+13lQxKUj7aF8tAdRe7nEpqiCRUFQBAABIYu6HNxVWAAAAAAAAgHhal1M/ASO3stbf2jJXpGiuBHKuqETjnpN+99aUafvrJ3D03Zjtbz3b8qyyyH7TUwr9rfVUcHHLAg3cdMzf2jYqoug1+S/vhZcs+vsFad61dkWZYLStNcWIeHBLnV+08oi/JX507dy1ieW6uNf1vKWH/S1t15rHdSiq4FyjqAIAAJDE9hZVR36Q0bq5AAAAAAAAQLy4qRJKa7iiSmcVJVQ6UMlEy7lookmsNGkkOP1Ex2lMx9N0Y/e8tV9zJR0tEeP2jTZ1RtfA3a7yQ1toWXA9TrRCSrTonId8kRv35XVa4soX7VmySFN+NK1Hy6a3lrs+sTy+lgdy+7eXO05rpmZTVMG5RlEFAAAgybkf7Fn+BwAAAAAAAPHkpopoIkhrdHZRJTjFRNNOYi2rBKeprM4u97fWUyHFTf1QNE2jpUky5y8LLyMUbdmfYDHmJ4vTW1WqcTSlxU1kcfmP74S//m+LD3mFnVkHi7zno3/01lWX/RFXvtA1bgsVdrRskI6ha6LpMq3hrp9KPC1R6cjtX1Z72t/aNirW6Dj6M1bufaj3D3AuUFQBAABIcmO/Cf8LDv0wCwAAAAAAAMSLmwbS2qkOnV1U0XI6KpHoMRRNG4mFfr+m/aOVSmamFjWYWKJSRUsFBRVPXIkk2vJAWurHHa8tyyAFJ9qoEKPSSlZFbbsLH+eKJpnovNsyJUSFIb1u7nooer10PWKxNb8qcj8VlloSLKpEm5TTGnofaQKM3rexctdKAc4FiioAAABJTkv+uB9KdhZU+VsBAAAAAACAztXWYkFnF1VEH/67aSZKS8tmB4sHWjJIVBxQQSVYgPju3FSvyBDL9JPgst2Nyw8qprjbrljb+kKJihlueoiuY/B8XFFFfyaS4ESb1pQ/GpdU3PNXtD2WY6lI5O6jZX1aosk0bn+VXOLNlcSUlqb6AJ2BogoAAADsB/PD/5pj8u6W2/4AAAAAAABAR3BFldYWItpTVFEho/9nx7yJKS1Ny9DtbqJJ42WzNX1E56Eyi0oKwSV9tK3xdA5FhZLWFCg25lZE7qvpJ45KMyq8aLvKJrEUIxpzRZdoy4EnalGluWJPU7TcT/C1cks9jfzqeGTbDxekectBRdN432iTb5ri7qPXOd6CRZX2TnQB2oKiCgAAALx1U/VDiX6IBgAAAAAAAOJBhRH9TiqeRZVp+wsiH9DHslyOm6pywfKGvzfTpBRXFmkuKrr0WJ9lq7PL/XvGLlhUmXWwyNumYkVwCSEt+dIWKl7o/ip3NKZCjW5LtKKKuNKJrpGuVVNUMNE1DV5LV1Jxt7sl0116bsj2rpuKHbpuun+w5KJCS6xLBcmPFqZ59zvXRRX3nIF4oqgCAAAAW5dTHvnBhAY9AAAAAAAA4sFN7mjt0jWuqBJtGkhzVCJwy90owSklTRm2JfwPvHS/xqrqznjTTVR+CZYaNF1Fk4uXHC31lnhpKy3J4o6p4+tr99wVt8RQW+jcNVVGk2Eac5NudHuiCf6eU1Ok9RrruToqmOi6/WRxw4k3TZWedP9YCkk6XnPFmGh0fXXflpaV6gx6f+qxo72vgXigqAIAAADvhzX3Q7p+sAYAAAAAAAA6m6aU6PdRKka0hiu4tPZ+boKLS7SSRmMqNbj9VRRpSvD3a5qg0lFcoUIFleD0Di03014nq+ui/qM1t5SNJoQkouBr5qLpJdEKJ7quLU000euu91q0++sa6fepwTJMrFRQeWBH3jmZaLKzoMp77uO35/lbgPiiqAIAAADPwE3hH9QvWXXE3wIAAAAAAAB0HrfsSms/LHdFFRVPYhWctOESy0QWTdRw+7c0idhNIlHastRPNCoyuGO6BJeo6QzBZWESlZbocUvrRItKGioqtaZgouk4Oq7eE8rW/Cr/FgCtRVEFAAAAHq1nqx/StG6u/jUFAAAAAAAA0Fn0ob8rDcw6WORvjY2WCtL9VFiJhUodbhqJyjHu77HcvzVFlbTSmsjUDT1Oa5eCiWZmalHk8ZXOLqmIChzu8RKZrpMKQyreaEqM/tT17IjXBUD7UFQBAACAp6z2dOQH6db+cgAAAAAAAABoDU2jcGUILYHSGmO/OeHdT1MxYhFcCkZFBU1w0d/1D7ZUmGlOsCjS0r4yN70ksr+WAtIkl7ZQ6aXnhuzIsVy01ExLS9W0l6aGuMcDgM5AUQUAAAARbV0XGAAAAAAAAGgNN91Xya2s9bfGJlgeaWnKiQox7h9n6XdfmrKxJa8ycv+W/sHWsC253n46Rqwm786PHF/RktstnaejEor2V4nG3V/TWXqsz4p8rdu0JJD+4Vln0MQRPY6WzgGAzkBRBQAAABHuX6No/CkAAAAAAADQWdzvoVTCaC2VPlxpQ9NSmqLChSaQaD9NN9GUEue8pYe97SqvNMctE6TlhlpDSwbpMd15qlyipYam7S/wlqNRIUXRxBUttdP/s2ORcw1G27MqwkUeLV0TLLD8YP5BG7f1hFfG6Wg6R5bIAdBZKKoAAAAgYv7h+tGkJ6tbHmUKAAAAAAAAtMX5y8KTfTUppC1U+tD9Ve6INlkkWFJRuUPL2QQ1Xg4omr1F1ZF9NCWltZpavqel6Hx1v50FZxdQVG75yeJweSYYFX50nyl78r1pNSqvqNDjouKJprBoknJrl1oCgI5GUQUAgCRUWVlho+59yH7+2x520RW9CInk3669NfLD7X+/ZVLUfUjr84vfXWNfbd1htbWnQt9/lYQQQgghhBBCCCEdmkRTVXcmMhmkpaV3mqLihfs91vjtef7WsLnpJZFpJnqcaEUUlVu0tI3bR/cJ0hJBrgyj291Uk7ZQaURLCLnHixadrx5PBZqWHkvnpsksbtpLa6NpLwBwLlFUAQAgCVFUIc3lP87c6v3A+g/3vBL1dtL6UFQhhBBCCCGEEEJIZybRaNqJK01EmxoSKy2L446jv6uwctHKI5Ft352b6k0XacqWvMoGy/NououKM8olq+qPo2WKOoqmrGgqis5L0d+DSxK1hgormo6iKSqaptJcEcZNXGk8WQYAzgWKKgAAJCGKKqS5/M3kxd4Pr//l8SVRbyetD0UVQgghhBBCCCGEdGYSTXBJnaKati8/nVtZG3UZHOXHHxyKqQSjoscP5h+MegxFhRVNgEkUWs5b11cFGBcVgwCgK6GoAgBAEqKoQprL/3nvq94P4f//V76KejtpfSiqEEIIIYQQQgghpDOTiB7eedJLe6mYoYkn5y097JVTtHzO9JTCVpVL3DGChRVNINGEFk0tAQB0LIoqAAAkIYoqpLn8P0MejvxAfkGPgVH3Ia0LRRVCCCGEEEIIIYR0ZtAxVErJKDvlhYIKAHQeiioAACQhiiqkufys77BIUeX/HTQu6j6kdaGoQgghhBBCCCGEkM4MAACJhKIKAABJKNmLKr+4/NpIfvn7nvXbf3eNXXCZcrVdGNiebPnlH/vY/+/NvV5R5ccjnom6D2ldKKoQQgghhBBCCCGkMwMAQCKhqAIAQBJK1qKKSim/v/ZG++TTL2zft6n2bepBe3jKNPv30HVQOWXo6An2yWdf2oIlK+wv191qv/jdtVGPkwz5T6986RVV/uGeV6LeTloXiiqEEEIIIYQQQgjpzAAAkEgoqgAAkISSuajyp9432bHcE/6VMJvxxlz72a+vsj/3u8Wyj+X6W81WrN3glQuiHScZ8p+fWe0VVf7uoXlRbyetC0UVQgghhBBCCCGEdGYAAEgkFFUAAEhCFFWO+1fC7OVZ79h5v/qjDRk13mpr6/ytZvtSDtqv/9Qn6nGSIX8zebFXVPnrKSui3k5aF4oqhBBCCCGEEEII6cwAAJBIKKoAAJCEKKo0LKr86yVX2eVXD7CtO3b7W81eCW3/+W+vjnqcZMjfT3rbK6r8by98GvV20rpQVCGEEEIIIYQQQkhnBgCAREJRBQCAJBSPoopKIdG2tydtPaa7X1NFlfN/82e78PJr7ffX3GiTJk+1EeMesl/9oXezj9cZz68r5Ud3v+wVVb7z6raot5PWhaIKIYQQQgghhBBCOjMdIaW4xhYdKbVZB4tsdlqxLTlaanuLqv1bAQDoOBRVAABIQh1ZVFFhw0VlD30gf8mf+tofeg60i//Yx/v6F7+7ttn7KReE9tOfjffT/XWb/n751TfYJVf2DT1OaP/Lmp92cqF/TP39dz0G2K9D56T7XBE6r2hFFe8+ofP/t9/8xf790r80eS6/CO2jY+mY2ubOOxhtd0WXxtuDaen2c5n/e9gTXlFFiXY7aV0oqhBCCCGEEEIIIaQz01oZZadsekqhDfki1y5YnmHfm3cg8rugxvnRwjRLK63x7wkAQPtRVAEAIAl1RFFFpY9bR95nW7fvtq+27rSFS1baTcPutsXLVtvBQxmWnXPcUtPSbdHSVXbj0DGRx1IZ5JoBQ2z9p5vtq2922KYvv7E+Nw23Z158zbbu2GNTX3rNK4uouPHz0GPcNup+W/DhCtufctAys3MsPSPTPv3ia3v06Re9ski05Xn+PfRYvQcNs9nvLrJ9ofsdzTpmaekZtnz1ehs74THLPpbrX4n6oopKNctWrbOvt+20bTv32iNPveAVVnQ8nYuKBqPue9hWfrwxdKwj3jH3fnvAXn97vvUNnf+6jZ/bFj2f0LnpsXXeOtaXX2+3b0LXaNwDT3rn5c5Rx7tj7ETv2mkfPfcJjz7jbXf7nMv891smRX4Z8W/X3hp1HxJ7KKoQQgghhBBCCCGkM9OSqrozti6n3MZtPWE/XZLeoIjiorLKRSuPWN+N2d5+I786bleszfS2U1QBAHQkiioAACShjiiq/PulPWzcA0/4RzQrLSu3gsJi/6uGyssrvGKJyi36wL7/rSND+5d5t506VWt79qV6fxeVS37266u8iSRvzl1oNadO+becTUWRfjePaFDu0HO654HHQ+dS5O/VUHlFpdXU1B/TFVU0JUVFGEeP/a+h81BJ5Veh486Zv9hqa2v9Wxs6dPioVVWHx6CeCp3vrSPutT/2vslyj+d520SFlODUFE1mWb7mE/9W8+5/4+1jvSKP2+dc5n/ccFfklxTn9R8ddR8SeyiqEEIIIYQQQgghpDPTlC15lTZsS659/72DDUopigorY785YXPTS1jiBwAQVxRVAABIQp1RVHHOnDljxSWlXnElqKKi0u6850GvFHL9LSOtpDRcVGlMRZXzfvVHb1JJUF3daSsqLrGqqoY/NGt6y1+uuzWy7NANQ8ZYYVHDwkx5RYW3ra6uzt9Sr9miyiVXec/z+Vfe8LeGueeo56C/B6lYo0kzP7v4Sntr3kJ/a7iIMuiOu71z1Ln2vOH2BmWatZ9sanE5o3hGU1TcLy00XSXaPiT2UFQhhBBCCCGEEEJIZyYot7LWpu4rsPOWHm5QTNFklB7rs2xmapG39A8AAOcKRRUAAJJQZxVVVCR57OmX7JoBQ63XwDtsxhtzrbqmfiyopor84nfX2nWDR5xVVMnLL7BVH2+0O8ZOsF433uEdy8nIzLa7Jk62a/oPsf63jrKPVq3zbwmbt2CJdz4qeixZvtbfGvbO+4u9pXiu7n+b3ffQFDuRl+/fEtZcUeVnv77Sruxzs2Xn1C8VpILKk8+/YtfeMNR63ni7vfTa2w2eoyuqaPkiFXLKyiv8W8IlHC3/82+X/sWeemGmvzVs1H2PeM8h2rU+F/nlH/tEfonx34Y/FXUfEnsoqhBCCCGEEEIIIaQzU3vmjC06UuoVUb4zJ7VBQUXL+cw6WGRltaf930QBAHBuUVQBACAJdVZR5aVX37b/+as/eR/KX3DZNV4BZNHSlf6t4akqmiTSZ9DwBkWVjKPZ1m/wCK/c8T8v/pNNf32Of4tZdXWN3TF2olca0XFdmeOb7bv8PczSMzLtsh797Q+9BllWoGzyyWdf2M8vu9qL7vs/L77SJjz6jH9rWHNFlX/55R/snkmP+1vCNF3lvNA5es8xFJ3XwiX1z9EVVXSbokkpztHMbPv9tTd6SwBt27XX32q2Z3+qXRJ6/ODSQF0h33l9p/fLjB/d/XLU20nsoahCCCGEEEIIIYSQzshXOcU28stj9oP5DZf2+eGCNBu39YSlFNf/AysAALoKiioAACShziiqaFkdLbsTXL5Gfx99/yP+Hmanz5yx4Xc/4E1MCRZVps14086/5M/efVQaWb3uU/8Ws5QDh84qcWgiydSXXvf3MKupqfEmnPS9+c7Qc6vyt5o33UX7uvtpyZ2rr7/NTuYX+Hu0UFS58Arv3Bwt36PHUAkneC7BMosrqqiYoOs7+r5H7PTp+n+tcs+kJ+z6W0d5+zlPTZvZpaapuHx3+mbvFxv/xwNzo95OYg9FFUIIIYQQQgghhHRUCssq7M2Uk/azpekNyimapKKJKkuOlnoTVgAA6KooqgAAkIQ6o6hyqrbWWwpHU0TcPvpw/tYR9zYoZYwZ/6i3X7Co8sDkZyOFEi2Ns/7Tzf4tZtt37W1QfvH2CT32hEef9vdQSea09Qodc8Bto73CjKN9ggUQlV3+2GtQg6V8WpqoouWLnPKKSruq7+DQ87q2/lxC53vnPQ9GyijBoooeTyWbnXv2e7fJxxs22dvvfeB/ZXYs90TomDfbhZd3rWkqyv/+9Ervlxz/5fElUW8nsYeiCiGEEEIIIYQQQtqbzceKbcjnWfbX7x5oUFD5pw8O2ZQ9+ZZVUev/xgkAgK6NogoAAEmoM4oqZ86csVtG3NvgmOFCSf1SO3WnT9vtYyZYr4ENJ6o8+MRzkaKKSiMfrfzYv0XLAmXZ5Vff4E1DccfVEkHBAklpWZn95bpbz5rU8vLr70QmtSgqC/S5abgVl5T6ezRfVPl/L7zCpjw/w98SLuMMGnZ36DnWF2d034mP1T/HYFFFt+t6TH7mJf9WLWVUbUXFJf5XZrPfXXRWEaer5G8fWeD9skOFlWi3k9hDUYUQQgghhBBCCCFtSVZxuT2z67j9y4eHGpRTvjs31QZ9lmVrjhR6+wEAkEgoqgAAkIQ6o6giS1d+bD+/7GqvSPKvl/zZLv3z9fbV1p3+rWYFhUX2p943Wd+bhjdZVNFxHwsUO+TpF161n/36Kq8U8rNfX2lX9rnZ0jOO+rea7dr7rV38h972m6uus9S0dH+rWfrho96+P7v4Su++yhvvvO/fGtZcUeV/XPRHGzpmgtXW1k9pWbhkpXeueo66369C5/zZF1/7t55dVNFUFT3nYznH/T3qVVRUessABUs4XSl/99A8iiodFIoqhBBCCCGEEEIIiTWlFRX20eFC67X+qFdICRZUVFh5fs8Jyy0pb3AfAAASCUUVAACSUGcVVTRVZe0nm7ylfB59+kX7Zsdu/5awj1au8woe1w0e0WRRRaWNq/oMtqNZx/xbdb5VXkHkoSeet+dfecMOBMoo8shTL3jno2V4Zrw5z98a9m1qmj07/XVvnxVrPrGamvpliKS5osq//voqu+TKfrb321R/q5YZqrNlq9fZ/Q8/bRMfm9qgpCKNiyqKnvNboeM1tnbD5w2WSupqoajScaGoQgghhBBCCCGEkJayN6/Exn+TY/+w4GCDcoqbnvJpVlHU+ykAACQSiioAACShziqqNOdIZra35M+/X/oXu/6WkU0WVRQthXNP6NiVVdX+Hk37cPka+9UVvb37aXrJ76+5wXbvS/FvbVmzRZVLrvKW+Rl+9wNWVl7h39K8aEUVPR+Vc0rLyv29zGpra+3Oex70yjVuv64WiiodF4oqhHSvVFRURN1OCCGEEJKI4X/bEHJuk1ZQ5i3t87Ol6Q3KKUpT01OiBQCAREJRBQCAJNQZRZVTtbXeEjx1daf9LfV27tlvA24b7U0P0Qf2KqqUBooqDz35fIOiinLBZdfYXRMn26HDR/y9GiqvqLR33v/QW+5HBZXg/a65Yaht/mqrnT59xt+73vZdey0tcMwZb8xtdqJK+JhX29jxj1nG0Wz/1nrV1TWh573fauvCywNFK6pceHlPu/TP11laeoa3j+zYvc97zOC5d7VQVOm4UFQhpPtEH+TwYQ4hhBBCulP43zeExD8qp7y0N88uX33EvjOn4dI+f/veARvcwvSUaAEAIJFQVAEAIAl1RlFFBY2+N99po+9/xN6Z/6EtXrbGK3vcPelxr0yisofup2LGFdfe6C3F8+TzM7z0GTTcfnH5tWc9hs7vd1cPsPsffsrmLVhqHy5fa4uWrrLnXn7D+t86yiulRCt6qBSgEojOZc57i23JirX2/uLlNuHRZ7zCyKh7H7Yp02Z6GXj7WG//X/2ht02cPNWmhM7nqRdetZuHj4uUTXTumq5yWY8B3j7zFi71nt/sdxd5pRRNRjl9OlzQiVZU0bXSuWhpJOfRp170trt9umK+/+RHFFU6KBRVCEn8uA9wCCGEEEK6e6L9byFCSPujZX0e2pZrF6843KCYomhpnwEbM21BWr6VtvH7EACAREJRBQCAJNQZRRUtZaOlfX726yvt337zF29JG00q0VI/FzYqk6hcon10u/KL351dUnG58PJrvWkrys8vuzpyXJVUou3vosfQvu5+7hhuu3tsTXlx99Htke1+sUbFFpVZbhp2d+jPu+w3V/XzSivuGP/joj/ahEef9q9CeNKLlvnRebvjqoSz8fMt/h7mTW654tqBUUs2XSkqqFBU6ZhQVCEkcRP80Ka8vDxqysrKCCGEEEISKtH+N40S/N8+0f63ESGkddl5PFxOibasjyapaKLKmyknLa+05aV9WgoAAImEogoAAEmos4oqvQcNa7FAkkhRkaRH/9ssL7/Aak/V2pnTZ7wpKiqq1BdarrGVH2/wr4JZ9rFcu/zqGyLHUAnnhqFjrLKqyt9Dywot8EoxwcfqiqGo0nGhqEJIYib4QY0+uNGHOqWlpYQQQggh3TLBEgtlFULanq9yim38Nzn2Tx8cOqucoskpV687ajP251lWcfvLKcEAAJBIKKoAAJCEKKrEHk1G+eSzL/xnGX6eK9dusCeefcUmT53uTUpxy/7IuwuWNriumswy/4Nl/q1mpWXl3hJJbmJLVw5FlY4LRRVCEjPuA5qTJ09a3sncUHIsLy+cEw1yjBBCCCEkwVL/v2Xc/745fjzXiotLGpRVov1vJELI2VmfWWRjtxyLWk753rwDXjmloyanNBUAABIJRRUAAJIQRZXYo0LJgNtG2/ETJ/1n2rTUg+n25363eKUE3VfTVK4ZMMRO5hf4e5it+nijtxRR48fprPzyj33s/7prup3Xf3TU25uLK6p8/8mPot5OYg9FFUISL66kog9pjh7NtGmP7LUH79xjD48ihBBCCOl+eeyuPbZ7V7qVlBSGEi6ruP89FO1/KxGS7CkNfW+onDLyy2P2DwsORi2nDNiYaQvS8q2wLD7fRwAAJBKKKgAAJCGKKq2LyiqD7rjbtu/a22B6ilNbV2efb9kaev53NJiUomv08qx3/L3C+9057kH793Zc99bmX268x/sFyXenb456e3NxRZW/e2he1NtJ7KGoQkjixZVU9CHN0aNZNuK63dbrwp3W92JCCCGEkO6X/pfttG1fp1tRcb4VFRV5SwExVYWQhlE5ZUVGgQ3+LMv+9r0DDYopirbpto8OF8atnBIMAACJhKIKAABJqCOKKloSp8f1t9mDTzxvkyY/axMfm2q/6zHAfvn7nlH3T/SogHLxH/vY7WMm2LQZb9o78xd7eWHGW3bbqPu9fdwkFRddi2F3TfKu0QOPP2d3T3zcLrmyX1yv0c+vHhT5hcn5vYZE3aepqNyi+1FUaX8oqhCSWHH/elgfzuhfFB89kmljbtht/X690/r/lhBCCCGk+2XgH3ba9m/SraAwzwoLw1NVXFGFsgpJ5uSWlNuc1JM2qIlyiqapDNuc7RVYVGSJdox4BQCAREJRBQCAJNQRRRVFhQstY+PSXUsqwWg5n5//9mpvcoyiv6u0E21f5YLfhfbxr4/+Hm2fzs5/fma198uTfxz9fNTbm8rfTF7s3Y+iSvtDUYWQxIn7MMYVVfSviSmqEEIIIaS7J1JUKTgRSsFZRRUl2v92IqS7RWWTT7OKbNLWXLtw+WH7zpzUBsUU7/cri9K8JX+09E+0Y5yrAACQSCiqAACQhDqqqEISIyqa6BcpP5zwVtTbm8o/3f64d7//e9gTUW8nsYeiCiGJF1dUYaIKIYQQQpIhKqps++aQncw/flZRJdr/ViKkOyWtoMxe259n/TZk2l+/e/bUFOXfP0q38d/k2Fc5xVGP0RUCoKHaM2ds/PY825pf5W8B0JVQVAEAIAlRVEmu/Nf7Xvd+qfK3jyyIentz+cVV10fdTloXiiqEJF4oqhBCCCEkmeImquRTVCFJkMKyCm+pnrFbjtm/fHjorFKK9zuU9w7YgI2ZXoElo7As6nG6WgA0lFJc430//3BBmlXVnfG3AugqKKoAAJCEKKokV35098veD2X/+9Mro95OOj8UVQhJvFBUIYQQQkgyJVhUyc/Pp6hCulXccj6Pbc+1P6zJsO/OPXs5Hy3xc/GKw/bQtlzbfKzrTk1pLgDOdtHKI973+Lqccn8LgK6CogoAAEmIokpyxS3h893pm6Pe3pH5lxvvsb95dJH9z+tHRr09WUNRhZDEiz6UKSsr8z6kOUJRhRBCCCHdPK6ooqV/XFFF/1uIogpJ1Gw7XmLP7DpuV6872uRyPv+4KM2GfJ5l7x7Mt7zS8qjHSaQAOJuW/tH3+7Atuf4WAF0FRRUAAJIQRZXkyn+/ZZL3A9l3Xt0W9faOyAV/HmB/99A873H+6q39dl7/0VH3S9ZQVCEk8UJRhRBCCCHJFIoqJNGTcrLUXtqbZ/02ZNrfv38wUkYJRsv56Hbtt/N4SdTjJHIAnG15Vpn3/X/+sgx/C4CugqIKAABJSD+8UlRJnmjKifulTLTb25ufDH3MK8Ho+P9h1m6vGBNtv2QORRVCEi8UVQghhBCSTKGoQhItGYVl9mbKSRv0WZY3GcX93iOY7807YFetPeJNVvkqJzGX82lNAJwtrbQm8t+E2jNn/K0AugKKKgAAJKHysjIbde/DFFWSJOf3GhL5gezfrr016j5tzX8d/2bk2P9x5lYmqTQRiiqEJF4oqhBCCCEkmUJRhXT15JaU24K0fBu2Odv++cNDkd9FBPPdual26aoMe2hbrn2aVWSlSfb+BXC2strTkf9GZJSd8rcC6AooqgAAkIQyMzNt9P2PUFRJkvz86kGRH8j+Z787o+7T2vzyj33sBw+/Fznu//rSJq8QE21fQlGFkEQMRRVCCCGEJFMoqpCulrzScvvocKGN+zrH/v2j9MjvH4L5zpxUu3D5YW+fNUcKrbAsud+vAKLTfyv034zPT/B9AnQlFFUAAEhCmUePUlRJsrhf4vzz4AlRb29NfnHV9fY3kxdHjvm9Zz/2yjDR9iXhUFQhJPFCUYUQQgghyRSKKqQrRFNQNA1FU1HcB8uN87Ol6Tbyy2O2OL3AK7NEO06yBkB0P1kcLrvNTS/xt6Apsw4W2QXLw/8N/tHCNBv51XEm0aDTUFQBACAJUVRJvvynV770fiD7b8Ofinp7rLngzwPsPz+zOvILor+essIrrkTbl9SHogohiReKKoQQQghJplBUIeciKSdL7aW9edZr/VH763cPRH7XEIyW+RnyeZbNST1pWcUUU5oLgOguW3PU++/J5N35/hY0VnvmjPX/7NhZ/w1WvjfvgC06UurvCXQciioAACQhiirJF0090Q8WP7r75ai3xxJNTdESP+6HlL95dJG3BFC0fUnDUFQhJPFCUYUQQgghyRSKKiQe0QSUBWn5XvHknz44FPn9QjAqrPTbkGkz9ud5RZZoxyHRA3QGFRg0UaOq7oy/JfFcsTbT++/L2G9O+FviK620xqanFNqQL3Ktx/osrxDywI48W51d7u9x7ul83H+HNU3lklVH7IcL0hps25LHf2fQsSiqAACQhCiqJF/cUj1/99C8qLe3lH/tfXtkKovyX8e/SUmlFaGoQkjihaIKIYQQQpIpFFVIZ6Q09P5Zn1lkk7bm2oXLD0ddzkfbLl5x2NtHS/9EOw6JLUBHKqqps6n7CuzHfqms54Zs/5bEM3hzjvccBm465m+Jj50FVV4xJfjfvMZRiaas9rR/j3ND5+n++/z99w7a1vwqb7tKSg/vPBk5Vy2hBHQkiioAACQhiirJl7+f9Lb3A4WW6ol2e3M5r/9o+48zt0Z+KPm/7poedT/SdCiqEJJ4oahCCCGEkGQKRRXSUdl5vMRbzufqdUe95SLc7xKC0TQVTVXRdBVNWYl2HNL6oHU0IWTa/gI7b+lh732pD+HHbT3hFTSSnaZ/qLDgvmd/tDDNPj+RuO8xTVLR89ASQPGggofeS43LebqmKv4owds0YeVcUoHHncv8wyX+1nqaBONudyUWoCNQVAEAIAlRVEm+aMkf/TDxv73wadTbm4pKKv9h1m7vvn/11n778Yhnou5Hmg9FFUISLxRVCCGEEJJMoahC2hpNTVlzpNDGbjnW5HI+KqyouKICy968kqjHIe0PYqcJEj9dkh71/aoSgZa6SUa5lbVemcNdC10jFRdUvEhkbiqISkmdTdNR3FJDigopKoI0LvqoEBWctpJVUevfEl96zV1pRmWtaK/1rINFkfPcmFvhbwXaj6IKAABJ6OjRI/bwlBftz9cPtWtvHE6SIP9270veDxP/8Y3dUW+PliuGjrf/9Pp2735/9da39ou7n4u6H2k5PQbcYTt277PaUxRVCEmUUFQhpOVcf+lO6/vrHV6u+83Zt/e7JHxbMNrmbr/+N2ff3jh6jOsCx/HuG9rWL7BPMO747rGDjxe5b+B4jc87+Fh67OBtinvc60Ln3vg2d9+zHrOJRHte7uvgeTW+zrFct8bHb5zGx4n2XK+/NLB/lNsVdz36XdJwu44XfI36Nbpeun7utsbxnnvgsfs1uBaN9mvmmA2eU+B+0RI8DiHJGooqpDXRFJQ5qSdtwMZM+9v3ok9N0VI/47/J8Zb+UZkl2nFIxwaxWXSktME0C5UXHtiRZ5esOhLZdv6yjIQvZ7SWihTBKSrjt+d1m2vgihY/XJDmb4lOBSWVmNpK1ytYUtF7q7kJJHuLqiP7nqsCiKbnuHPQ3xs7WV3XoNSVVlrj3wK0H0UVAACSkIoqk6e+Yj0HjbB+t4whSZDf3PNc5AeK3rfdE3WfYK65/X77zzO+9Pb/q9nfevePth+JLX1uHmU793xrpyiqEJIwoahCSAu5dKfdcOVuu+eWVLv/tlS7/S+7GhQDrr98l40alOLddt+t9Rl73T6vIKHywc0999l9jW5vkFtS7KY/7LKh/b71jnPvTSk28PLQsX+/28bcHHrcKPe558Z9NkCPPTDFxofuM7b//vpzCj3udb/dZaNDt3nnFTr+HT12W9+Lw0UFnf+w6/eHH+vmb+3mK0Lb/PsqA3632+4enOodd3iPPaHj1d+mjLwhdJ5DQucQOsaNwZJElOi4w/qHn9e4m761G3630wb9abeNCz0HbRt+7R6/sBHaHrrO4/zrPOzq3Tbk2tA5hh6n8XN3uWdQ6HiX7bI7/eM3vl3bhoZer0HX+td/cIoN/mP4+UfOL/T3m3rs9W7Xdb7tqt2Nih+h1//3u+yu0PXQ8Ub32xu5TQWZ/lfstrtCr5f3GoWu87Br9njXWc9bxxnuv6bRzu2Oa3bZjVfttXvd138OP7Z3Tn+q336rv12P2S907MFXh24LXScd5+4bQ9dA21WgCe0z6I97vGvY+PGUewaGXq/L/OdFSBKHogppKZqE8vyeE3b56iP23bkNl7NQ/vrdA9ZvQ6a9mXLScktYzudcBC3bklcZef+qrDJ1X0GDMoZbIkaJ9qF9d6VyhluqS38uzyrzb+keNBXGva7RqKBy5br6gomWOkopbn0hY/Lu/MgxVHzSdJXmrM4uj+zfmUvq6D2u97MmuLilhzQ5RwWt4PNWKcXRpBUVfHQt3O19N2b7twIdg6IKAABJSEWVx6a+YtcOvNP6Dh5NkiBXjHw08kPFlcMfiLqPS59bxtj/MW1dZP9/n/ha1P1I7Ol900jbuWc/RRVCEigUVQhpPtf9eoc9/EiO6Vev+t3+2tcyrPeF28O3qxByzbe2MzP8i9ngP8SsLD5ln83Ptpsv3W6PvHLS3xoS2udMaHfFOV11yibest9mry73vq7Kr7I7r95t1w04YGn+0unBY+sYuftO2KCee23bkfAvWdO+KfAKJSpP3Nw31dZtLLWqav9OoTufPFphsx9Os+tDz6dPKCvWlXo3VeeV28R+oW1+GaXfr7fbmLFHrcJ7wmY7lmRbv4v856v8bpd9uTP8y+Xjmwvs9otUivFvi5I+v91tiz4Lf6BUdrzShvxpl91z5yGr9I+fsv643Rg6H00luXv0YSsPPZ0zp8/Y4qcO2qyZ9evG6/k3vm6lx8pt8B/22iebqr2vG1yjkNOnT9tbD+218TPywl9XVNvjt4fO6eL68+t38XYbNznHdBW1/4yJB6y3X+hRdD1v673fcop0Amb712SHruF273xH3JxmW3ZUWvUp/4FDJ1BwrNLeeyrdBoTeG31+tduWLg//i9HG56bn+OG0FLvz/mzvsXX7rtC1HhB67L6XhM7pjmOmZ6VzenniQev9K23fYY89lm0ZmTU6FU9tVZ3t3nDSxvXabb1Dr9OYW45aqSb4B66TU3Sk0IZeua3B5BZCkjEUVUi0fJVT7E1F+dnS6Euk/POHh7wlf7T0D1NTzn3QPC214j50V0ml8VIsog/0NU1F++jD/GSgQoK7LirxRLsuiU7TStx/txovsaMSS7Tyna5JVV2j/7HaDE0accfREjp6v7VESwJpf5WDOmt6jUpImuwSfG7RonNXeUX7/mB+/WQdl1iKN0BrUVQBACAJUVRJvvzljomRHywuveuZqPu4/LcpH0b2/e+T50fdh7QuFFUISbxQVCGk+fT7zS5b9HG4QOIVRHYW2ODf+kUGFVWu/dZ2ZYd/kVlbc9oK809ZRVX4a5URVr982CZMybHS0lorCt1W5jVAwspKQtsKT1lRToXdd9N+e3tN+HGqC6pshF9UORTuk9ipqjorKgjtG0pxYa0d/DLHBvbca9szw78YPrS1wCvV9P/jPvt0m/+vFEPnW1ZcGyms1JXX2LQ799u1v9huK9eHD1yTX24Tr6svqvT51Q6bNa/Iu01Kj5TayD+Fnqc/0aP/Zbtsy+7w8U98EWNR5fPwhwDlJ8JFlXF3HjL37yhPl9XY07futZ4Xbrd7Rh+2ytCp6roteeagTX++wCoqa71rWqkbQnRbia5ZKFnfFtvNV+y1DZv9okpt6Db/GimlhdU2Y/xemzAzXBQ6XVVtT0QrqjweLiI1VVQZ0me/5ZboxMy+XZtt1/9qmw3U656uRoic8V7LqprwOZ6urrWZY7+1qy/YZR+t9IsqofMu1XlHzq3G3p3yrY2YEC6qSG1xlT104x7r+cvtdu8dx0z/ttUVVa4JvWb335tpbgJ5bfVpKymus9BhvZJL2md5NvCS7TZq8FGv7CPVob/oPee9Z4pq7ciuPBv6p+1nLSVESLKFogpRVDZZkVFgI788Zv+w4OwPKvXhviaqPLPruDdhpfH9ybkNmhecljIztf5/1zXmlolRYp1yoSKEjq+JFe2ZRqLjDPki1y5aeSQy+aL/Z8e8aRjBaRcdReUIPZZ7vrPTiv1bupfgEjvBpX2m7S+IbFeGbcn1poy4rzVxJ1audKLEsoxPcMqL3judQaUjNylHURlFr7cKKcHtzUX30TJQrSntALGiqAIAQBKiqJKc+U+zdno/YPzrA29EvV0576HZkR9EfjR1RdR9SOtDUYWQxAtFFUKayW922KBeqZaWW18uOV1ebY+Hvk/6qrjhiirHwrenfp5nA6/YaWOHpduRvPAv2AtTi234Fbvs5qt226DQn1PfDv8S+HTNKXtmdIrdGNo2OHRb38t22bufNFFUOWP29dKMyL7KzX/Yaddd/W2DokrfX263SQ9km/7tpMoLX87PtiF/3m0T7j5qJ0rVaDDbtzLH+v1im61ooqhy/e/32tYDroAROs+6Wntx5P768kYHF1V0nts+yLa+oXO6Z0x9UWX5Cwe8yR96rjf8fo8teD98bSryKm103z12059C1+HKXXbdJXvt0y/CRZXClBK7J7TtJv8aKf010eatji2q9PvlNnviqfAv2XWum0LXeWiP3Tb+vkzLqwjvl7Iq1/r+2w5b6hdVKrMrbGJon+C5Dbh0h931yLFIUUXH+mzOUev1823eRJVgUaXnxbts/dfhq1YdugbPj0qxwX/ZZwuXhj9kOV19yqYN2WvDbjwSmUrz8dQMG/j7wHsmdO0HsPQPIRRVkjh5peX27sF8G7Ax01u+x/1OwEUfZrolfbRvtGOQrpHuSsUCFSjaM+lDhRMVrfSevmJtpr81Ok3GcO//uen1k+yi0YSJwZtzIvsrehwdozV0HJUHgsdpnM4oDATPvbPKEl2BlvZxz3NdTvh/Py86UhrZpv/Oue3iJpBouk4sNJXGvb/0OjZH5aCHd56M7B/r9BVnyp587z0cLNxEo+f8/ffqC4c9N2Q3mCbjzsPd7opRes5aDmjkV8e9939nFKQAh6IKAABJiKJKcub/fHa194PH373wSdTbVWBxP5x8/+XN1vO2e6LuR1ofiiqEJF4oqhDSdLQMzn33Z5lqG6cqTlt54WnT0jMfPXPI+v5qx1lFlf2fnvCWhOl10W5b+XH4A4bqrAqbcPlO6xs6Xt+Lt9uUWfnedhVVHr+9vgDS+1IVVcKlhmhFlS8Wpdu1v9hm/S7Z4eV6/Xn1t7YjUFTp9csd9tbccHGhrrTaHuyz23qFzqf3b0Pn409ZyUstspt+t92W+Uv/BIsqOubtt6VbgT5vqK2zwvI6r0iyec5Rb9KKd106uKgi1XkVdv81u2zMyPRIUWXFiwdD19G/NheFrs3c8L/YLT9RYUP/sit0DcLH76eiypfhokrBnmIbErpG11y43ZvQ4i2XE3r+HV1U0es4b134fKoLKu3e3ru8+/QLvYZz5py0bV+W2MdvZtrAX+20Jf7SP+VHym3Ur7bb1f659Qr9Xce5+9H6ooqUZpbZmD/usLuGBIsqB+z6K1MtMz98DnuW5Vq/X2z3JujcMSbDimt1zU7bomfT7Pb+9UWVFQ8dsr/86zbv8RSW/CEkHIoqyZWs4nKbsT/Prlp7JLJURTCapjL4syz76HChFZbxHkiUdDf68L9xeeOC5RneB/CtpQ/2dX+VA1KKWy6RuMfTB/lNUblEy6G4fYNRCaI1goURnaMms2hb343ZXpEheGwVCXRt2is40UPXp7OWnukq3HNV6UnXzy1vo5JK49JHsMARS4kkOIWnuYk6mrQSfM/otY3l/egEXzNNf2mK3ptuCSulqRJS8Hl2xyWf0PVRVAEAIAlRVEnOXHTvi5EfPn479qkGt/30sfcit/3nGV9aj9vHN7idtC8UVQhJvFBUIaTpqNAw98Pwvy7N3F5k6zeEfxmbvumE3XBJo6LKGbN9G05Yr19st56/3G0fbwr/ElgFhbt+Fy5ztKeosn3lUbvj2r02ou8+L7f+caf169GwqNLzkp02f2P4GBW55XaHX+i4PnT8W6/dZ6P777eRffZ55Yuzlv4J7dcvdC7PTg9/SFEUeuCPVoRHxZ/cX2R3/D70HDRFpkOLKmes6FitV6pYM/2QjR52qF1FlaoT1bbizRxbEMqi2bn26sQ0u/7CbfbI7A5e+ueS7bZpW/g5FWcU2Z1/3m59fr0j9Pru8MpEV/88XJbp86vdoWsYfj1OFZ+yNbP9c3s719589LDd8MvtdpcrqtSdscLCU95z/+DJgzb6pqxwUaXutL08/oANGHTI8kIbdPvHczLt2tDxvXP8/W6787r93mt7a+jajr7ZX/ondK4HPy209187Zgv1mG8cswm991pfyiqEUFRJgmipnid3HreLV4QnBTTOP394yMZ/k2PrM4ui3p90/XQ2TWPQUij6gFx/dkRZoin6oL1xQcPlp0taN4FCJQR3X02JaIke2+2vJXeaEiyXqECz5Gj9hA79PVars8sj91OJIdoEC02EUXnF7afHa0+xRK+lW/rlRwvTkmJqhivl6TUNLtMTrVii0oa7PZbSkd5Xbn8VYRpHU1D0mrl9FJWQWvM+bjwhRe+/pgSfn6ajNCVYVGlLAQxoL4oqAAAkIYoqyZk+t4yx78382vvh4wcvbrBet95tf7ljov3w+bWRH0ooqXROKKoQknihqEJI9Fz/mx024Mp9tiujzvvQ/7PXj9jkZ8K/8K85WWkT+u7yygnBiSoZOwtt4u0H7JWXj1tJdbjYkLo+1/qH9tMx21xUCTldd8Zqqk97qaups/ef2W/X/GF/w6LKb3bawm/CH96oqDI8UOhQ4ULTXjSNRVNGohZVLttrG7aGSx/7VufaxHuOetNktKzMM7ftC59rBxZVVLr4claenQw97ZLDJfbUxMNWps5PG4sqQfo84/D6PBvwb1vt4U4oqnyxM/ycig4X251XbrehfffbQyMP2kMjQgn9OeHWb+26X++2pf5ElQZCx8ndWmi3XrDNxvpFlTO1p23l4nwrqTU7vqfAHr0zy/SsvKLK/QdswO3pVuBfm3XBosqloeeg1zWUPqHnMuaWo1YW5XMAHWf2iBRvyox7boQkayiqdM98mlXklU9UQnE/9wej0spj23O9Eku0+5PESmfSh/tuqRIXFR1aU8iIlQoY+nDdPY5KAFpKJ/ihuj6Ij9WQL3K9++j8YynXBEsKTT2/LXn1+7jSSPD8WlPiUWFB91GRoqX7qSDkHkOP11ZaBsYdp7XTXxKVlrXR8w0+d137aPR6uiJPc5NLnGBpqaWogNXSklKNqTzVuOjSVFFFpRi3j55zc2WY4Hu2NZNdgI5CUQUAgCREUSV5c+H9L0d+AGkcLQ3Ecj+dE4oqhCReKKoQEj1a9mfEHRlW7pUD6uzlUfttYP80KzgVLgu89/AB63Xh9nBRJTtcVGmsPK/Cpg7dG1k2p71Fleqq015qq+vs/adbV1QJJmpRJXSOt91w0I6VhZ/foodCz+9PKZZZeMYrfaydedhbWqj/7zqwqBJ6TkvuO2TLved9xr5YecKKQje0tahSU3zKvllbaJs+LrQvPimyxVMz7PpfbOvcokp6sd3x+2321tzAByih/QoOFNotl+2wD5eFX9Paijrbvs4/t/VFtuyVTBv4y22RiSp67Ncmp9v6baHncua0ffxGoTcZxVv6p7miSiB6z6qo4iaqHNtbZp+tKbTPQ4+5eU2BPT5gn/UNPZ/G9yMk2UJRpWFyS8JL42jpm2i3d9WUhl6vFRkFNuTzLG/5nsY/9+uDcC33o+eWUVgW9RgkcdNZpu2vL0eo7KEPv11pRX82t9RJWzywIy/yeI1LAm5ShB43lg/Wq0L/u8oVDpoqJTQ2fnv48fUYmjwSjSvSaB+VaFQGcEvJaCpKa7jzi7V8o2viHlvTYtbllHtlHi3vEsvyLcEJLlryJ1mct7ThNCn32jXFvcZ6v7ckWFRRMUplFN3PRY+t959KQa2dhKP9XZkpmGhFFb3+el66Xe+rxksaNRYstWhZIiDeKKoAAJCEKKokd/775Pn2V7O/jfwg8h/e2mvnT3o96r6kY0JRhZDEC0UVQqJHxY0ZbxZ4/5vyTE2dfbHohH2wMN8KKsKFhf1rcq3/hdutX6CocqqqzvILar3SgwoFq6enW89f1BcK2rv0z+3X7rU7++7zcksTS/+855b+OV4RWfon/Ng7rPdFWo4mvExNsKgy4bod1vOX2+3Rp8MTY86cOWNffXzSFs05YccLwsfP3ppvN126w67/bQcXVe46YHfdk2n6aKSs9JRV+cvbtKWoUrCn2IZeuM2uDT2XXqHo2qqU88hbnbj0z+Eiu+MP22z6y/rA+5RV14R2CmlcVNESUKNCjxU5t9D7S++Hu11Rpe60zZxwwCY8HD6XiuO1VhP6i1dUabz0zzv1RZXrf6PrEzqeEnptXVHFu4YPH7Ie52/zHk/px7I/hHihqFKf1/bn2V+/G/7g+B8XpUXdpyslr7Tc3kw5aQM2ZkY+8A7mb98L/fcydNu7B/O9faMdg3SPdIb5h0si7yUtuePKIXuLqr0P4LVdf7b2w/em6Ljug/bL1hw967gqjrjbVWhpisobKhoEJ5DEUqhR4cQtr9LUkimabuHOof9n4XJJsEjQ2uKOu58KMrFQ+eb8ZQ2nawSjYlFTdF+9jtpPzyGZpmjo/RS8Ts0tnSPB946WXmpOsPDRkUvoNC6p/HBBWuTvjZex0vJNwdv1vduS4HJVWqIIiDeKKgAAJCGKKuSqYZO86Sq/vO8lu3rofVH3IR0XiiqEJF4oqhASPddfvte+2Nf0L7Qrc8pt7F92Wu8e9Uv/pHx6wm65LtWOFoY/aMjdnm9DLtth110aPmZ7iipfLEq3a3+xzbR0j3K9/ry6YVFFE09mzwv/orautNom9dltvbQkzG922oy3TtiOL4rtk0U5NjB0TsvXBYoq/XbYtb/ebR/5JZdo6kqq7eHrdlvv33RsUeWjcQet16V77Ov99b/obnNRZV+xjby04fn0C13fji6q6HWc93H4fGqKKm18n13e0kk3/GG3bU/xz6VRUaXiaLndc3noeP5x3WNHiiqhx379wdBj/36/7dFyUz6vqBI6p+uvTLXM/PA57Poox/r+Yrtd95sddsvAg/bpp8W2bVOxvXR/qg2/8UikqLL68XTr419DQkh9KKqECx+91td/kKnSx4K0/Kj7nutkFYcnvmg6iqakuHN20TSVkV8e86araMpKtGOQ7peOpmVoXGlDH4A3XpYmuPxNRy0B1GN9lnc8ff819YG/Kxw0NblEy6q4IomLjqeSRktiKZyoBOP2URkgWFLQsjKtpekbuq9bQqglen7udYkWPfemJmkEl3oZt/WEvzU5BJf8UVSKao6KH+6/ry2VWoLvicm7wz/XtFe0koomsrivGy/9FNy3pfN1VFRy99EkGCDeKKoAAJCEKKoQEt9QVCEk8UJRhZCzc/1vdtjQmw/ZSf9zkKzUUvt46Un7ZNlJ27ajTF0B03JAr4/Zb9dctd92+0WV/Z+esJ4X7bD3loU/wDhdV2uvjN3vbdNx21NU+fKDw9Y7WDoInWPjiSp9f7ndHng42ys+6Hf/X7ybZbf/eY+NH51hxwrD53j0qzy74eJttixYVOkbOt5fUuzQyfAHBicPltsn/vP94rMyqw1tVvFh8ZQ0rzziiip5XxXa6Mt3281X7bFbvOy2G39Xfx2VWIoqV/98m02Zety7rtLWokphSomNuzJ4PntswG8DRZXqaps6eo8NvKL+9htCt4+bXF9UeePRNLvxit2R2wf+fpfd1rthUaXfL7fZ40+Gf8Gt67xtSa6N7rXXRg46YGnZ4Q+2Cg8W2q2BokpldoVN7LGnwbnpse96JFhUOWjXXLDdXppZ/0v/cFHloPX89S7bsC183atC1/G5kSk2+C/77N0Fhd42TWSZff9+u+OG+qLKuqkZNuj39c9lcOjaDLis4etDSDIm2YsqO4+XeNNT3Ad2+qB3zZGuteyPlupROeXy1UfO+hBe+dnSdJu0Nde+yimOen/S/dPR9MG1e3+plBKNyhW6XR+St5eWHnGPpzJKU0UCtzSPyifRqOCiZXDcsZSWCiQqBQTv09zzURHB7RdcFkmFE01kaa1g0UWP21RBR2WIxpNUVFjR+WgJG93u/tsQbRqMSgmuePGjhWltOtdEFlyeR9cxFsFloJqblKL3j66p9tVropJLe+j+KmK589XUIr1+we+RmalF/t4N30OamBNLKctxU1j0GEC8UVQBACAJHT1CUYWQeIaiCiGJF4oqhJydfr/eYU8/F/6Xl66Q8mctoXLhNht8k34xrxvMvp6XaX3+uDcyUUVFld6/3G4jb8+wYv1+N7RPyrrjNuBX8SmqXBc67wFX7rfNbhJM6H7lxXWR5WjOnKq1tycdsGsu2NZg6Z/7eu6wcfdne8vvqODwwdNp9uefbbVrQ/vdeHWKZWo6dugQBzeGnkvoMb70iyqnT522ksJaKw6lpKjOinIq7PHB4eki7jxjmqhy4XYbeO23lnIs/FzaWlTR8Ur981HKS07Zm4+k2YQZbrz8GSsvrb+9LPQiLXg23UZNOuYVVaSyvK7+/qV1tnZulg38y76GS/9cHLouf9lvX+2vn7hTWVZn5eXho6i8cnjTCbsh9NouWR5+TfWcyoqCj11rH7xw2EaMz46UZF5/4IB3LW65/oBl+lN5XFFFBZYJD2RbhX+itTWnrbSkzkKH9c4rd3eR3X75Dht5U3jpH6nRcynwHzP0+uSkltjtfw5dO5YAIkmeZC6qrM8siiz1o0kk//zhIXt+z4mo+8Y7moaiqS5/WBN9mY+LVxy2J3cet715JVHvT5IrHUklhlimSbiihj6cby8toxN8f+sD92iCU0GaEizZKM0th6PpIxetrC8F6HGbK3EECw+uGKLSTEsTOpqipYTccjwuKlIM3HTMeyyVV1QiCN7+g/kHvWJE46kvwXMLTlXRY7hSkdLa5Ym6g+C1aTyNpCl6H7gih6b9NDfxJlhairZsVaw+D/1s4Eovit4bbpqR3mNuu4pVEiyp6H3Y0jJFjQWvi4owQDxRVAEAIAnl5uTYY8+8TFGFkDiFogohiReKKoScnX6X7rbVm8MfglSeKLe7e++yvn4xYsAf99mOw+FfoBakFtnQPvttR2a4PbBv4wlvqZm+v91ta7eE719bVm1PDNxjfULfV1rq5cnX/aJK1Smb3KioMm+9P33jZJXd2SNcVEnTSj5ntPRP9KLKtiPhDxcOfl1g1/9mp1dWGXrjAfv087JIQUXNiYLsKpv/dLrdELpfn9A+K/yJKlV55XZv75321uLw13UVNTZl0B7rHdqn/6U7rc9le2z91+EPIyqPV9h9vXfbpu1+UaXR76RPV9bY07ft8p6rO08VVRZ+Fr4WpcfDRZV77jzkFS5ULFl6z0HvefUN3Wf6m+HpICp1LH+hUVHlnfCHDKW5FTY0ULZQUWXj5vD5nfZLHM7p0HHenXLI7n8lXFRpfLse56NXMmzkxGNeSUe3B5+Sfuf++YfH7Mar9tmxotAXof/bv0ZFle3h6zwg1T7bXG6VVf6BQ3coPVljny/Mtbuu3W29frnblq4Iv6bRHnvla0dsuF8QUiHlNS39E3o/6Pq9/UF47Xxtnz4xdI1+FXq9Q8/5mWdyLDO7JnKitVV19u0XBTapf+g1u2i7jbnlqJWc0vG902mgPPT6DetRX/IhJFmTrEUVlUD0wZ4+oLtw+WFvaklh2bl/zmkFZd50FBVn3AeIij4U10QVFWm0T7T7kuRNR5qeUhh532mSQ1OyKmoj+zVeGqg1gsUYl6YmPMRSVAl++K5EW5pIUyv0YX9wQpEKKy09j8bH1n9DVC5oD52LW/aouegaacqHrle0Mo3KKW5fFVNUUNG2YElFhaBk1NZChko9wUk0q7PL/VsaUjHFLUulXLE2s1WTVfS+U8Eq+H7U8YLvRz2GOxdN8NHkHLev7qelgVorOKWlLUtXAe1BUQUAgCRUWVFhjz49naIKIXEKRRVCEi8UVQiJll02+sYUu/+2VBt3w34bGFjO5rpQhvX/1u6/NdXuuynFbr5il40amGLjQ/uO6bfP20eFkSG99nn7KLdftduuvzS0PZTBPffZfdo+OMUG/3GXt827T+jPodeFj3tv6LgDLw9t+/1uG3NTqo0PbRvZe09kX5frfxd67NB56vax1++PbL/ukh123WW7bIyeQ+i2+25JsTuu3mN9L95h1+t+oeMMu26//1jf2k2/32nD/eekr2/UY7vHCD2XO/qE970/dJxb/rTL7nTP/5ZGuTn0nP5Qf1/v/qHccX14/3GDvrUbQtdy4J9227jQ/tp2x5X11+amK/favXqcUIZdHd7uzuH2XqFz0OsROobOL3L80D4jrnfPs2G07fYeu23QNeFrHu32O67ZYzdeFX7caLeP6L3X+oeu8903h78e3Tf0tf/Yus7X6zqHXv/wfVK8/a8LXefrQufsXee+0a+Vtg27Vo+9x+71v74t8D656eq94fdJKLf62/WYeg1vCT2feweHj3PPjaHrEbqmXpEqtM/AP+yxe/zbGmfcwPD1D74+hCRjkrGo8syu45EPBK9ae8TySsuj7hfPfHS40DuX4AeVigorKq6oSBPtfoQoHcmVJmJZIsVNnGjPNIa56SUN3vNKU0WV4HIsTQkum6JoaRzRh/76MF+FAFdSc8d6YEdei1MwdJzzlh6O3K8jSipBKpXo+en89fxd9HpockYsZSBNYnHnp8kr7u+KjqvySjJySzvptW7tNdDr4ibbzDpYv+ROY3p9gtNxdP1V+mrq8bRdJSq9ZsGiVnPvR5VJ3H7B/dtSUnGCS0oxVQXxRFEFAIAkpF80UVQhJH6hqEJI4oWiCiHR0+8STfkIp/EH+yooRG67tH5f/RnZ5zf1+1znlwyU6wPbXfkgcp/Acb1tOrb/dVNTMKI9tpfAfRUVJ4K3N34Ojb+Odd/GaXzfxvf3toX2cV83uDbB7Y3PN3Ddgtu925o5H68wErhv4+i4/S+NfpvirmtTr4POOXidG78OwfNunMaP3dT7pLlroTS45s08FyV4HEKSNclUVNFyOsM213/QN2Bjprct2r7xiMonj23PtX9cVL/Ug6IPHlVaWZxecE7PjyROOpJbemTYllx/S9PcsjnBD7i35FV6Uzx0nNlp4YlozWm8VI+iiRHRuBKKjt+U4GQLJaPslE3eXb9ESjCafBFcJicaPR9NItH3ZfC+2t7VqPwQnKDiookiyVpSEZWM9Bo2twxUR1BZJbiUlKISit6Teg0UnYfKIcFyioteu+bKT1r+J1iyUjGmpfdvS4JTVfQ929zSV0BHoqgCAEASoqhy7tPn5tHe9e9z8yjrd8sY0oWj18u9Vo1fx1hDUYWQxAtFFUIIIYQkU5KlqKJSiJb4cR/Ijfs6J+p+8ciaI4XWa/3Rsz74dtNTWNqHtDYdyb0fY/lQXx+6a18tEaQPuBuXTjRVoiXBiQ6KjhltQkTwA3VNnGhK46KKNH4MRdNgxm09YTNTi7xCzbqcci/6uyZhaNKFK+1ES7QlhboCvQ4q5mgKiCaJqNyA+NEklKn7Cuz77zWcaNNc9J6N9f2k4pXeo9q/pSlAsXLfx4qWFOqo4wLNoagCAEASoqhy7qPSw4uvvWP7U9MsO+c46aI5lnvCDh0+avMXr7ABQ+72CifRXs+WQlGFkMQLRRVCCCGEJFOSoaiyPrPI/v798IeG+tfob6acjLpfZyaruNye3Hnc/vnDQ5EPBBWmp5COSEdy781YiiqaEKHvKRVLgkvNBEtYbumdaPSBuNvPJdryKppUoSkrul2P19wyONGKKirS6MP4aFMsYomej4ormqLinpumu/CBPpqiwpBKUFquR8sGufeS3r+ahKL3owonsSzp1Nl0ru77S1HJKZkn8CA+KKoAAJCEKKqc2/QcNMLeevcDO8MPsgllw6YtUV/PWEJRhZDEC0UVQgghhCRTuntR5fk9JyIfLGuJna9yiqPu11nZfKzYW2Ko8QfkTE8hHZmOpEkjeo/GsvRPj/VZDd7Xij6An5teEvk6uCxQY/ogP3jfaPvPP1zSYLJJSwUaFQPcvnouQfrwfXlWmTdpRMusNDf1QvfVB/Yqzpysrl8ORdfF7aPnylIp6A5U5nLf+4q+P7pCiQbdF0UVAACSEEWVcxcVFm4ZOcGO5+X7rwYSRW1trU147DnrNWhE1Ne2uVBUISTxQlGFEEIIIcmU7lpUKSyrsEGf1X+IfvnqI95Uk2j7dnT02K/tz7N//6j+X6grTE8hnZWOpHKG3q/nLT3sbzmbyhkP7zzZoIClMolKIBJcpqe5okrj6SeKPjDX8iYqiOjD8uBtWqqnJZry4vbXJIuW6Lno8VyyKpr/cF5lF03EcI+hD/fHb8/znmdzUyj40B9dnb73gtNf9D7nfYvOQlEFAIAkRFHl3EXTVEaPf9xOn2Z0YiJ6Yebbdu2Nrf++oahCSOKFogohhBBCkindsaiScrLUfra0/oPk8d/kxKUYoscdu+WY/e17ByKPrejrcV/nMD2FdFo60vSUwsh7V9NMgnYWVHnTSBpPIhnyRW6DySJLjpZGbmtu6R8VPILHUbQ0SuNtWlZIU1piESyqnL8sw9/asfRcg5NbgtG56sP+YNxUJ02gAboyvbeDk5L0/Q50BooqAAAkoY4oqvS5edRZCW5v/Pez7xc8ntsWfd/g3130wb87htsWvG+0+0TbJ97p6kWV03U1VlBQaB21BGnBiWOWVxT+lzRyprbGMtJSbPe+VKuo6ahrcNpyso5aaRza/S+8OseuvXF41Ne2uVBUISTxQlGFEEIIIcmU7lZUWZFRECmK6APvdw/mR92vI/PR4UJvUor7MNpFE1Vm7M/zJqxEux8hHZWOpA+qg0uAaLKKJp8EJy24XLTyiG3Nr/LvWW92WnFkH00paUpw8kq0aEqLJrcESzAtUWnG3V/n3Zm25FV6jxdcmiha9N8iTYfRdQESgcpmem+7KUlAR6OoAgBAEmpXUeXmUXbD2Mfsjbnv2zvvLbD33l9k8xcutpenvWgTn3zF3n1/gT384EN2zcDR9si0N+y9+fPtvvsmWq+bRlmvm8eGtr1p896dZ2NG3xveNmiU3fXwdJv7/kJ747WZNnBI+EP9m+8KPca8BTZ37js2/M57bdzkGTZ3/gKbN39R6DEX2isvv2JDh99tPQfdZU+89LbNefstG3LbWOsTOkcVUvoPn2gvz37P5gbO8a1Zr9uNt4Rub/yc4pjmiirp29fafePuCV2v++yeu++2u+8ZF/p76Lnf+6B9c/C4v1dszpyuCz3GGf+rRk7X2K7Na+zZJx+ze++91yY9/LgtWvmp6XcGFTl7bfy4iZbdIT9/1Nizd91gd7+4yPvqTHWhvTplko255z6bMm2GHStpe7HkdF2dnfGfXl3JURva6y/29rrd4Q2diKIKIckTiiqEEEIISaZ0p6LKQ9tyI2WRf/rgkG07XhJ1v45Ibkm5PbnzuPc4wQ+k9fj9NmTap1lFUe9HSGeko6mAockgwfd28D2uaSLrcsr9vc+mSSxu/6q6Jn5HFRKtqKKJKNP2F3jn0BYqtrhjXbE209/a+bTsj0o5Om89L0XTZFpTsgGAZEFRBQCAJNS+ospIG3jf07Zq3QZbvHC+TXn+ZXvmhRn24IOTbei4p2zl+g224O3XbdCIB23hynW28sP5duvtY6z3zaPsujsesPkfrbHPNq63F595ynoNHGE9B46ySU+/bRs2brD1q5fbXWPG2TWh7fdMed0+2bDBPlm70u4aNd4emTbPPt24zt6Y8Zo9N+NtW71uvfc41990j82c+5GtX7nE7hw61nqHzrHPTSNtwKiH7INV623V0g/smWnhc3x8yjM2oPHziXOaK6rUVJRYdna25Z08Zi+PH2Hjps23vLwToW3HrKK6daWOTz6ca2u+irIG75kaWzhjsg0JXdON3+yxnJwcS935hT3+8IO2LaPIKnN22rAhd9rRUn//djlj+77aaN/sP+J9tWvVbBsx8TmraO8glboim/nia5Zd4v9rnLpK+3z9WkvL7fx/kUJRhZDkCUUVQgghhCRTukNRJa+03HqtPxr5cFrTTbQt2r7tSUZhmb22P88ronx3bsPpKX///kGbtDXX2yfafQnpzHSGk9V13jJAAzcd8yaTDNuSa7MOFnnbW7K3qDryvdFc4SRaUaW5AkwsgkUVlV4AAF0PRRUAAJJQe4sqN977lK38+BN7dfo0u/K6odZjwLDQsUZYr5vvsufeWmQfr/zIpr82xz5ev86effJx6zVwpFceGf7gC7b643W2Zu1aWzT3LRtwy0ivqDLx6bds3Sfr7ZN1H9vTkx+za24cHTrOQvskdP+PVy+3saPG28PPzw19vcruH3Wv/fmGsfbyOx/a+tVLbcSw+236O0tt7fLFNnyoP1HFK6o8aItWrrMFb79q1wy43TtHFWCiPqc4Jtalf9594n57ZPY6/ys5bccOp9rWrdstOy9cyCjMOWIHjxwz929Sik9mW1ro65NHU+3Re++0qW9+aLv3HbDK2vp/tZLx9Uc2YOAdlnqi4S8IzpwJn09p1na78/YRlukXVU7XVlnat3ts+849VlRRv55wedEJ27Ftq6WkZ5k7fFVZoe3esc32Hcgw9w9FTh4/ZvnF5VZWdMxmPHy3TXj6dduze7dt27bNdu1OsdIqV8A5bblH0+ybrdvsSG6Bvy30Xi0+abu2h4+p5YjO1NXY/i+W2y1DRtiKjVtCzzc3tNdpy8k+0mDpn/zcI7Zt6zeh65NjTQ2WcQ4dOmRpaWn+V/UKCgps+/bt/ldhFFUISZ5QVCGEEEJIMiXRiyo7j5fYP39YP9VEZZFo+7UlpaFroKWEhm3Otp8tTY88RjAXLj9sc1JPevs2vj8h8UpX9NMl4e8ZTTWpdaNxG1EppfH3VHuXx6GoAgBdH0UVAACSUEcUVVasXW/z582xiY8+Yw9OftpuHXaP9Ro0wobeP9WWrf7Y1n28zpZ9MN+G3jHWet882nrdNNomz3jP1i7/0F6dM9/Wrlpmo0bdY9fcqKLK7ND+q+2j1attzqsvWb/b77e5i1fYsuXLbE3UosoYe+ntxbZ+9Uc2cvj9Nn1O9KLKwhUf20ehc3hw8jP20ONT7fZR93mTXaI+rzgl1qLKvCfus0fe+jj8xZkaW/nuDJs46RF77tmpNmnCRFu/86idOLDZhtw2wvbmlJnVFNnT48fYgo27bcuKuXZDnx42bOx4e/aVd+xkRf2/cnn3ufvtvmkL/a/OFimqaOmf2lJ779Xn7YmnnrZHJt1nd0961vKqQu+f3G/tofvvskefmGKPPPSQrfr6oJ0uO2ZTHrwndJ2ftEcfDl37ddu847351P328uIvLDP1Sxs1eIANuOVOe/rpZ+ypxx+yPtcOsi/TVEo5Y6vmTbeRY++xKU9NsYceecL2ZJVYSdYem/rk5ND+T9m4MXfaS/PXW21Nqb0ROuY1PfvYhIcfs3dXfGl2utweHD3Y1u4O/+Lhy+Xv2BjvWE/bhHvvsufeXmbNzaPZt29f6L04ylJTU/0tZsXFxTZp0iRbunSpvyWMogohyROKKoQQQghJpiRyUWVBWr59b94B7wNp/bk4vSDqfq1NYVmFt4zQPyyIvvSJijFjtxyzr3KKo96fkHinK9pZUBVZPmjc1hP+1oaiTVRpb1FFU2Dcsfp/dszfCgDoSiiqAACQhDqiqLJszTpbtXKlLVm6zD5a+qHde88Er6jSd+h4e/uDlbZxwyc2+9WXrI+2DR5l/YZOsHc+XG0L33nDRk+a5k1QeebxyXbNDSP8ospKe23OB7Zk4TwbPWGqLV2+3Ga/9b6tXbvCL6q8Y598stbefPUNm/bqHFv18XpbOPcNu/7me+yVJiaqLFi+xtauWeWd4/Jly+yhhx6xnoNGnv2c4pi2FFWO7Vlvtw4dbd+kHrW8vDz7evU7dvtdU6wqdNsn86fZfY/PtKVzXrBHX5xv4UpKjT0/6Xb7YFPjpX9O28uPjrCp8zf6X5+twUSVM7VWUloWupdU2JN33WHLt2Xbt+tm2eBxT1qpVt45XWunQjtkbFlkNw6/z46XhTaeqbPqmvD0lbeemWDTF33u/X3ta0/bY68u8/5u1Xk2fvid9mV6iRWnb7bBt4yw1OMV3k01FeVWU3vaTlVXWHlFtbet+PAWGzJsrB2rDN312A4bfudYyy7xr+GpYnto7K22bt9JO3Vinw256Tbbmh6eylJTeNjG3nazrd3d/C8lduzY4ZVVDhw44P0yViWVRYsW+bfWo6hCSPKEogohhBBCkimJWFTR9JLx3+REPoz+lw8P2d68kqj7tiVaOsgdW/nb9w54Sws9v+eEpZwsjXofQs5luqqqujO26EipZVVE/2dE0YoqU/bk+7e2jYou7lhasggA0PVQVAEAIAl1RFFFS//Mmjnd+tw8yq67dYz1C93We9AIu/PBF2zl2o9t7Zo1tnLJIht+513Wc2B40sqqdZ/YvDdetXGPPm/LNJFl9mvW98ZwUWX9upX21DMz7MOlH9lrc96zD+a/a0+/+I633RVV1n/ysS1asNDmvvu+vTz9FRt6592hYzddVFm4cp0tmjvL+t/qn+MtUZ5PnNOWosrWFa9br36D7IEHH7AJEybYhPH32RNT51iZJqbWFtnDd15nV15/p6UXuqV5auzZiUNtwaaD/tf13ntuvN37/Pv+V2drvPTPiaMHbMn8t+3pKY/ZjX17ho55wOpKsu25R++34SNH2XOvvGM5RdVWV37CXn3mIRs+YqQ9+fxrlp5b4t0/WFRZ89oUe3TGEu/vVnXC7hs23L7OKLO9a16zkfdPP3vqSV2NfbvjC3sz9D57dMJd1mfQKDsaOq+qYzvsjuGj7WiJPynGL6p8klJoWd98YENHP27hykvYG4+PsRcWfel/1bSdO3faXXfd5WXx4sX+1oYoqhCSPKGoQgghhJBkSqIVVbKKy+3y1fVFEhVI8krLo+7b1ly84rB9Z06q9duQaR8dLmRZH9Llk6jSSmsi38suWrqnPSiqAEDXR1EFAIAk1FFFlddefsF6DBgeOs4Ir4DR+5a7bfo7H9raFUvsuZfftLXr19v0qU/bNTfcaQ+++LatX68pLKtsRSir13xsqz/6wIbePtbGT5ltGzassUcnPmlvLVjm7TfzpRdt8kvz7JNIUUVL/6y2CWPu9x5PH/yrJNPrpnGRosrQW0bZ1aHbrr3xTus/8kFbtHKdLZzzmvUa6M7x3E5TUdpSVEndtMCG3/usN0GlsSM71tpd99xnD913l836aIu/tcamThhqizal+V/XO/zVUut/wx124ETDo9WdqjH1XkqzdnhFFU0uyUvdZGNG3WUfrN5oh9O+tUfH3GrvbdwfvsOZOis4ftTeePp+u/epd8PbQkcozs+xBTMes+ETpntbZrdQVPkqo8zSv3jfhox+wsrDt0SsnfeC3fvQ07Z5217bu2WV3TJkpB1RUSV7u90+bIxlNZqo8sm3BZb/7cc2eOj9lhcexBJSbc/ed7u9uWa3/3XzNFllxYoV/ldno6hCSPKEogohhBBCkimJVFTZfKw4shyPiiRP7jwedb/2Rkv/qBAT7TZCumISlSatuFKJy5Avcv1b22ZdTnnkWBRVAKBroqgCAEASam9RZeB9T9uq9RtsyQcL7fnpr9kLM2bZY48+aXdOeM7Wbtho77050264Y6LNX/6xrf1ood0xary9sXClfbxisY0YdZ/1H3KPPfzCHPvss0/s8QcfsfFT3rLPNq23R+590CbPmG+bPl1nD014yB6b8b59tmG13RW6/yPT5tmnn661SXdNsF43jfLPJ1xUmTF3qW1Yt8peC53HtFdm2bPPvWBDxjxsi1ats9XLPrQXXg6dY2j701OftwHneKpKrEWVOY/ebQ+8scb7e11Zrj06dpi9NHe5Hc7IsM8//siWrPvaqoqzbeLoO23NrmwrzdxuQ28dal8d0mjU0/bKQ8Nsyqwl9tVXX9lJLcfjnKm1ha88ZreOuN8++XKHZRw+bDu/XG+PPfSIbT1cZJXHdtjQW+6wnGqzfR+/ZbeMecQOZ+Xani3rbfig3rZgU6rlpnxlHyxfZ5nZWTb3xQftiTdW2ckje2zBhyvtSFa2LX3zaRs/9R3v4d548l6b9v4m7++rZky2B6d/4P1dRZW7bxtqnx8sDP091yaMuM2mv7vSMjIO24Y1K+zA0Rx75eEx9vTsFZabk2Wr35th/ULXLqMkdD3yU2zozYNt5aav7avt+8xqS23SyEG2Zvfx0PMrsSn33WlPv/aBZRw9ap98+IbdNvw+y4hMm2kfiiqEJE8oqhBCCCEkmZIoRZUZ+/O8coo+fP779w/amiOFUfcjJBmTyL47N/x97dL/s+aXcG7J5ycqI8eiqAIAXRNFFQAAklD7iiqjbMCYR23mW/PszTnv2ttz37M5775vLzw7zSY9+Uro63dt4vhJds3AUTbpmZn29py59vBjU236G/Pspeeft+tuHuEtEXTLPY/bG+/Mtycen2KjJ02z2XPn2t2j7rfbxz9tb7z5pg2+424b9+QMm/3223bH8Hvt7kem2+w5c2zMyPusd+gcwuczynrfdLc99vwse2vOvNAxQucyb769Oet1u33ERJv2+juh7fXn+OrMGXbjLaO95YHOel5xSqxFlY3vv2XvfrzD/8qs5MRhmz3jWZs4cZI998pblpqVb3s+XWKzF33iTUKRL5e/Y28sXO/9PTvla3v8wQn2/GvvWkGlv0SOU1dtOz5fa89OecwmTnrAnnn+Fdu844C39E7lyUP2yksz7KQGrlQX2fxZ0+z+8RNs1oIVtn7ZPNu8L9Mq8o/Y7FdC5zJhgs14Z7EVV522qqJjNv/Nl2zSxAmh6z7PjheHJ7Z8/MHbtuzz8BSW7asX2rsr/SV4aortremv2P7s8BJBBVmp9tq0p2zCAw/Zm/OXhc75tOVn7LJnH3/IJj70hK39dJPNm7vQckt1lnW2KXQu48dPtMXrvjE7U23zXn/Bdhwu8I5VkZ9l7816MXStJtjUl163lMz2rWscRFGFkOQJRRVCCCGEJFO6elFF000GfZYV+eD50lUZllFYFnVfQpI1ieynS9Ij398dUS7JKDvVYccCAHQOiioAACShdhVVFC25M2hkg/S+aVR4KR7/79pPH87r6z43jw7vF5mEMrrBvu7v2i/yd+0Tuu2sv4f2iZyHH/c4wbjjNEjg8c9VYi2qoGuiqEJI8oSiCiGEEEKSKV25qJJystR+trT+Q+yxW45ZaRcp0BDSlZLIrlyXGfkeV85beti/pW1yK+uXE6KoAgBdE0UVAACSULuLKqTNUVFl1PjHrY6iSkKaNvNtu/bG1n/fUFQhJPHSuKgy4rpd1uvCHdb3YkIIIYSQ7pf+l+2wbV8f6nJFlY8OF9pfv3vA+7D5e/MO2LsH86PuRwhJ7KLK4M05kWKJ8sMFaf4tbeeORVEFALomiioAACQhiirnLiosDB4x3nJP5PmvBhKFSibjH33Wm84T7bVtLhRVCEm8BIsqmZmZtnd7oe3+ppQQQgghpNsm/dBRO348t8sUVSZtzY180PwvHx6yncdLou5HCAknkT2882Tk+92lvVR20XF6rM/ytwAAuhKKKgAAJCGKKuc2PQeOsJlvzbe6ujr/FUEiWL3+M29JqWivaUuhqEJI4qVxUaWmpsb/rwEAAED3o+Vps7KyLDf33BdVckvK7Q9rMiIfVvfbkGl5peVR9yWE1CeRTU8pjHzPu2RV1Pq3ts0Va8PLCU3ene9vAQB0JRRVAABIQhRVzn1UXHj6xVm2fdc+O5SRSbpo0o9k2d5vD9pb735g1906NvS6UVQhJFlCUQUAACSTrlJU0dSUf1wUnoLwnTmp9uTO41H3I4ScnUQ2O624QUlF2VlQ5d/aNmW1p21LXqXVnjnjbwEAdCUUVQAASEIUVbpGeg0a4RUYot1Guk40RUWvVbTbYg1FFUISLxRVAABAMukKRZX1mUX21+8e8D6g/tv3DtiKjIKo+xFCoieRrcspP6uoMv9wiX8rAKA7oqgCAEASoqhCSHxDUYWQxAtFFQAAkEzOdVHlzZST3gQVfTj9zx8esr15JVH3I4Q0nUS2MbfirKKKpqwAALoviioAACQhiiqExDcUVQhJvFBUAQAAyeRcFlWe2XU88sH0xSsOW25JedT9CCHNJ5FlVdQ2KKkoFFUAoHujqAIAQBKiqEJIfENRhZDEC0UVAACQTM5VUSVYUum1/qiVxqEYQ0h3TaL7wfyDFFUAIIlQVAEAIAlRVCEkvqGoQkjihaIKAABIJueiqEJJhZCOTaLrsT6LogoAJBGKKgAAJCGKKoTENxRVCEm8UFQBAADJJN5FFUoqhHR8Et3UfQUNiipz00v8WwC0xcnqOhu8Ocd6bsi2tFJ+p4Guh6IKAABJiKIKIfENRRVCEi8UVQAAQDKJZ1GFkgohnZNEl1Jc06CosjG3wr8FQGvp++lHC9Mi309XrM30bwG6DooqAAAkIYoqXSO9Bo2wa24cThIgPdv5vUJRhZDEC0UVAACQTOJVVHltf17kQ7OuVFLReaScLLX1mUX27sF87zyf3HncJm3N9fLQtlxvm8uc1JO25kiht39uSXnUYxIS73QHF608EvlvhD5oB9B6mp7ywwX1JRXlO3NS/VuBroOiCgAASYiiyrmPiguTHp9m6zZ+YVt37iVdNNt27bNNX2615155y3vd+tw86qzXMpZQVCEk8UJRBQAAJJN4FFVU6tAHZfrA7FyWVPbmlXhllHFf59hVa4/YP31wqMGHeW3Jv3x4yEZ+ecw7drTHJCQe6Q72FlV7H7BfsDzDas+c8bcCiFVuZa39dEl65P8//WRx+O8/mH/Q3wPoOiiqAACQhCiqnNv0HDjCnnnpDausrPJfESSC+R+utF6DRkZ9TVsKRRVCEi8UVQAAQDLp7KJKYVlFpBBy4fLDcSup6HE/zSrypqNcve6o/f37ByMf3nVGVMRRCYfCCjkXAYC+G7Mj/z9p6r6CyNcqfwFdDUUVAACSEEWVc5feN42yQcPutczsHP/VQKKoqq62ux94yiudRHttmwtFFUISLxRVAABAMunsosozu457H5R9b94Bb4mdaPt0RDIKy2xBWr6N3XLMK8R8d254gku06Fz+/aN0G/RZlj22PdebsqLlfHR+KrhEO35eabl3u8vmY8XeUkB6PB3LHVt/j3Z/QjozAJLb3PSSyP8fGrjpmLdNBZXg10BXQlEFAIAkRFHl3KXXoBE26v7JVltb578aSCTPvzLbrr2x9d83FFUISbxQVAEAAMmkM4sqmp7ipqlouZ1o+7Q1X+UU20t787yySXNL+GjSyc+Wptuwzdn2ZsrJTpt4klZQZnNST3rLHEW7nZDODIDkVVV3JrLMz49D//+wrPa0t80VNjVdBehqKKoAAJCE2ltU6T1opLd8TeP0vnmU94G8/t7H7et/rdv63Hz2/XrdFNru79MzdFx3vz6h/d0+fW6uP04wvUPbg+eVCOk5aISNHv+490vAzlZdWWmnKMR0qBdenWPX3jg86mvbXCiqEJJ4oagCAACSSWcWVTR1xBVGVOSItk8s0TSTFRkFNmlrrv1hTYb99bsHIsdtHC3xo6V+tOSPSiNNTUghpDsFQPJSEcX9/8DZacXetnU55ZFtW/L4bwS6HooqAAAkofYUVVQOGfPYizbz9bds+ow37MVXZtn0mW/azNfesLvumWR3P/KiTX9lpt1++93W86ZRNnziVHvl1Vk2avR9NuTux+3F0L7TZ75hL7/6ps0IHeOBBx6x4fc9Y9Nffcueffb5/4+9/wiqqm/TtvHJO+hBD7rqewZd9fWgB131df2rB/2+/bzPfd/mnHNWkllAchIUxQwCihkzZsygJJFgzjmiYgDJOedw/te19l6wwY2ACrLlPKrOkr32ymGD/A6uC7Pni7hiD3P7ldi88yC27wzGIms32K/YrC4n25Jld+05AFc3D1V0MbafPTXtiSpv7sXAf9MmBAQEwN8/EEfPRCCzsEL/bieoL4Of+3xsCb2mn0B+BhRVGKb3hKIKIYQQQnoTXSmqiCgig2RS1SSrpNzoPK0jUooILrtf56pVUKQaijbY1jry1+LSasfuToZazaQrWwsxTE8OIb8aESTGxaepyavmH891F0U19fiXk+/V74n/femzfipgd6+57V5dY6N+KiE9B4oqhBBCSC/kR0UVV9/dOHTkBE6HRyIx4QpOnQpVXh+Dq/tKbNpzBlfjo+C61A0TzO3gufkIbl6PwyrPlXBcvRMJ1xIRdvYM9occw6GjJ7DaZy28/A7h6vVExEWHw87ORdmvpXBauxvxVxOReCUKzvaeWB10HNeuxePUiVBl2eM4ePgYPJYt++1ElYh9PljgsgH3Hz/Bw/t3sT/AG/Mc1yCnorP/mahB1Ml9uHzvnf41+RlQVGGY3hOKKoQQQgjpTXSlqCLVTP6fk7rqJ/+/Cx/g+SATp5PzcTmlsCkXPxWq1U8mx6eq82gSirH8v6ffq/P5P8vGtTRWS2EYLaaIDJ7HpJcj9FMJxQYTRq7jtKvpLT6rfZ7m6d8lXY2ca+28X83S/cGjtP35W6hOXll4O0udRkhPg6IKIYQQ0gv5EVFFIoPu4+fYYMX2I7gWFwMPDw+MN7PFRDNHBOw9g/jYCDhZu2DsHFu4+x/C1cRYrFzmDQefHYi/moCANaswdtYSTDCzUdazFMs3HUJcQjwS4mKx3meVsi47+O4LRUJ8PK7EKOuy94TPlmPK62gss3PDmNmyrO1v2fonYt8aLA8K1b8Cago/YsG0Wbj+Llc3obEBJYV5yM7JQ21d8zoa6mqRl52F/KJSaEpLTVVVi9Y/NZVlyMrKREk5/8rGkJycHOTlff2fZ/klT0pKiv6VDooqDNN7QlGFEEIIIb2JrhRVJCKmSEUVbSCto5FqKf+I+AS3+5k48T7/h1oHMczvHlMjq7IOf0alND3vMqjO9iSmidODnBaf3ZJBl1P175KuxLCaiuE5l+o22rXgc0V6KhRVCCGEkF7Ij4oqksmWdli54yiuxsXA09NLrWwyydxJL6pEYs2KdVjk5I0Nu07gakKzqBKXmIDgoM2wdl4JW+cVmG5lj+WbQhAXF4uo2Fgc3LkVUxe44/DZCERFRyHWUFRJiIHf6o2wdlmJJY5emGFkv3p6OiSqbGkWVd7fj4KtwwqklSrzN1Yj8uQ+rFzhBUd7O6zZcgjFMm5aXYiDQevh4OQMt2VeCL/+Ul12/zpXnIh7oX797lE8Vrg6wdXVFV7e63A3KUOdToB79+6pspWhrFJXV4ctW7bg6NGj+ik6KKowTO8JRRVCCCGE9Ca6WlSRPM0uUYWTAdGfmyqsGOb/u/AB4+NSseJhliqlyPzG1sMwjPGYElKBw1BS0fIf5z+yRYmJIRU8tOvXLzoFbg910oqIhqTrMVZNRZ4heZZkmmErIEJ6GhRVCCGEkF5I14oqpxEffwUxMTGIVhJzORbxyjyaqBIbH4/Lly8jWpkeGX4Gi63t4ekXgrjYKBw8eQEXQo/A2nUjwiKicOzIacTGRupFlaOIT4hT1xsTG4uzx0NgOd8OU02sqkp7osrlwxswfqoZlnl5wcPNGXPMrBB28436XmNdNT5/+oTKOnlRinUOSxDxJB0ZTyJhuWQl8muB+qoSZBeUKDM0YPcqexyNewlUZsJ54VyE39b9B7E4LxO5RWXq10SH3Ffu7u6qrCLXJigoCDt27EB9fcuysxRVGKb3hKIKIYQQQnoT3SGqMAzTtTEl1j3PbxpcN7+RgaDXBU2vI9L4OytTQuQUuW5S1SOtog5hqaVN11Kq5pCuoyPVVOR6ENJToahCCCGE9EK6VlTRVVRZ7uYNM2t3+GxT5jFs/ZOYgB3+frCwccdcW3dMtdBVVImPi0LAln0ICw9TZYCwM6cRuOMY4q5EGbT+icFar9XKsh6wsnHDdCP71dPTnqgSeWAtnNbuQUZOLjIzM/HsZiTsbGxx932O+n5tRREe3UrA8eOHYGsxG0cTXqO+KAWrXezhtGwlToTForBS5Ip6VVQ5nvAGua+uYJ6tFwrY6vebiKzi5eWFjRs3YufOnWpVldZQVGGY3hOKKoQQQgjpTVBUYRjTj6nwuaxWrbYhg+hS7UGqP0i0aVIhgpgG0lJGEyK062ZYYUWuNek6WE2FmDoUVQghhJBeSNeLKhFwsnbFuDlL4REQ0lJUuZqAgDU+GDfbWt3+hDl2qqiSmHgZa7z9cORsBC5ficX+3TuxbtsxJMQZiirRWGbvjrFzZNmlJldNRdKh1j9Bza1/lP9eYNtyawSevYua/A/wcXdGYHAIYq9Ew3PxXBzWt/ZpqK3Ai4e34L/SCZ7K+RSC9aJKflIi5lovQx7HWNtFZJXg4OCvKqloUFRhmN4TiiqEEEII6U1QVGEY04+pMPdWZtPguogOGlplCIoqpsOkxHT1molkJNU9BIoq3UNb1VSOfSxpOv+spkJ6OhRVCCGEkF7ITxFVLOywaucxXE+4DC8DUSVw31kkxkXCxdYNE8zt4Bl4GNevXcEqT52oknAtEYf3BcNrjT+81wfC1tETy/1CcO36Ffh4rILf/tO4cTUe61atxppdJ3EtIVoVVVYHHcPVq7HYuXk7vNYqy67zxxI7V0yxsje6fz017Ykql/b6wGXjIZTX1CrXqRIpL65jgYUZEt/k4W1iCOY5b0BpTQMKM5LgvmAODse9QmV+Km4/fIXa+gbcCd8Hp5U71XXt8rbF4djnQF0hltvOw4Hwm6isUtb59gXefMpS5yGdg6IKw/SeUFQhhBBCSG+CogrDmH5MgaTiGvyvI7rKKdLyR+NlUXXT4Lq0LSE9n+TS5mvp9EBXCVowFCXK6oz//pP8OIbts7RqKiKv/NuZZHXa3yNYTYX0fCiqEEIIIb2QnyKqWNphWeB+hIedh6v7MkyxtMdkCyes23YUF86fhoONKyZa2MFl4x6EXwzDMrflsF2+BWfDLuK8krDwS7h0KRKb/XzhsmY3wi6FwdPJC3Y+23Du7GkstnXDii0hCLtwFnZLPeDltx8XwpuXvah8vdrbC5OUbRjbv56a9kSVmxeCYTlvIZxdXODk5AQPr1W4ePUJZO6aojRsXeOJpfYO2LTjEI7u34KLd5NRkf0eWzasgpOjI7zWBuJlaqEydyOOb12DCzfeqOvNSn4M35XL4ODojPUB2/H8U646nXQOiioM03vyO4gqNRWlyMrMQEZGJgqKS9XvJaZBA+7FXcS+AyeRUVytn/Y9NKK0KB/p6enIySvs0cdfWVqEtLR0FJd3fIChtrIUGcqx5Rd1TQ//qvISZZ8yUFrxi+79xnrkZcu9W66f0BYNKMzNRlZ2QYtrXFdTiZycXNQ2NOqndIyakiycOrIXZ6Lv4HfvqF9RVqg8HxmoqP76SBvra5CdkY6MLOUc1n/7HJYX5yNN+ZwsKtP9grw7KCnKQ5qy7+XVHf8r3cqSQvU5Kymr0k/RUVKYh8KS9u6zr2lsbETSg0QEBx/E2/Qi/dSfR1VZsfqMZ2TI5/jXkc+24rLmz4wy5TrkF3XBX83W1yrPYgay84uUT9Wup7GhHkUFecoxKseemYUS5XOxO7bbFdRWlanXsLi85T3XU6GowjCmH1PA+m6WOogugoOIDhq+L5oH3fOq2bvaFPB8nNt0zQyvpXaN//3cB/0U8rOpUn4+/9fTOiHFsL2PVq1Ini/DakWE9FQoqhBCCCG9kJ8hqkimz3PEjPmOmP6NaU2v5ymvlcjXhpHprZeZobxuvS7ta8Oo69QvYyppT1RpVKbX1tagurpaTV19y/kaGxvU6fXKfPLL8Qb94Iv8Qlc3vfnXuA319WhQ5tGQeWqqa1rMQzoHRRWG6T0xZVGlvrIIl44HY8ncORgzehRGjRqNydNnw2OVH649SkI7Y849gFps91qEP/tPwKPUEv20ztFYU4Kz+7ZgzrSJGDp0CBa7bUbnh6G7j8TQQAwYMAC23ttR2iE7oh4ng7wwaMAgeAed0k/7ecjPG7fCdqNvnxE4Hf9aP/XnYfDjSZvUlaXDzXwsZixZjs8FbT9/DQ3F2LhkDmbOWw3tbmlsqMHJbSsxfMQYHI55pJ/aERpRlvYcU0f8iZmOm/EjmlRPR37mvHrSF4OGj8blZ+n6qc001Jdhx0pbDBo2Difinumnfk110RcsXzILQ8fNwc23zX9J25U0KD/THvRzRP8BQ7A2+Lx+6rdpqCrAJo8FyjLDsS/sjm6iciPmfniABdPHYY7NcqSXdU5nk3MYtnsV/ud/D8ClB5/0U9unI/e/PIO3z+7A8EEDlc9w+Rz/OsOGDkVQaJw6f0naSyw1m6T8P8oFH/J/7p1bW5gKR/PhmOu1pUufidryIiREhGK5u/Lz88RxGDpkMIYMG4GZFguwISgYrz5l6+c0DeQafrwXjuHDBiPowl391J4NRRWGMf30dGRwXWtVIi1jNOqUb47/GfZRnf5nVIp+KunpaJU7+kU3XzO5lppAsfA2qzl3FcFvi9RzLNHa+0glIm2a3T3T+rnpR5D2UtOupuOfj79Tq8jIPUhMB4oqhBBCSC/kZ4kqTOfTnqhCejYUVRim98RkRZXGShz0c0X/AcOwdtthvExKxof3SbgUuh/TRw/GHPsNKO/x34JqEbxqKQYNn4Enad8nqiSe3IIBfQbAZ+sRvHn/AemZ+T36L/LjT/hjwID+GDhkDM7eeKuf2jbZSTcxfcwQ9O8/EF6bT+qn/jxkgPXG+Z344x9DEHrllX7qjyPrjTkUBL9dZ9u9HiKquJiNRV/lGF03HkRbQy8iqqxbMBNTLX2aRJWG+lJsdLbE//mff2Dlvkv6qR2hEWXpLzBn/CBYum//7UWVhBMb0G/wcEQ//VpUEZsi641yn40aiMlzXZFe8vVfNss6Yo/6o++ffbBq1zn91K5HRJUDG+3Qp19/DB8/B/c/SjXBtpH77ln8CYwc3F/5bByKPedv66c34uP9Sxje7x8YPMEczzI6N8Anx39p33pV6Ip+3JHS6o0oyXiNFY7uymfbt1sayLpvngrCgL59sXJbKFK/pCI5OblF3r9/j5xCGZhQrtWrRIwb3AcDR0zF3Y8/t7qLiCp2swfDwiOgi56JRhSmJ2GV4zz0++svjBg7FctWrkNQ0FZsCQyAi91CDB3QD0PGTMOFm0n6ZXo+ct99uHsBgwf1R+A5vRzVw6GowjCmn55O6KfmljARac1VAc+mlDZNZ9sf0+BpQVXTNQt6XaCf2lKguJnDih5dgYgY/3FeJ3bJv/L6YX4V/umYrg2TSF+9peWSfI6IoKLdcxJpf9QRZD5Wb/r1UFQhhBBCeiEUVX5dRFhY4LACBYX8j7epIb+4XeW7XZWNjF3bb4WiCsOYXkxVVEl9EoNR/f+A++aTX7UtyfzwAk+TUvWvejI/KKrUFsDLagImzfWAqfxuNP7EJgwcOBBDBw/CbNvVyP/W7dZYgd0+S9FvwCAMGTTYpESVhoYKbHS0wJLlu9ptxaSJKgMGDUK/QcMRHHZT/05LjIkqMvCdn5qEixejkF3cmZYbFFUMkXnC9qzFX3/0xaaQGP1UjUYUpz6H1cQhGGtmhw/fqHrzsxFRZf8GO/UZkKpCzr6HvtmmqaE8E14Lp2Hg4KEYPHAogvWiitBYV4X7idG4/uCVckSdo9OiiogxDy5i+KBxuJWcr59oHE1U6denLwKPX9NPbRupIvTk5hXE336On/3r9q4WVaqU9XsumoE/+g7AMt+9SM1uKdrU19Xg7cNELHf3wK03pvOX2RRVGIb5FenpmN/IUAeSpaqKVvVABou1yhzyr1RdIV2PtOoRwURaLklFjs5WofB5mtckBqRV6H4Sk2tprB0N+bnI9dLO/f73RciqrGt6huTZSio2kT+y+UHiMsvVFkfauZD8LfS9/t1vI+dI5pXlpRqLiD7k10BRhRBCCOmFUFT5tZlssRSnw6P1V4OYCvcfP8fMBU5Gr2l7oajCMKYXUxVVrp3eij/+72CcvtY5uUAG1OpbtYxrCxkkrq9vMDqoK4Or0p5OQ1uvVC74mkb1va/X9bWo8u31tKS+7AsWTx6F+fZbvzmoKutSj7mtlnjq+wb71t78LdDm7dhfssUf88Pg0ROxbq03BvcfhH2XHujf+ZpP9yMxZshAOK1YA8uJI+AR2Iaoot9fw+thiFxHw2MxPMfy9bdEFVm2rq7u63ugnXPUUJEDd6sxsF9zoH1RpTQdzrNHYdZcW8w3m6ycnxmIe/a1aGVcVOkA2j3fYl+NiyrSTlHuhfbozH3aHt98zmQ7ra5r65aPxjC85zsiqsj5qMj7BCeL8Rgy3hwPPjdXLmloqEGInwv+6jcMIdFft1dq7/lqet/IPqufI+p51E9ohSqqrLPByGnmWOPpiIFDxyH2aZr+3ZbIubp9fjcGDRgC7zVrMHHYYOwyEFXa41vHYVRU+cY9IPvyKGIXhgybiLufmv/y2BiaqNK/T1/4H7uqn9p55L4w3Bf5TOrIvWw4X2dFFe05aOvaGyLX8vzOlfjrj7/g5n8Eld+ybFqtTnds+hcKss9tfebqjsf4ddGeb2N7q1unsXd098XXn6/SmlWOXVmfch4oqjAM093p6Whtf2Zdz9BPgdoCSBtklsoqpGsRqWHurcymc67F+m7nZNBBl1PV5QyFFO8nuU3ru5pVoZ9KfjbS3kbOsUhBUjlFuxYiXcSk9+SGtz8PkaO0zxPDiAzXEaQikOHyIq2wusqvgaIKIYQQ0guhqPJrM9XKHjPnO+H4mYvIyMpBaVk500NTVl6BvPxCXLl6C3OXemKypZ3Ra9peKKowjOnFVEWVhxEH0P8ffeB/7Ip+yrepry7D9ajT8HKxhdmcOVhi74YTFxNQWtXylzSNDbV48+gGtvmtxkIrS8yxsIKP/24kpebo59Dx8OIRLLT1REpBNVKf38LqZY4wNzPDxgPhzYOAjfVIenwDAWuXw8rCDOaWVli5MQh3n7+HrkJxnSqqDB4xCw/fpyEh/CicbRdhjrIedx8/3H3Zdt/6tw9u4dSRPZg5bgSmmTng5LnzOHP6FOKuP2uqMlBXWYzECOWYne2UfZuDeYtssevQGXzKavlX/BkvE7FowWLcepuFksy3CFq/HJbK/rr67EBxrX6mVtRXleBmzDms9nKGhfkcWM5fgl1Hw5Fb+u37J/6YL/qPnISrj57D3XIcxpo54UuxkRoRdWXwd7HEkMnz8eDxQyyeOOQrUaW2sgTXY8KUfXCBhXJ8VvMXY+eR88grb94HGQQP27sKjt7bUFpXj8cJF+BivwQWlvNxLEokmUbjokpjI94/uIIlcy0QcDCsqYpFQ20lHiREYKWHo7rN+dYOOHgmqum4ZcD21d1EHA/Zg9njhmHOInecuRCuXJszuH7fuFQloorjjBFY6hOMZ3ciMHZwX0yZ74rPrcrNGBNVZDD6TuQBzLZYhLinX/RTddQp1+ha5Bl4Otuq13/+Ihts338SHzJ0FS7K01+qosrcZTuRmZaM/UHrMc/SHJZzFyJo30lkFn89CFRVkofI0INwsl2IOXPMYO++ChFXH6K6fR+gBQ31tXj94Bq2+q7CfGWbZspztjogGG+/5Onn0B3bx/vhWLTYDs/T8pHy4hY2eLuqx7JoqQtORV1HRavfsTYqz9zbh1exVrkv5TlfYOOA45eu49Khdeg/5Fuiiu7aPYs9iiF9/4TjxoO6a67sw5ensRg/pA/mugei1OB5UM9vxKnm87vYFjsOhuJzVnM1QfV+uH4W5lbzEfGw5V/byr15+Xgg5ix2xsuM5pYAhuhEFWsMn7kEjx7fg9nYAZjnvhnlRn63XJn3CfazR2PKYm88vX0FEwb1ayGq1BWnwcdtMZzX7UOFgY9QV12Cq8pxuDnYKOfMDPOX2GHHviMIDw/H2TOnEXXllirZRKqiykhE33+Lx1cvYpmjtXqO7d1XIu7ea72Q1YiyvFREXjiDjZ42GDJ0DAL3HEHY+XM4ez4C2SVf6x+dFVXqK/KxecUiWK/aCu2PaOsqsrFB2f+dZ2+gujgLx4IDsHi+pXLe58F3+yHlM+/rCo8VhVk4f2QXlsy3Uu4/S3it34q79+7AwWxoO6JKI0rz0hF2Yj/c7HTnYJGdK87H3kV1m38Z34jy7DdYMHk4hk+a1+b1NkZNUSp8XBZgr3ItG2pKcOZAEBYqxzbf1gMvvmjH1YjCzI84tncLliyaqzyb5nBwW4ELsbeavsfJvRS2fz0sFjrhWWrLFlJ15bnY5LkUq7adaFmxR7nu6a+uK5+Dljh++XHTtMz3T7HDzweWyme/1YIl2BFyHrdiTmLYkIEUVRiG6bb0ZKSCgTYovCNJ95lr2CZG5AlTQCovyH6bIjK4L21htHMuVThEchDBQdrGdLRdjFS90drMOD3Q/X9QBBht2rh44wIx+XFeFlU3Xb+AVwWwu5fd4nVvYVjsl6bj/q/wT01fS5WVjiL3u9y3Ish5Ps5Vpbne0jKpJ0FRhRBCCOmFUFT59RFZZZJy/s0Wu6oCBNNzY2HtroomEmPXsiOhqMIwphdTFVWKPj3A7DGDMHTcDBy7dB0llW3vd0NFPrZ522HI8DFYE7gbYeHhOLgzABNHDYXz+v0oaxqZa8Slfb4YPGAA5jusQOjZCzh94hCspo7G+FnWeJ3ZPLh47Ugg+g+YjNAzobCYMg4zzSxhNmsGfA+G6+doQNzJHRg5eBAsbNxw4vR5XDh7CqtcFmPstAV4mS7rqkfwKjsMHjoG8+fPh63rSpw8ex6njx3A3OljMHjcHNx+a/wv/m6dV+Yxm4VRI4ZhxOixMDO3wJzZs+Dtexwyll5fmoFNyxZh8LAxWB24CxfCwnD84C6YT1GOZeYi3H3b/BdYn++HY9DAvth9/CxcF8zEpOlzYGk+Gw7eO2Ds7wMbK/Ph5zYP/QcPx/L1W3Eh/KJyPv0weuhA2KzcYXQQXUNElX7Dx+He51I8vxyCgX36IPBYvP7dZl5dO4Vh/fti45E4VBV8xLxxg1qKKtUF2OQ8FwOGjITn+iDdNd2xCWOG9ceSldubhAIZBD+4bh5GTVuIMyf3Y+KYUergtZm5JY7EPpM5vhZVGhuR9uI65owbitl2a5BeortBGmtKcch/OYYOGaEe9/kL4Th+YDtmjB+JBe7+yK3UVWi5sHsNpk+bgpFDh2HMuEmwsFTujTlz4Bt8Xl1PazRRZfHynepg/8V969Hvrz/hsLalUGBcVGnAlSMb8H/+HIyzt5L1U4Ha8lwErVyK/gOHYNnaLTgfFo5Tyn212GwK5ntsUa9rZcZLmE8ehrFT52DevLlY478DYcp8uwJWY4RyPyz0DESRwWNVlvMRy23NMXzsNGzZE4Lw8DDs2LRSPc6NBy99syWNIY0N9QjfuwGD+w/AQkdvnDoXpu6b5dRRmDDHFm+ydXedHNvrhMPKfH1h7+KORYttsPPAMYSfPwMf18Xo328w/I9dVucV5FpfPxuMUYMHwtxaeebOXMC5Uyew3GUpJo1XnqcRY78pqggNdaXY4rkQfQePQ+TDz8o6y+HnbK7cs1Nx9XW2fi6gSnm+/D2XYNDQ0VgdoHymKOft2MGdMJ86FuNmLMLtJN1zK8dw/1Iw/m+fAThyNUmdpiHiQGiQK/5n6CTc/2y8Ro4mqgxT7t+0knpE7l2Nvv2H4cy1N/o5dMixxxzZhL79huDE9SRkv07EWOW8GYoqNfkfMH/aYExevBbar7Ub6spx0M8NAwePhI9yHCKnyHM0dvhA9Ok7ABMmTYX7ml2qtBG1bwMG9B2MefMXYOFSV4ScPIPzp47DYd409B82Hudv6PYp9/09LJ07ExPHjsPQocMxfZbyeSIC1DwHPE//+q/HNVGlo61/6suy4GI+BMPnLkO+3iapK/2CpeNHYbLZEjjaLcbydco9rzyfB3f4KZ8JAzHLxhuZ5dod2oiK3A/wtp6Ngcrn44at+5TrF4b9OwNhNXuG8pk6CPM82xBVlM+GwpSnWDJ9nPocbA4+jPCwCwhY7YLBAwdj87FY/YwtkfvgzY1QDO77F2xXB7dbZamZRlTlJWPB5P5wXrsDOze4Ycz4KZg31wrmi13wRv0L7kakPr+G+VPHYNz0udh7OFTZp/PY7ueNkcOGwNZ7K/IqlC0q+/A46gD6/uMf2HrGoNKOyCjPYjFmwB8YPmUB3hsIcnL/Xdy1En8OHIsbb2VAqBHv70Vh5tjByvfE+dh/7JTyPJ6F/+plmD5lgvI8DKOowjBMt6UnE/qppGkwWaoZyIC7JjbIQHNPHyCWShVSPUT2VwQPU0MG5DVJRcQUkW20dj+j4nSD/p/L2rDxWyGyjswvkTY0glalRdbdW1rP/Aqk8o2cZ3l2REzRrsP3iF5uD3M6XIGkJyHtjrTjlrY9f0alqF/Lc9nZFlaGyH278LbptJn8XaCoQgghhPRCKKowTPeGogrDmF5MVVSRAbO4E9swclA/dUB1ltViBO05gievP6C21e9+rxwNQP8BIxCa8Fw/Rceb62cwYsgwHI9/qZ8CPEu8gAOnoqFvP67y4d4ljBrQDxsONrezu35sK4b0HYyJ0+fg+OX7yjYbUVdTjaoq3fn78jwOE4f0xSLPQBRUNf8SqaGmAp8/f0GdOkla/9ijb/8hCAiJaFGV4vPDaIwd9BdcNp9sc1CzrjgFS6aMxuwlPiiU37U2SgsG3bbCd69Cv4EjcCRG/1fwenI/3IfF+KGYZbsa2njk5wcXMWrYQIwbPwVbDl1EaXW9WvGiorKN/tWNVbhwJBhRt5vPm3Bp3xr0GTgK0Y+/blujoYkqt5OLlAMoxBrbmRg2aT5eZRoMYFflYZXNDIycboOPRfWozXuLua1FFXUf9iDq1kvlTtBPUo4/cv869B84HJGPdNVoZBD8sO8SDBw0GLOV71NXnySr89dWV6K6RtpjfN36J//TEyyZNgbTFnrhU55uIETO6/2oAxiiXKtd526o01SU6alP4zFl1BAEndIG2RtRmvESlsMHw2HtflXgkP1oq11Nk6jitUOVjBoq8+HvOh9/9huE3QbbaktUiVPO6R/9huP87Q9N0y4f2YR+fQdi64mWElBFcR5SM3RVS8rTX8B88lCMmGyFhKef1GmCiCSnt65Q7svhTVVAGhuqcdjPCQNHTMPVl82yh1QwuXZqG4YMG4eElx375a/s31PlOTuoPGda+xM5v+9vhyvPWX9sPBSjn9aAN1ePYOjAP2HpsBop+c3aVENZFpYvnI6R06zxSa3I04i85HuYMXoArJzXI18G5vU01JYi2Gcp+g8d2a6oomwUma+vYdrIAWoFlduxoRjarw9W7Dirn0GZRbmWF/asRj/l/BwxbAWkLJv38SEsJwzBTBsf5MrjoxzDw8h9+GvAEBy99lY3nx6RAE5vc8cfI6e2K6oMnbYQ0iGgJvctFk0bgRlLViKv6aO6EWWZr7Fg6gjMsV8PeZIynl/5SlSpLfiIxTOHY5rNBp2oIsf6Mh5jhvTH2r2X1HkEOe/Xz+3C4MHDcfbmO9005ZjV1j9/9YOH3wEU1zQ9dShMeaJ8pgyCuWsAtGFDmf/8lpXKczcRt9/r7je1RYz6VUtkXhFVBvTpC7cNe3HvwX3cunWrKTdu3ML7lOaKViKquFuNwOgFyw1ElTQ4Th2LoWOnIfxWc+UiuZevHPNXrtVgHInVff7LOT211VP5rBqOE1eeqNMEuQc/P4nHjJH9MXdZWxVVGlFTnI79u3biycdmcam+tgibnKwwfPICfCj4euBL9uN6aIBy/vrCb7/u/u4YjajO+wCb2UMxfNQ4OK7citT8UvUaVSrfu+Uury3NwLL5kzF6+mK81LeQE+S8Xj+3GwP79YNviE7oKs14AbOxg7HEe5f6WSPI+YhQru3YsVMxfsI4nExslqDqlc9i70VTMGXRSpQoG6svSYOr5TiMmmGNV2kGlYOUdcQc9kf/fmz9wzBM96Uns+55vjqYLCKDVOTQqiDIgLuIKz2VIuVnY8NWObL/nana0BNoLam0brGkHZ8ca0cwFCRkGbl+sl553dkWQr8zIvHIuf9ZiMz1z8ffqedZnh9N9BJRQ56pzqK13TIl5HxqLXvk34i0MvVriYg3P4pW7ckYUpEo6HWB2rpMpLV/P/dB/VcqCMkzkdxOFVViHIoqhBBCSC+EogrDdG8oqjCM6cV0RRWFxjq8upuAjSvdMHncKPT58w8MGDwc9sv98C5DN2DXUJoO+9mjYObsh8rWv9OqK8by+ROwaPmeb1aDqMn7gMVT+sPSayu0s3P92DYM+OMvrNoVpp9iSCNOBDrjj4FjEPO0bWlDJ6rYYdDw6XiS3nKgurEkBUtmjcaMhetQ3IapUl+aCmsRVaxXo9jgd621hR+xcNIwzLJZjSIjfyx4ftcKVWyIuK+TE0RUGTGoL+a7BaKsLSumA7y/F4bBfw3A9lADkaMVTaLKe1255nd3zmN4/z5YvuNc0yD2w0sHMKBPP+w4e1N9XZmd9LWoYozGRqTcu4Chg/pgU+h13aSGBhzxXaIc7zAcvdw8KK0hA76aqHImPgk1hR/gOncSJsyxx6umthrKfVRbjDXWUzFhrgdyW42NNDRUYYvbXEyzWauvgNKI8qzXOlFl3YF2qye0FlVk+aK0F1g8YyQGjpqOuGc66aajokp9eSZczMdgrIUTMtq8oI0oS3+htv6xdN/edF+rKOfx3fVTGDLgT/if1l2D4tSnmDWqP5z9j6uvDaku+oj5E4fBe0+kfsr30IiqnPdYOLk/5i7fppN7lGN7nXgEgwf8hU2ndPuhIYPrZ4KWod/QMbj2Nl+ZWSSltfirzzCcvdlSCJF74OqJDeinfDa0K6oo6Cq+rMXgIcMwbfJETJhth2SDKhPVBR9hPXUoptmuQuuuVbKtCztXqftx4a5cj8afJqp8LhIRrQEJoZvRt88A7L14X51Htnlux0r0HTAKF/XbzHh2BWMHtCeqNOBZzD4MHNgfF+59VOdRUa5/TvItTBw0GDvCH+omKdtQRZU+IxD9uGULowblc3SdoxlGTLTFlzLdB5F6HoJWYdCgibjz4dul2WVeEVUG9euLUaPHYuLEiS0yZvR4bD/a3BKoLVHFYdJozLRdhiLDcSflWNJexGNsv/5Yrf+srsp7h/mTRNZb23JehbrCVOX7xWCYf7P1z9fIPXP5gA/6Dh6B2BdfD1rJ+7EH16PPH/2w+VCifmpH0IsqM4dg+NTFSMpslrUEuR+Srp3C4H594Hv462oudSVpcLEYjzFz7JBWplyr+koELZuHYZMX4mOB7p6ur8qH17ypWLXzBDY6WcJufYg6Xb0P3in3wbAB2BiiW/fra6EY9Jfy+XqkZcs92Y9P8vk/iKIKwzDdl56MJkP8x3nlZ/LbuqoQkp7cRkcGwaVKg7avMigt1URMCZEbtEowxiQVQdqoyHsdRWs3I9KEoLVhEXHgZ4oZpszVrAr1nMj9/rMqzBi2ytLyr6eTv/ucH/uoq3JkShhKYyHJxWpFGPla7t+uEkVExNKknvYiFV46WpmI6KCoQgghhPRCKKowTPeGogrDmF5MWlTRaGxAYXYaEqPPwnmRmSqsWDhsUKuMFH64g+nDBmG61RL4bvKHr69vUzb5bsCsCYMxc5EPSoz8YVZlWTHSvqThzcNEzJ00AFOdNqFSP+6viip/9cWp6691EwypK4TPgmkYMW0Bkgu+9cs0EVWWYtDwGXhi8JfwKlXZcDWfhOlz13w1mKrRlqiS9fIKRg/+E64Bp/VTWvI8/gQG/uNPbAnVDZiKqDJ0YD+s29eZv/TXIRU1igtylXsnFYkX9mPoX/3gp6+IYYzWogoaK7DNayEGjpqB+x8KpcwHHM3GYYKVGzL1kkW7oopy/WUfUlO/4FrYAQwZ2B9r9VULZBD8yMbF+HPENNwzIgPIAKuIKn36DISN0zIsnTcTw8eb4+GHfP0cQiMqc97AYvxwTJhmhY2t7iM/v42YN30sRk9yRLY6uv2joorsVyPe3AjD2KF9McnKBZ9yq5VjKe2QqFL4+QEmDx2ApT7NVRO+pqWo0mJQXtl2yqMIDB3UD7564Sfp5jkM7dcfVtbO8Pdvefwb163ChKH9Ybv8gLLWzlNRqjxnyrV7dT8eVspzNs3FX90fObYmUeV0S/lJrmvUAW/0HToaiW9yldc12Opuhn7jzPEiveVf/sq8CZ0QVYSq/M9wNB+Lv/oNxf5LOiFERTk3Wa8SMUq5xzw2HdVPbEb2+eWV4xjS9w9sPC7P188VVYTq4jS4WU7AWDMHpCkfXEXK9Z45agAWrdgBdThJ2ceOiSqNSHsao1alMpQc5BjuRx5QK6qEPdAq6nxDVBH5wWMhRoy1Rkrp94sq/fv0xcZDsahXPlPk+5JhqmuaP0e/KarYLEOR4Ueucoy57+9iav8BWLVT13or7WksRg/8A+7bvm7FVVuYCrvZg2HRQVGlsb4auTmZSP38CUc2u+KvwSNx7n7L8yPIMd45vxX9+vTB2mCtPVxH0Ikq1jMGYIp8/2n1gMn9EblPubf7DMJ5VVJqSUN9HQ6sWYQ/h03VfeYq1/bOhV0YMGAozt7SSU2Zyv08ccx4XH2TgxuhARg9bTG+lOn2+erJzRgwZJzyXq66bNR+b/yj/0hcutfyGOWe+XD3AkUVhmG6NT2ZftG69hxaRQiJVCboiRirouLzNO+H2or8CmR/tbY+kraqRYhoItUhOopUkJD1iQAjLZG09UvVHKJDzr2IJSKSyP0jUsWPolUh0iIVVX5EnBKxQ+QiU0H2V86lHLvceyKQaOdCnteuQCqlaNvUIvKRCCmyTfkMa31d5JyamtD2K6GoQgghhPRC5BdNFFUYpvtCUYVhTC/yvdLkRRUDqou+YIX1bPQbNAoxzzOR//YaJgwZjFmW1ljpswre3t4tstJ7JXYfvtQ0KNlQV4XHN2Lgs8wJcy3NMGniBIwePVKVH2a4GBFVrhkRVfSSyUQzJ2R+VcbFkPZElYnfJap8eRSBUQP/gWV7jVe4SL4ZjuF//ANrDuje10QVTe7oCDVleYg+EwLnpUtgNnsGJowfi5EjR2BAv4HYFNIJUUUh40U8Jg7pB9eAo4g/swv9+w5CSHRz9ZO2RJXq0nzEnFX2wW4J5sySfRiHUco+DBo0pA1R5etfmsoAq4gqffsOxAIbJ9jOn40hI6fg0h3dX03qaERp6mNMHjsMk2bNx8pVRu6jlSuxeddJlKmD5D8uqggiAUXs34D+f/0Fx3X7UFlbjg0L2xdVct5cw/DBA+DpG6q+Nk47ospDvahySieqPL1yBP0GDMS8JY5YtWrlV8e/Sjknx8JaVj35FvKcPboejVUeDrAwn43J6nM2CkOU/Z7l1nFRpd/Q0bj6Jk95XYEAh9kYNnUu3ue11HNk3s6KKg0NNdixwgx9+k/GtZcGFTKUc5P6OFrZp/7w2fJ1NSURjD7cOYNhA/6Ad3CETPnpooqclyfRIRjUtx+2HL+Mk0Ge6D9kPBK1/VT2oUOiikJDXRkO+rph+OhJCNx3EjeuX8e5o8GYMnoYbFZs1d/PyiqVc9i2qFKBII8FGDHW5odFFf9jzZVT2qLzosqdFqLK5weRGNXvH1h7qLmVm0bHRJVGFGR+wpFdAbBeOA8zpk3DuLFjMWLEcPQfMda4qKJcs48PLmFE/79g6erf1CKpfTRRZSCmOH1dFUzuj3M7V6Jfv1GIfZamn9qMvH9iizP+7D8e8c90937+pweYNmIAvNUKM42IDVmPiRauKFAuXV6S8v1y1Bi15Ze0+/J3McfE+Z6Q4itqpaFdrvjHkLG4/LK57ZEgx0dRhWGY7k5PxrAyiUQGmqXaR2fJq65XW6pItZPvWb49ZN2G+yotc+62Lh1oImjVJiQy4N4W0sqoMyKFNjAvVSa0r+WcfU/7md8duV+lJY0IPT+C3IPatZSIPGGsOk5n6Yyg9KsROUQ7fqlYo1XykXPRFdVU5Lpp2xMpyOlBTpvVcaQtkPeT3KZ2TPK5YWpi26+CogohhBDSC6GowjDdG4oqDGN6+d1EFeFKiD/69RuAU7c+oPzLI0wZ1A9e2781aK+nvgJHAj0xbNhILFu3GRdjEvH+Uzq+vLmP+VP0f9HeEVFFragyHcOmzsO7VoPmLekaUSXndTzGDPkLLpuMH/PTK0cx4B9/Ydvpa+rrzooqlXkfsMLGDKPGz8Tm3YeQeOsB0jKzcT/mmK6iSidFFTkPRza5Yujw0Zg0fjRm2frAoNOKUVGlKvcTllvPwaiJyj7sOoCrtx/iS0Y2Hl5W9sHgWGQQvCOiSlPrn+JPcLAYixFT5uNZSnN59qrct7AYMxTWK3ajjcthwM8RVYT6ykIEeizAH30GY+epi9i4xAzTLFd9U1Qp+HQPk4b2h83KHS1b+rSgc6LKu9sXMPiv/th1ruMySls01JbhsL+H8pyNguf6LYiKu4bkT2lIeXUX8yd3rqJKs6hSjS0uszFgggVeZrb8qz6ZN/E7RJXtelHlaitRJfv1VYwZ2B9ufiHKWWyJ7POzy0cxuM8f8AuV56sRDyL26kSV64byk04i+B5RRWioLsBauzkYPno8xowcBqeNh5rvy06IKjJv5qvrmD9jMswszDFl0iTMsVqM4CNhyC1rvivkHP4uooqIRqMH/APLdn9d2UREFWn905aoIiJSytN4WCqfu1MtrXHg2Fncf/oKWdk5OL3DE38OGmFUVBHqir6oVXoGjJiCK8+/lkqM821RReSRmAPKZ2qfgThz6+u/Em6or8U+nwX4c/g03E3WXYf6uiKst5+FSQtWoLiiGD6LZ8J710Xde9X58Jw/GZ7bw1CVl4TZowbDZ68IV7p78dKeZfjHgFGIfPBFnaYh9/1Htv5hGKab01MRgUEb8JVIlQkZ2O0sIltoA8ESqc7ys1oHifRi2JJIBr9loNpU5Yug1wVNxyID7D8TrSqOodDzMyqGdDUidsg1tr6bhZs5piUfGUpHkv3vf859//cI4z+jdQR5NkSg6Y7qIYbVUwZdTkXoJ13bIolc05+N4fpFOnlZZOyn4K8R6UurwPI9n01yLqVikfaMSfUWU3i2fgSKKoQQQkgvhKIKw3RvKKowjOnFVEWV0sIcFJRU6F+15MzW5eg/aCyuJeUBNblwsRyLyQuXI6+d37lkvozDiIF9sf5Qy0oktQUfYD29E6IKGhG6xQ1/9B+Fi/c/6qcZo2tElbqSVNhMH4npC1fA2O/STm/zwJ8DRuHyE91gY2dFlYQjm9S/4I952PKXfR8eRGCYck46L6oARalPYD5uMP4YMBLnb7WsPGFMVIk/5o8/+49G5INP+ikKjY1IfXgJw5Rr+D2iSuiVV+q0lGfxmDpyIMydN0D7o9KGuhJssJuBkTOW4LP0lPomzaKK4w+KKrKukozXsJk5FoNHjcGk0aMwe/6ab4oqDeVZcLMah9Gz7ZDSYtTekM6JKqVpz2E+ZgAWeRvbx06grDv9Waz6nG0MMaxoIQPy77Fk2gBMde6sqJKrzhu61R1/9huN6Ecp+rl0yLyXD6/9OaKKQm3RF9jNGolJi7xaCFWCDH6fVj5//uo3EpHq89GIJ9EH0KffIByIbK4SJOhEFeVzYuS0TosqIky8v3MRIwf8gUHjZuPhJ4Py9sp7Ha6oUpkPH5tZcA/QPVtyrowNUcn07xNVJuFuDxNVStOeYsaYgZjrsrlVZRPlHsz/qHzWty2qqG2OPOdj6NSFSDb4i3MRRuIO++DPgcPbFFXkOK+d2Y4Bff7ELBsvfMg1/v2rsaEOWRnpqKiVK9GOqKLc9+9vn8fQfn2wdp9OKDGktjgVjnPGYrylMzL1F1329dqJAAwcOQXhMZGYPXEiYl/oKqTI/Raxfw2mzndDbPgRDB0yGlde6MrLy/4/iNyPvn/0xY5Wwprsx9sbZzBoIEUVhmG6Lz0Vw2oQMgDb2YHtz2W16uC0to7W+dGBXJEWpLKEtj5TrqIiSHUJTeiRqhM/s7JDa+lIIm2dejIiIWntirR0VRWOriCrsq5FyyyRkH4W8lx1FpHMpO2NoTQm6+mo1CVVZqQikjy3UhlFWm21h1Y9RSIyyN9C36tfy7+yvp+JHIf2eSBSnZz/ziAilCwrnyMdRTun2jG2jlRr+V2hqEIIIYT0QiiqMEz3hqIKw5heTFJUaSjHlmULYW63EklpLX95lfX2NszGDYaZ40YU6Q/lamgQ+v01ANtPxkMd+9PTWFuBhzcS8SZV98uQlIcXMah/P2wJ1Q3OqzTW4fqFvRgzpC+md7T1j0LGq2uYNLQvLBzXIau0eWi/oaYUTx49QH65/BKorktEFSHm0Ab07TcYwedbDiimvbyGmaMGwtzJF8X630N1VlSJ2O2D/gPH49qb5gH8uopC7Pd1U85zv063/tHRiNuRJ7Dz8AWop8YAY6JK+J7V+FPZh6uvmnt0yz4c2OSBfn37/5CoItNuXtiNIf36wGfXObVShYgBj2OPYHC/fli9+xxqDO+j+ho8v3cDT95qVQb0osqwgVi0Yqu+qkkj6tv4xfm3RRUFZbm3t8Mxflh/DBgwAGYL1n5TVJFpCSc3K9eiLzbuv9SiAkxZXjoePX2pbqci42WHRZXGhloc3+yOPgNG4XTiC3WaRm15IW4kxCM1r0x9XZDyDKs9XHAo/OvqK3IepfLCoAH9EXSqWT6R9V89twejB/fFDNfOiyrKFCTfDsPwfn/CYf3+pudUjiX15S0smjEOA4aP/SmiirrtED/07TMIu88Z7JeyrYzXNzBzdH+YO27Qff4o07JeX8OEQX/BzmcPtKEqOQ/Jj+Ixb9oo9Bs3u9OiiiCfXxePBePIpRvK0Rsg+9FBUaWm6Asc5ozFuGkW2LxrP8IuRSEuPgH3Hz1FWlY+tC4DcsydFVXCtq5Ef+V+iXuRoU6TYzH2BMi83SmqNNSXY7OrFfoNm4zYJ82DTVLp5/SONRimnLd5nsZFlfr6Uqx3mo0Rsx2RXtJ0k6EwPQme1jPx15DRbYoqQkNloXJf2eCvP/7AjHkOiLiqfC8oLkO18n23urICaZ+ScDx4E8aOGo0jsU/VZb4lqgj1FTlYtWQGhk20woPk5l/si/By+ZjyOaCc1y2hBudVOSc5STcxeeRIWFqZY8YiLxRoByv3zvNYTBo9Hgvnm2HKXDfkNJ2IRhSnPoWZcn9PW+yNtBLt06oRJdnJWLXUXHleBmEzRRWGYbopPRFplSGDvdqAa2fblYhEYri8schg9fe0ARKBw/NxblMFBIndvWyTraIiyDGJOKKdl84OsreHSEPauZKIrNBWO5SOIMvKAL0mYsg+z7qeoVbQ+FkYSg6ybqnAIddcrv23kPvg2McStSKN7KNU9Onue0OunwgP2v77vsjXv/NzkHY6nUGeX0NpRs6jJo18q72UIMv+GaW7Nw0j65A2Um3dR1LNRJtX5jNsAfQz2h+1xrCayvdIcCLOaBJPR+5jqY5jeE4lIv7IcWqfTfKvPHu/IxRVCCGEkF4IRRWG6d5QVGEY04spiiqN1cU4sm01Rg0ZiGFjJsPHdwsOHDiAoE2rMXnMcEyf74Lnnw1+eVRTgoObPDF40GBYu6zA3v0HsHf3DjguMsfQ4WNxKOqhOpsIA+7zp2LwqCnwC9qFA3uD4WG/BM4rVsPefComLF3XNAB+9cgW/Pk//8DJqzq5wRiJZ4IxeuhATLeywc7gfdi3Zxecllhgwoy5uP9BfvFWj50rrNF30GQ8/tJqoLoyC46zxmKy+apviCopWDBhGKYt9P5qnoaqfOxa64jBQ4bD2Xs99innZ3vAekxRzs/UeY549ilPPyfw6X4YBvT5B1btidJP+TYZLxMxbdRAZd+WYNfeAwjesRmL58/HmvW+mKxMX7ev7fVcObIe/xg0Ejffdfyv4yqy38B8ZF+4+B3TT5F9uIqpIwZiisE+2Cych1UbfDFr1FB4B+v2QQbBQ9bNx/8ZPBF3PxkXVa6f3Yb//b/743jsS/1UZXp9FY4HeOCPvoNxKPqBblpdJU7vXo9hyn1kZeuG3Xt119TdbgGGDx+JwONX1PmEhtoS+DlboN/gMVi/ZRcC1nrBf3+Y/t2WyCC73ZTBmO+xtc1qJbKf0Yc2of9f/1DuJ58Wooqc0//9xyCcvZWsn6qss6JAvf79+g+Erdsq7Feu/66t/rCYOQkLXf0gRWGqMl5gxui+mO0S9JWoIvKS3BPrT+jaQwlVRenY6L4Yg4aMgItyT8kzt2vbZiwyn4YR42cg8qH8JV0jbp8JwP/9n//GhNkuyDYy2l9d/AVuc6dgiPKcbdoqz9luuMtzttwH9hbTMMluPaobdcf2Kj4E/f76OzacNJDHFKQqRMReT/wxYBgSXutKvDc0lOOwvxv69euPxc7eyjEfxBbf1Vhi4wT/Dd7oN2goIh53rOVKQ30NtnrMwN//HIcEfUUJQ2or8rF7nQsGDR4GlxUb1HOxLWAdpo4dgalznfAkpfn5amioQIiyX336DIDdsjXqfvmt9sL8RdbwdFKe/xFTlHuzLVGlDsGrF2LAJCt8KuzgoJRy/dKeXsbIP/+B7WebRZWagg+YN3UQJi1a01xRRVn/mZ0rMWzEaMyYMQNTJk3E6FEjMXTIEIwcMw7u63Yhr7xBfY4uBq/GP/7vYH2lmGZEVAlwscLgkQuRUqIXVZR9SLp+BiP794G5tRv27VU++5yX4UVrIU9B1n39ZCD++L//gO+RBP3UtqkvzYKz2WAMm+vRJKrUln6B7dhhmLLIDYWtRJWcd7cx4c+/sGLb2aZpaW9uwnLiUAwdOx2bgnZiv/JZ7+5kC+/VvlhiMRGznDYaFVVUqeZ8MAYp99hCx+XKdT+IrX5rMX/+ImxYvxpDBg3D6bttiypCdUkuQraswrhhg/Fnn34YP3Eypk2bhmlTp2Lk8KEYMHQU1m47hvxy3adBdV4yFk76C+PtNhgVVeR4st89hO2cyRgxbjr8tuzEwQP7sMbTHsOGDIPHxv0obnUw9TUF8F44Bf/7739gzZ6WlVjqy3LgZjke//P3P+G984J+qg45/qund2BI/78wc54ddu07qHwGBMB2sTX8A3zV78l+Z27p5+7ZUFRhGNNPT6O1pCLpjDghkkrrAVwtMuAt0oH2urOtUGTf/vvS56blpY2NVHcwdaTdiHZMXTGIb9iCRfK94oQINSKAaAPxrSMD/T9j/0U00NZp2IpF2jqJYNGWeCLb1gQMw/zMaibtIVU2DCUVOSffI2S1hVyDzpxjw3ZS8lyue56vShlyDuV5lGsp01ojz7yhLNRWZJ0iibRGhCJtHkNJpbOSTUfRWoD9y8n3312NSO5tWYex86Eh69aqr2iRVkyGbakMn2eR6H5HKKoQQgghvRCKKgzTvaGowjCmF1MUVVQaG5D67jlOHQ6Gh6sTbGxs4O61CqEX45BbYuSveeqr8exOHALXr1TntXdxx86Dx/EiOa3FX/nnf3mLvUHrsVSZx9rWHruOXURpTQNunN0D723H1AF04dmV83CwtUPis2+Vf27Ap5f3sSNgnbI+azi4emD/8Qv4lKm16ajDxZCtcHJdjfet20DUFGL3hhVY7XcYZW38jq6hIhubV3lg7Rbj89TXlOPRjcvwXb0ctsrxOLp54fiFy8guarmtrKTbcHG0x5HI+/op7dGId4+uY+NKD9hYWyvnchkuXn2sbK8UwX4+OBp5Vz/f1zy+cgL2rl54md7xXxRWF6bCz9MJe07H66cIyj48vqbsg6eyD0uUc+uJsPhHqKspw8HNPjh48Z5uLuU+iT0eCFt3H7zJ0obnm5EB9Rc3wpR7wgUJrQbga0qysGujJ9xWBSKtSDdo3Fhfi7ePb2L7pjVYutQGdo7OCAo+goevPrZq8dOIwrR32LN5nXruV20Mwp1nzSKJIfUVedixxh2b919Q7oi2kWoMh7asgY9vCLQrqFZ6iTsBGzs33Hipq1yhUV9TgTvxl7BmuZtyjmywbOU6hMXeQqF+ALwy7xPWrXCCb/D5loKMss7st3fg4mSPEwnP9RN11FWV4nZsGNar194GLh7LcSg0HB8ytF9MNqIo7Q18nBZgpghUxg5IWX9uShL2bNGdG1s7R+w+EaE8Z/W652z7MV0VGmW+lCexcHJYitDElvsh1/Ve5EHYKffek5TmX8TXVRXjakQovFwdlHPiiC17juJzbhmKs5RrsWsXXqV17C8FpRrFhf3K54C9N559Mv5L+obaSjxWny8v5Tis4aQ8X0fPRSOn1fMlyH7FhR2Hh7O9erzb9p9ESl6pcnzxcFm2Eq/bGCwSMSDi6Ba4rg5AZlsfBK2R8/vhETyVZzrsRrNIV1eaicA1bvDZclyt7CLn8NqZnZgxZzFuv8lQj7mstBjpqZ/x9NFdbFvtjL/+HIBDMY9lbtyJOAo75T67965lhZmGhmqc2eMPN68tyK5oNuYalc/cuzFn4OFiDztnNxw6FYH8sq/1D9mPF4lnYb/UHqeu6KqIfIuGygLs8XOHR8B+aMWq6itzscN7GdYE7UVZC2lP7sdX8HFwwKGwltVvMj8+Q/CWDbC1Vb53LF+DiGuPUNtYj5uRoTh84Uqbz2Kjct1vRZ/GMhcHWCuff+4r/XA/KR3lOR+xeoUnrr5ueX6M0ahsJ+39C5w5sg8rlrnAQdk/d08v7Dt6Bs9bfU+qKc7A5tWOWLnzZItKTq0pK8hA5OkQ5fuhvbJftvBe74/Eu89QZeRA5L66Ea48Pw4euJ+sE7005L2E03tg4+CK6y++HhRpbKzBk5sxymeHu/IZsBTrAnbh2ftM1JXn48TeXYh70vHS778SiioMY/rpSUh7n9aSigy0dxQRSTRJxVi1ARmwl5YhMpgs00Ra6Sg7kgqbKh5oy3ak/UhPR4QB7ZyLGNAVSNsV7byJ6PM9A/ly7QxbOck+y4C+SCVSlUNruyLiw4/KQ5qM1Pp8yD7IduR4WiNtnwwrWciyIraIlNNd94kxyUuqifwqwlJLm/ZD5JnW1U/kfMr5MZSBBBFZDGUbOSafp3nqOZYKIXJ9RcAwFJZi0lteE0OhTIuIZT+75Y+Gdm9+T0sr2SepwqO1mmrrmom8Y1hdRj6P5HOpNfJ8afeB/Ps7QlGFEEII6YVQVGGY7g1FFYYxvZisqEII6ZHIQPe10zuwNvicfgrpidTXFMJr7jgsWblfP8WAxkZ8fhSFEX36YV+EruIUIb8TFFUYxvTTUzCshCL/agOtMmDdEWTQ+z/O6wa3ZQDbcKBaqigYyhHaoLLM1161FqlQMSquubKD7Nv3tPboqRhWvPiZrXMMMayMEZGma3HZGeTaaYP4EqkoIdfbELmO2jX/HlnAEG07xiqHaNVAWiNygSwjFVVaCxkdRdYrVTVaH1tHkOdHq+ZiKGl1tmpQW4icI+uVyiEdQYQSbX/kuexoVSS51lobKom0TzJ2vgURV7RjFfnMsM2NocSivf+916UjaAKJ3IPtIccjYo3INtpnlmGkQkprZN9byzuGVVRaY1g5Krn09/u9FEUVQgghpBdCUYVhujcUVRjG9EJRhRDy82hEbvJ9OLp44X2useYppKfQUF+JrR6WGDHJCrdft2yJVJafjqAVNhg5bTHe5nTN4A8hvxKKKgxj+ukJSOUFbcBZ/pUB2P8K/6S+FkmkIxgOzBpKDSIQtK7gYViZw/tJrn7q17Ru5SID6IaD4aaOYeWFrqq8IRUztPMn+Z5qJ4brkMoabSFSkTafVsVEBIm2RIe20CrnGKtW0RbaMt/b1kiQyjCyDhEwOoNID9rzI/e+1kJG8jMqiMh51e4TET46gibuiDAilZI6ilxfbd9FSGoPEWg0KUUTlETq0NYh0T5TuhKpnqNtT8QsOQ6RhERqk/tI3je/kaFKKIaVmYxFpBdDXhZVN51/iayjPfHH8JlpXW3md4CiCiGEENILoajCMN0biioMY3qhqEII+ZkUZn7Gq48dL0lPfhGNjcj58ASuC2dixOgJWOroCk9PT3i4uWDO9MmYNc8Rt162FFgI+V2gqMIwpp9fiYgS0r5FG1CVwVit6oHWykUqKrSHtA7R1iFii9baR2QXY9UpDAd9Zd7WIoMsI9vV5pGBcBn4bS28mDqGrVk6K0d0BBEUWle26KyoIqKFNrDfEZlGq6oiQpEmPUglis5cO62CjlTi6Qhy/8j8ku+ttiP7J61pJJ1BZCrtHGvSlVZ540crywiyX4YVTjpSUUXuJW3+b4lgrREhRjsWkTE6es0MP0Pks6B1BaTOSipSgUSkITnWjlaCkfvU8HOloxEpRWtrJNdephnKeYaVciRyT3ak4o5ULtKW+ZbcZapQVCGEEEJ6IRRVGKZ7Q1GFYUwvFFUIIaT3UlVaiMe3E7F/91b4+/tj6449iL/1GIVlrIhDfl8oqjCM6edXIYPQMuiqDaa2rhLQUVFF2tVoIoNICloLDhmgNtbqQ6oTaNvUIoPbGrI+w3YcMujfVS1xfjVSsUKOUY73ZyOD6YatmLTzaaydzrcQ0UGWk2vcEWlAkzQMZQVJZ6p6aNUoZF0dQaQYbTvfUzFGkKoXsrxUQ+kMcm5Ftgr9VKK+FslC2xeRLX4UqQqirU/SkWdBq24k+6VVtukIhsJJZ545+Swx1kJHIvvSUeTaGbapksjrjiKijcgtxoQVuU5yP0nFG6muIs9B62o32meeVHySY5JKLIbVVzpzb8izoi3XmWMwFSiqEEIIIb0QiioM072hqMIwpheKKoQQQgjpTVBUYRjTz69ABlENqzSIsNK6qklHRBVDGULEFMMKIYbyiSGej5vFB636hlReEVoPDIvI0dm2MaaE1l6pIy1WOou0OdHOY9BrXUsbSWcrjnSmso7QVlWLzggkhtUoOiJaGEoBcg9+DyI4fM/yInQY7qNhyxeRVn4U7RmRdKRCizwv2jPUWelGk8xEWusshq13JFpVJRFE2rv2IpgYtg5rnY4IUsYQgUnS0eW1e13u4dbiTWfPpaA933IOfkYLqJ4ERRVCCCGkF0JRhWG6NxRVGMb0QlGFEEIIIb0JiioMY/rpbmRgXWtxIZG2FMZafGjCgYglbWE4uCwVJaSChHwtA+XGBBPZjrZtkWOkqoG2vFaJQyLSi1ah4ndGEwqkasbP5NjHkqZzKRKMiADa67YEImPI4Lq2XEcEDhECNEFBog3USzojqhhuV6SVjqDN/73nUtvXH5VLNAFMk69+BMMWPpK4zHL9O21jKPl0tuWOPHeyXGekDHnO7e5lN21TIlV4ZNvaa7nP5XNEquponwvyrxyfbEt7DiQidcjniuE6v7dKTmcxlIK0yDnpzDNjiKG09DOq6/QkKKoQQgghvRCKKgzTvaGowjCmF4oqhBBCCOlNUFRhGNNPdyCCiAwcy2CxNigsA7DfkgC0AVYRWYwhg7faPFKNQtBa2UhlBmMYVlzRtm1Y2UUi1Rx+RiUKU0A75o4ICB1Fzp0mHIgsoYkB2rbaup7GMGypIy2bvoVIB4bVVOReMLzenW3fpK2rowP8mgDVmePTkOdDBAlZXqoEfS+GlV1E1vhRtOdJ0tH2MVplk7ZksbYwlIOkslFHEPHEUDDToj2/hpV8OhJpuaPdZ1L5R5veXaKK3K/afSDPkEg031vNRRBBTFuf3M+duR49HYoqhBBCSC+EogrDdG8oqjCM6YWiCiGEEEJ6ExRVGMb009XIILxhZQuJDC4nFX/7/0ravMYG/kVg0GQIaZehDe5rVRCkMoExtIoFsoxWxUWWFRlBZBepBKJN/92R49TOcUz6zxFV5FyK6CPrlOtjKJdo2+qMyCHCgbbct2QBkZa0AXn5V5NLtAo7Mq2zg/SawNTRtkjacYuo0VkMhZwfQaq5aOsRieNHEHFEk3VEOpF97AhSqUiW+Z72Pdq+t3ePSKsjuS7aNZdo+zouPk0/lw4R0lq30Wkd2Vd59g1Z97y5GklnJacfQeQSkfp+RFgyRFpmacch4s7vAkUVQgghpBdCUYVhujcUVRjG9EJRhRBCCCG9CYoqDGP66Q5EDJGBUhkwFnmgI4Ow2uCqDBi3RiofyHsyUC2VNDQMB+pbVyIwrK4g1RIImgb6O1rB4luI+CKSgHaOW7cr0UQCGTjvKLLOv4XqWvloVXMMEXnCcJsixxi2CNJaQxkTl2T/JiWm6199jfkN3bKj4jpWSUS7JztzfBo/S1SRfZV1SHWXH0FEEMNKQ52pzqKdh2+d27bQPidEHDEmjIk8IxKLYXsnkWikxY1sV6q+tFWBRGQT+eyRqk5yjeSY5DOhLWHOUPD4WdLIr0BkL+05l/MmIszvAEUVQgghpBdCUYVhujcUVRjG9EJRhRBCCCG9CYoqDGP66Q5k0LmzFS20QeLWUolIFdp7ratXyEC2Nigr1VU0zqY0t9SQtkDGBsF7I5pUIELHjyDnU6uk0frca2jig/zbGUQo0NYrX0tlFakAIyKBdk0lUrWntXSgVfJpLY9oLYGksk9baBU1RK7qCD8iqsj5E+FCjud7EZlC1iH7YOz8dxQRPVq30zGUwdpDOw9yP3QWEU60bcp9IuKZPP8iFYmopB2fFhFzRMSQaxX6qWVFlB9Fk37aqs5kShi2cJJr29HqOD0ZiiqEEEJIL4SiCsN0byiqMIzphaIKIYQQQnoTFFUYxvTTEzGsMGEoqsh0reWPDLgak1+09j8SGdx2epDTJDRIVY/fYZD2Z6GJASIAtFWJoj1aSyrytTERSK6Dtq3OiEIiYLQWJwwj6xNhydi9oM3TuiqPVByR6caqtGhooopU+egIPyKqCFLx40daMImooR1vXOb3rUekj9bnWqpwdAapaiLLdVZIEuQaGlZyaStyrr/VCupnIJKMHLtIbqZO62dInhm59+XelmM0bNFlKlBUIYQQQnohFFUYpntDUYVhTC8UVQghhBDSm6CowjCmn55IW6KKtBORaSKetFXlQdqWGBMbRHBpq81Hb0XkFK1KxfdUwJAKNlrlCW0dbUkohiLFzRzj1+5hfpV6/Voj+ynrNqygIi2BRFBpq5WJ7Ic2b+uqPJqoIpGKGbJvrfdbBvLlfanK0hGk8orM/yPVTH4ErVWR3OedEYE0RJTR2jMZprMtfLSWOd/bfkikCqmc03pf5HrLMXa1oPK7Is+QtFQyPKdavlds+pVQVCGEEEJ6IRRVGKZ7Q1GFYUwvFFUIIYQQ0pugqMIwpp+eiKGoIm1aBBmg1qZ9qxKGIAKFDJhLtQAZ4JbWNqykYhzPx82tdYJeF+into9IJYbCx7ckFUGEEm1eQ/lBqmhI9QqtTc+3WriIxCDXsS05pTXa9gJeFbSouCKVS1qLECKaiCAhUovP07wmKUamfQtZr2EVH+1+7U7kvGuVhkTm6CxyzrXlJZoQJmldjaY9DFtz/agAIddZrvf3VvshLZF7Va6nfCbK9ZFrLtfLFKGoQgghhPRCKKowTPeGogrDmF4oqhBCCCGkN0FRhWFMPz0RQ1FFq6AglS/ktcgnIqKQn4MMXv8Z1dxuxfpultGqJhoyv1QyMaxu0p7MoaFV25CMi09TBQ9DYUTaxnxPNZC2MFx36wofchwi5hjKNq0jrVG0cyFVYKRSj+yziCwSEaDkftTml5Y0P3P/O4oIIdo+fEv0aY2IP3K9tWUlIjJItSLtdWcrmMg6tXMq94hU3JF1igAUkVbWYcmIdB1yj0oFHblWpgpFFUIIIaQXoooq/jsxyWIpps9zZBimizPVyh5PX7yhqMIwJhSKKoQQQgjpTVBUYRjTT09EpADDgXKpUqG9luoY5OfSui2IVFyQSisiQIg0lFxao1Yhad2SReYT+aCjiGBkrC2TRKSPnz1wLveRJk2IMGEMGbQXuUMkGa2qiLRDkqoihlKFHL/h/raOzP+rBv412UT2u6P7IM+ViDja/st11a6lnBM5nvaq5LSFtNhqq82MXH9CfhSKKoQQQkgvpLKiAu6r/DBw7BwMm2TJMEwXZ/B4czx88gJ1dRRVGMZUQlGFEEIIIb0JiioMY/rpiRi2+ZGvtWoqMpgulTDIz0fOqwgPhpVSvhURS76nso0sI62bRJKQiCAiQokpIBVYpEWRtu9SQUWqy0gFkl+JJv+0JeMYIlKStAcyvJZyDbqivY60hzr2sUStpiIykJwnPr/kZ0BRhRBCCOmFiKjitTYAwydbYcyMBQzDdHFGTpuHx89eoo4VVRjGZEJRhRBCCCG9CYoqDGP66YkYiipS2UP7WkQB0rVISxBp0WPY0kaLVFCR9361mEGakWo32vXZkVSon2ocEUbkGmrzSwWZ9pYhpCdCUYUQQgjphcgvmtj6h2G6L2z9wzCmF4oqhBBCCOlNUFRhGNNPT8RQVNEG1kWc+FWtVXor0vpGroVEhAjS8wh+W9T0rLR1jaSKjVRb0eaTSEUcaetEiClCUYUQQgjphaiiyqYdmGhui2lzHRiG6eJMsbTD0xevKaowjAmFogohhBBCehMUVRjG9NMTMRRVtEiLFUJIS6RdkzwfInIZIya9XG2ZpT1H0rJIphFiylBUIYQQQnohFFUYpntDUYVhTC8UVQghhBDSm6CowjCmn56IMVElqZj/tyKkNcNidZVS+kWn6KfoqKpvhN297BbPkLxmVSLyO0BRhRBCCOmFUFRhmO4NRRWGMb1QVCGEEEJIb4KiCsOYfnoiZ1NKWwywy2A8IeRr/h7xWX1G5t7K1E8B7uZW4r/CPzU9P9I+KyKtTP8uIaYPRRVCCCGkF0JRhWG6NxRVGMb0QlGFEEIIIb0JiioMY/rpiex/X9Q0yC6R14SQr5FWPvKMSAug5NIaVVgxfHYGXU5FWkWdfm5Cfg8oqhBCCCG9EIoqDNO9oajCMKYXiiqEEEII6U1QVGEY009PxOdpXtNA+/868hZ51fX6dwghhki1FHlO/u1MsvqsaM/NPx9/h4BXBahrbNTPScjvA0UVQgghpBdCUYVhujcUVRjG9EJRhRBCCCG9CYoqDGP66YnY3ctuGnBn2x9C2ubPqJSmZ0UisopUVflcVqufg5DfD4oqhBBCSC+EogrDdG8oqjCM6YWiCiGEEFNCJAOG+ZHU19dTVGEYE09PxPxGRtPAe9DrAv1UQkhrkopr1PY+f4/4DM/HuWr7H0J+dyiqEEIIIb0QiioM072hqMIwpheKKoQQQno6IhfIz5fV1dVGv5cxTGciP/vIzzwUVRjGdNMTkYF3TVR5WlCln0oIIYRQVCGEEEJ6JRRVGKZ7Q1GFYUwvFFUIIYT0ZOrq6ox+/2KY7w1FFYYx/fRE/iv8kyqp/MvJ9/ophBBCiA6KKoQQQkgvhKIKw3RvKKowjOmFogohhJCeCiUVpitCUYVhTD89kX87k6yKKpMS0/VTCCGEEB0UVQghhJBeCEUVhuneUFRhGNMLRRVCCCE9kfr6eqPftxjmR0NRhWFMPz2Nopr6prY/3k9y9VMJIYQQHRRVCCGEkF4IRRWG6d5QVGEY0wtFFUIIIT2NxsZGVFVVGf2+ZZhq5XuW/NxZU13dYrosW6NMl/eqDdejfK2bZjCvsmxtbQ2qlK+rq3XrU6Osu8pgPm35mhrd+9o2dcvrl9GnxTaZHheKKgxj+ulp3M2tbBJVgl4X6KcSQgghOiiqEEIIIb0QiioM072hqMIwpheKKoQQQnoaHammIrJJ+udkPHv6FO8+pqK0TCcZiLxSlJeFV8+fKz+XvkJGbqE6TeSVkoJcvH79GrmFpaqEItPyMlLwOukDSpXvh5mpH/DyxQs8e/ZUmfYOhaUVqK7WSSeyjpLCXLx5qaz32XN8TstChSyf+UVd5vmzZ8pyz/D8+UvkFJSo69b2tWtS1SXbkJ8LWq9XXnelxCHr7/rz1Rw5FooqDGPa6WmEJBc3iSryNSGEEGIIRRVCyC8nr7oe/xn2EYMup6KusVE/lRDSlcgvmiiqMEz3haIKw5he5HslRRVCCCE9CfleZOx7lpbq6grcjz+PNet9ceDQIQRt3oy4h2/R0FCL1/fj4L9xA3btPYBD+4Phu9EP0TefoqauEV9e3oKzkxNuv8pAXW21up17kYfh6OWHzOIyRB7aAge3FTgUcgTbNvvBd+tefM4uRl1NNd49vYHNfuuxI3g/Du4Lhs+qVYi5+waPYkNh5+CM4P0hOHw4BCGHTyDpSx5qDaq8VCtfv74Xi83Kfm7bGoSAgEBs3boNW7fvxsPXSQg/fRzvc8pR07qCSxuprixF7JnjuPY0GXX1dcq0KtRUl+DK+XN49jkbtcr+Gluuvch+Pr8VjZPhiaiurVerzNRUleHy2aO4cj+p3Z/xaytLEBt2CveS0pR5m/dBqs4U56Th2N6tCFKOe/PmQGzeEoSgoCCEXryG989v48CxMJRWffu6/6xQVGEY009Pw1BUicss108lhBBCdFBUIYT8cmLSy5t+YJWvCSFdD0UVhuneUFRhGNMLRRVCCCE9DREmjH3P0qUK5UVpCPByx9nrL9T5S4sLUVJWjoz3D+Ht4Y6o28rPo/UNqK+rxbtHcfBw98TN1+nITLoLVxcX3HndLKrcjzoC5+X+qqgSHbIZKzeHoLIeKMtNxjp3Z5y88hgF6W/g4+6C0Mv3VYGjvq4Gya+f4XNWAR7EHIfrSj9kldQBjco26+vV1j/VaougZvGipCgfmVnZ+PjyHtZt8MObT5nIUV4X5H7Bni3+eJNVCWXF6s/RWsshaTNUV1enRqvsoqukUozQ7evh7O2LdxlFqphSU1OM03t3487bNGX+mpbLSsUS5Zw2CUBVunZFIqJo21G3qUwvyfmE7QG+uJeUgQZlfz4+uwa/zcHILKpU1qVbpyyrtTeqUY5R21Z9dSlC929D3OOP6rmvlfXqt1FRXoac7Czk5KTj5J4AHI28jbzcXOTmFyL7SzJuP3iO8iplXbI+Zf2yvhr1uPTbbNp3Xfum5v2Q9etaPemm6do4qfO2EYoqDGP66Wmse57f9Hv/l0XV+qmEEEKIDooqhJBfTvDboqYfWPe/L9JP/XlU1TfC7WEO/teRtzj2sUQ/lZDeDUUVhuneUFRhGNMLRRVCCCE9jfZElYqSLOxc64XNB88hPbdAFSLqqisRe3I7PDcEo6i6HtX6eWurSnA40Bv+h6ORnnS/A6LKIZTXApWFqfBb7oHz157jTmQIXFduRk5pjV6M0MkdImPcizwG1xUbkZpbrr5XUSGVSSrx+EY0zsfcQHm1TtaQ1jY1tXUo/JKETYFByCyqVvahFhXFGdgXtAkRVxIRsm83zkYlorisStn/cjy/m4ADe/cg5OQ5JKfl6eUQEVVKcP7Abhw+FoKtuw4r+1WN+toSnN2/B3ffpaO+ugKPbsZi355gHD0dhk/ZRUh5eReXbzxCTV0d8tOScCL0PLJLlX2qKEBs5EV8yCxETbUILTV4d/8ytuw+ivzCPBzaEYBrL1JQU1aIq9EXEKysM/R8JNJyi5X5i5EQEYWbt6/i0IEDeJGcivOHdyPh6Wdl/lzEXArDy09Z6nrlnFUr666rr8Slw9tx7upLoKFBnZb18SXibtxHZXUJ4pX1Xb16Bfv3H8D9l8l4eD0Ge4L34uqD16r8U1Gaj2sxyn4EB+PMpSvIKSpHZVkBrkaexe7gfYhVjrG0QjkO9fobD0UVhjH99DR8X+hEFfm9PCupE0IIaQ1FFULIL8fpQU6TqOL9JFc/9ecQkVaGfz/3QV33Px17i6tZFfp3COnd/LCoYmWPSeZLW2SypV3T+1ONvD9FmdZiHXPtMdlC/76FHaa2eK85U5X1yjyTLXTLTzZYp5aW29bN32K6kf3RYrisRIQC3fSW25Nj0s2jX5eyz4bzt4j+PTWybf1xTjaczvSqUFRhGNMLRRVCCCE9jW+LKs2tdLw9XOC2bDmCj55HWk4BzuxaizU7T6O6Vtrh6Oatq6rApSOB8N50CMmv78HtW6LK4SC4em9A9JV4nDy4C35b9yGtQKYHYNXWoyivqm+xHzV11bgXfQL29o4IkFY2W7Yg8uZzNNTVIObUbvjtPoFiZRmtQopUNclPeQ2/gC1IL1CWr5bqMJnY7bcaoZHX8f7dS+zZ7Ie4Rx+Q8uImtu7ch3uPn+L65TBsCz6K/AqpFqITVc7u34WHyemIO70Pe0Ivo7ahCuf278H9D1n4+DAO23YfwsMnz5AYeQa7Dp3Bl48vsG3HARRW1+Pp1XB4e6/G/XeZKE1/je079iO7zEDCqSxB2JFd2LZ9Ow6ERqO6vg7XLoRg24HTeJf8AXFhRxG07zRKKouwf9N6ZfuX8O79BxQW5uHsoZ24mHAHYScPIfL6Y1S0aOcjsk45wg9vw9nE56ivU65TdQ0+PU7EbuUaVlSXYI/feoRG38DLxzcRsGEdTitfv356B4EBW/FJuRZ3Ik8q1/ssnjx7josnD+DIxWtIenAZATsP4/3Hj3j48DHyS0UM0rb5dSiqMIzpp6eRVFyD/wr/9NN/508IIeT3gKIKIeSX82dUSpOoMut6hn7qj3M2pVS1tWW9/3o6GXdze94P64T8Kn5MVLHHjMUesF++EU4GWeKwTBVPplo5wNxmBZxW+Da/77UBVkucm0UNkUmsHLHEbR2clfkcPFZjxly7r2QWkUPM7L2Vefxg6+KFaQtcYOu5Ac4G25XtLHXxxgxlXtn+bGtPOOrfW+LgqYomsxa5wcFwGX1k27aOyzFdv13Z3jyHlXD29oONvSemzXOGzbINcFm+ARaLnNX3Zy70UNal7POyNZg+zwELnH3U9TStV/na3m0VZirrm6Lsz/QFbrCXfV6xETZOy9VpbUk5zO8biioMY3qhqEIIIaSn0Z6oIpGfNwtyMnD3WhR8ljli94loRJ3YBm//gyitqW+qqFFTVYqT21djw54LSH//EG6urrj7Ri+q1NbgQfRR5f82/sgqKdeLKhtx5kQIXJ3dkfg8FWisR/ypnXBfuwP5Fc2tbEQ6kRY7UlHFZfl6vP6cjdycbBQUlajtaSrKy5Xvr+XK1837bFxUScferYFIyq5EY2MdboYfRujle7h+MQTeqzdix44d2L41CFt3H0RaYZVyPJqoshMPPuSitjQHh7YFIOLWQ4QfPoQHyV8QG7oHPuv8sFNddgu27T+OvKIinNy3A4/epSLi9DEkJMTiXNRNvLodhaMXb6htc7T9rFZ+Fsj5+ARrfNYhKbMM9RU52B3oj8ef89QqKJXFX7DNb+EtQVYAAP/0SURBVBNeZ2Ti6PYt6n5A2fd65VyfPRAIj2VeCNx7GuX1yrVsIYy0Iao8uYq9x8NUUeVg0BY8Sy1CY20B9m3ejGdflK/rqnD6wFY8eJ+KY1s3YqNy/uS8bN0cgIPnYpGW/AI7twXh0NFTePzmo1oVpnmbX4eiCsOYfgghhBBTgqIKIeSXUlRT3ySTSPpFp+jf+TGkcoq2XvmXkgohLfkhUcVyKazWH0RBTSMaGhr0awTKC7NxYNc2jJ+1BGt2XkG9Mq2hQV/Ws7EBaR9eY6X3KrWyyIwly3A87hHKqmUuoL62Gg9vJsBmiQsm66URyUQzG6wMu6nO8+7RecxwWY+3BdLTtgGGBUO/PLqF2TMXw2HtAbxOzW16r6wgB/t3BMHOJwjl+l2VfZb+6FrF0eQrlzFrtrW6vQlzrHEk5o46/fmFs5hqvRovcqUSUyOiQg8ox7YIizyUY1d2oTT3M8wXOiD81kt1/kaDEqYFyS+w0NwGVm7+uPMqFbX1uvcqSgoQHnoMM5RzSFmld4WiCsOYXiiqEEII6Wm0K6pUlCE9PR2VtfXK/3vqEHE4CH7B55D84iY8XJfhTlK6+v+WBuX/Q9nJj7DczRVR996hsiAVG5e742ziM3U7DXWVuHgoEGu2HUVFbQ0iD+la/1RUVSE8JBBeG3Ygp7QWqS9vwN3JBQlPPqJB1ltXi9zMNOSXlOF+1HG4rvRDVkmd+v9B+T+YCCjZaZ+R/DlDlVa0/W5LVNm3NRCv0suU/a3GjfAQhMbex/3YMzgReVtZX4M6X2lpKSrU9TSLKvffZ6myR27KC2wN3IgN6wLxWNnm9bBjOJfwSN1XWbastEyVcu7FnMK+w8dw4lw0ivLTceLIERw5tA9336SjrtZwP2tQnPkR27dtw5eCGtRV5OJAkD9uvE5Xz1tpznsE+gYiOScHR7cH4UFytir+1FaW4Myhnbh8+zFO7NmCyNuv1fOhrbejosrjT/morcrBvi0irRSgrqocpw9uxcMPmTh3YCeuv9QJRFWVup9hZL3lpcV4+/Q2Avw34/WXQtQqx9283ZahqMIwph9CCCHElKCoQgj5pUjVE01SkfzLyff6d74fkVL++fi7JklFtkEIacmPiyqHUNwA1FXlIz4hHtcfv0Otst76kix4ubrDZ0ecup3K/BzExlzF6/R89XXKqxuYYb4Em8/o5JPq4jxcvXkPafnl6uu7UecwzcymSeIQUWXVxdvqex+eXsAMlw1ILqkHGitx5841XLp8DdHxN3B0337MWeSDZxm65/3dq6e49uA1apR9rC1Kxya/QJyJUuZPuIPMMhlobMTL508RGXcDIduDlX1aqm5PRJVjl++p63gZdk4VVV7lixgDFKUnYckiWyxwO4jiOuUc5n9RRZWLd16r76e8eoUI5VijlHWeOX4Cc+a6I+Z5mvpeVsoHJN5+irJqsWWqcCDITzk23TaZ3hGKKgxjeqGoQgghpKfxTVGlqkr5P8tbBGxYjb2HTyEi/Aw2rtuAa88/o6G2EjejQrFm7QacunBJee8s/DesweEL8SivrFG+x1Xh2Y1LWO2zDqfDLuHc8QNYs24THr3LREN9FcL2+WGZ714UVzWgOOMdNng5Y+fJy2obmesXj8N71RqEnlPWG6Zsc+0axD9OxqOY47C1d1XWF4mY6ChERcfiS3YeLh0KgLf/fhS1aP1Tg7zPL7HO11/5v6GIKtUoL0zHrgBfvEgvVUWVa+f340jUPZRkf8TOoECcOn8JYWdDcTbyGsrUNjo6USU0eCvuvsvSV4apxftHcXBzdMeDjzko+vIS2zZvxtmwCFw4cxIXLt9EVX0Dcj49g7dIO3eTlP8q1iD62A6s8N2FvHJpKdR8jkWoKUp/j82BgUjJr1K2UYPnNyPhF7gdl6KicWh3EA6fT0R1TTEObPbHvffNosrJvUGIe/IJJRlvEBS4BU8+ZKvnXbdunahy/sBmnIp7hga9qPLxcQJ2HTmniip7A/zx8KNOVAne5I8nKfmqqHJybwDufShAyrNEBGzehouRUTh14hgSHrzBp1d3ceT4aURFnMf23QfxJb8M1QaCUOtQVGEY0w8hhBBiSlBUIYT8UhbezmohqkiSS79/EED6XkqbH0oqhHybnyKqNCrryXuB+YvnYoyFJ+6818koZ7bvwKqtserX2S/vY9YUKyxeexIVMn9+Kiwd1+DupyLl3QaEHtiG0dMWwHnLWVQpUypzP8J6qRMmW+qqqhgVVUqVFdVmwdV1IYZMXoCRyvKjpi+E67bTqFPmK0t/A5vFthgzxxnXXmeqy17csxOjps7DiHkeuJlaokxpxK7tARg5fREm6CUVybdEFaAeJ3YHYq7TXqOiStSeYOVYFmLc7CUYN2sx5vsEo1D+eLAsCz4e7sq2bLA3VvcXikl3ozDNwqb5nDK/fSiqMIzphaIKIYSQnkZHKqpkpLzHtYRYxMYlIOlzJmrUdi9VaiWN9E9JSIiLxWXlvZfvU9VWNloLGqkwIlUw42IvI/7qTXzJLlC/91VVVSD5xUPcfvgC5ZXVqFHmT3n7DAk37iK/tAp1ynIp718i7oqsNx7Pkz6irKIS6R/fKNuKwxVlemyskisJSM0pRNrH13j08p0qYjTtd1UVSgty8ODBIxSVVirbrEJFWRGeP36InKIKdd9S373Em4/pqKmtQ176JyQqx5Go7ENmfrGBTFKOt8+fIj2vWC9kVCnnrAJJz54gLbdI+Vm8BtlfktVjvHbrPrILStRtVZUV48mDe8goKFXlkczPSXj04j2qalr97K7MW1aUh8ePH6NQOXZZVs7fh9dPEXs5BncevUBphZzTUrx8/EjZjxJ1P6qV/Xrz4gk+Z+arbZHk/D1980k5/83XU87z+1dP8DYlSxV1ZN35mSl49lo5V1XlePHoETKV/auqLMFz5euswjJlvcqxvZDtlKK2phKf373AZdmPh89QVFaJ8pJ8PLp7HTFxV/FJ2XbVN6qpSCiqMIzphxBCCDElKKoQQr6busZGxGWW49jHErws0gZyO8e/n/ugSiV/C33fJKp8r1ySVVmH/zj/sWk9O5IK9e8QQlrzc0WV+Rg52wVXX+qkkEu7dsNn62X16+yXDzBr6lwsXnlMFVXKcz7CdoUvPhXXAjWF2LjMHRMtbGFhvxPZUlSlughrXZcr0+zUbRmvqNIA1BfjxMkD2Lj1APy3BcN8oT02hYSr86XevQ7zOTZqCyF77wBs2BIMZ/flmGqxFBOWeONOmnzGNGLf7q3K8eu2o8WYqPJa+vzU16Kqphrpb27DyXMvCpXdby2qXDl0ENMt7TFzgZOyLVt4bQmB1E8pfPcMi62UbSvH4hmkE3gyPjzDjLktt8383qGowjCmF4oqhBBCehrtiipKRHCQnzklratnVFVVN79nRFpofl8ElebpIrTUKmmar1p5bTCPVBppXq9uHw2naVGlEGV6jYGg0RTlPVWMaZrW8rVsU4QVbV5Zn7zftLw+sq+ynbamNZ0fY9vSjkc5D0b3UU3r/dTtm25/mpfRra95P3RSkO51tRyLkfWr8xhcF3U/9OfTcP8Mv9Ydm35+/Tk3XLe8r517bVpboajCMKYfQgghxJSgqEJIL6eopl6VTW7mKP+hrW/UT22fsNTSJslEy6zrGaq80lFkm9qy657nN33t/SRXP0fHke3+PeJz0zp8X+gqOxBCjPNTRBVpq1ORjQth53Hx6mNUSDmT2mKsX+mNVdt1rX/Ks9Nx5lQEnnzMVl8n3YnBfGcffCmtV97Mx3pbd0y0tIWl/Q5kqaJKMTa5rvi2qCLlTAypL8PKlSuw8UCY+vLTnauYM0fXPmiyxVJlHba6Ci1Wdt8pqtQq+5WDhEfSB70SJw9HIVf5v39rUaWqrAx5eYUoLi1B+NYdWOZ/QBVV8t48xgKRZMxt4OWnE3gyP77EjLm6qjFM7whFFYYxvVBUIYQQ0tPoiKjCMN8biioMY/ohhBBCTAmKKoT0UiLSyjAq7ovaHkeTO6SqSegnaYnxbTwf5zYt0zr730s7j45hdy9bXUb2Ia+6Hv92RteyZ1x8mn6OjmN9t7mFkHxNCPk2P0NUKarXr0yP9Me+eOoIJs1egrW74vVTmylOewcPJxfMcVyL9DJl4Yp8rLfTiyp2O5BVpsxUUww/1+UYM8taFUwmzrE2UlFFWbahBBcunMD2/Sexe99hWC12bKqoIqKK2U8VVeqUg8uF/45AvCuoQV5qOkpqGr8SVUrz8/E5JR1pmZk4FbgVnv4HlK0Aea8pqjAUVRjGFCPfK8vLy9VBmrS0NIoqhBBCfjkUVZiujKGoUlBQoP4MJD8LUVRhGNMJIYQQYkpQVCGklyGVUP77UnPlEcm/nHzf1HpHpJFvtfFxepDTtJxUVJE2PdJy5z/DdC13OiqJSPUWbZuTEtPVafKvvJbpnSEkubhpn/6MSulUZRhCeis/Q1SRiirVJZ+wZdtmeG/cBhfP1cp7dphothRrd+pElYIPr3EkNB61ytflWe/gYGOHafZr8V565zSUIWCNJ8bMXARzl2DkKR89jRW5WLnMF+u3HULgtmBMNbPGigs31HV91ESVUuUZr83CMg9rjJq+BONmLcFYZR1rD+lElaxnd2A2ZxHGzbGFy9rt2L7vKLw8V6rteL5bVGkogM8qF+yKfK6+J58y5a1ElcsH9mOSss2pVvaYbG4D18AQyJBmWcprWM+zwagZi7F8f4I6b9rb+5gxd2mLbTO/dyiqMIzphaIKIYSQngZFFaYrIz/7pKamUlRhGBMOIYQQYkpQVCGkl1BW16BWUNGEDhFSzG9k4GpWRVO7Hq39jvxrDJFctOX7RaeobYME+fefj79Tpwe9LlCntYdUbtHWFZMu/T6aty9JU3uItE9ScQ3+6ZiuKsy/nk5WpRlCSPv8FFFF+eioyHuBRTY6KWSSvl3PJANRJfvlfcyd743nGbrnPOzwLoya7YSoJzpB7eW9BDgsW4/QBJ0AkvX+Pmxc/fBFKq40VOLAtl2IfPxBfe9h9ElMdZSKKg1AXR4CA1ZjoaMPrF19MN/aFQtW7oPqv1QVYtf2IDj67MRbtUyL8pmzaxsmzrH5IVFl3WoHWHnsRl6l7jPzK1Hl4H5MVo5dXZeVHWY5+eNDoXwm1eDSySOwW74Z9z/oWpvdjjyhzGvTYtvM7x2KKgxjOpHvkVpkcKa0tJSiCiGEkB4BRRWmKyM/+0hFlezs7K9EFS3GlmMYpueEEEIIMSUoqhDSSzCUQObeykRyqfFftAe/LVLlj9aIzPIf53VVU6SSirTq0fB+omsFJPLL5zKpm9A+f4/QVXWRdWnczKls2scdSYX6qW0j+6StR7YtyxNCOob8gulHRJW5G0IghU2qCl7B1sEGky2b3xdRZd1uXeWQ3DePYTFrMQLO3lRfF3x+g4Xzl8J6/X5ktvocaqgqxp7NARhrZo8TiTr5Q6O2JAvrli/HJCd/fCz5WkhLfXADs2fZ4VjcC7XaiSHZyS9ga+ukigITrFfiXprIK404sGebUVHl+BWdqPIq7AKmWq9BksgmjQXYsM4ZY+Y44vy9ZPX98oI0mC9yQMQ93b7GHjqAKZqookTW7X88HrWtdqgg7T1cnd0xyYKtf3pTKKowjGlFG4xhRRVCCCE9CYoqTFdGfvYRUSUnJweFhYVfiSrGlmEYpmeFEEIIMSUoqhDSSxh0OVUVOnye5umndI6ItLImiUSqoWjsf1+kSiIyXSq0dASp4qKty7ACi4gn/3YmWZ0uLXzaw/OxTpCRyNeEkI4jv2T6blHFyg5myzYj5tYTXIm9gHnWSzHFqvn9yRZ2cF4TghsPn+HSmTMwN7eBufMmRF9/iJu3bsHTw1NtD2Szajsuxt/G9TsPkXj1GjZs2Ki2DpqqrH/m4hXYe/oyrt99pLx3HX7r12OKsp5pdmtwOu4ubirLXLv9QM2Ne49x/thxzDJTjmWhBzYfDkPi7Ye4rrwXHhaGpQ7L1H2aZmWPSYuW4UDEDdy9dx+r167HZMuWssgk5Xxs3BOK24+e4fj2XZi6aDlOXLmLW7euwsXDCRPm2MJm7R4k3n2C2NgYzF7ggKAj4bj76Al2bAzAFH1VGTXK9qZYOmH1jhOIu3FfPc7IiAg4uXrp9sdgu8zvH4oqDGN60UQVraKKJCMjg2EYhmF+WbTvRwzTVfn8+TPy8vJQVFSk/gykiSrGflZiGKbnhRBCCDElKKoQ0kuYdT1DFTo6KpO0RqqwyPLSXqd1qyDJf1/63NQKqD00aeZfTr7/ahm3hzlN63xaUKWf+jVSPUUTZKSqirZPhJCO8UOiihKRScbPscZ4M1vl66/fn2K5VH1/gsgjMr+lfv45Nk1Sy2QL3TxatNZB6vzK+ico8371npW9WvXEcDnJBHOt5Y49Jpo1Lyfbaymj6N4fp7w3Wdmn5unNmWxhqy47Udk/3fy69Wj7rR3beH3rHpFb5PUko+uzV95vvT+UVHpjKKowjOlFvldKysrKUFxcjPz8fPUvjKUcflZWFjIzMxmGYRiGYX6LyM828jNObm5uUzUV+RlI+3nI2M9KDMP0vBBCCCGmBEUVQnoJWkWUfzr2tsNCiSEiosjyIrpI26BhsV+ahBKpfpJV+XUrDmPEZZY3LWesuktaRV2TgCLbMIbsv7QMknlEdulouyFCSDM/KqowDNO5UFRhGNOMfL+UvySWgRoZsJG/LpbBm4KCAjUirzAMwzAMw5hytJ9r5Gcc+VlHfuZhNRWGMc0QQgghpgRFFUJ6CYZtdaRqSWfRxJD/DPvYJJJIpNJKVX3HqpnIfP9x/mOTYNKWMGN9N6tp/WdTSvVTmxkXn9b0vmEbIkJIx6GowjDdG4oqDGOake+XrWUVLVJlxfBrhmEYhmEYU4qxn2lEUJGfeTRJhaIKw5hWCCGEEFOCogr5IaSyhufjXLX1ilTqkEjlDZn2rbYt5New/32RKnfIdbqb2/EfXOU6i1iiySESaQFkTCL5Fk4Pmtv6hCQX66d+TV51Pf4Wqtue/GtYMWXh7WaJRSQZQsj3QVGFYbo3FFUYxnSjDdJIZNDGMDKQwzAMwzAMY8pp/fON4c8+xn42Yhim54YQQggxJSiqkO9CqnOIdGBYWcNYpE2MSAekZyDXbdDlVPXaiGiSVFyjf6dtWksqslzw26IOV1HREKlFW4dURGkPqZSizf9f4Z9wNasCs65nNE3rF53S6X0ghDQjv3CiqMIw3ReKKgxj+jEctGEYhmEYhvmdY+xnIYZhen4IIYQQU4KiCuk0IjuMivvSJAyIuCCtWqRChlTskK9lmva+tIrJqqzTL931lNU1IOBVAWLSy/VTiCEiDsk1kWsj7Xzaar+jEZFWps6rSUlSjaWz8pFIKtrycm90dHnDCiyGkao93XlPEfI7Ir94oqjCMN0XiioMY/rRBm04gMMwDMMwzO8Ww59v+HMOw5huCCGEEFOCogrpNN5PcpuEAWnDImJIa6TShcynyQkiFhibrys49lFXiUNaxvwspPKIiDiybqkwYuqI5KHJRCIdtYdUM9GEFYlUyukoct60++Cfj7/rUBUXDZGiDFv9SKZdTe+2e4mQ3xn5xRNFFYbpvlBUYZjfKxzAYRiGYRjmdwp/tmGY3yOEEEKIKUFRhXSKl0XVTdKBCATtYVhJQ8SV7kDECE1qSKvoWNWNu7mVmHsrE39GpajtZUSQEESImJSY3rQ+LdI+Jy7TtCu23MypbLo2657n66d+G8PWO56Pc5vOkzFE6BGpRJtfxJinBVX6dzuHrEtkmd9BEiKkp0BRhWG6NxRVGIZhGIZhGIZhGIbpyhBCCCGmBEUV0ilE0BDpQAQHkVA6gta+RVrGdEclDGn5o8kRIta0hwgX2vzafmqtaYbFNrc4kmPWxA4tIrFIdRIRNkT8MLVKH0GvC9TjkGPuSCsdaROktQ2SSKUcqTLzuaxWjVZ5Rs6L4bmSZTpTSYUQ0vVQVGGY7g1FFYZhGIZhGIZhGIZhujKEEEKIKUFRhXQYqTqiiQeSjrbWkaommrQgUkNXYyiqtCfThH7StQmSSDUVqZIiMoYgX2vv2d3LVtsZSUTEEEFDe08qhYyLT1O/lnPSHcf4sxDB5r/CP6n77vuiY1VVRGjpF53SdPzfilx3t4c5TeeUENJzoKjCMN0biioMwzAMwzAMwzAMw3RlCCGEEFOCogrpMNIax1BCEHmjo2iVWGQdXU3AK12VEIl83RYiT4hYIvNJxY/W1VCs72ap7/3bmWSjLW6C3xbhn4+/a9qWYeQ4TaW6is/TPHWfRbbpDPvfF7WormKY/zj/UV1vR6q0EEJ+DRRVGKZ7Q1GFYRiGYRiGYRiGYZiuDCGEEGJKUFQhHUKkC2kPo4kI8nVnqmRo7XX+/dwH/ZSuY9rV9Kb9lK/bQtsnqfrxML9KP7WZv0foqqaIsNIW0s5Gk1XkXxE0tG1L1RVTEDWkQozsr8hE34O0VwpLLVXXE5FWRjmFEBOBogrDdG8oqjAMwzAMwzAMwzAM05UhhBBCTAmKKqRDGLbTkUibnM4gLXi0ZaV9TleitbKRSFseY4hkowkms65n6Ke2RKQaeV8qg7RFcmlNU1sjiQgvsj7ttWxf5I2ejFaBZljsF/0UQkhvgKIKw3RvKKowDMMwDMMwDMMwDNOVIYQQQkwJiiqkQ6x7nt8kX0jakjva4mlBVdOyUoVEI6+6Hsc+lmDh7SyMivuiVi+R19/bNkckGENxpPX2NIJeN7cHEtnEGJqo4vYwRz/la1q3Q5J9F7yf6Kq1aJFqJXGZ5ep73Y0cv5z/1kg7I6mEogk7co0JIb0HiioM072hqMIwDMMwDMMwDMMwTFeGEEIIMSUoqpAOMSmxuZ2ORASNzvC5rLZp2atZFaokIWKEJkm0zt9C3zdJH53BUIjRIlJKa6Qtj7z3rXY3Is7IPP2ijVePkePQtjEuPk3d57u5zT8MShWafzuT3DSP5F9OvlfXJ9uVSiZdTVpFXZO4I+KNbFeL7K+2X9Ky6HvlIEKIaUJRhWG6NxRVGIZhGIZhGIZhGIbpyhBCCCGmBEUV0iFEZNCkBsmPiCrR6WWqrKG9FpFCXss6RYgxFCi+Vc3EGCK3aMv+Z5hun2WdhhjKLCHJxfqpX7MjqVCdR/bvZVG1fqoOOR6t4orsr1SGMYbIHyLKtBZWJN+SZH4Wsn1Nymkrcn6yKuv0SxBCegsUVZjuzGTlPptsaa98bY8pVvaYqsTYfD+aqVZ2mGhmi6lG3vvVoajCMAzDMAzDMAzDMExXhhBCCDElKKqQdimqqW+SGrTqHE4POieQGIoqhuKEyCmtJQlp3+PzNK9pW52RVWReWUbEGs/HuvY7UsXEEK2N0T8de/vNKiKyX1rFFxFNgt8Wqe17ZHlZp0yXSPucjvAwv0oVaUSOCf1U0qbc0hWIaCMVXOS8apF9oKBCSO/lh0WVeY6YvdClKdOsdAKC4TzT5zup703Xv565wLnFMlpmKOsyXGfTa31kgH+GftkZ8+S1bMcRsxa0Wpcyzwz9Nltn5gKnFutkuiv2mDzfBau2hmCFtxdm2qzF3defcOzQLkw0W2pk/u/PVOU+mevkg227D2LBQqceJ6tQVGEYhmEYhmEYhmEYpitDCCGEmBIUVUi73MypbJIy/iv8k/qviA6dwVBU0eL7Il//rnHOppQ2ySoih0irnfaQKiUy/7Sr6WrrHW1bhi15pE2PTBsW+0U/pW1EKtH2oXVkulRdIYQQU+SHRBUrO5i5bsTpsAiEX4xAZEQkQg4egLWde5OsMtnKERt3n1DeuwjvZcsx3swevruPIzo6GheVZcLCL+HSpUhER0VgzbKVmDDHFs4bdiEiKgpBmzZhioVOYpiirMdt3Q6Enr+IyMgonDx+FE5OHpi4wB27jp9X1hGBCGX78t6FUyewQlnHpchodbps4+JFZRvKNvds36yKAi2Og+n6KPfK+IVeuJ1ajMTwLZi+eC1efM7G2eP7MMHs51bzkaot7v77UF6aD29bV0wxMs+vDEUVhmEYhmEYhmEYhmG6MoQQQogpQVGFtMv+90WqmCHVRcxvZKhfd7b1j4gihpLHqLj2JRFBZBXD5aSqSVtIJRapkiLzSfUQea1VRPF+kqvOIxVENPGkPVFGQ6qoGFaBkeVFdjGUXwghxNT4UVHF3GMToq8k4MSRQ/BYG4RzkbE4f/IwLBbo2q/MsPZG6MUYXLsaj/07gjDF3A6LXNfAdYUvdoecQ2L8ZWzx3Qw37w1YaO2KSVbO2HbkAq5eTcQFZT1m8+zVgf257n6IVLZz5sQRLF+3FWEx8bh06ijmWC/DgXPRiL10HstXb4T7Sl+4eq3BfPsVyjbWY932g4iPT0DI/j1wVbZh5+LVZe1mfqvMc1TPkwhH06WyjfKvdt6mq9Vs7NR51PeUaVMsdUKRNq+uvY/uHpDKN9Pn2mP8wmW49rkQCRe3YfwcG7XSjkyX+SYbrG+yxVJd2x4rZX3Ke/K+GvW141eVdrToBCRHTLGwhYvfXpQV5WKFjSsma/ujX7/MJ+tuXk53jHJ8ky1062g6RplHP13mMbZ8ZyPLU1RhGIZhGIZhGIZhGKarQgghhJgSFFVIu0j1FBE0/v3cB1VQka87K6qIYKKJHpKOVEfRmJSY3rSciChJxTX6d1oirWy0+bR5pLKKvP7X08moa2yE3b1s9bXIJlLlpTNIqx5ZRtZDCCGmzg9XVHH3Q9SVBOzbtQ1jZlpj1bbDSIy7jOUey1TZwMY7CDGxVxAVE4OLZ07AcoFOShg/2w5rt55AQnw0POw8MMFsKUR2mL10Nc5GXEZMVDRioy/C2clN3Tfr1dsRl5iI4K2BGD/LFu7rtmPb9p2wsvXC/rNRiDx7HFMtbDButjUmmC9VpYOJc2ywZGUQriQkYKv/RoyfY6tKCUaPhWnKJOX8Hbh0DXHKdb107THef07D80d3YO/ogpkeQbj77AXOh13Gqw9fcPXyOUxVrtv6vefxOjkFb99/xounD+DttUqtbDLTbh0ibr/Cx08pePT0JdKKKnHlwhaMWuCByOfvcXjHBowzs8PGfReR9OEz3n/4iCsxUdh75CxiEp7j5f3rmLdAJyvNWLoB914mI3DdWkyyaHkdRW5ZvvU4XiWn4m3SOzx99RrlBVlYbu2CSYs8EXLxFt5//Iy3yjZiws7CzMoWDhv24PGz57gYdwfJn9NxM/YiAoJP4dnbT/ickoKTe/dgqrkNpi3ywP6LN5GsLP9OWf5mQixsbFyaZJzOhqIKwzAMwzAMwzAMwzBdGUIIIcSUoKhC2sXzca4qd0hbne8VVbTltHSUtIo6/MvJ9y2W/XvEZ6OyiNb2R4QaDRFitOWs72Y1VVNZeDtLPwcxdURK6hedol5/qZhDCOkYP0tU2b97OybMsYbrpj1ITIjDxrU+GG9mh/XBJ3E54jyC9hxG3JUYLHP3xCRLe0wyd8D67TpRxdNxmTroL7KBw9qduBJ3GTt27EVkbBy2+m1UhYdZNitxPCwa8bEx2BccDBsHd1VEmbRIKqpEITbqInbs3o/twQewfMVqTLW0U9sG2fhsVUWVbYG+mKRWyzByHEyLyL1w5vYb1BRkY9eWbVjqHYSnqUV4eeMi5izfgbwa4O3D6/BYvh62zp5wCjiBksoShB7YCxuXDTh34y0K0pKw2MYFZ259QPan11ixaj2WbT6MtLIaXDm/BSMXeeFBXjnCD/nCzGE7sgsLcSB4G2y9tuB1ejFS3z7Fzp3nkF9ahj3+6zBm5hL4HLiM/PRkWC92wFSD/ZUKKvOW70KWMu/lcydg47QWx6IfoqY4Bx6LnLHr4gOkf3yl3Bc+WLIiCM8+5SPs4FY4B4Sgpr4e4SeOwMFnO97klKPg81us8l6PbWdvo6I4A0uXumLbhfsoyk/BJl9fOKzciiefivDiRhSmW35fyyKKKgzDMAzDMAzDMAzDdGUIIYQQU4KiCmkXTTIZFvvlu0UVqWiiCSOGIsm3EBlFWuzIMlJJRftaorXy0TCs2BKSXKyfqkMTWLTIvlBo+H34r/BPTdf2P8M+qpVvCCHt83NFFRu4bNqriiob1vpg0vxlOBoWg7NH92Oxmy+i4+Oxe3OAKpAYFVUsHeF/4CziIs/D2mkljoVdxtnjBzFnrrSPscM85zXYFXIKl+PicSU6Er5r12LSQnccOBuJKzGROHL8JI6eDMW6tRuUbVBU+d7IvXDu3lt8jLuMqdMXYeyMRdh0PA4ln9/CccUuZFeWIHCDJ8bOtsW4WdY4cu0FMp7cwIzZi5RlbTDLYSvySssQrFzfj3llOLjNX5lvCUbPdcNVaf0TpokqpQg7uBFzXQ4hrzAb61Z7Y/qi5biXlIlLpw9i6LQlyn58wPuHcZhi5Yrrb3MQe2o/JprZtNzfOdbwP52IotQkLLCyVvZrMRw3BKNMWaeH7Vrc/VCM3MwU3L7/FHeUpGZX4GHiIbgEHkJZXhY85tljxEx7nL2ehud3YzB6+gLMc/VHQYlynKv8cDu1CPFnglVZZrxyHMt3XEB5QSZcFzlhisF+dDQUVRiGYRiGYRiGYRiG6coQQgghpgRFFdIuhnLK94gqd3Mrm0QCLVX1326fI5KK1rZH4vsiX50usow2Leh1gTrtbEppU6WU/770dbUVw6oqMl9cZrn+HWLqGLu3OitREdITkM9EqQ4Uk16uft45PchRPwNFtGud/zj/Uf2sk6/lfpf2bNL67GVRtX5tHeNniirjZ1vD3V8nqqxduRxz3fwRHRePcyePYn1QMC5djseFk4dhNs9O2V4rUcViKaYvWYGTFy8j5lIY/Py34WRYFK5EhsHezhUzFrjAbLGLsl1HLPHchFMXYxB9IRRWtp7YJ61/zp3ArHlSlcUOU6x0LVkoqnxfNFHlw5VoTFfljMXwPRqNkk9v4bRiNzLLC+C3wUU5n8q8ZjY4c/s1Um4nYLoy3xTlnphpswmZRWU4fOgCUotKsT1wHSaY2WLsfPevRJWLIZsw1twFsY9TkJ+VjqQPqXjx6C4cHN3Uddv5nUBRcS72HAlDhvK+h5Oy3VYtdybMXoI9F68jP+kp5ppZK9uygdNGvahitw4PUopxNfok7D03wt1nE5yWr8d8W2e4BR1FWV42li90wpjZTjgb9wXP78cq9/ESLPTwRX5xEYJWb8KjrBJEH9mKcbNtMElZv8fm46gozIXXYmdMNtiPjoaiCsMwDMMwDMMwDMMwXRlCCCHElKCoQtrFUE4xbAPUUbTl//V0cwsfGVRti89ltWorF21eGazVkGoZUjVDe8+wUot8LQO9xhBZRQZ/23qfmCY7kgqbrv/fQnX3l8hIrJhDejJldQ0ISy2F28MctVKUiCfaffyj+bczyWprs4i0snaFwJ8lquzbtRUTLJyw+eAZxMdchN1SF3hvPYy4uCs4f+4Czpw7j7CIaMRFX4KzkxvGz2kpqsj2pS1LTFw8LoaH47Qy/7mwS4iPi4Xv6tVw2bAHMbHRWL9yFcbOccLOo+GIiwqDtf2KJlFl9nx7VQKYohcZKKp8X+RanL2ThJzXj7BwkR1mLPbGjaQcJN2+DPPlO5FTXoBNG1xVUWWSmQ1WHopFeVEm1ixfrry2x8aQBJQXZ8B92Xo8Ti3BvctnMV2Zb6GybEqJYeufUoQf8sOUJcvxNrMAsRfDsD5wF9xXrMfsBY6qcDRxrjsSXmUo93E97seGY4qyHsO2PxJVHtkdjsryfKxduQITLR2x68J11JbkwH2hKw7Fv0J60mMsXuyoClIua4Pg4OwB1y3fElX8UFBSjE0eq3H0ejLS3t7DImvl/prnjgu3PyL97X2YzV3aYj86GooqDMMwDMMwDMMwDMN0ZQghhBBTgqIKaRdNNBkV90X9y335+u8Rn/XvfhsRBqRtjywjg7J/RukEFGn/k1zaUhp5WlAFu3vZTfNLZl3P+KpCiqzTsN2LRAZnKaH0PkQ+0u6Bdc+bv97/vkg/ByE9B5FH5HNUqwD1rchnmnzOalVUJiWmq5/FWkRwkenyWWpseYl8lsq8rT9rNX5UVDH38Mfl+ERERVzEiTMXcCU2Fjs2B2L6AneEnI9BfNR5LLaW6hv2cN2wFzduXsMOfz+Mn22HjTtP4ca1WCx38sQEc3ts3HsKt65egbfXCrUyylxXP0QnXMWpkL2wsluJY+ejEBMVgROnzuHylTgc278b0xd7IORCDK7GxeD4yVM4dvI0DoccwsKFTso2l8J2zTZcvX4NO7f4UVTpYOReOH3zJSrzi/D6VRI+fslB5qc3WOnmjpnLdyOrNA9+63WiyjQre8xY5Ilz154jNzsbr958RG5ONo4H71YlllXBF5BXXILkt8l4/Og5PnzOQfQ5nahyL6cYFw74YqaTLx5/yMDz5y/x6EUSPqXn4M3Te1ikXMMJc6zhfSAKDXXl2LB6JSYq13Cqss3JlnZNmWRhi6kLVyDy4Sfk5+bg5eu3uPX0DbLSUuFl7YxZ9htx42UqstLT8SopBelpnxGwdjVcAg+jOCcTXnpR5cyVFDy9e1kVVRZ4+CK3uAhb3Fdgjosv7id9QcaXz0j6mIaMlA/Y4O3z3fcTRRWGYRiGYRiGYRiGYboyhBBCiClBUYW0iyaniByifS2Dox3B+m5W04CpCCbSqkUbpJV/pX2FVBP4l5PN1Va0+aVaRltIpQBp+SP7c+xjSbuVA8jvidwD2j0j98E/H3+nfi2D+oT0FKSCiibpaZHPOPlMlXtVJL7gt0VqWzKRSlrLee0h6xfRT8QtkVdaizDyWiTAopp6/RI6fkxUsccsO29sDApGwLZgbFaybPlqTJ9rh5mLvbBBmb5uvS9mzrNX5QIzuxXw27YXPmvWY4qFPexXBCBw205YW7ti8lxnePnuQMDmrZi70FGdf/oCV/gE7IKffyBmK+sws10OH/+d2LJjL9Zt9IfFIkdMnu+KFZt2KutRtr99DzYr7wVs3oa5UpHD0g5WzqsRoEx39/RuqrTCfDtyL5y7l4QPcXFY6rAKLss3YO4SZ1UKmb7QDbbuq2GunPumyiZWdpgy1xHW7uvhsmIjljh4qq2c5L3JyjlfoFwDF29fLLB1g4XtCixY6oop85ywyG0NzJTrtDf8MT48v4Gpsxdi9ExruG0/i4LiPPgsdcPYObbYGn4fn57dxBwrW7XKiuXS5bBRlrVxXa3G1tUHZouU/VjgBjvPjXBatgYzF7pgsfMqzJmvuw+my3teG9T9k/0QiWn2Eg8sdVut3FsOyv3mgHn2Pljs6KXee9JqytZ9DSwWOqnHMmOhO+y9NsJZzoW1iypSGZ6zzoSiCsMwDMMwDMMwDMMwXRlCCCHElKCoQtpFqlPIYKfIJJ0RVURK0QZKZSBWQ1petBZTtEj7HmkvxNYtpCNImyjt3nF6kKO2iZKvRVihvER6ClrLNLkvpcKJVFYRuaSrECFF2quJBKM9HxL53H6YX6Wf6wdFFYmVvbLs0qaIzKB7zx6TlNeGVSdEAJB5tGkyYC+vp1jp3hchQF6LNGC4jonmuvmnKvPrXss6mueTr2WaYTSJYqqlbpsiTOjWybQXVVS5/w6f4mMxbcYi9bqIIKJ731593XyN9FHel+nqvE33gC7Sgklbh7xn2JppopkNnHxD8DmrEO9ev8bN+8/xOS0D0eeOY4alLWY5bkByXglCtgYq+yXX3xbbjkfgzbuPePnmvZqkpNfw3eiJCWa67YhEIvfaFPlXvw/yunn/dNvXTWuex3DftOP51vLfG4oqDMMwDMMwDMMwDMN0ZQghhBBTgqIKaRcZ2NQGOhfe1lVIkUoA30IGYf8z7GPT4GjrQVkZSA1JLlbFF4lUTxGxpbOVBAj5W6hOeuoXnaLeU9q9GpNerp+DkF+LVPuRSiciqHQ38vltWM1FKrlIJSLhh0UV5reLSBm2y/3gsWw1pneD4CPixnzndfDx3431gbvhvnwNplmKDGOPObbLsWLdZlgsMKjgMldXoccwrdfZk0NRhWEYhmEYhmEYhmGYrgwhhBBiSlBUIe0ikok2yKnJJ8Niv+jf/RqphmI4MPorBmdJ72FcfJp6n0m1Crn3tPtOWp0QQqAKgNIWyLDtmnwuU1RhjEWqnUyybFkZpSszxVIq4diqMVaF56sKLiYciioMwzAMwzAMwzAMw3RlCCGEEFOCogrpEFJBRRMAJCIHtEYGQ6WihbTv0eYLel2gf5eQrkEG4LX77WpWBf770mf1a/mXENJMXGa5KnTJ8yHt174UlVFUYZhuDEUVhmEYhmEYhmEYhmG6MoQQQogpQVGFdAipTqHJAFpEXnF7mKO27pH3/+1Ms6Aif7FPSYV0B9IySrvvrO9mNd2rcg9W1bOVFCGG7H9f1PS8ON5Jp6jCMN0YiioMwzAMwzAMwzAMw3RlCCGEEFOCogrpENJS5Z+O6dpGtJe/R3zGw/wq/ZKEdD3/cV7Xkupvoe9VQUq7F58W8D4kpDVaa7b/5+Q7iioM042hqMIwDMMwDMMwDMMwTFeGEEIIMSUoqpAOs+55c4sVabcy91amKqX8+7kP6r9SyUJarxDS3Xg+zm26Nw2/Dv1Uop+DEKJhKHM5Bx6gqMIw3RSKKgzDMAzDMAzDMAzDdGUIIYQQU4KiCukUZ1NKEZNern9FSM8gqbimaeBdq64iEaGKkF9FWkUd4jLLEZJcrN6L0iZNS1hqqX6u7sew/c+PiCpTrezVgfepVs3T5PUUS3tMU6bp3lO+bppuGPum5dVlW61Lm0dbr6TF9vRfazGcj+nezFzogtkLnY2+1+nMc4TZEjfMmNd834yfvQTjZltjipX+vdbLfE+Udc1Z7IaZyvaMvt9FkeOhqMIwDMMwDMMwDMMwTFeFEEIIMSUoqhBCfgsmJaY3Db5rcXqQo3+XkJ9LUU292loqIq0MO5IK1Uo+5jcy0C86Ra0y1fpeNJZf1ZpqXHyauv1/Pv5jrX8sbD2x0MELsxc4qfLI9HlOmGfvhfl2yzBrgQvmOyyHlbUrps/XTV+gzKtl3lIPWNouU772xKz5DpixwFmdbrbQCdO09Sx1x3SD7c1e4o6Fjl6Yo2xv1iLX5vXZe2LmPAdM0UsxTPdlkqU9giIe4sH1U5hmaWN0no5msoUtHNYdRmFZCbZt9sMEM1tYOG/EiUuJiIqMxIotJ5FTXIpDQRuVe3ap0XW0GeXemKTc56rkZLkUsz22IbWwAhdDdijTO7muHwhFFYZhGIZhGIZhGIZhujKEEEKIKUFRhRBilLrGRrW907+eTsbLomr91J6LDPq3FgFk/wnpLFX1jUgurVFbmUk1FKmAsvB2FkbFfcF/hn1UBY/W91pnI5V/8qrr9VvsPqQdlrYP0xO/fLeoMsXKAat3HENiwhX4rl6NiWa2mOfii0uxcTh9ZB+WuGxAxJV4hOzYgjlLV+D0pcu4EnsZMTExiI2Nxeljh+G/6yjiYyPh6uIK6+VbcSUhDlvWrcOMpT44H3UFJw7uwXQrXbWUyZb2WBZwSNneZXh7eMPBZwcux8XhsrI+yfEjIbC1d6Os0s2ZqFyXfTeSkfLqEqZZWhudp6OZYrkUi7224t6z51i7ZhXGm7vg8tM0ZH14g+3bd2OJ907cfvwCm9b4YJJFJ6roKPfQFNtVOBV7FYvt3THFYilmOmxE4sNX2LN5EyZ3Zl0/GIoqDMMwDMMwDMMwDMN0ZQghhBBTgqIKIcQoUiVCG9CWKhGmwKDLqU37LKGoQjREPvlcVqtKVyKgHPtYgqDXBfB+kqveJ1KR5+8Rn1Uxy/Ae6kz+Fvoe/33ps1qxxPpuFtY9z1fFkJs5leq2tUhLoF+BtG77X0feqvsqss3T7JLvFlWmWtrBdqXIJYnYvzMIk+bYwNl3DxISE7B1ky+sHNYjMi4BIcp7IqqcjYrDuRMhWOLkhcVOKzDP1h0uG/YiMfEKfLxXwS3wIK5eTcTBXZuxwH0jouMTsSdokzqwL9tTRZXAEFxNjIX3Mp2oEq9sa2dgAOy9/REWE4fQQ3swa64dprbaV+YnRaqSWNjDcqkXFjquUKvfjDe3U0WVzy91ospki6WYvsANC5T35RqLfCLLigxibuOpW26RkyoUybQ5SzzUaRaLndVrPXWeI2YvdsWM+fawctyClNwyHD8QjDmLlGlznTBHeW/aXEf9vijrlKo+yvLmi2R5WedSzFgklXdWYK6NTkqZauUIhw3BSC/Ix3Kf9bCwdlOWd8BsZZ3T1dY/Um2lef8sFruoVVbkPpq92E3ZX2fMWOiqe2+Ji3Ivfr/YQlGFYRiGYRiGYRiGYZiuDCGEEGJKUFQhhBiltfQhg+09HREQDPeZosrvgyaaSJKKddVOwlJL1YonAa8K1KonIofINR8W+0W9f6UFz7+d+X7xxDAisIjIIkKL3b1s+L7IV2UX2Q/ZJ6lA1FORfZPWRNqxiKwi0kpFRcUPtP6xxyzbVTgTeQUXToRglpU9fPecQmJcNJa5uMPScUMLUeVcdDxOhQRjkpm1uj2pwLLIwx8xCfHY5uuPgL2hSExMwOmjh+CuSihxWL9qTVO1C6OiytUEBK5bjbFz7BB48BziY8Jhu9RVnffr/WV+LPaYPN8V+y7dRmZ2Dt5/SsWHty/g5OKJ4KvvVVFlivli2K/eh8dvU5CcnILsnBycP7ofk+fYYtWO80jJyMbHz6n4+O4lnFyXwXnjESR/ycLHT5+R+ukdVnl7Y4rXFiTnZMDXdy1Cr75GbV0DMjIz8OTRXTh5H8DnjBx4eftgvLkzgs9eR3qWsi8fZJ2vsWqZBxw3HsTTd6lI/pCCrJxsHNm3HWZLNuPJ+xzU19Xik7L9mMgLmL5wA95+yUdgYADGmjtgy4l4pCnrevcxFelfUnFwdxDGz1qEbWcT8P7dW9x69AYfUjKRk5UKvzVrVLHF+Hn6diiqMAzDMAzDMAzDMAzTlSGEEEJMCYoqhBCjtBZVZGDeFBCRQNtnaddCuoeyuoYmkUSrWiKJSCtTZRKJVOkRoUTi9jBHlUok066mq/eb5M+oFFUwkfxIdZPORGQW2a7sh9ODHFV8MayE0pMllPaQ/RfBRjvWfzqmk1SEHxNVHDB5rjO2Hr6AK5HnYW3vhb2nIxF1PhRWC+wx13ljC1HlTGQsYiIv4cjxUBw/cRIey1Zg+tJVOBd1BYcP7MWB0HC1JdCl86cQsOcI4mOj4ObqgcmW+m21IapsXr8G42fbw3dnKBKuRMLDXpahqPKzM9l8KZbtikBZWT42+27A7CUeWL5xG6xsXLHnmk5UmWqxBIvdNmHV+gBMN7PFykMxKMn7BAdHZzxMLUDixZOYNd8RbqsDMdfGBYmv0/H4WgRmz7OD86pALFnqjOkrtyOjvBhB690xed4GfMwqx/69uzHRzEa5p/Ygv7QMXsu9YR8YquxLMXYFBmDWAg8sW78NS2zdYL1sE7zX+mKqsv21R26gMDMJCxZZw97nNIpL8mHn4oUpVksxc7E/vuRXYItU5NlwDCXlpdgdtBnTFjgj8EQcykqysMxeub8v3EBNUS62rPfDrCWeiH6Zhg8PojDjO9scUVRhGIZhGIZhGIZhGKYrQwghhJgSFFUIIUYRgcBwMN/8Rob+nZ7N04Kqpn3+l5Pvf1mblZ6MnBORMPa/L2qqRCKCjyaLGMZQHGkdOb+G98ivilQIkf35j/Mf1X2Wiipy/4qoJMcnLXhElNEqoNzN1QkoItf8zohsY3iN5BzJsWv8sKhibgcP//2IvxIDX7+tqnQSErwDU8xsMN/Ft2Xrn8griAg/h6Cde7F91z44uHhiylwPhJyJQMSlCwiLiMSekMO4GBGB0+ERiA4/iyWLHZva+LQnqmwUUSUuiqJKF2WihR0O3/mA1OdXMNV8MaZK6x3zpZhgbm/Q+meJci8txdIVQdh37DzOX3+Oyoo0eHg64HDMUxSXFOHJgzsI8PfHJAtb7D5/E8WlJXjx5AG2b9uKGRY2mLFqR5OoMmnuenzIKse+PbuUa7ykSVRxX7YaB8JfIOXNA0wzs1buEV3LH2n9I+2A7H224cCJC8r99wYVJVmwtnOC7cpQVVRZ6rRMuT9sm0SVgMBABIU/R2byA0y3UNalrGfS0tVIKqzAid2rEXThBnKfPoDFzCUYZ2aLwOjnyPoQj1nzlhg9T+2FogrDMAzDMAzDMAzDMF0ZQgghxJSgqEIIMUpcZnkLGUCqMpgCUsHDcL9nXTcNwaarkJY5ck5ERpFr+M/H37U4P90VqeRhKLkYyjAiQWnVVaRFjVZ1Jeh1QVM1FqkColVp0UQTSkjGyauuV6vDGJ5/ObetxZwfFVVk0H2uqy8uxVzGqXPncDk2Fht9VqttfVqLKmrrn8N7MMncRpUZpljZY8pcRwQeOoOE+DhcibkEb+9NOH0pBnFxcTh34hBmzWsWTr4lqoybYw+/vaeREHsJjnbuFFW6ICKqhNxJxpcXcQaiii3Gm9s1iSpTLGyx8/wNZGdl4fatmziX+ATlZWnw9LTH2DkOcN0QjDNX7qO8qgwhmzZh7Cxb2K/ejhORN1FcWYELu7ZhqldQh0SVfeHP8SXpIWaYW6v3kuzLBAsH7I++j8yMNNy4fh0XL79AebEmqpxSRRUbB3dMMLNuKapceIasD8q6VFHFFpPt1uBtYQWO7/LRiSrPH2HeHBvlWJdii7LOzGSKKgzDMAzDMAzDMAzD9MwQQgghpgRFFUJIm/xn2MemgW5pw/KrkOofIlpoFT5EPpFWRCIstG7LItUzDAfoJTHp5fp3ew8iqHg/ycXfQtuueiItb/pF61reyPnVBJFvJfhtUZM8okXOryaRSEUbkUgkIkyQ7kWkJMNrLmKSVM4xxo+KKtOs7DF1oQcOnI5AfHwcLl86Dzs7F0yyWGpEVInD6SP7MHO+A2bMd1LiiCmWDlix5TDiExIQHX4aC+2WYZ+yrsSEeBzZvR3TLZc2bcuoqJKYgC3r1ynrX4kTFy/j4umjsFig7JNVq/1kfjhSsWTZznCUVRRi5xZ/WCz1wv+fvT8BrvK+131Pn96+Vemu9On0rfTp1L253anqVHX6nvTd6b6798095XNO7t7J3t6JbYTEjAYEAjRLaELMM5jBzPM8Y0YJBJoFtrHjKYYY44CRGcxoJjODMZin1+/VehcLeQEC6V3oZX2/VZ8KWpMGRGqn1rP/7+ipC5WVO0gL3jqkY/u3Bh43UPtOXlF92Rp1TyvWzM27dfvmKQ0aUqJxs1eqpHSYkgsn6PCFK9owa55GTFuiocNHqUfOCH168qLqly9WQulUnbpxJTRUOfz1dS1c0DRUSR0wXxevXXcu/ZM1aa2uXb+mRbNmKDF9kEa8sVDFw8brwLmr2rFqceDzD9SCso906+rXzlAlY9gKXQ287rgJU1U0fLy695uoExdvaOobk5U1ZoUu37iuJXNmOZc0mrnxbV2/fEpFgefN3Pqezn/6SWioMq36M05UAQAAAAAA7RYREZGfYqhCRA/NTrQIHzZEOxuhNL8EUXM2oLEBxZmbTadr2JDFbrcTPNzH2AkeNtyIpexSPu73bz8LuxzO5P0XnSFD49XbwUfR89Kl23d/8G/Fhl02GHpYrR6qBHRMytGYuWv0zjtva+PqJereK8d5M75Pweuq3vWWVs2drp7ZQ7W5ql4NtdUq27pN5RXbtWbFUvVIznJO1Gh4+21tWbNMXZJzNXnxRr37zk5Nn/S6OiY+OFQZNHVF4L56DS8dpryRc7TzrV2qqtyu7ZXV2r51swaVDgl8bk5T8Up86gDNL39Hp86cVePhY9r/6V9UWFCq6Tv26K/vb1R8UobeeLNOp7/+Wl9+eUx//vMH+tsXe1Q8aKDWVH+i4ydP6vDxM/pwV61S04u1qOzdwG2n1HjslD794F1lZeSr06Cp+tvJE5o4skhxvUZrzxenNWvmDL3aI10pebP05fFTKh0yQq/2zNfMdQ06ceZrNQY+1/6/7tHggUM1bdM7OnnqTODzH9W79vkP/k0ZOQXq3H+odv71iL4+e07v79qulH5jte/wGU2aNEl/6pmjiauqdezU1zp05Li+OnZE82ZM1qvd+mnahno1vveOUnraiS1Zen1L4DX3bFfX1PSIP6PHYagCAAAAAAC8RERE5KcYqhDRQ7M3v3+y9v7pDG2RncDx6/IjzkkeH1+4Fbw1cuFjC2OXrvnNtqMRTwmxMUb+R2f14oqmgYq9aW+XlHHvt0vKxEp20oz7fdvpM80v+ULPV3aSjZ2O4/6d278FGyU1P22oeW0xVLFLwCTnDteQMVOUWzjI+dh07z9QA0dPVn7hYHVJK1ThiEkaPGqyhgRuGxp47MAho9W1V+BxGaUqHT1F+cXDlJCUo7SCUYHXmqy+2UXOJV3uf55cpeaPDNw3SX3SC5WcNVSDAq812Ix8XX0yCxmpeC3w9xGXlK0e/YuVklmiLqk5zoCoa+Dvt0ffAYHHNI2Uetr9GcXqnJKtbmkF6hy43R6XmF7i3N4p8Bj7u+oYemxJ4LFNj+mUmq8e/YrUpbd9zjx1D/y5a5/8ps/v3pea1/S1JGYH7m/6Wrqm5jpfW3zg96Sn+3kCj+nWt1CdA/fZ72Tn3gOUHPhcXXvnKSHw2k2fJ/Baga/PTgHq1rco8FoD1SMtP/DaWYHH5Aa+t4LA91bQ9PlDH9v3GvyZPCGGKgAAAAAAwEtERER+iqEKET0yG3+4b4CfuNF0asnTturwldBrGRvBuCehNM8uJ+M+zi5BdODyg6eA2IjGHpP9wdcPvEnvss9lr+0ObWzA0vw1ntfs+wwfGNnPZ9aBbx47XCB/ZQMk+/13/56NDbla+nveFkMVYyOAjjYSCB+KNLvN/txcpOeGPg78Z+i1ghKSm55nj3Ef5+JyP/ADhioAAAAAAMBLREREfoqhChE9sgn7LoTeBLfRytNmo5Efr/7CeZ3wy/KkvXcm+IgHe7nueOixj7tUjQ0w7KQW9/WNjViseQcvhW6zywLFyljDhjz2c7PTNmyk0mnXSecSSI87xYb8kZ2a88vNh0O/2zbEsktgPcnvd1sNVQC0DEMVAAAAAADgJSIiIj/FUIWohR299l3wT7FV+vtnQm+G2ykdNoB4muxNdPd1bDziXtbnZ+sbg494MPcSPva4lmSnSLivb+zyQOe/bfpaf1/TNHox0z6/6NwWi9kJHLfucqqK36s4cS3078PYiUM2XHnSGKoA0cVQBQAAAAAAeImIiMhPMVQhakF2KoW9Mbz3YuydRhE+8jA2OHma7DQTe74NU+zUh/DhSvPsEkNP+vl6vXs69Bw7pcX9T8tGRu5pK/afrb2EEdGzbPL+i6HfdTvl6GnHRwxVgOhiqAIAAAAAALxERETkpxiqELUgu4SKvSlsY4hYygYl7sDDPcHBTlVxTyp5kux59nz3hJTST845H5vm2WWC3PuG7jkXvPXh2YDI/fp+V/2Vc9tLlcecywbZKSKWXRrIfc2WntJC1B6zYYqdStTayzgxVAGii6EKAAAAAADwEhERkZ9iqELUwmz0YKON5/XSKTY+aX7SiL0R7o47Juy7EPpz4jungo9oee5zsz/42vn4HyqOOh//ZttR5+PmuQOZTrsePSqxMY2NU9zXdy+BYpdHsY/tP93CT12JxdNxiMJjqAJEF0MVAAAAAADgJSIiIj/FUIWohf2q7LAzcCj76mrwluejjceu6pebm743Yyef2OVEbLRip5nYbe5Ap9vbp0KPs+HKk+Q+z4Yqdikl9+Mxn0Z+HTsRxe5/3DjIvlb3tezrc7Pn2G12koqbna7ifq+v1J8I3koUmzFUAaKLoQoAAAAAAPASERGRn2KoQtTCbNhgAwcbRjwvhY88mrPBys/WNzp/dgcgNvT4xaYvQ48Zsfe8c6JJS/rpuqZL/9hJKu5Y5FGXEZp14JvQ55m8/2Lw1vvZ501//0zoMfa12iWDwvvtjmOqOnk9+FFTduKK+5zWXjqFyM8xVAGii6EKAAAAAADwEhERkZ9iqELUwoo+bhp1vFx3PHiLv7PxhzvY+HX5Ea06fMU56cTGJzYgce8zdp/bgcu3QwMWYyeftGTw4Q59wi06dCl47w+zE1HccYudqlJ3+v7gxP5slwxyX8fuj/Q1PGxEE7fzpPO88BNYiGIthipAdDFUAQAAAAAAXiIiIvJTDFWIWpiNKmzcYCONZ9Hei7ecy+30eve08592MsjTZqeY/GjVQef7sRNO7KSU8OyyP+FDkOanktj99jz3fvO76q+cn1Hj1dvBRzVlY5HdZ2+GLuXjasnJNBUnrj3wnJ9vaHSE32ans9h45kmyn6U998UVB53vhSgWY6gCRBdDFQAAAAAA4CUiIiI/xVCFnll2AsaYTy84l3ixkzxaegmZZ1X4JWMu3Y58uRqvetglen5fc/wHl7tpSeGX1XnYyONXZU2X5zE2jmme/X0N3XMuNHhpzi4RZOy0k+b32QimpU37/KIzKGn+GnZb9gdf/2Bk09LcU1VKPzkXvIUotmKoAkQXQxUAAAAAAOAlIiIiP8VQhZ5Z6e+feWB4YKeEPGk2lrBTN45e+y54i3fZKSTu1/q0p5nYa9jXape1aWk25nE/r10KxwYW4aeT2BjkSU8UseGJPddORYmUXVrHfX3zqMsd2VDGvkb7OsKf05wNWtxLBtnI5El+hp9d+ta59JJ9HcYGMq39O7dTVdyxC1EsxlAFiC6GKgAAAAAAwEtERER+iqEKPdNsYGGDAxstPMl4wx6f9t4ZZ7hhJ388yXNbk30+G1rYiSRPkn2fdmkcd7Rhp4zYuONxp8jYz8Y9TcQGKuHfp9332x1NgxUbgDzJySru0KXb26eCtzyYndRi9/9k7SGVfXW1xUMYe9y6I1ec780GIDZGGrH3vHObnUJjJ+fY6xo7VeVZn6JjP7No/e4QtbcYqgDRxVAFAAAAAAB4iYiIyE8xVCHfZKOGRYcuOQMHd+xgJ4I86WkirckdcDzJKRy7z950Bh/u1xyu066TjxxrTN5/0XmcnUZip7E0zy57435Nie9EHp1Eyj39JNJlb+ykEffrs5NL2jr3NBfzSv2JiN8XEXkfQxUguhiqAAAAAAAALxEREfkphirki2zMYZd8cQcOdoKIjVaiXf5HZ53P/7BL5jTPRh92eor7NdtliuxkkXkHLznjE7vdxiDTPr/onFxi94VnJ57YY+w0lodlz7GTXuzkFTvJxF7ncSeVuKe72GikeXZyi91nr3fiRstPaWlpNkyxU3Dscxgb8djwx/4+lzVeVtXJ68FHEpGXMVQBoouhCgAAAAAA8BIREZGfYqhCvsguH2OjBht92Ckjz+pyLTakcL+Ox2VjkV+XH3EebyeYND/5xU5acccqLvvYhiZu7qDELqHzsGz00vzEFhvF2OV2HpY7gLFLB4VnX5P7GpFGLG2VjWvCT1ZpzgY+RORtDFWA6GKoAgAAAAAAvEREROSnGKpQu+jMzTvOKSWNV394GR8bfNiJITZgWHX44eOLaBR+WZzPLn0bvDVyE/ZdcB5nJ5O8fy7y/5HontDinrpibHTi5l7myB7XPBvr2KWD3OeZ8NcxdmmdSF+nneBi99vX5l56xy4j5H4+G8xE+rto6z6+cMu5/JCdlmOjHJP23hnnayEib2OoAkQXQxUAAAAAAOAlIiIiP8VQhdpFNqiwcYQNVpp39Np3oeHF4y5p43U2DrFxh30tjzqxxB5np5rY4+yyNg/Lvl97nI1a7LJA7vfp9vuapssd2c8nPBtyhI9U7GQU9xQSG8W4J7m4bIDiDkHs0jp2SR/3PrtckJ1w8lLlsdBtdmoNET3fMVQBoouhCgAAAAAA8BIREZGfYqhCzzy7JI6NIxLfORW85cHCRxXt4aQNdwRS9PEPTzlxszGIPcZGLTa0eVQ2ErFhi13yx/0+3YbuOed8bGMWNzuFxD35xNjPrfmAx17PLpfU/JJAxk4wsewUE/vYBkLuiTXGBjDPehBERN7HUAWILoYqAAAAAADAS0RERH6KoQo98xYduuQMJGxY8bB+vqHpdJJ5By8Fb3l2dXv7lPO12NDjYfV697TzGDsRpaXZ4MSeY5dAcqs73TR4MXbiiXvCiiv9/TOPHJXYsMcGMHZCyqwD3ziv5z7eBi/NLxUUafRCRM9nzlBl0mzFJWWpc2oeAI8lpORo776/MVQBAAAAAACeICIi8lMMVeiZt6zxsjOSSHvvTPCWH2aXp7HH2GDlWQ8pbPRhX4udQvKwbGxij7ETUVrS7rM3Q5cUskFJeO4wJtwvNn3pDFBam532Yies2OClLV6PiPzTzRs3VDpqkv65Q5Je7pQKwGN/iE/RX/bu0x2GKgAAAAAAwANERER+iqEKPfNspGHjC7ukzsM6/+3d0OVp8j96+CV3olHFiWuhwciZm3eCtz6YDUns/pacAGOv4T7efgbNhzj2sb3OK/UnHPZnu7QPEVFrsqHKwBET9b+9mqh/ie8FwGP/3CGZoQoAAAAAAPAMERGRn2KoQs88G6G4w49Lt+8Gb/1h7iWCzLojV4K3Rj8blrhfh41WImWDErv/UafEWPZaNk6xx9qJKu+f4/+YJKLoxKV/gOji0j8AAAAAAMBLREREfoqhCrWLfrK26bSUutPXg7dErtOuk6FRx8Zjz+5SNe7XO2Lv+eAtD+ZeHsge97DxjY1c7FJG7eH7IaLYyxmqTJylDomZ6tQrF4DH4pOztXff5wxVAAAAAACAJ4iIiPwUQxVqF/2+5rgz2LCBx6O6dud7vVR5LDTu2HXmRvCe6Ba3s2kwY193pOyklB+v/sJ5jD3WHavYJXtsoOJ+v8Yex0iFiKIdQxUguhiqAAAAAAAALxEREfkphirULir6+Kwz2uj29qngLQ8vfKxiI4/dZ6P/f4Ata7zsfH4by5y4cSd464OFX6rIvs5fbPoydBKL63fVX+nA5dvBZxARRS+GKkB0MVQBAAAAAABeIiIi8lMMVahdNOvAN85w47c7jgVveXTnv72rX5Uddp7zs/WNOnrtu+A90clOSPnRqoPO57eRzcOyE2Lcx4WzgUrZV5yiQkTPLoYqQHQxVAEAAAAAAF4iIiLyUwxVqF1kow0bcNipIy3NLq/jjlV+XX7EuaxONMv+4Gvnc9sQ5WGnqlg2arHvz05hWXfkivN1ExE96xiqANHFUAUAAAAAAHiJiIjITzFUoXaRXf7GPW3kSQYnjVdvO5fVsedN2HcheGt0slNd3Ev52H/a10JE5JcYqgDRxVAFAAAAAAB4iYiIyE8xVKF20Z1790KXyNl78Vbw1pZlAxV3LBLtU1XspJSfb2jUT9cdivrlh4iIWhNDFSC6GKoAAAAAAAAvERER+SmGKtRu+u2OY87gZNGhS8FbWta1O987QxF77qrDV4K3EhHRo2KoAkQXQxUAAAAAAOAlIiIiP8VQhdpNpZ+cc8Ym3d4+Fbyl5fV697Tz3PT3zwRvISKiR8VQBYguhioAAAAAAMBLREREfoqhCrWbqk5ed8YmdjrKk+YOVdLeY6hCRNSSGKoA0cVQBQAAAAAAeImIiMhPMVShdpNdwufFFQedwcnRa98Fb21q47GrGrrnXPCjps7cvOOMWxLfOeU8x6w7wqV/iIhaEkMVILoYqgAAAAAAAC8RERH5KYYq1K6y4cm8g5eCH93vF5u+dIYoP179hX60qmnM0lynXSeDjyYiosfFUAWILoYqAAAAAADAS0RERH6KoQr5opcqj0Ucp9gJLC/XHdeqw5ykQkT0JDFUAaKLoQoAAAAAAPASERGRn2KoQr7o1t17+vjCLZV9dVUVJ65p15kb+uzSt8F7iYjoSWOoAkQXQxUAAAAAAOAlIiIiP8VQhYiIKAZjqAJEF0MVAAAAAADgJSIiIj/FUIWIiCgGY6gCRBdDFQAAAAAA4CUiIiI/xVCFiIgoBmOoAkQXQxUAAAAAAOAlIiIiP8VQhYiIKAZr7VClc58C9coepNQwPfvmKy4xy7m/W1rRA/elZpWqS2qOOiZnN71GSo46JGWpZ8ZA5/6UzGJ1DHwcH7i96XPkOK/VPb0k+Bql6hp4flxS0/Pteb3DXt+eH+88P/DcPgOUEnafK7F/oRICr2+v26N/ifP8Xpklik/ObHpe4HXta7DnN31vD35OoDUYqgAAAAAAAC8RERH5KYYqREREMVirhirJWUoevUinrtzS9Rs39e3t7/Ttt9/qzFeNmjJxgl7plq4RM6p0/dvbunHzlm4H7r8Z+Hz797yvAYWlTcOPPgWatbFBpy9ec+6/dvkb1WwrU2qfPGesEp+Sp7FLK/TVucvO69+6eUMH932okoGD9cfkAdrw8RF9F/icN2/ddp5/9fJF1ZSvVc+UdHUdOVvHLt8MPOeW81y7/97336t2+xb9qVuGpizfruNnL+n2d9/p+pVL2lm1RUlpueqYmKV+I2brw4PHdd1e99ZNffHZHg0dOEwdGauglRiqAAAAAAAALxEREfkphipEREQxWGuHKiljl+ry99Ld21f1131/1d+OnNY9e93zRzUgJ18jZtU5n+f21Uvas2efTn1zzfn4wEe16tSzn0Yvr9bdwMd3b13T/gOH9M3175z76zasVIeufZU7YbWu2E33vlPjgS909Owl5/6je95R19Q8bdl32vn4zKmv9PGnjbp5O/DF6DutmzlZnUfM0Vl78e+ua/9n+/TRns+cgcDCBfOU9fpyXQ/cd+/OLR04eEgXbtx2XmfHqnnqmDZMHxz9xvn49PFjajwZ/PPBD5Wclh06dQV4GgxVAAAAAACAl4iIiPwUQxUiIqIYrE2GKvdsmLJPffr3Voe+I/Tx0cvOa6+dPl3Dp9c4fz772Ufq0bm3ciZv1reBj29cOKqk7OF654sLzv3b1i7Sa937a+iC7bJdytVTB5TSJ0+r6w869+97p0pdE/srZfA8HT53Xd+c+VL9CwZr019POfdvWbdYv+/UX8vf3u98/OlbK9V15Cyd+166feELpfdP07907qc/du2vP3bpq3lbGpzHHX6/QR0DX9eYZbt04/Ydffrnaud5Z2zgcuOMBhbkqGfeVB05e1VXz53UiLxSdXAvWwQ8BYYqAAAAAADAS0RERH6KoQoREVEM1pZDlb7pafrXrnmq23vCee0dc+ZpxPRq5882VOnZubd6D1yma99L188dVcaQ13X48h3pu0saP6hYryVmqGfObH19I/CEWxc1qGiMqj475zx/9dJ5+mPXfnqte6Y69x6gbn0G6NXUIpUHT1TZsm6p/imutyZt/9j5+NO37w9V7lw5rjemTFbRiDdUMmycOif315il253HXb9wUrOmTVdSWuA1+xYqse8AdS6YrMNXAl+Xbqt+6yal5xSpS598JfYvVrfUvMg/C6CFGKoAAAAAAAAvERER+SmGKkRERDFYW1365/bV41qweL4WbmzQN7fuSfduaMroURo+o9b5PFeOH9bsmUtVv/eI8/GRvbuUVjhCx6/etbWIxmYWq0NyppJzZunM9cADbn2j0QPHqerQeefxK5fMUY8BY/XG3GV6Y07AzAXqml6qsk+bTlT56L2dmrJoo46csydLWxbMUOcRs3XW9iZhfXelUQWFGYrvP0K1fz3WdOO9uzpx5AvNmz1D8YHvKS4pV5NX1ev6HbuIkXTtm/Oq3LpZaf0GBO7PifyzAFqIoQoAAAAAAPASERGRn2KoQkREFIO1xVDlkl0m54Huand1mTr17K9Rs+uDt93v2tljGj1okHrkjdbJa8GhSlZwqJI9S2euBR707SVnqFIdHKosXTBDA1fsdP5s3bt9WdmDx2jT3pPBW+73+Qe71KtXprqOnqdzgZe/d+sb1dZUaeO2Wq3fsFZ9MnP0Wo90xfUq0Ph5b+qTQyf0nW1Svr+p5XPeUFxihv7UPUPZI2dq2zt/1ZUbdjEi6bP3atQ9NUsJKRF+FkALMVQBAAAAAABeIiIi8lMMVYiIiGKwNjtR5doJLVuxTNPmr9SY8VPUtZeNQTI1ek7TUOXyV1+qvPID2abl8lf7lZ6WoS55o/WlXfrn7hVNHFaqV3ukKyl/js7Z/56+eV7FA0Zpx54zzvM3LF+gHgPGaPbSWn1j99tQZdDo0FDlgz/v1u6/NZ2u8m7FBsV16avuNlSxr+3CF8rM6KuXu/bXK90z1LFXnjKHTdawcVOVmp6tV5LyNHf7X53nHtqzUylZIzR0/AzlFg/TH7ula8CYlbpsW5WbFzQ8f6A6JGdH/nkALcBQBQAAAAAAeImIiMhPMVQhIiKKwdpkqHIv8Drn96lvepozBIlLynLuj+uZpdHBE1W+3veB+vQbpYPnvw18dFdr5k/Vyz0LVf/5Wef+P9eWKSV9oOaW/dn5+Jvj+5SUmqF52z52Pj514C/KH1CoPiWLdP5G4IbvrjxwosqGlfOV+8Ym2ZV+bl88rqKsHHUZ1TRU+e7ilyopKlC3tCL17FekjqmF2vDhUed5H729TYl9B2hO+SfOx4c+2aVBUzYp8DRdPX1UpYVDlDNmib6xL/vWNxqTX6oOSQxV8PQYqgAAAAAAAC8RERH5KYYqREREMVhrhyq9xi3TlXvSrYv7lZmboY7J9++3ocqYuQ3O5zn3t0+U1D1ds7d/5Hx8+otPlJycoYJpb+rSbbvlnm7cvKXvnUvw3NLahXP1Wvf+SimZqcbzTf8D+/a3t3TjdtNleK6cblRa/mBt+fS08/G2Dcv0asogfXL0svNx1boF6jxyjs46lyX6XtevX9OVq9ec/7G+ddM65Yxeqm++tU9mn/eG7toyRXe1fulsxacP0XuN5+yGwOf8Vrdu2/xFOrb3XSX3zlY8l/5BKzBUAQAAAAAAXiIiIvJTDFWIiIhisNYNVbKVOGSmPvzbUX3yYa3SMjMVHzZU6ZiUrZIJb+pvR77Su1XbldQzXSkl0/Th/i914PN9GlZaqld7Zqt48nK9t+eADjYe0Wf7PtXc2TPVJSVLCc5rZKn/oGmq3L1XBw4d0YEvGlVbXanC4sBzU/K1oPJ9HT58WAvmzdYfu/bXqEXb9MWR43q3tkKpQybrnf2NOnAw4NBhR+Pho1qzarn+1C1DRRMXa9eHnzmfd//+v2nFksXqmpLjfM6kvLFaW/VnfXbwsA4GPmdD4HPm5hSpY3LOgz8D4AkxVAEAAAAAAF4iIiLyUwxViIiIYrBWDVVMcNhho5RI9ye49ycH70/JDj3ehih2m30cl2i3NbFLB7n3mfjm99ufg4MRe9PfbosPfJ4HPrbPF/raHhQffK792T6Xe3v4500IPD8u8DMJ3Rf4nO7nAFqDoQoAAAAAAPASERGRn2KoQkREFIO1eqgC4IkwVAEAAAAAAF4iIiLyUwxViIiIYjCGKkB0MVQBAAAAAABeIiIi8lMMVYiIiGIwhipAdDFUAQAAAAAAXiIiIvJTDFWIiIhiMIYqQHQxVAEAAAAAAF4iIiLyUwxViIiIYjCGKkB0MVQBAAAAAABeIiIi8lMMVYiIiGIwhipAdDFUAQAAAAAAXiIiIvJTDFWIiIhiMIYqQHQxVAEAAAAAAF4iIiLyUwxViIiIYjCGKkB0MVQBAAAAAABeIiIi8lMMVYiIiGIwhipAdDFUAQAAAAAAXiIiIvJTDFWIiIhiMIYqQHQxVAEAAAAAAF4iIiLyUwxViIiIYjCGKkB0MVQBAAAAAABeIiIi8lMMVYiIiGIwhipAdDFUAQAAAAAAXiIiIvJTDFWIiIhiMIYqQHQxVAEAAAAAAF4iIiLyUwxViIiIYjCGKkB0MVQBAAAAAABeIiIi8lMMVYiIiGIwhirA4yUkZ6tDz0zn30l8Sk7Ex7QUQxUAAAAAAOAlIiIiP8VQhYiIKAZrL0OVhJScgODHzp9/OAZoyWMelPPAqCA++f6fE1Kyw/4c9rrN2PMTgn9+1OPw/LJhScqAURr9xgKNnTxLfTML1TFwW6THtgRDFQAAAAAA4CUiIiI/xVCFiIgoBmvNUKVjSq4GTVuiLWXlenPDJq19c6Pe3LhZW7Zs1pDBIzRs8hK9+eZaZacXqkNStvLHzNXGTRtVXDhIaSXjtG5juSaMGam4xCz1L5mgBSve1MbNW7R0yWJl5RY/ODIJ/LlX/ijNXrIm8JgyrVyxQgVFgwNfd5aKJ84LfP7NzufesGmLNm/ZouGDhyuhT5HGTl8cuH2L1q9fr3Fjx6tzrxzn684bPlXL124MfD1bNH/uXPVOH6AOvQZo3LzVWrdqhXr1H6COSbnKDzxuxdpNztdlj0tLLwh8LzkqmrRQmzZt1oihw52TNjJHTNX6wOcfMXy44gLfa/jPCf7VMfDvInvMQh3++ht98dl+ffrlKZ069jeVFJc+9d8zQxUAAAAAAOAlIiIiP8VQhYiIKAZrzVDFThpJH/y6xkyaoYVrt2hXfa3mzZsX+Hi6+meXatL8DdpZt10FmUV6LTFbpW8s19tv1Wl46VClD5ms+l1va/aUMeqaOUwbKmpUUbZRE6fN19bqem1bv1rJaTZQaTrJpEvfUi3btEM128s1edocrd9WpZptm9S3X66GzFyht3bWaf78+YHvZYbGTZ6hjJxSjZy5UjsbarVg7nzNW7lRb++q0+ghQ5VaNEHbaxu0ed1qTZy5WDUNO7Vm8TwlpOZr+pptathRptT++eo7aIp21NZr/erlmjB9gbbX1Gn9isXq1itbQ+asCXwvu7Rh1RJ1Tc5Q3vh52rVrpyaNH81Q5Tlhp+7E9x6odxsv6K87t6lLYn916FOq2k9P6+Cfq9U56elOIWKoAgAAAAAAvEREROSnGKoQERHFYK299E98UrZe7Z6hITNW6K26KpUUl+jVHpl6rWeeJi/YoPqaCuWnF+hP3TNVPGmpdu2s0bCBQ5yhSm3DLs2cNFqppZOcscjiOdP1p66ZGvT6fC1bvkwZ6YVNl95JzlZS1lhtq63Xm0sXKL57P+WOnqEVK1cpN69Qg6cv11v11SouLta/de2vV7qnKy6pUPPXbFXdjjJl9MtRt5zhWrhyncaNHqOCUfO1860GvTFmtF7pma1xs5dp0fx56tGvQNNWlauuYpOS04s0afEGNVRvU2524OvvkaWRc9doV32lCgpKVDpzlRrq61VfvUODikuVPWa2GhrqNHEcQ5XnRXxShlIGLdSlG1f1+sjhei0xS3E90gO/b5t1/ZtTKszIV3yE5z0OQxUAAAAAAOAlIiIiP8VQhYiIKAZr7VDFdEzO1rBZK7WrrkqlpYMCH+coLjG/aahSW6mZU2dpxPhpmrN8o3Y2VD8wVJk1eYw69Rus1eVVqqvarhnTZqhPRqFzSR87scX5HHYJoD7FWrBum3bWVWv+nLnKyClRXM9MZxQybOYK7ayv0by5czXq9RkaPmq885whU5dp584Gvbl6pQYOGqFOyVnOZYZ6FYxTeVW9qirKNHHCZCX3zXO+/w6pBZq+uly12zYpJXugZq3dppptG9XLLguUmB0c2tRq2ODhKp2xUg21VdpcsV0r5s9WwViGKs+b+J7p6jNzva5cP63SgXmKS85VQlKmUsYt0sXrFzVuaKFzW6TnPgpDFQAAAAAA4CUiIiI/xVCFiIgoBvN2qLJe9XU1KttSrg2bylReUamGwGMeGKpMGasOPTOVVjxeS9ZuUcPOBlVVlGvMyNHOSSru50gIvGZy3kjNXbFBdfUNqqncrimvv674wNc9dOYK1dfXqXzrVm3aslWrli9Wt942binSmBlLtb2qVjsD969YvFApffMCX1+usoe9obWbK5why7YtGzWweLBe6zUgNFTpnVOqBeu3q2brRqUGhyol7lBl0HDnRJVdNds1bvrCwOct09R5SwJfF0OV54kzVJnxw6FKr/EMVQAAAAAAQPtFRETkpxiqEBERxWCen6hSU6HCrGJ1SMpR6ZRlP7j0jw1V4gOPt9fp3HuA8oZP1fptVaosX6+0/vnOpX+c+1Lz1Nk+X2q+Mktf16pNFaqr3Kqc7AHOpX921VdryOAhgcfbY+1xTc9JCDw/JXeYpi1aq4ad9Xpj/FjnNjtxpVu/YpWOn62KmjptXr1UXfvkO5f+cU9Ume2eqNK/aahSFH6iysxVeruuUgWlozRn9RZVbN+h+rpahirPEefSP6URLv0zYwuX/gEAAAAAAO0WERGRn2KoQkREFINFY6hSkFmk1xKzNTDCUGXGxDHKHjpDW7Zt1Zihw/VvXbM0aeFGNdRuV0F2sfNa8clZ6lM6WZvKtmny6xP0xy79NGzmcr3VUKMhg0pVOi3wuvXVKh04UK/2yHQuCZTQr1QL12zRqmWL1CUpXSnFE1RVv1OL50xV6eTF2lq2SfkFJXolKU8LN9jJKeuVklGoqavKVVexScn9CzVh/ptqqNmuwgHFeqVnjsYvfFO7ancoP/Bx6azVejvw/Q4oLFX2iNmqqa9XQ10NQ5XnSEJKtuJ7D9TuQxf06a4KdU3sr7i0UtXtO6Mv3qtW56Sn+zfDUAUAAAAAAHiJiIjITzFUISIiisHaZKiSlK0Rc1Zp984aDR50f6gyZeFG7arfocKspqFK6RsrtPvtOo0oHeoMVRreeluzp4xR96zhenNbtSoryjR/8Uptq6rVlnUrlZxmYwGToy79BmvpxgrVVm3XgsXLtbmiSjvKNiitX66Gzlqht3bVa/WqVZo9f6nmLVqigsJhGjFjpRoa6rRyxUqtWF+mhrpqjRwyVKnFE7Wtpl5bN2/U/KVrVF1Xr5UL5yohNV8z1m7TzsoypfbPV2rRBJVV1mrrluDjagOPWzRXnVOyNXTuWr27s1pFJYMU32eglm/eoXcCX8Pk8WMYqjxHOgb+XWSNXqDGMxd16PPPte/waZ06+rlKigY+9d8zQxUAAAAAAOAlIiIiP8VQhYiIKAZri6GKXbonf/QMLV6yTDn5xc7lejom52nQ+LlauHix0vsXKC7wmOxh07R42XLl5w9UasEozV+2WsOHDXXe8O+VN0KTZi0J3L9Ks2bNUXpOcdMleoKfw/7cM2uIxk5bGHjMas2dt0C5A0rVMSlLeaOna+HSlY5FS1dp6fJVKikZovjUASoZO0Pzl6zSosDXNnzEGHXpleN8fX2Lx2n6/OXO55s6dbp69x+guF75Gjp1oRbMn6/kfvnO92WPm7HAHrdSkyZPVXLffOd7yR0zU0uWLFVGbolzWaOCwNeweNkKlQ4a4gx1wn8+8Lf4wO9nct5IjZw8T6MnzlBaZkGr/o4ZqgAAAAAAAC8RERH5KYYqREREMVhbDFWMvfkel5T1wLgkdFvw44TgxzYUscc5fw6+4W8f2+jEbnMf476O62GPcT9PuKb7Hny8XaLIfa0Hn5Md+rrtMkPOxw993IO3N/840tcN/3N+dwP/RuzfSXzw7/xp2e8KQxUAAAAAAOAVIiIiP8VQhYiIKAZrq6EKgJZhqAIAAAAAALxERETkpxiqEBERxWAMVYDoYqgCAAAAAAC8RERE5KcYqhAREcVgDFWA6GKoAgAAAAAAvEREROSnGKoQERHFYAxVgOhiqAIAAAAAALxERETkpxiqEBERxWAMVYDoYqgCAAAAAAC8RERE5KcYqhAREcVgDFWA6GKoAgAAAAAAvEREROSnGKoQERHFYAxVgMezcUmHnpmO+JSciI9pKYYqAAAAAADAS0RERH6KoQoREVEM1tqhSte0AvXsV/gDXXvnKSElR/EpueoRvK2TfZyco26PeI49pkvvfOfjLr3vfx73tm59Ao8J+/yA1zomZSt75AwtXbdVK9ZsUHHJYMUlZUV8bEswVAEAAAAAAF4iIiLyUwxViIiIYrDWDFU6puRq2OxVqq6uUkXFdm3dVqGK7TtUXbVDo0cMV3xasSbPW6ltgdu2b6/Q4gXzlZxWoPFzV6vKeU5F6DlVVds1euAwvdozWyOnL1NV5Q6NHTXKGQnEJ2UpY8Q0Veyo1KQJYxUXuC3S1wO0tbjAv4tBMzfq/OUrem/nLtV9dFCXLp7WhFEjA/c93ViFoQoAAAAAAPASERGRn2KoQkREFIO1ZqiSEJCaP1wDBo3RtKXr1VBXrSmTpzgfp6QXauTMlc5tb0x6Q0MmzlNlbb2Wzp2lvnnDlF86TrOWbFR9XZUmj5vsPKd3vwIl9CnRko3btXNng1YvmqfOydnqmJSlrFEzVdfQoGmTxjNUQVQkpAR+z9KGau+Jy3qnbLXiuvfXq8n52rD7Sx396zvqlvx0pxAxVAEAAAAAAF4iIiLyUwxViIiIYrDWXvonITlbr/XI1NCZK/RWXZUGlgzUq4GPO/ct1eqt1dr65nL17JWp15IGaM6actVWbFK/fjn6U7dsjZ6+Rg31lSrJLtFrPbOcQUpqySRVVNdq+45qVW7dqP7p+c7JFQxVEG3xSRnqNWyZrty4rDHDhwT+jeSoY2KGSt54U9cvf63S7AHOqUKRnvsoDFUAAAAAAICXiIiI/BRDFSIiohistUMV0zE5W8NmrdSuuiqVlg5SXFKWemSM1KbKWm1csVg9emUFHpOjN5ZuUH3VVuXk5um1nrkaO7NpqFKaN9C5Py4pR0OmLldddYXemLlUNXU1Gj1suDr0zGCogqiL75muPrM26Mq1UxpYkqu45MDtSZlKHLdQF65f1PhhhU23RXjuozBUAQAAAAAAXiIiIvJTDFWIiIhiMK+GKj0zxqisqu7+UCUlV1OXbVR9ZflDhirZik8t1II3t6liwyql5Y/Q5qp6LZ8/Ux0ZquAZcIYq097U1etnAr/X+YHfu1wlJGWqz/hFunTtosYOLmCoAgAAAAAA2h0iIiI/xVCFiIgoBvNmqJKtHunDtXFHrTatWKTuvTIDj3GHKluVk/PDoYpd3icpf4zKq+q0dfMGjX9jvrbsqNH2zW+qV59sZYycwVAFURWflKmkwtk6f/2GZowbo1d7Zum17ukaNbdS188fU06/PMVHeN7jMFQBAAAAAABeIiIi8lMMVYiIiGIwL4Yq9nFCnyLNf7NC1Vs3Kj1zgDr3H6pVWypVsWmNUvrkBD7fg0OV13pmquj1haqrr9PmzZu1dv0mbSqrUH1tlYYUl6r/iOnOUGXqxHF6LTFL8Sk5SkiJ/PUAbSLwOxaXUqAde07o6N63ldYvTz3yx+mjY5f0l+rNik/MiPy8x2CoAgAAAAAAvEREROSnGKoQERHFYG0yVEnK1og5q/XerloNHmRDlRzFB2QOn6ZtVTWqKC/XhrIK1dVUatyo0YoPPD4uMU/jZ7+pd96q0WAbqiQXaN6arXqrtkJ5uYWBrydL6cOmq+Gtt7Ro1lRljQz8edcuVWwr1+p167Vu/QaNGjnS+dyRviagLcQnZal3yRR9cOC4Thz7SkdPndP+v7yjjOwC5/c80nMeh6EKAAAAAADwEhERkZ9iqEJERBSDtcVQJSElRxmDX9ekqbPUL7swdNKJnXqSVjBa496Yq4mB+wpKhgbuaxqWxCfnKnvQpMDtM9Wvf4E6pRVq2MTZGjt+krqlNr1m176DNHrKHI0YNVZ9BgzX+Klz9HrApGlzNXn6XBUUD3YGMeFfC9DWbKzSOa1ImSVjlF00IvD7mfPUIxXDUAUAAAAAAHiJiIjITzFUISIiisHaYqhi7M13OwXFximRbjd2SaBI98UHhy1x9rikbCW4jwm8lt0fZ7clN/05XGvGAsCTsOFUx6TA75z9LrbyklMMVQAAAAAAgJeIiIj8FEMVIiKiGKythioAWoahCgAAAAAA8BIREZGfYqhCREQUgzFUAaKLoQoAAAAAAPASERGRn2KoQkREFIMxVAGii6EKAAAAAADwEhERkZ9iqEJERBSDMVQBoouhCgAAAAAA8BIREZGfYqhCREQUgzFUAaKLoQoAAAAAAPASERGRn2KoQkREFIMxVAGii6EKAAAAAADwEhERkZ9iqEJERBSDMVQBoouhCgAAAAAA8BIREZGfYqhCREQUgzFUAaKLoQoAAAAAAPASERGRn2KoQkREFIMxVAGii6EKAAAAAADwEhERkZ9iqEJERBSDMVQBoouhCgAAAAAA8BIREZGfYqhCREQUgzFUAaKLoQoAAAAAAPASERGRn2KoQkREFIMxVAGii6EKAAAAAADwEhERkZ9iqEJERBSDMVQBoouhCgAAAAAA8BIREZGfYqhCREQUgzFUAaKLoQoAAAAAAPASERGRn2KoQkREFIMxVAFy1TEpOyBL8ck5D9xuoxK7LyHlwce3BkMVAAAAAADgJSIiIj/FUIWIiCgGa+1QpXNqHtAuRfp9/YGUHHVMzlGf/OHKKh6pXumFzjDF7otPyVXv/BHKLBqu7r1z22yswlAFAAAAAAB4iYiIyE8xVCEiIorBWjtU+X1csv63V3sC7Y6dkBLpd/Y+G6nkafamXbp867vAv4Z7Onf8S00YOUqvds/QsAVbdenWXen7O/q4rkI9UrKUkJqvLhFfq+UYqgAAAAAAAC8RERH5KYYqREREMVhrhyovvdxZ//hPHfS//HMc0K506JnxyJNVOiZmKH3kYl36Trpz7bIOHjrh/Jv4av9udUks1tv7L+rrz/dozc5Pde/WRQ3IH6rVdXu0YcXCwL+Xx41gHo6hCgAAAAAA8BIREZGfYqhCREQUg7V2qPKf/62LMwr47e87Au3K44Yqr3XP1KwN7zr/Dj6q2aqumaP15eU70q3zGpozSm9//o1O7/lAi7d/pO+un9OcZdt0/so3mjh8hOKClwd6GgxVAAAAAACAl4iIiPwUQxUiIqIYjKEKnlePG6q82j1PK7cdcv4dVKyfpX9JLdWfT161fxWaMqZEIxZX6bpdEUjf69MP39MnR77WB1VvKuEp/624GKoAAAAAAAAvERER+SmGKkRERDEYQxU8r55kqLJ13et6ufcgvX/Chio3NXtaqV5Lyldm6QTll47W5FUNunjmqLL6ZeuP3dI5UQUAAAAAALRbREREfoqhChERUQzGUAXPq5YNVRqdfwfb1k3Wv/YepD87Q5UbmjFlkOKSchTXM12dMkdp/9eXtGvHdq0sq1NNbZ2GDxuujslPN1ZhqAIAAAAAALxERETkpxiqEBERxWAMVfC8evxQJVfLyvc7/w6qNi3XH3qV6KMzN6Tvr+mNkaWKSw48pme25m7/RGeO7NN7+47o9q3r+ubadzrXuFdpvXOUEOF1H4ehCgAAAAAA8BIREZGfYqhCREQUg7V2qPLSy531j//UwRmrAO3J44YqHXqka+SSSuffwdE9H2jEpOW6cFv67uJxFWQWKC4pU2nD5uvctRtaMnu+Pjt1XfveXa9Ji9+Trl3QsL4F6hjhdR+HoQoAAAAAAPASERGRn2KoQkREFIO1dqjyv73awxmr2MkqQHsSF/idftRQJSE5S91yJuhvZ647/xbufX/P+c/dO95UQlKG4pOylDVinrZu26xuqbmq++yUvrt+USfPXtOV4weU3ifwGhFe93EYqgAAAAAAAC8RERH5KYYqREREMVhrhyqAn9loJHP4TFW/u0ef7P1MWzdtUu9++YpPyXHuTwjcb4/pmJSt9GFztfPDz/TJnj16Y+KEwG1ZP3i9lmCoAgAAAAAAvEREROSnGKoQERHFYAxVEOvs5JTXemYEZSo+5SGPS77/uLik7IiPaQmGKgAAAAAAwEtERER+iqEKERFRDMZQBYguhioAAAAAAMBLREREfoqhChERUQzGUAWILoYqAAAAAADAS0RERH6KoQoREVEMxlAFiC6GKgAAAAAAwEtERER+iqEKERFRDMZQBYguhioAAAAAAMBLREREfoqhChERUQzGUAWILoYqAAAAAADAS0RERH6KoQoREVEMxlAFiC6GKgAAAAAAwEtERER+iqEKERFRDMZQBYguhioAAAAAAMBLREREfoqhChERUQzGUAWILoYqAAAAAADAS0RERH6KoQoREVEMxlAFiC6GKgAAAAAAwEtERER+iqEKERFRDMZQBYguhioAAAAAAMBLREREfoqhChERUQzW2qGKvekOxKKElJyI/yYex57LUAUAAAAAAHiFiIjITzFUISIiisFaO1T5L3/spv/1D/H6T/+SAMQM+53/U9e+6pyaF/HfxaMwVAEAAAAAAF4iIiLyUwxViIiIYrDWDlX+87910f/yz3H67e87AjHDfuf/2CWNoQoAAAAAAGh3iIiI/BRDFSIiohiMoQrw5BiqAAAAAACA9oqIiMhPMVQhIiKKwRiqAE+OoQoAAAAAAGiviIiI/BRDFSIiohjsypXLGvH6TMUxVAFajKEKAAAAAABor4iIiPwUQxUiIqIY7I9//Fd17N5HnZ7iDXfDUAWxiKEKAAAAAABor4iIiPwUQxUiIqIY7D/+x/+X/q1jT3XunR/xTfXHYaiCWMRQBQAAAAAAtFdERER+iqEKERFRDPabv/9/64/xieqc+nRDlZde7qx//KcOzhv3QKyw3/k/dunDUAUAAAAAALQ7REREfoqhChERUQz2m9+0bqjycqfe+pf4XkBM+UPHFHXomRHx38TjMFQBAAAAAABeIiIi8lMMVYiIiGKw1p6oYidKALEo0r+HlmCoAgAAAAAAvEREROSnGKoQERHFYH/fyqEKgCfDUAUAAAAAAHiJiIjITzFUISIiisEYqgDRxVAFAAAAAAB4iYiIyE8xVCEiIorBnEv/JDBUAaKFoQoAAAAAAPASERGRn2KoQkREFIMxVAGii6EKAAAAAADwEhERkZ9iqEJERBSD/eY3XPoHiCaGKgAAAAAAwEtERER+iqEKERFRDPb3/9OvGaoAUcRQBQAAAAAAeImIiMhPMVQhIiKKwf7eLv3DUAWIGoYqAAAAAADAS0RERH6KoQoREVEMxqV/gOhiqAIAAAAAALxERETkpxiqEBERxWAMVYDoYqgCAAAAAAC8RERE5KcYqhAREcVgXPoHiC6GKgAAAAAAwEtERER+iqEKERFRDOacqJLAUAV4FBuXdOiZ6YhPyYn4mJZiqAIAAAAAALxERETkpxiqEBERxWB//z/9us1OVOnSOz/wOg/eZm/KJ6TkqWvgvi6peU0fh93XqZd7X646Oh/nOl+L3RbOXtdeP/y2hMDjbTTQOfC64be77POFfy3A0+iYlKW+pRM1Y9FazVqwTNl5JYpLavpdfRoMVQAAAAAAgJeIiIj8FEMVIiKiGOzFF/9O/+Vf4tSlz4CIb6q3hL3xnlYyURu3bteC2TPUOaXpTfyElBz1yhupeSvWa+u27dq8aZPGjhnr3B+fnKPMQRO14s0t2laxXW+uW6tBg4aqQ89cjZ6+QlvKt6psa4XKAyq2lqtkyFBNXrJeZYHb7bby8nLNmzNHSX1ylTthvioqdjj3bdpSHnjuNufjqZMmqGMrBgVAXGKmCiev0qmLl7X3ww/158+O6vzXxzQy8PsYl/h0v1sMVQAAAAAAgJeIiIj8FEMVIiKiGOyFF17QS3/o0KqhSsekHI2YuVK73tqlyvIN6pue7wxROvcbqCUbt6u6YotGjZ2s2cs3amddpQYVl6pHzkhtrqxV2frVGjp6ilZsrFBNxSb161+oCXPXa2d9laZOnKaBIydq8MjXlZJTqnnrK1S3o1zDx0zSxLkr1LBrp+bPmKKk3GEqDTxuyqI12tlQp4Xz5zrPyxpQ6oxlIn3NwOMkpGQroc9gfXzskj7YsV4du/fVKykF2vrhMR3+ZKe6JmdGfN7jMFQBAAAAAABeIiIi8lMMVYiIiGKwVg9VUnKUkFaixRu2qbqqWnU1lRo5eKhe65mpviVTVNPQoHlTp6hDt/7qXfK6KqrrNGvK6yocO187d9VpzNDh+lPXdBVMmKeamiqNGDJc42avU31NhXL75evlrv31avcMdehT7AxVqsreVM/e2YrvP0TrttWqbN0KdU/J0qs9MpQ3fp4aGuo0fvQIvdIj0xnLRPyagRaIT8pQryGLdenGFY0bMUwdErPVMTFDg6Zt1PVLZ1SSla+OKZGf+ygMVQAAAAAAgJeIiIj8FEMVIiKiGKy1Q5X45CylFk3U9poazZ+3RJsqqrVkzgx17JGhjFFz1LCzXtMmTlTHxCx17j1AKRkl6p42QENmrNJbDdUaMnCoc3mermkFzn1dehXo9blvqr6uSgvnLtSkGfM1Zsx4dUorDA1VuqdmqUv2CG3cUavNa5epW6/swGtkacCEpqHKhDGjFMclf9BK8T3T1Wfmel25dkoDB+YqLjlwe1KmksYt0oXrFzVuWGHTbRGe+ygMVQAAAAAAgJeIiIj8FEMVIiKiGKy1QxUbhAx+Y6nqaytVUjxEM1dvVeXmdUruna30sXOdocr04FDFHh+fkqO45BwNnbPaGaoMtaGKnXwSuD0+JVsdEvM0cZ4NVWq08c2NWr1ug+bPmqHOaYWa++Y21VXt0JLlq7RmY7ka6ms0Zdw4541/hipoa85QZfqbunL9jEpL8wO/U7lKSMpU7/GL9c31ixo7uIChCgAAAAAAaHeIiIj8FEMVIiKiGKzVJ6qkFmrumnLVVVVowsQZWrS6TA21lRpYWKK+Q2eq3k5UeT04VEnNU/e+BeqSmq/BU1forZ01GlLSdKJKp8BtPQL3JaQM0EQ7UaV2uwoyC9Uh8Dx7Yz8urVjz3tym2qrtWrBomWbNW6RhI8aqW2quEgJfB0MVtLX4pEwlF8/TxRvX9cboUXq1Z5Y69EjXsNnbdP3CCeX3z1N8hOc9DkMVAAAAAADgJSIiIj/FUIWIiCgGa9VQJSVHiXljVFZZqx3bK7RpS7m2lG9TXX295rwxScm5Y7S9rkHL585SQs909Rs8WeU7qjV94jhlD5+p+l0Nmjp2nF7tnqGSifO1Y8d2DR00TONmr1N9bYUKMgr1Ws8sZ+TSoU9x6NI/PXrnBG7PdMYoNlKxr4WhCtpc4Pe7Y68i1e//Wl98UKek1Ex1zhyhdw+d176d25SQmBH5eY/BUAUAAAAAAHiJiIjITzFUISIiisFaM1SJT85RycRFevvtnZo6fqwzFumeNUzrd9Rp+6bVSkwboAnz16qutlqrV6/V5q2VqtlRrsIBJUpIG6gFa8tVU7Vdy1et07bKGm3dtEapaQV6fd567dpZp3Vr1mnJ8jVavnylcgcO0dz121W7bYOS++U7lxAK/1rscxdMXKC33mrQxHGjGaqgTXRMylTakBn669EzOvbllzp0/Ky+3P+xcvKKAvc9+DvYUgxVAAAAAACAl4iIiPwUQxUiIqIYrDVDFTvNpHDMDM2aM0/pWcXOeCS+V4GGTJit6bPmqE//PHXqU6TBE2Zp5rwlmjp9jnIGlDqPSwjokTFIY96Yp1mB+yZOma6+WYWKSwq85shpmj53oWbMXayZAbMDf84qGKhBE+do6tTp6tEnL/D8B78We/O/78DxgecsVEHxIHVMfroRAdBcvA2wAr+rRSOmqHjYBCWm5bbq94uhCgAAAAAA8BIREZGfYqhCREQUg7Xq0j8B9iZ+XGLWAyec2OkmdptzWZ7A7e7HzuPC3uBPSMkO3R4XeIz7GvHJ9x/vsmGL+zru85tLSG56vfDPAbSF8N/V+GYjqSfFUAUAAAAAAHiJiIjITzFUISIiisFaO1QB8GQYqgAAAAAAAC8RERH5KYYqREREMRhDFSC6GKoAAAAAAAAvERER+SmGKkRERDEYQxUguhiqAAAAAAAALxEREfkphipEREQxGEMVILoYqgAAAAAAAC8RERH5KYYqREREMRhDFSC6GKoAAAAAAAAvERER+SmGKkRERDEYQxUguhiqAAAAAAAALxEREfkphipEREQxWFsMVeKTc+5LyQndnhD48wP3BSSkPPjchODt4X8OF3pc2GslNHtuc+5zgLYSl5ihV7r3D0gP/Dk74mNaiqEKAAAAAADwEhERkZ9iqEJERBSDtXao0jnwvJSsgeoVlJxepITkbGeQ0qN/Ueh2V/e0/NDQpFNqnpIyByolo6jpzxklDz4+s1hdUpve2O/SpyB4W4k697LBS4THO0rUNfBazb9O4OnkqGNyrkomLdaWyp0qr6jUyJGj1DEpK8JjW4ahCgAAAAAA8BIREZGfYqhCREQUg7VqqJKSrZ7FE1S2o1qVVVWqrq7WjoptemPSJMUn5mjsrJWqrqlRVeA+U1e9QyOGDVNckg1ZctQlvVQrtlRqy5ol6poxUIvWb1NNddNjq6trVLFlg/r1zlVK4RgtXbfFef2qyh1aNG+OkvqWatHaraqtCXzuyipHVVXg/ooyZWcVqSMnq6ANxCVmafTi7bp05ZKqtm7TpoZPdPnqBc18fbw6BO6L9JzHYagCAAAAAAC8RERE5KcYqhAREcVgrR+qvK7ttfVasWSh+hWM0qK15WqoqVBeTpFGz1qlhroqjR89Vv0GDFNm4XAl9RvgnLbSNFQZpFXl1Spft8wZqizdXKkdW9Yrp3i4MgKPTc8frK5pJZq/dptqKraoZNBIDZ26WDt3NWja668rNWew+heP1bKNFaoO3F88cKTSC4aqe++8+6e2AE8pIfD73aXfCH1+5ppq1y3Rq1376U89srWy7m86+bcP1COFoQoAAAAAAGh/iIiI/BRDFSIiohisLYYqO2obtGD2dL3cqZ+GTF2inQ01GlZaqtEzV6mhtlLFeQX6Y/cMvdYzyxmp2HMjDVWWbanUtg2r1Ck5M/BYk6GU/DHaFnj9VfNnKL5nf3XOHK6VG8q1cM5MJSRm6NVehc6QpWrrBqX2yVWcXXao+dcJPIX4wO9X6sgVunLjkkYMHaQOSTnqGLitcPIaXb9yTkNyB6hj8Pf5STBUAQAAAAAAXiIiIvJTDFWIiIhisLY6UWXVssXKHjhOy9ZvU3XFZvXvX6Axs1epvq5G69au1ZLlazR75nR17900JIk0VFmyaYdqKrdr6YrVWr5yjUYMG6k++RNV1dCgZXOmq1Ny0wkWnVPz1CWgU+A1OvYu1vx1NlTZqLS++YxU0Gbie6arz+wNunztlAaW2AgqcHtSpnqOXajz1y9q/LDCptsiPPdRGKoAAAAAAAAvERER+SmGKkRERDFYWwxVtlXXqaq6SjW1dWqotUv9jNZrPbI1bs5qZ6iyYtlyzZy/VJOnTFa31Cx1TM523qz/waV/Nu1Q9Y6tmrNgieYsXKpBg4YrbcAUZ6iyPGyoYs+NT8kJ/JmhCrxjQ5Xeb6zT1etfq3TQAMUl5SohKVP9JizW5WsXNaa0gKEKAAAAAABod4iIiPwUQxUiIqIYrG0u/VOvhXNnq3TyIjU01GnimFF6tXu2xs9Z7Vz6pyS/UK/0yFRcUra69C5Un7whSulXoC79BzpDla3NLv3TJSVLcYlNehdM0Pa64FAlKVOdUgeod85g9c4sUWdOVIGH4pMzlThghs5eu6G5E8frVbscVfd0jV1Yq2tnDyszLfCYCM97HIYqAAAAAADAS0RERH6KoQoREVEM1jZDlQYtmD1N3TJHaEtlnTavWaZuyTkaGxyqDC4ucd7Q79wrR0nZo1VWVad1ixcoLX+ENgce/+aSuercr1hLN1eqYuMa9eybpy6989Q5NUdd0wdrzdZqlb+5Qil9c9W7dLK2Bz7fsvmzlJCUxVAFHspRXHK+trz/pU4d+Ei5ucXqM2iaPjtzVbvL16pjz4wIz3k8hioAAAAAAMBLREREfoqhChERUQzW2qFKYskk1ex8S0vmz9Kribmatnyz3tlZrdKiQRo7Z43eeqtBFVu3atOWcpWXbdGgISM0Yf5a1dXWqGJHpap3bNPQQUPUIW2glpdVaVd9jbYEHrulbKs2rF2tPql5Khg3V5U1tarYtk0VldXasW2LigtLnTf8baiyaMMO1e3YzFAFbS4+OUtJ+WNV98khnTh+UsdOfa0P3qpS7/S8wH12+anIz3sUhioAAAAAAMBLREREfoqhChERUQzWuqFKjrpmDNKQsVM1oGSYOiZlq/eAkRoxYaqy8gepf9EYDR83VSPGT9XIgNET3lD/7CJ16lOowhGTNDLwcU7BICUkZyuhT4EKRkx2Hm+PHTlhmoaPfl2JqbnqmJKr/iVjAq8TuG3sJPXLLg6NBBJSByh/2CQNHTVBPXrn/fBrBFrJxirxvfLVK2eIUrMGqlPg445POVIxDFUAAAAAAICXiIiI/BRDFSIiohisVUMVk5LjDFRCwxH348B/2gDF/hzO7rfHOaehBB/nvpZ7Wzj3voTA67u3ua/R/HmcpgI/YKgCAAAAAAC8RERE5KcYqhAREcVgrR6qAHgiDFUAAAAAAICXiIiI/BRDFSIiohiMoQoQXQxVAAAAAACAl4iIiPwUQxUiIqIYjKEKEF0MVQAAAAAAgJeIiIj8FEMVIiKiGIyhChBdDFUAAAAAAICXiIiI/BRDFSIiohiMoQoQXQxVAAAAAACAl4iIiPwUQxUiIqIYjKEKEF0MVQAAAAAAgJeIiIj8FEMVIiKiGKwthiodk7MVn5IT+jgh8Ge7zSSk3H+cvUHfMfn+45o+Djwm+HGnwPPc2x58vabbXOH3uY8P594HtI0cdeiZqdd6ZDg6JGZFeEzLMVQBAAAAAABeIiIi8lMMVYiIiGKw1g5VuqQVKXvgaKXnlTpDk4TkHCVmDlLOwFHKLRmplP4Fzm2d+hQoo3iUsguHqmvgeQmpeepbMEK5xcPUrXfTuKVr4LWyikcqb+BI9c4odAYpNmJJyhmivNLRyg28Zl5A3+xi5zU7pw5QRpE9PvC5gnKKhqlr4PUifa3AE7Pfwd6Fmrx8m97/y2f68ONPNH/2DHXuFTawekIMVQAAAAAAgJeIiIj8FEMVIiKiGKxVQ5WUbPXIG6eK2gatXjxfCT0z1a90ot4s366a6mpVV9eobON65eYVq2P6EK2tqFFD1Vbl5RUpLnWA5q+vUF3FRvXpn6uugfvnr9qkmpoa53kV5Zs0aOAQvZaYpdKZK7VrZ72qq6pUXVOryoqtGj5shDr3KdXarVVqqAvcVlmpyqpqbdu0Rqn98xQfdpIL8LTs9JTpG3fr8jdfa8m8hZq+ploXr1/TyjnTnFNWIj3ncRiqAAAAAAAALxEREfkphipEREQxWOuGKjnOUGVrdb1WLpynzikFWrC+QjUVmzWgoFQZQ99Q1c63tHrBTHVKH6TV5VXa1VCvBTPeUMdeeZq7bptqtm5Qr/75GjVrtXbWV2nM8NHqlTda68qrVbFxtZJSszVwxkq9VV+tIcNGqnfBOG3eUafydcsDzyt1XnPr+lXql1moxPRiJfUvVOfUCF8r8IQSkrPULWO8jly4qU0LZ+lPXfvpj90yNKfsE50/8qlSAr+bT3OqCkMVAAAAAADgJSIiIj/FUIWIiCgGa6uhyooFc5SYMUrlgT+vXjRPnXqkq0NKrjJKRiu7YJA6ZQ51RiV1tbXaUb5R/bOLNXvtVmeo0ifw58UbK7Vj8xolp2Xr1Z5ZGjNvjXbV7lD+gCIVT1+ht+urVFhcqleTCrRs8w7nsWmZNlSpVvm6FUruna2EwOczEb9W4AnFJ2YoddxqXb1xQUOHFKtDUk7gtkzlTlyha1cvaERBgTo+xe8bQxUAAAAAAOAlIiIiP8VQhYiIKAZry6FKUu5YVdTUa9n82eqePkjDx0/TsDFTVFw63BmqrNlarfJNG7S2fLumT5msWavLVL11g/rlDtaqsipVbFiplL5ZikvK1sg5q7WrrlKFRQNVPG2FdtXXaNbsORo3fYmqauu0ePZ0detTqtVllaqtrtTmzWXaUrZVE8eOVMfk7MhfL/AE4numq8/sDbp87aQGFucoLjlwe1KmeoxdqHPXL2r88MKm2yI891EYqgAAAAAAAC8RERH5KYYqRERE7ayj175T1cnrwY+8yZOhytxZSi4Yp/XlFarfuUubVy9Sl8zBWrutRhtWLdWQqUu1tWyjVm2sUFX5evXLHeKcjFKx8eFDlYb6WpVv2666hgZVbFqn3v1y1TltkNaUV2lH+SZNmDhNoybOUF7hQCUEvq6IXy/wBOxEld4T1+rqjXMaPLgw8HvZdKJK1utLdfXaRY0qLlAcJ6oAAAAAAIB2hoiIyE8xVCEiImpn/b7muH5X/VXwo9Z159694J8ezLNL//TMULesYdqwvU4bVy4IDVU2r1mqpOwRWr+tWjU1tdpRtj546Z8d2r5ptZLTsvRazyyNDV76p6Dg/qV/igeP0oyVW1RfWa7cnAJ16jNIa7dWq2ztcnVPznAuGdQxiZEK2kZ8cpZ65EzRycu3tGL6ZP2pW7pe6dZfk1e9o8snD6pvnxwlRHje4zBUAQAAAAAAXiIiIvJTDFWIiIjaUXsv3tILyw8o8Z1TwVsezIYnBy7fVsWJa5r2+UVlf/C1er172hm2mF9s+tLx4oqDzuu4frz6C/2q7LDidp5U6Sfn9ML/95/1j68ltnqosnLhPHVOKdCC9RWq3V6mwuJBSiuZoPLqBm1Zdf9Elc1rlykhOUdjZq9WQ0ODM1Tp1T9fY+as0c66So0aPkopuSO1pqxKOzavVXLvHA2csVJv11erKPCaOaPmqGFXg+a8MUmdew90Lie0df0q9cssUGJ6kZL6F6pzaoSvFXhiOeqQlKtldZ/q4ulDGjdqvAZNXa0TV69rx+pFiuuZGeE5j8dQBQAAAAAAeImIiMhPMVQhIiJqR208dtUZlvxy82GN2HveUfTxWXXadVK/Lj/ygwFKa/2HGQ36ffaoiG+sP1RKtjNUqajdqdWLF6hTz0z1G/i61m7ZrtqaalVVV6tye4WmTBivhIwhWre9TmXrVqhzSpZSCmzg0qDqrRvUp3+uumUM1YLVm1VTU6Pq6hrt2FamoYOHq0NilkpnrdLunbUqGThYnfoP1fqKWlVuWae+WXbJoCo11AU+rqzUjqpqbd20Rqn98xT/FJdkAZpLCPyOd+k3SCur/qxDXx4LOKLy9avUrXfOU/+OMVQBAAAAAABeIiIi8lMMVYiIiNpR57+9q5+tb4w4KmnORit2SoqdpGInpdjJKsaGLe7IZd7BS5qw74KG7jmnbm+f0m93HNOPVj04dnlxyT79c87YiG+uP0yXtCJlDxyj9LxB6pySo/jkHPXMKFXOwNHKHThKfbNL1Ck5W516FyijeLSyCoY0PTc1X+lFo5RbPFzdeuc6p6x06VukrOJRygs8r09WkRICr2eXVknKGar80tFK6jfA+bhvwYjAY0YqsW+h8xp5zudqklM0TF0Dr9f86wSemvN7HfgdDn4cn5T9VJf8cTFUAQAAAAAAXiIiIvJTDFWIiIjaWUevfaf8j86GLudjbGRit8068I2qTl5X49XbwUc/ebfu3tML/4+/139fskD/btnfnLHKv5/zXsQ31x8qJVcdk7KdgYp7mw1M7LaOyYHbA392b7c3+DuGPc7esLfHhd70t0GAPcZeL+x5dqqF87jgCRb3n9c0IHA+Vxj3eUB7xFAFAAAAAAB4iYiIyE8xVCEiIorBXnjhBb30hw76+xHLQyer/GvmiIhvsANoPYYqAAAAAADAS0RERH6KoQoREVEM5g5VflcwOTRU+a/5r0d8gx1A6zFUAQAAAAAAXiIiIvJTDFWIiIhiMHeo8l+LpjBUAaKAoQoAAAAAAPASERGRn2KoQkREFIO5Q5X/eeii0FCFS/8A3mGoAgAAAAAAvEREROSnGKoQERHFYO5Q5ZfjNzkjlf9m8acR31wH0DYYqgAAAAAAAC8RERH5KYYqREREMZg7VPnfL/jYGar8d1OqIr65DqBtMFQBAAAAAABeIiIi8lMMVYiIiGIwG6r8pltW6LI///OgeRHfXAfQNhiqAAAAAAAALxEREfkphipEREQxmA1V/u8DZoaGKn/qPzjim+sA2gZDFQAAAAAA4CUiIiI/xVCFiIgoBrOhyr+fVOWMVP7bmW9FfGMdQNthqAIAAAAAALxERETkpxiqEBERxWAv/Oj/oP/dkn3OUOVXo9dGfGMdQNthqAIAAAAAALxERETkpxiqEBERxWAv/KfXQpf9+S8DJkV8Yx1A22GoAgAAAAAAvEREROSnGKoQERHFYC8ULnRGKj9auEcJqXkR31gH0HYYqgAAAAAAAC8RERH5KYYqREREMdbei7dCp6n8auy6iG+qA2hbDFUAAAAAAICXiIiI/BRDFSIiIp90/tu7mvb5Rb1/rnX/w7PTrpPOSOXfLf1cr2UMjvimOoC2xVAFAAAAAAB4iYiIyE8xVCEiIvJBBy7f1i82fekMTH68+ovgrU/erjM3Qqep/F+Hr1aXPgMivqkOoG0xVAEAAAAAAF4iIiLyUwxViIiI2nnX7nyvX5UdDg1Mfl1+JHjPk3Xr7r37rzP3I/3ja4kMVYAoYagCAAAAAAC8RERE5KcYqhAREbXjbKTyUuWx0EjlZ+sbndNVnqaij8+GXueF3/fUS3/owFAFiBKGKgAAAAAAwEtERER+iqEKERFRO60tRyqNV2+HXud31V/phb/7O4YqQBQxVAEAAAAAAF4iIiLyUwxViIiI2mFnbt5ps5GK5V4+6Dfbjjqv/cILL+g//6GDuqYVqHNqHgCPJaTkaO++vzFUAQAAAAAAniAiIvJTDFWIiIjaWTYksVGJO1KxP7dmpBIpG6r8f/7TP+tfE1L1h47JADz2T68l6i979ukOQxUAAAAAAOABIiIiP8VQhYiIqB0VaaRit7V1NlT5//2Xf9Ur3fvpj136APDYv3ZK1Sd//YyhCgAAAAAA8AQREZGfYqhCRETUTrJTU3652fuRisWlf4Do4tI/AAAAAADAS0RERH6KoQoREVE7aPfZm/rZ+saojFQsG6q89IcO6tJngDr1ygXgsfjkbO3d9zlDFQAAAAAA4AkiIiI/xVCFiIjoGVf21VX9ePUXoZHKS5XHPB2pWAxVgOhiqAIAAAAAALxERETkpxiqEBERPcPmHbykF1ccDI1UOu06qWt3vg/e610MVYDoYqgCAAAAAAC8RERE5KcYqhARET2jhu45FxqomOwPvtade/eC93obQxUguhiqAAAAAAAALxEREfkphipERERRzsYoae+deWCkMnn/xeC90YmhChBdDFUAAAAAAICXiIiI/BRDFSIioihml/V5pf5EaKBil/1Zd+RK8N7oxVAFiC6GKgAAAAAAwEtERER+iqEKERFRlDpz845+u+NYaKTy49VfaNeZG8F7oxtDFSC6GKoAAAAAAAAvERER+SmGKkRERFHowOXb+lXZ4dBI5WfrG53bnlUMVYDoYqgCAAAAAAC8RERE5KcYqhAREXncxxduOcMUd6Ty6/IjzukqzzKGKkB0MVQBAAAAAABeIiIi8lMMVYiIiDys6uR15xI/7kjld9Vf6dqd74P3PrsYqgDRxVAFAAAAAAB4iYiIyE8xVCEiIvKoZY2X9eKKg6GRSuI7p3Tn3r3gvc82hipAdDFUAQAAAAAAXiIiIvJTDFWIiIg8aMynF0IDFVP6ybngPe0jhipAdDFUAQAAAAAAXiIiIvJTDFWIiIjaMDsxJf39M6GBip2oMu/gpeC97SeGKkB0MVQBAAAAAABeIiIi8lMMVYiIiNqoa3e+V6ddJ0MjlR+v/kJlX10N3tu+YqgCRBdDFQAAAAAA4CUiIiI/xVCFiIioDTr/7V29VHksNFL52fpGvX+u/f4PRIYqQHQxVAEAAAAAAF4iIiLyUwxViIiIWtnRa9/pV2WHQyMV+/OBy7eD97bPGKoA0cVQBQAAAAAAeImIiMhPMVQhIiJqRXsv3nJOT3FHKr/dcUxnbt4J3tt+a/VQJSVHHZOyFJeUHbotIXBbnN2W3HSbvTFvH8cn59x/TPA25/bA4x94XgQdg48Jfz3jPrfp+fdvb35/fHLwdcK+hqav+8HXALzGUAUAAAAAAHiJiIjITzFUISIiesrqTl/Xj1d/ERqpxO08qWt3vg/e275r3VAlR136lShn0HjllgxX1945ztikZ/pg5Q0er+zCYeoceFzqgJEaEPg4LWegc78NRHpmDFJu4Hl5g8YqNb1AcYlZ6t6/OHjbuAfkB56bnl2qTjZEScxWr9zhgdsDjysdo6S++XJGMoHX7Z4V+LwPPH+MkvsOCNyfq/5Fo52voW9OkfM1xKfmqW/RGA0YMl79sgY6z4/8PQJti6EKAAAAAADwEhERkZ9iqEJERPQUTd5/US+uOBgaqaS/f0Z37t0L3tv+a9VQJTlLKWOX6tL30o3znykjJ0Ovds/U8OnVzmufP7BXSUm5Wv3RUefj2m3r9Meu/VUycYUaT38j56d073udO/mlJowarsLXF8i9UNK9wM/QuH26ZbPiu2Vp4rIqfX35VtONgeceb/xMw4cO1avd+qtwTa1sHnT/ed/r5Jf7NaRkiBZXfurc8rcPa9W5R3/1yJ+oI5e/C9zyrRZOeV0dkxiqIDoYqgAAAAAAAC8RERH5KYYqRERET5CNUWyU4g5UzIR9F4L3+qe2GKpcvifdvLD//lBlRtNQ5cLBvUq2ocrHx5yPa8rXqGPfYdr/9fXAR/d0aN9f9ZeDx537Lhzeo6Ejx6u8drd2vP2Rzt+8G7j1e+3d8xdV7dyt+RPfUPaYZXK2Jd/f0scffqR9h886zz39t4+UnJyuAatrnY+vXzquqvq39MWJi87HjR/uVN7wBboceMm7l08qLzNHJXMqnKHMhaOfqk/fbCVE+v4ADzBUAQAAAAAAXiIiIvJTDFWIiIhamF3W55X6E6GBil32Z92RK8F7/VVbDVVunN+nvul99XKnfhr8RqXz2s2HKlVlq5ScP09X7kh3r57VgPRsxee/rr98eVqnjh1QycAi/VvnNL3cb7g++dr+R/V3mjhhjP61c1/9W9csrW743HmdvfUViu/WV93zJ+nYpe+kezc0dehg5a5sGsicPFijuG7Jypm0SvYqty80Kiu3QDv+etq5f/mc6Vq3u9H5847VC9WhR0bk7w/wAEMVAAAAAADgJSIiIj/FUIWIiKgFnbl5R7/dcSw0Uvn5hkZ9fCF4KRof1iZDle+l21e/0rwF8zRm8jyt2bbHee0fnqiyWgn9R+nLi98GPvpeH75VrYKS4eqUlKX4lFx1Ts1zXrNj9hjtPWs/0+80dcpEdUjM1Gs9Bqr2w6YTVFYtnq9XewRuSytS7ZGmU2zWLBip7OVVzp9PHqx1hirp45fqRuDjW2cOKTOtv0rnVDj3H953QCcDf2ffXTmtgQOKFZfMZX8QPQxVAAAAAACAl4iIiPwUQxUiIqLH1Hj1tn5Vdjg0Unmp8pgzXPFzbTFUuWRX6YnQ+WZDldpt6/RvXftrxPxN+vqKjVWk725e1192Nyg3v0gdbTDyqKHKR+ec5yxbOMsZqrySVqzth887t61dcn+ocuX8Ia3aWK69jU3Dls/fq1W3nunqlDFSn52x6UpTnzRsUadETlNBdDFUAQAAAAAAXiIiIvJTDFWIiIgekZ2a8rP1jaGRil36xy4B5Pfa7ESVaye1as0qzVywWuV1+53Xbn6iSu22N/VKt/76U9d+Ss4dp+Xlb+vUN03DkSN731HvPtmKf8RQpS44VFnqDlX63B+qrAsOVe45H93vm5NfqGBAieJTcvRazyzN3PJh0x3fXdWUUcPVISk78vcGeIShCgAAAAAA8BIREZGfYqhCRET0kOpOX9ePV38RGqmkvXdGd+41n0T4szYZqgR+FDfO71Pf9DS93KmvBr9R6bx286FKdfkaJReM1tR5KzV63Hi92qW3Ukcv1LnvAnd+e0HDhw1UXM/MCEOVLL3Wo0hVH5x0Xmfz8sX6Y5d+ejW1UO8dvxS45XutnDEidKLK2WMfaWHZrsCt0tXTXygzI8e5tFBcYoYKx20JvKp083SjcvvkqGOk7wvwEEMVAAAAAADgJSIiIj/FUIWIiChCqw5f0YsrDoZGKkP3NJ3q8bzUVkOVmxf2KyMnQ692z9TwGdXOazcfqlRtXqmMN96UXSzp1qUTen38OA2es0GX7dJBN85pyKASxSVGOlElWx16Zmrqxt32Mrp47ICGDx+r8Ut36Hrgud9fP6eheYXKW9X0eU8cqFaPzCHa/3XTaS0bl8xyxi4dEzNUNG6zM1S5cbJROam5io/0fQEeYqgCAAAAAAC8RERE5KcYqhARETVr8v6LoYGKjVXmHbTTO56vWjtU6TVuma7ek25d3K/M3KahyoiZNc5rXzz0qTNUWfuXr5yP6yvW6tXkYtXsPe58rLAL9ex7t0aJvbKVYJf+yRmjT899G7j1O02f2jRUSUjOVvfsMfrwywtNTwh1V3VlqxXXLU2Fa+udW8401qtLcpqmb3rP+fj8kb+qb/9cvdYzQ8XjtzhDmRunv1Rub4YqiD6GKgAAAAAAwEtERER+iqEKERFRMLusT/5HZ0MjFbvsz8ZjV4P3Pl+1aqiSkq2eA99Q9Xt7VV9bpt7pWYpLzFbeiKXa/fGnqty8WT2Sc/X6mip99Je9mjtnljMW6ZYxVHPWbNfbf/5Yu//8kTa++ab6pA9wLs9jrxmfPkSrqv+sDz/4QIOGjlDH5Bzn89kb/Em5Y7V66y7tfv8v2v3eB1qyYJ669c4OfN5Mpb+xTLs/+lRby5ara6/+SiyapKrdn+i993artHCQcypLeuk87frwr6rfsV1pnKiCZ4ChCgAAAAAA8BIREZGfYqhCREQUyEYqnXadDI1UfrrukHaffX7/B16rhiomJVuv9UjXqz0zlWBDk8Bt8clZejVw22uB2+xju+SOfRyXlOV8nBB4ToeeTbc1PS5D8SlNY5Sm18wJ3N90X3xwpOKyk1Wczxdk45ME977A6ze93v3P0/Q4e/3gY1KaHuN8vcHnAdHEUAUAAAAAAHiJiIjITzFUISKimO/ane/1UuWx0Ejl5xsadeDy7eC9z2etHqoAeCIMVQAAAAAAgJeIiIj8FEMVIiKK6c7cvKNflR0OjVR+XX7Eue15j6EKEF0MVQAAAAAAgJeIiIj8FEMVIiKK2ezUFDs9xR2p2KkqdrpKLMRQBYguhioAAAAAAMBLREREfoqhChERxWS7z97UT9YeCo1UOu06qTv37gXvff5jqAJEF0MVAAAAAADgJSIiIj/FUIWIiGKujceu6kerDoZGKvkfnQ3eEzsxVAGii6EKAAAAAADwEhERkZ9iqEJEvu/MzTv6XfVXenHFQcXtPKkTN+4E7yH6YdM+v+j8rrgjFfs4FmOoAkQXQxUAAAAAAOAlIiIiP8VQhYh83293HAuNDszP1jcyVqGIFX18NvR7Yieq2MkqsRpDFSC6GKoAAAAAAAAvERER+SmGKkTk6+YdvBQaHtipKu6f7WQVIrc79+6p29unQr8fP1l7SLvPxvb/eGOoAkQXQxUAAAAAAOAlIiIiP8VQhYh827U73zuDAxse2KkqNkZIf/+M87Fd2oVTVciy35PwEdMvNn2pA5dvB++N3RiqANHFUAUAAAAAAHiJiIjITzFUISLfNu3zi6Hxwa4zN5zbbJzi3jbm0wvObRS7nbl5R78uPxL6nfjNtqPObcRQBYg2hioAAAAAAMBLREREfoqhChH5tn+oOOqMD+w0lfDc0zNeqnzwdoqt7NSUn29oDI1Ufl9z3DldhZpiqAJEF0MVAAAAAADgJSIiIj/FUIWIfFn4ySmzDnwTvLWpoXvOObfb5X9u3b0XvJViqd1nb4YuC2V6vXvauTQU3Y+hChBdDFUAAAAAAICXiIiI/BRDFSLyZRUnroVGCHZyRnjrjlwJ3Xf02nfBWylW2njsqn606mDod8CGS/TDGKoA0cVQBQAAAAAAeImIiMhPMVQhIl82Yd8FZ4Tw49VfBG+5364zN0IjBTtZg2KnaZ9fdE7Ssb97+89Fhy4F76HmMVQBoouhCgAAAAAA8BIREZGfYqhCRL4s/6OzzhjhF5u+DN5yv/Chiv2ZYiP3d8LYgMlO3aGHx1AFiC6GKgAAAAAAwEtERER+iqEKEfmyoo8fPlSpOnmdoUoMdefePXV7+1To7/xn6xv1/jn+h9njYqgCRBdDFQAAAAAA4CUiIiI/xVCFiHzZiL3nnVHCT9cdCt5yv2WNl0OjhaPXvgveSs9j1+58r9/XHA/9ff+q7LAar94O3kuPiqEKEF0MVQAAAAAAgJeIiIj8FEMVIvJl0z6/GBon2Ika4U3ef/++S7fvBm+l560zN+/oHyqOhv6uX6o85txGLYuhChBdDFUAAAAAAICXiIiI/BRDFSLyZRuPXQ0NFJqfmuJeBibSaSv0fHTg8m39cvPh0O9Ap10nndNVqOUxVAGii6EKAAAAAADwEhERkZ9iqEJEvuzjC7dCI4W609eDtzb1m21Np2zYJWHo+ev9czf1s/WNob//7A++/sGpOvT4GKoA0cVQBQAAAAAAeImIiMhPMVQhIl926+690FDBLgPkZpf6cW8v/eRc8FZ6Xqo6eV0/Xv1F6O/YLvNETxdDFSC6GKoAAAAAAAAvERER+SmGKkTk235dfsQZK8TtPBm8RVp1+EpoxGCjBnp+WtZ4WS+uOOj83dp/2uWf6OljqAJEF0MVAAAAAADgJSIiIj/FUIWIfFvae2ec0cJP1h4KXfrl5brjzm126oadukLPRxP2XQgNkOzve/dZ/odXa2OoAkQXQxUAAAAAAOAlIiIiP8VQJQY7c/NO6E395tkJBT/f0Kj3z/F/1FD7z35f3fFCxYlrOv/t3dCJGzZiIf9n/12V/9HZ0N+z/ffTgcu3g/dSa2KoAkQXQxUAAAAAAOAlIiIiP8VQJcayN3jtjfzJ+y8Gb3mw32w76rwZPGLv+eAtz7Zrd74P/onoh9mJKXZyiv3Odnv7lKZ9fjE0aNh15kbwUeTXbKTSadfJ0N+p/feTDe2obWKoAkQXQxUAAAAAAOAlIiIiP8VQJcYq/eSc84bvssbLwVvuZ28Ku6dRDN1zLnjrsyv9/TP62frG4EdEkev17mnnd/ZHqw7q1+VHnD/bqRvk72yk9lLlMefv0/y+5jjDtTaOoQoQXQxVAAAAAACAl4iIiPwUQ5UYy33jN9KlM45e+y70pnDiO6eCtz6bwi/hQvSo6k5fD/3eutrD0IqePjs15Vdlh0N/nzZGetjlymK9EzfuOJe9stOE7BJJ9rOyUc/vqr8KsY9t+GcnZa07ckWfXfrW+XkyVAGii6EKAAAAAADwEhERkZ9iqBJj2WVSbAASqcart503hX+y9pDzxuezzC7b4r5JzSkK9KjsDXc7ecf9fTGRhljkj+zvzk7Ecf8uGR39sI8v3HJ+Lu6l2p6GMwQcu03/fckC/WvumIhvqgNoWwxVAAAAAACAl4iIiPwUQ5UYyj0x5Rebvgze8mDhJ6o86+xr+em6Q87XsvfireCtRJGbvP9i6Hf3HyqOBm8lv7X77M3Qv3sbUiw6dCl4D126fVcT9l14YMTjsste2Qk0L9cdd05UsUu82ekpxk5S6fb2Kf12xzHnv/ubP9f1302p0r+lD4n45jqAtsFQBQAAAAAAeImIiMhPMVSJoWzwYW9I2uV/ImVvhLpvWtpQ5FnXaddJ52vZeOxq8BaK1R53qk7ZV1dDv7v2Rr79LpO/sn/nduKT/R3afz7rU53aS7fu3nMGJ3bSlfs7bsMUu5yPDVfsMj5Pkv1bshNZ5h28pBcy3tDfLfo09Lr/zeJP9V/zX4/4BjuA1mOoAgAAAAAAvEREROSnGKrEUO7ldB42VLHcS6jUnb4evOXZlf/RWedrsTdjKfayoYKdEBH+Br2dlrKs8bJzuZ/wml8CJfGdU8F7yA/ZaMK5FE3g787+O8iGFLGe/Y5P+/xi6AQVG6fY77WNsmy80ha98MIL+l//2Fn/4+g1+nfL/uZ8nheX7NPLGUMjvskOoHUYqgAAAAAAAC8RERH5KYYqMZQ7VHnYpX8suzyEPaY9XHLD3qS1r8UuXUGx0/lv7ypuZ9NpOg9j97tjlfDTVNwTOQwDJ39kp4W4f2d2+Zr2cJpTe8jGOjbesRGWXdrKi1OCbKjy0h86qEufAfpd3gRnpGJ/D/9hWl3EN9kBtA5DFQAAAAAA4CUiIiI/xVAlhrI3gO1NSPv/0H9Yr9SfcB5jbx4/69wBgl3igmKjA5dvO0Mq+3s3dpqKDZVmHfhGQ/ec06/Lj4Tuy/7ga+c57mkqduKEPd/GDu5jbOxE7TMbGtnfrft3ZSc92UiJolf4UMXeRP8fR65y/i7sdJVX+5b84E12AK3DUAUAAAAAAHiJiIjITzFUiaHcoYp5WL3ePe3cb5fdedbtvXjL+VoeNayhp+/9czedU0fs79xGH3Zqg42DvDi5oSXZSCF8pNJp18kfDBds3NDt7VPO/XbaROkn50KPL/q46XfWxiruJazc25tfKoiebdfufP/AqTn2d91Wl7Ohltd8qPKn/oNDfycvFUz5wZvsAFqHoQoAAAAAAPASERGRn2KoEkO1ZKhigwW738YLzzobKbhfrx/exD5x444vBhHzDl56YBDSnA1AbDhglx6JZnZyjvs1PGooZSOH8Ev8GBszhQ9sbKzy03WHQvf/rvorNV69HbyXnmX279pOT3H/buzvmiHRs6n5UMW4fy//UDr3gTfYAbQeQxUAAAAAAOAlIiIiP8VQJYZqyVDFLvlj99slgJ5Fu8/efGBwYJd+sa/HTldpz9mpHfZ12ikR7TX7udpgw/0dMDb4+O2OYw4be4TfZ4MVGy61dERw5uYdLWu87PyePWn2PPfz2okpj+vluvujFlNx4lrwnvvZ1+FeFsjY92q/31xe5tllvyNcmqn9xIkqQHQxVAEAAAAAAF4iIiLyUwxVYqiWDFXsjWO73wYN0cwuQ2Of08YRn136Nnir9A8VTUODdUeuBG95fDbIsEGCndRgp2+42eDCXseGEDZgsNe2S8fYSSityb529+dqg4/2mJ1I4/4s3a+z6uT1H4xQ7Ge36vCVBwYedvpF+M8xUvYzdC+3Y3+Hsw58E7ynZbnjBRsmhQ+VHpad+OJ+fYnvPHzYYt+3OyJyuSfG2GWOOMkjetkpN+4Yyv4ONh67GryHnlXNhyr/lDsu9O/kn3PG/uBNdgCtw1AFAAAAAAB4iYiIyE8xVImhWjJUcU+2+HX5keAtj8/e7LfLydSdvh68pWXZ6QqT918MDShs6GAnqoRnoxK7b+iec8FbHp2dlvHLzfdPbHBHL3bZl/DxRTg7aeNp3zS37z38MiY2WmmPuZd0Mi291MqiQ5dCl9ixEdHDntP8lAzTfHD0qMKHPhP2XQje+vDsd819vF3C6HEjGstO5LFxin1d7nONDZXI+2ykEj5kYqTSPmo+VPnNkIXO39G/W/Y3JaTm/eBNdgCtw1AFAAAAAAB4iYiIyE8xVImh7M169w36h2WnTNj9NgBoaTYU+NGqpgFAr3dPP3YEYSdm2CkX7nPsP208EemSLDZQsce09JI69jr2eDuZwx3O2Mkh7uDC3iS38YsNcszva5ouIWO3h49M7Huwy8v8dN2hiJeVcUt//4zzfGNjjUjZ6SJPciJMW2eDEXegYWONJ8mGQ+7Pzk5aaV7zkUr4nx910kl47ik+xgZFjyr8seZJf672O2bjKBve2O+4/Q6Qt9l/77gjFftdaj5Go2dX86HK/zCpwvl7+m9nvvWDN9gBtB5DFQAAAAAA4CUiIiI/xVAlhtp15kboDf6H5T7G3lB+kmzkYSMRG3akvXcmeOsPs0uxuCeb2HjCBiuPutSLO5x52AgkPBs5uIMMO3XDspGKe5sNE+z7a557aRj7utxszGC3Gfuemp/aYUMWdxTjssuaNM/elHfvt1MlnkV2aoh9fhsE2bDkSbJL+rjfp/2cwrPvx36m7vdnox/7Obkn5LT087ljJPOo7HJO7uOM/Y625DJB9OwKHzpFOjGJnm3hQ5UOaUV6cck+5+/qP45YGfFNdgCtw1AFAAAAAAB4iYiIyE8xVImhWjJUCb8My9NU9tUV/Xj1Qc07+E3wlgez00Xste1Naztp4XGFX67IRi6Pyr1MkI1abEhiIwsbmbi3PWw0YY/97Y6my/fY92+DF/fNdZddBsfNxhGv1J8I3Rf+2Oafwz2xxUQayUQjdzjS0lNp7OdmJ5c0v1SS3eYWfikXYye1uCfpuOMiYyfOPK7wAUqkv2P7mdrpNu5jXHY5I2q/NR+pPKuhFj288KGKe9kf86+ZIyK+yQ6gdRiqAAAAAAAALxEREfkphioxVEuGKuHDkEiX4nlUNuCwYci/X/OFyo9HvlyOOzgIHz08LruMjz3n4wsPH7aEX9bIhhKWexKIfU02vnhUNoawU1jsce7la+xNdneMYYMTyy4nZCenuJ/LLiETfmqKXfrIzcYt7u3mWQ1V3FNP7GSVh2Unodilfez7dE+gac4dFtmY52EjFTd3HGMiXTIovPBhi10uyH5OZuOxq87HdjKLe7/97O3vx34nWnJaCz2b7O/UHanY39fj/v3Rs8kdqnROK9C/n/Oe8/f1H6bVRXyDHUDrMVQBAAAAAABeIiIi8lMMVWIod6hib/w/rPChiv35SXIvl/OoEYoNO+wxyxovB295fO5z7DSWh+WephJ++Z5flx9xbrMTO1qSDR/ckYqNNezNdve0D/vYTvAIH3HYEMYdaISfnGJfr93XfPDxrIYq7s/B/tPGPvb3aj679K0zIrFxTfMTZIx9H2M+vRD62IYjFSeuPfBY+z4jZcMEd8xiP4cJ+y78YMziZreHD1sexk6EsTGU/e48q58lPT77PXF/9+3fI4Oi9ps7VPnHwfNC/87+U9HUiG+wA2g9hioAAAAAAMBLREREfoqhSgzlDlXshI1H5b5h+agTTCLljg0edRKLnZBhj3nU6R7Ns8facx526Rp7I9x9Y3zdkfund/xyc9Po5FEDFzcbbrgjFWOnq1h2uRL3NpcNMKpOXnfudwsfuYQLH6vYaSzPIvtewr+mR7HvwcYp7gkYNgxx7ws/ScYM3fPov0O7hJI7kjH22g/7nbKf30uVTZdfCmc/P7vM0rP62dGTFT5Ssb9PO6mH2m82VPlPL3fSjxbucf7O/i/TGyK+uQ6gbTBUAQAAAAAAXiIiIvJTDFViKPcSK+5QxUYDdrqKDS/sRBK7pIvljgSe9NQKe63HjWDc0cTjHheejULsOXa5l0jZCS7u/bfu3j+1wy5JY7f/dsex4C2Rs0v0uJcXsjfZmw9bwscWNpp42AkRNuqw8YZ9b/azsMsc2Rv37nOf5BSZts5OhrGvyf1awtkAxU5GediIxP3ZuOxn5A55Hpf9fdjwxX0NO5XmUdkpLzY2st9V+30M//uk9p39O3JHKvZvj5FK+8+GKv+3glmhf9v/nDM24pvrANoGQxUAAAAAAOAlIiIiP8VQJYayoYS9GemOROzEi5+uuz9CsDeZ7dIu7iVbbGTR0txLBj1uFGKnrbiDCRsjtCR7w9t9A3zvxR+OKexz2n3p758J3tKUO3AxdipL+KVn7M/2+e3SJO5jbEwR6eQO+5ptDGM/myfN/bmYZzlUseznuPvsTedyP+7lc1pyWRb7PbDfGftdscsE2ff0pNnnts/HeOH5zB2LGRupPOwyT9S+euH/9FP93aJPnb+3/2FSRcQ31gG0HYYqAAAAAADAS0RERH6KoUoM1Xyo4mbjD3e8YEMCu/9JhxXuIKP5a0fKLuFjj33cqCU8d4xib4iHZ5eosdtN88vxWGnvnQndb1+bDS3sVBR3jON61Ekprak9DVWIvCh8pGIn5jBSefpsFPbj1V+0eMTX2l5IHeP8vf3d0v16OWNoxDfWAbQdhioAAAAAAMBLREREfoqhSgz1sKFK89xTRp5mqGKXkXlcdokZe6yxy7y0JDsRxR5vI5fw3DfJ7bSPSJeJsTfN7c1z9/M19/ua484pI17FUIWe5ybvvz9SsctHUeTsvwfsslZ2qpCNAu3SWXY5LjsFyi679rvqr5xLjLknR9nlsrzOvp4Xlux3Pt//c+ybEd9UB9C2GKoAAAAAAAAvERER+SmGKjFUS4cq9qapPe5phiqmJdnJJvZYG7Zcun03eOvDsxMG7PF2eZ7wXqpsOmnFTk55VPamrL35a5/Xhiv2Brtd+igauT8Xe2Oa6HnJhinu77b9e4rl7L9fbIBiPxM7ncn+O9T+e9b++8r9GbWUjVXs9bzMBnzuIPHFhXvVsf/AiG+qA2hbDFUAAAAAAICXiIiI/BRDlRiqpUMV+//wt8d5OVSxy+zYKSj2+MR3TgVvfXg2ZnFf3y5VZIVf9sdOKmivuV8jQxV6XgofqTS/HNfzng3c7BI99jOwoZxdqsf9WTwNuwyZ/XeyXd7MRnR24pTXhf/9/TJzgrr0GRDxTXUAbYuhCgAAAAAA8BIREZGfYqgSQ8068I3zxqT9f/s/KjudxB7n5VDFsjd73efYnx+XewKA+8a4DT/s45ZcbuhZ5n6PDFXoecgdOdjJHy35d+vn3FFK0cdnncuEPe6ElB+tOuiMTv6h4qjzeDvByX5e9m/f/vvUXstGdfa65799/ElSXmSXWwt9zYUL9dIfOjBUAaKEoQoAAAAAAPASERGRn2KoEkO5w47HDVXcx1WcuBa85fG5Q5XHndbSvE67TjrPs9NVHvfGrb1ZbI+1N39v3b0XOpFlwr4LwUe0z+xrNAxVyM/Z5WLcS3bZION5HKnYaSZD95xr8SjFBil2CsqiQ5eck57sZ9Ses78zGxjZ128Dvxf+j/9nhipAFDFUAQAAAAAAXiIiIvJTDFViqJYOVSbvv+g87kkup2MjE3uOnXryJNnz7NIX9lwbrTwqG87Y4+wN4rid9wcudlmg9px9nYahCvk1G2C4ozK71M3us8/H/+i5dud7lX111TlFyhluBP+tNmfjDr+NUpoXPlKxv0P7Hl544QWGKkAUMVQBAAAAAABeIiIi8lMMVWKoMZ9ecN6ktNMCHpV7aYj3zz3Z/2Fjb34+zWV47I1i9w3hR41j7I1h+9rdx5onuTzRs8r9WhmqkB8LH6nYqMxOHfFzdvqTXQbN/rvERm/uv0+X3WaDOxuv2OPs+7UTnPxc1cnrD4xU3KERQxUguhiqAAAAAAAALxEREfkphiox1Ikbd5T4zqnHvtFsb8rOO3gp+FHLszd37U3ehzXt84vO5XvO3LzjfA4bwth4JvwkA/v/8n9UdnpK+vtnnDeZ/XLpEfd7Y6hCfqv5SOXA5dvBe/yTfQ82gCv95Jx+VXY49O8xnH1vNkyx/06xU1aep+zvzL1MWvPTcBiqANHFUAUAAAAAAHiJiIjITzFUoTbL3hC101Eelg1Zmr9B7LL/b387veB5zP0eGaqQ33IvF2YDDxu6+SW7pNiqw1ecYd5P1jaNNJqzS/nY9+f3E2IelY0Cf7m5aZxj/x1rl08Lj6EKEF0MVQAAAAAAgJeIiIj8FEMVilo2ZHmp8tgDbxbbG+B20oFdjuN5zf1eGaqQn7KTReyEJDuNo/GqP05SsVOaer17OuIlfew0ETsdZtGhS86AIxb6XfVXoe9/8v6LwVvvx1AFiC6GKgAAAAAAwEtERER+iqEKRT077cCGKfafsZD7RjFDFfJTdjqS/d7aJbvac/bfIzbCiHRZHztNJPuDr1V3+rpzubFYat2RK6Gfg13WKFIMVYDoYqgCAAAAAAC8RERE5KcYqhB5nPtmMUMV8lMbjzUNVdrraSq7ztxQt7dP/eD0lJ9vaHT+rdkJTrHanXv39ItNXzo/DxvwPGykw1AFiC6GKgAAAAAAwEtERER+iqEKkce5b6AzVCE/den2XedSOfaf7SW7ZM+EfReck1Lcf1fGxir2tVadvB58ZGx34sYd5+fy4oqDzuWQHhZDFSC6GKoAAAAAAAAvERER+SmGKkQe576ZzlCF6OmyAYoNUWx44f57Mr8uP+Jc9idWLiP2JNmlm+ySR4+KoQoQXQxVAAAAAACAl4iIiPwUQxUij2OoQvTkXbvzvWYd+CZ0CRvXj1d/obT3zjzypBBqWQxVgOhiqAIAAAAAALxERETkpxiqEHmYXTbFfYPdTn4gokf32aVvlf3B184gJXyg8tsdx7To0CVnwEJtE0MVILoYqgAAAAAAAC8RERH5KYYqRB7WePV26I32ZY2Xg7cSUXh37t3TxmNX9bvqrx4Yp/xk7SFntGLjFWr7GKoA0cVQBQAAAAAAeImIiMhPMVQh8rC609dDb7rbn4nofmdu3nEuifWz9Y0PDFTs9BQbdt26ey/4SPIihipAdDFUAQAAAAAAXiIiIvJTDFWIPMwuVeK++X7g8u3grUSx3e6zN9Vp10m9uOJg6N/HT9cdUtHHZ/l3EsUYqgDRxVAFAAAAAAB4iYiIyE8xVKGY6dLtu7p25/vgR9HJ3ni3N+F/tOpg8Bai2GzvxVvOv4efb3jw9JTf1xzXuiNXOD3lGcRQBYguhioAAAAAAMBLREREfoqhCsVEjVdvO5cX+VXZ4eAt0el31V85b8b/ZtvR4C1EsdGJG3dU+sk5/UPFUf1y8+EHxin2sY1Wjl77LvhoehYxVAGii6EKAAAAAADwEhERkZ9iqEIxkb1hbm+Q2+VFotWde/f049VfOJ83+4Ovg7cSxUZ1p6+Hhil2iR87OWXy/ovOaIzaRwxVgOhiqAIAAAAAALxERETkpxiqUExkb5LbG+bd3j4VvMX77FIn7hv1qw5fCd5KFDt9fOGW8+8g2pfcopbFUAWILoYqAAAAAADAS0RERH6KoQrFRO4leBLfid5QZdaBb0JDFU6RIKL2FkMVILoYqgAAAAAAAC8RERH5KYYqFBN12nXSGYz8ZtvR4C3eF7ez6XP+bH1j8BYiovYTQxUguhiqAAAAAAAALxEREfkphioUE807eCl0uknd6evBW73rzM07enHFQefzpb9/JngrEVH7iaEKEF0MVQAAAAAAgJeIiIj8FEMVioku3b6rn6w95AxHflV2WLfu3gve401FH58NDWM+vnAreCsRUfuJoQoQXQxVAAAAAACAl4iIiPwUQxWKmWYd+CY0Hhm651zw1rbvwOXb+tGqptNUXqo8FryViKh9xVAFiC6GKgAAAAAAwEtERER+iqEKxUx37t3TP1QcDY1VNh67Gryn7bLP8dsdx0KfY/dZ/o9DImqfMVQBoouhCgAAAAAA8BIREZGfYqhCMdVnl77Vj1d/4YxI7D93nbkRvKdtSn//TGikYn8mImqvMVQBoouhCgAAAAAA8BIREZGfYqhCMdeqw1dCY5IXVxzUssbLwXuePjtJJe29+yMVO7nl1t17wXuJiNpfDFWA6GKoAgAAAAAAvEREROSnGKpQTDbrwDfOSMUdliS+c0pnbt4J3vtk2aksvy4/EnqtX5UdfurXIiKKVgxVgOhiqAIAAAAAALxERETkpxiqUMxW9tVV/WTtodDA5EerDjqX69l99qZzQsqjunbne+dklt/uOBZ6vrHBCiMVIvJDDFWA6GKoAgAAAAAAvEREROSnGKpQTNd49bZerjv+wNjE2IDl9zXH1evd0xq655xG7D2voo/POh/bZX2aP95GLvY4LvdDRH6JoQoQXQxVAAAAAACAl4iIiPwUQxWiQHb5nt9Vf/WDAcrj/HTdIWegwikqROS3GKoA0cVQBQAAAAAAeImIiMhPMVQhCuvote+06NAlddp10rmMz49Xf/HAMMU+thNVsj/4WlUnr3OCChH5NoYqQHQxVAEAAAAAAF4iIiLyUwxViIiIYjCGKkB0MVQBAAAAAABeIiIi8lMMVYiIiGIwhipAdDFUAQAAAAAAXiIiIvJTDFWIiIhiMIYqQHQxVAEAAAAAAF4iIiLyUwxViIiIYjCGKkB0MVQBAAAAAABeIiIi8lMMVYiIiGIwhipAdDFUAQAAAAAAXiIiIvJTDFWIiIhiMIYqQHQxVAEAAAAAAF4iIiLyUwxViIiIYjCGKkB0MVQBAAAAAABeIiIi8lMMVYiIiGIwhipAdDFUAQAAAAAAXiIiIvJTDFWIiIhiMIYqQHQxVAEAAAAAAF4iIiLyUwxViMizLt2+qwn7LmjE3vOavP+i9l68FbyHiJ51DFWA6GKoAgAAAAAAvEREROSnGKoQkWfZQOWF5QdCfr6hMXgPET3rGKoA0cVQBQAAAAAAeImIiMhPMVQhIs86ceOOZh34RssaLzveP8f/sUzUXmKoAkQXQxUAAAAAAOAlIiIiP8VQhYiIKAZjqAJEF0MVAAAAAADgJSIiIj/FUIWIiCgGY6gCRBdDFQAAAAAA4CUiIiI/xVCFqJ129Np3Kv3knNLeO6Pz394N3kpE1DYxVAGii6EKAAAAAADwEhERkZ9iqELUzrJRSq93T+vFFQf1wvID+vHqL3TtzvfBe2O3S7fvOuMdQ0Stj6EKEF0MVQAAAAAAgJeIiIj8FEMVosd05uYdrTp8RSP2ntesA9+o7vR13bl3L3jvo6s6ed15nmtZ42WduHEneO8P23vxln6x6UtnoGJssNJ49Xbw3tjKfnZFH5/Vb3ccC/08XJ12nQw+ioieNoYqQHQxVAEAAAAAAF4iIiLyUwxVKGrdunvPGR/YWOOzS98Gb32ydp254YwUfrL2kH606qBerjvujDu8yE7usM/lnmwS7ucbGlX21dXgI3+YfU2/Kjv8g+e5Xqo89oPBip2kYq9r99spKjaIicXs9Bj7e23+M7OfyT9UHHUuhWS/B0TUuhiqANHFUAUAAAAAAHiJiIjITzFUoTbJTv2I29k06oh02sX7524+cFKIKf3kXPBeOSeUPOqUEhtxvFJ/4oHnu2zA0NZjld1nbzpjmEifz2VDmUino9jAxb4me4z9POznMnTPuQdOVjHNT0qxx9hz7LkHLj8fp6jY35udivIkfz/p758J/Yx/XX7E+Vl9fOFWi0+xIaKWxVAFiC6GKgAAAAAAwEtERER+iqEKtTq7NM7P1jedBGLDDBsmhLfx2NXQqSQ27vhd9Vehj20QYtlJGb/cfFgVJ645H4dnrx9+Oon9ecK+C86JJu5lYX5fczz46NZnIxF3aGK6vX3K+TrtRJjmp324X394duKH3fekAxr3e8z/6MGfn1+7dPv+CTF2yaSWZM9xfzfsskdE5F0MVYDoYqgCAAAAAAC8RERE5KcYqsRQNrSw0z7sP9syd5hhYxV7/fBsyOEOD2xU4p5AMu/gJec2Oy3DcgcN9lg7fcXNTtH4zbajofvs1JHwkzVsOOKe1GIjhyfNRik2erGvx07/CP98xi5T5Gajk/BTXezzRvpZ2hDH7n/SwUmkz+nn7Odq34/9PFt6Gopd0sf9OUQaARFR28VQBYguhioAAAAAAMBLREREfoqhSgxkY47sD752TjOxAYBd0mbRoUvBe1uXjTvc1x3z6YXgrU2Fj0jstBD72M2GCzYOcS9xY//pPtYu9+IOGybvv+jcZqZ9ftG5rXn2ee1+uzzMkxQ+onGFn6RiPyc71cNOUGl+2SL7GiNd9sdyT1yx/3yS3M9hA4/nITslx74f+3tuaTYGcn/G645cCd5KRF7EUAWILoYqAAAAAADAS0RERH6Kocpzng0+XqpsujxOczYCaW12SRd7LRt82CV6wrPTUtz7Prv0bfDWhxd+mkbVyevOCSnucORRl/Zxxw2POoHDTnppfuJKp10nneeFj1Mex8Yr9n096lQa92diWvJ9u7knsaS/fyZ4i3+zn/XT/Aws+xk/Lz8HovYcQxUguhiqAAAAAAAALxEREfkphirPee7lV0zpJ+ecU0fChysVJ64FH/l0ua9ll8QJz4YcP13XNDgo+rjll8Cxk1fc59ipL+7XaWOUR+WezBIpG7DYGCX8e7WTYNzTVGywY6ejhH8+OzHFhiPGBi12Is3GY1dbdNkkOznmacYW9lh7jl0iye/Zz9q+F/u5P2lxO5sGRPa7QETexVAFiC6GKgAAAAAAwEtERER+iqHKc5ydIuKeFpL23v3BhA0pbIhht/98Q2PE8YV76Z1HZa9jr2FWHX7wMi3hp6M0Xn34iKR5Nnix59gld2wcYn+2S+K0Jht+2OWJwk9UscsIuV+fewkfO8XFva21A578j846r2Oft/lJMw/L/ZqeZtzR3rLL/dj38svNTz42Cf+7aenPjoiePIYqQHQxVAEAAAAAAF4iIiLyUwxVnuNsnGJv9v9sfeMPLnvz/rmboRNF7FI1zbPTUOpOXw9+FLnwMcrDLvtjg5gnyS7xY8+zoYqxP9upLS3JhjP2fYWPbOz7tu+z+Skl7kkw4ZcUWtZ42bnNPMm4JlL283B/vjZaaUnuJYyMnXzj59y/fzuR5kkL/zmsO/LgAIqI2i6GKkB0MVQBAAAAAABeIiIi8lMMVZ7TbKBhp3nYm/12aZtIuZdY+c22o8Fb7me32f2Pyr2skA1hmpf4zinnvm5vnwre0rLs9BR73tA95xz2Zzth5FGX3LH77BQO93I74V+3DVfstvDBhI1Q7DZjl/txCx+q2AintYWfqvK4SxdZNrBxv4cxn14I3urP3L+7pxmqWE9z6SQierIYqgDRxVAFAPD/Z+/fguwq6z7ed++1rFVcWLWpvbzwwlXl2uWFF+4qL6xd1l7stVjrxVdUlHBShAABAgRIIEDQoEHAqKiI6IuKisohmMjJIHkhgYSEJMRAQhJyIqE7nc6hkyYnOudOp5v+7/6NHv+ZJyPz3GPOHnPO76fqVyRjnsccc3ST5zefhxBCCCGEkFoGAIBGQlGlSWkpHi9JJGdTcc9vOxxdR9l34vTrqCihGUGS20O+TE++Mko4M0q5NIOLPx8VRbxkoqj4kLR0z/Fou4oyfj2Plj0Sn/Xl87NPLUGj16ZtydcXLv2TXMqoGrpvL1yo+FPOckpe8EnOANNofEaVapdt8mOrmqWDAJSHogoh9Q1FFUIIIYQQQgghhNQyAAA0EooqTcqXzQmXtknaeaw/uo6i0kdIRQ8VOVQ4KMRLGI9tPjUrifNlhy5dVHxWFqdle7RMkG4TlkpU2PDnqEKKluxR+cGX1Qmjkodv9+eksohf7ssTqfygvydnjPFlgnRZpTPBFBLO0qIZaErxgpFSrCSUdSMtqmg5Kt8P63tOxFsBpImiCiH1DUUVQgghhBBCCCGE1DIAADQSiipNymcZ0bI/mplEhRUtReNlDedlgHxL3ajsojJKvhlZ5uw8krutltJJ8llLyikqqKSiAoqur6KIZlZxer5hWSWZT81qi0oxvrSOZi7R9ikr90R/l888N7wvVBrxGVYUzSiT5DN56Hnke13VUFlH96nZbXyml0JUTvGyjJ5voxppUSUsURVaugrAyFBUIaS+oahCCCGEEEIIIYSQWgYAgEZCUaUJrdzfmxvk18wUKkjoz1+a03na7BQqgfj18hVVNh3si0oTmqkkSbOR6HaFZmwJl+15vO3MGVecHkPPy6/7yMYzSwlaMkflFZVPVJ7Rcj96XXqM5HI6587bHt1PuOSQb5uwvDuarUV/VoEi31I8YZFFz0slmpFS6cLfg3z7MslLO+XORpNFIy2qiJetwtIRgPRQVCGkvqGoQgghhBBCCCGEkFoGAIBGQlGlCfmyKZ985oPcYH++JXzCUoYKI/n4Ej6aIcWFJZRw9pOk8+fviK6jsoseX4+hGUUUzWai5XV89hAlX0mlUoWKKuHjKPlmU3EqtPj1tBzR3K6jeUstSXqNmtEl30wsXtxQfF+rUKQZXLQ/Q9oPup7ev3IeN4t8H2p/VMuXllIxCUD6KKoQUt9QVCGEEEIIIYQQQkgtAwBAI6Go0oRU0vBShKKlb/IVHjRThS5XIaBQIaJ3YDC3nI5m+nhsc0+u/KKSRTGasUVFD38ehaLnV6w4Ugl/ripKOH+digorpQoxmkXFCy/FovsKZ6jxWWY0i4geQyUelYG0TFJYfpm19VB0fb1m/V2FFJVWnIo8fl2VZBrRg+uGl34K34dKaL/6PlDxCkD6KKoQUt9QVCGEEEIIIYQQQkgtAwBAI6Go0oTCpXSUcHYRp+VoVJDQ5aWWVunpG8jNjuLREjoqopSi0ofu32fH8Kjk8eVXtkUlBJVh0qKSiO4/nEFGJRw9jqISSDl0G80ik3zeHhVwnmg/GF972JoDvQWv79Hl4X7zcoveC5WAvDCk8o62P7Rh5LPMjJale45XtXSSjodwNh4dqwDSR1GFkPqGogohhBBCCCGEEEJqGQAAGglFlSbkBRRPvrLD2CW7ckWAfEvV5KPZPTRDhmYLqbSAoPKBihyaYUT/rabAUI6zZgwv8ZPWLBx63nrdmiHk8baeaBaUcBaVJJUqVAzyoolHs9BoGaXkvtZ+0Ew1fr3PvdgRFXv8PdRjtgLtF800o33kM/Yo+UpWANJBUYWQ+oaiCiGEEEIIIYQQQmoZAAAaCUWVJqPZOnyQ35Oc+WNGx6HcZdNW7423NodCrznLVIYJlyfyaPaVVphNJLlUlee813bUrNAEgKIKIfUORRVCCCGEEEIIIYTUMgAANBKKKk1Gy634QP+nZg0vQ6PZPXwZFi0vo1lUtF3L1zRbEcBfeyMVVZxmmtFMN5pV5YIFO6O/twLNpKJloDSLjMo5Kqg04vsHNBqKKoTUNxRVCCGEEEIIIYQQUssAANBIKKo0mfm7j+bKGp99YUvuz8noss4jJ+NbNQ9/fRQdAKA4iiqE1DcUVQghhBBCCCGEEFLLAADQSCiqNBkVNFTU0KwpXlTRLBVe4FA0Y4WWCGo2PX0DudeoWToAAIVRVCGkvqGoQgghhBBCCCGEkFoGAIBGQlGlyXhRRSUVLfmjPy/qPmYr9/dG/20/3Bdfs/lsOtiXK6rotQIACqOoQkh9Q1GFEEIIIYQQQgghtQwAAI2EokqTeXDd/lxRpdVKG3qd/pqbcVkjAEgTRRVC6huKKoQQQgghhBBCCKllAABoJBRVmsx9a/ZFRY1z521vuaKKzyaj9A4MxlsBAPlQVCGkvqGoQgghhBBCCCGEkFoGAIBGQlGlyUxZuadliyo+m8zZM9viLQCAQiiqEFLfUFQhhBBCCCGEEEJILQMAQCOhqNJkxr21OyprjF2yq+GKKt3H++M/VWfyiuGSzudnd8RbAACFUFQhpL6hqEIIIYQQQgghhJBaBgCARkJRpcl4USWcUaX9cF98aXat7zlhn3hqs83tOhpvqdzli4fLOXrtAIDiKKoQUt9QVCGEEEIIIYQQQkgtAwBAI6Go0mS8oOKlDaXzyMn40uzyZXu0dFG1/LWrrAMAKI6iCiH1DUUVQgghhBBCCCGE1DIAADQSiipNJixrNFJRZdrqvSMumXxqVlt0Hyq9AACKo6hCSH1DUYUQQgghhBBCCCG1DAAAjYSiSpM559VtUVnjggU7c0WVnr6B+NLsum/Nvui5nj9/R7ylMpsO9uVe7+zth+OtAIBCKKoQUt9QVCGEEEIIIYQQQkgtAwBAI6Go0mR8RhX/r9IIHm/riZ7rWTM2V1WseWjDgdzt953IfjEHAEYbRRVC6huKKoQQQgghhBBCCKllAABoJBRVmowXVHxmlUYpqqhcopKJnu/kFXvireX77AtbottWOyMLALQaiiqE1DcUVQghhBBCCCGEEFLLAADQSCiqNBkvqnhxQ/9tFFNW7omeszJ97f54a2kzOg7lbseyPwBQHooqhNQ3FFUIIYQQQgghhBBSywAA0EgoqjSZRi6qHOn/2L7w0tZc6eSLL3fag+v2W/vhvvgap+sfHLQn2g/mZmLR9QEA5aGoQkh9Q1GFEEIIIYQQQgghtQwAAI2EokqT8aLKJ5/5IPrvl+Y0Vnmj+3j/acsWeT7zXHv02jy6zqdmteUu1+td33MivhcAQCkUVQipbyiqEEIIIYQQQgghpJYBAKCRUFRpMl5U8ejvjUYzpTy2uee02VWKRTOprDnQG98aAFAOiiqE1DcUVQghhBBCCCGEEFLLAADQSCiqNJkxC7tOK3Gc99qO+JLG1HnkZLS8z5SVe+z8+TtyM6qMXbIr2ja362h8TQBAJSiqEFLfUFQhhBBCCCGEEEJILQMAQCOhqNJkxi/rPq2oMu6t3fElAACcQlGFkPqGogohhBBCCCGEEEJqGQAAGglFlSbz6KaPKKoAAEqiqEJIfUNRhRBCCCGEEEIIIbUMAACNhKJKk1m5v/e0ooqWxwEAIImiCiH1DUUVQgghhBBCCCGE1DIAADQSiipNpn9w0D75zAe5osp9a/bFlwAAcApFFULqG4oqhBBCCCGEEEIIqWUAAGgkFFWa0Nglu3JFlYc2HIi3AgBwCkUVQuobiiqEEEIIIYQQQgipZQAAaCQUVZrQmgO99omnNkdFlSfaD8ZbgZHpPHLSegcG478BaHQUVQipbyiqEEIIIYQQQgghpJYBAKCRUFRpUppJ5fz5O6z7eH+8BajOpoN99sWXO6Pi0+dnd1BWAZoERRVC6huKKoQQQgghhBBCCKllAABoJBRVABSkotOnn223s2YMz9CjLOo+Fl8KoJFRVCGkvqGoQgghhBBCCCGEkFoGAIBGQlEFQEGXL96VK6hQVAGaC0UVQuobiiqEEEIIIYQQQgipZQAAaCQUVQDk1XnkZK6c8tkXtlBUAZoMRRVC6huKKoQQQgghhBBCCKllAABoJBRVAOT14Lr9uXJK+OeV+3vjawBoZBRVCKlvKKoQQgghhBBCCCGklgEAoJFQVAGQ1zmvbouKKZ+f3WH3rdkX/fkTT2223oHB+BoAGhlFFULqG4oqhBBCCCGEEEIIqWUAAGgkFFUAnGHfiYGolKJyytRVe+3cedujP39pTmd8DQCNjqIKIfUNRRVCCCGEEEIIIYTUMgAANBKKKgDO8HhbT1RMUebvPmpnzRgurUxesSe+BoBGR1GFkPqGogohhBBCCCGEEEJqGQAAGglFFQBnmLC8OyqmfGpWmy3qPpYrrczefji+BoBGR1GFkPqGogohhBBCCCGEEEJqGQAAGglFFQBn+PzsjqiYMmZhlz24bn+uqNLTNxBfA0Cjo6hCSH1DUYUQQgghhBBCCCG1DAAAjYSiCoDTdB/vzxVTHtl4wM6fvyP68xdf7oyvAaAZUFQhpL6hqEIIIYQQQgghhJBaBgCARkJRBcBpZm09lCuqLN1z3D75zAfRnyev2BNfA0AzoKhCSH1DUYUQQgghhBBCCCG1DAAAjYSiCoDTTHz7w6iYctaMzVFRxUsrs7cfjq8BoBlQVCGkvqGoQgghhBBCCCGEkFoGAIBGQlEFwGnOeXVbVEz58ivb7KENB3JFlZ6+gfgaAJoBRRVC6huKKoQQQgghhBBCCKllAABoJBRVAJzGl/rRzCpjFnZFf/7iy53xpQCaBUUVQuobiiqEEEIIIYQQQgipZQAAaCQUVQDkrO85kZtB5ZGNB+zsmW3Rnyev2BNfA0CzoKhCSH1DUYUQQgghhBBCCCG1DAAAjYSiCoCcGR2HckWV6Wv35/78/LbD8TUANAuKKoTUNxRVCCGEEEIIIYQQUssAANBIKKoACUf6P7Zxb+228cu6rXdgMN5aOc1I8tCGA/HfGsO01Xtz5ZTLF++K/nvWjM3RPgHQXCiqEFLfUFQhhBBCCCGEEEJILQMAQCOhqAIkhGWN2durm0lkwvLu6PafeGpzvKUxeDnlU7PaoujP58/fEV8KoJlQVCGkvqGoQgghhBBCCCGEkFoGAIBGQlEFSPjcix25osoT7QfjreULiy5TV+2NtzaGL83pjJ63Cjb+Gh5v64kvBdBMKKoQUt9QVCGEEEIIIYQQQkgtAwBAI6GoAgR2HuvPFTSU57dVNqPKjI5Duduq9NE/WP3SQaPh7JnDs6h4PvnMByz7AzQpiiqE1DcUVQghhBBCCCGEEFLLAADQSCiqAIFZW08VTZSV+3vjS0pbvve4nTVjeCaSTz/bbt3H++NLGsO+EwOnvXZl7JJd8aUAmg1FFULqG4oqhBBCCCGEEEIIqWUAAGgkFFWaXE/fgJ3z6raogIHSpq/df1pRQ/uvHJqJReUU3UZllUoKLlnReeTkaa9dmb/7aHwpgGZDUYWQ+oaiCiGEEEIIIYQQQmoZAAAaCUWVJudL0Yx7a3e8BcVoBhEvaXx+dke8tTgtjfPFlztzt9M+b0RL9xzPvQblM8+1N9zSRQDKR1GFkPqGogohhBBCCCGEEEJqGQAAGglFlSZ335p9UemAokp5zp23PVfUmPj2h/HW4sYs7MrdZtrqvfHWxjO362judSg6dgA0L4oqhNQ3FFUIIYQQQgghhBBSywAA0EgoqjS58cu6KR1U4HMvduSKGuUse6Niil9fhZVG9kT7wdxr+cRTm637eH98CYBmRFGFkPqGogohhBBCCCGEEEJqGQAAGglFlSanmVRUPKCoUp7PvrAl2l+ffOYD6x0ovuyNL6ukfOGlrdESQGnS/Wk5HqUepZGHNhzIvZ7LF++KtwJoVhRVCKlvKKoQQgghhBBCCCGklgEAoJFQVGlyFFXKp2KKCirlFDVW7u+1s2Zsjq776WfbrfPIyfiSkVMpZcLy7tz9ey5YsLNkeaaQncf6o2LNIxsP2PPbDud9vnpMfyyVYwA0N4oqhNQ3FFUIIYQQQgghhBBSywAA0EgoqjS5rBZVVLhIewaSkVKJw4sa2m+FqEjymefao+tpiZy5XaWXCCqXCiIqvvjzSKbS91GFFC1JpOeZvK9zXt2We+56TWExBkDzo6hCSH1DUYUQQgghhBBCCCG1DAAAjYSiSpPLWlFl+d7jdt5rO3LFiS++3Gmztx+OLx09Ks2EBZGJb38YX3K6/sFBO3fe9tz1Hly3P75k5LRvvCyi/TN5xZ5o5haVTcYu2RVt12OXS6WXT81qyz3XQtHsMX7/iko4AJofRRVC6huKKoQQQgghhBBCCKllAABoJBRVmlyWiipacibfzB7K42098bVGRsvbqGTy2OaeqFRSLpVCwudTaH+Fy+Oo3JEWFWV8lhYtP7So+1h8yXA55ktzOqPLxi/rjrcW1364L7eMkfa59om2SU/fgM3aeui0wk2Yz8/uiK4HoLlRVCGkvqGoQgghhBBCCCGEkFoGAIBGQlGlyVVSVFE54vz5O+yzL2yJihvVWt9zIip0PLThQLxluDjhs4V84aWt0Swqmi3k0kVd0bazZ7ZFBYpqaekaLWXjZQtFM7eUU1bR80gWaKat3htfesoT7Qdzl6s4kubSRXo8v+9whhntE70nfplmXSmHlvvR9fW6VBAqRO+R37enkllbADQuiiqE1DcUVQghJFvp7++3gYEBQgghI0xvb2/e8ywhhJD6BwCARkJRpcmVU1TZeaz/tDKEUu7MHUlzdh7JzeTx5Ve2xVstuj9t06whyUKKlv/RZY9sPFVsqYQKI5oFRPehYoZes8ow+nupZYXC2UpU0PHlf3QfIZVv/HXpOtpner4q34y0sNI7MJhbokcFE6elez734vDrUspdZkilIL9NoSWMRK9dZR6/roeiCtAaKKoQUt9QVCGEkGzl44/T++IBALQyiiqEEJKdAADQSCiqNLlSRRWVIbwkoWg5mzUHeuNLK9N55GSuzKHiixdS9p0YyM2m8uimj6JtIc34ocvCkkYlvASjx5jbdTTapvKICiVTV505M0pIz0e3VXRblWv0Zz1/lyzCzN99NDcLy+WLR778j96D8Dno8VQw8W16XZrNpVzT1+7PPVe9J4XomPDHCBO+dgDNi6IKIfUNRRVCCMlWKKoAQDooqhBCSHYCAEAjoajS5IoVVVSQ8GKJZjrR0j8jccGCndF9aWaScJaRxzb3RNsLzT6iQosu18wmToUNlUhKLd2jmU1UyNDtw6WG5PG2njO2hXRbLTmk23pJxpci0owszl+XohKI+H71YsxIaKYUv3/NAOOlGEXFGc3mUgl/DeH+TNJsMP4Yer/8z0pyNhkAzYmiCiH1DUUVQgjJVsKiyod9+2zFoffs3cPrSIXRftsztP9yjh2zj1euJCPJihU2uOfUcsxapmrfvn1kBNm7d2/0uXfs0+qjfXno0KF4Tw6jqEIIIdkJAACNhKJKkytUVEmWVLqP98eXVGfTwVPLzWiGlJCWkilVgNCsLr5UkG7v5ZMpK0/940w+PnuICidaQqcSmg1Ft1WBxmceCWcZUYEm/Hs408g5rw7PvKKZVUYq38wmek4q2ZQq6uTjSykV2t9hMUalGL0G/7uSr9QEoPlQVCGkvqGoQggh2UpYVPnnvrn2f713uX193TWkwvzHe9+12fvmxXvSbLCjw3q/+hXr/c/zSLU593+3/pdmx3vUolLA3LlzyQjyyiuv2Pbtp5Y5PnjwoL366qt5r0uKR/ty9erV8Z4cRlGFEEKyEwAAGglFlSaXr6iiUorKKdqu5XFUMhkpFUp0f7rfZLnCSyfJAktIs3qoCKJldfz6igoo+WZhcb5Uj5b/qcSsrYdyj+GzpIhmSPHtPjOJoufnSxnJea/tiLZPW118aaFClu89HhVGNJOLF4Y82jaS9+RzLw7PyJKvqDJ5xfD7pOi9bz88/Djh8kOaiQZA86OoQkh9Q1GFEEKylbCo8tK+1+2ra6+yC9ePJxXm/LVX27/2vx7vSbPBrVut95vfsN4Lvk6qzX+eZ/1zXo73qNnhw4fttddeIyOIChY7dpz68pHKP/Pmzct7XVI82pdr1qyJ9+QwiiqEEJKdAADQSCiqNLl8RRVfykYlkEoKEVqKR+WN5OwrmslEM6IkH0fCmVa8FJGPZvZQUSWc5cVvV2h5nX0nhpcMKnadfPQ8/HG0PE5YrPFliMLkK/P4rCS6n2KvKx9fCilf0pihRftR9+Uz1Ij2lQow/jgqs4Svac7OI7nLVBYC0PwoqhBS31BUIYSQbIWiSjqhqFKDUFRJPRRV0gtFFUIIyXYAAGgkFFWaXLKoollNvJCgckK5fKYRlVuSM27M6BienUQzoew8dnqJxQsQul0xKkd42cWLIb6ETaFZSxZ1H4suV8LZTorR7Cwqxfhz8iV/Qiqv+P0WmnFGj6fLdB3NtqLnUq41B3qj92XC8m57ZOMBe6L9YO7xZm8vPOtMubS/dF96P9b3nIgKRv5cFb2+ZNkoLN5UuoQSgMZEUYWQ+oaiCiGEZCsUVdIJRZUahKJK6qGokl4oqhBCSLYDAEAjoajS5MKiimbV8DLIxLc/jK9RHi9v5CtS+Awt+m+SShK6TGWOQlQe8VKKihJahkYuX7wr2pZvCRvx+y5Vggn5c1UKFXW0LM8XXtoazUiiokchKqeEyxSd8+q2aLYU7edK+XI9yRleqhEu45PM2CW78i6lpNeryytdQglA46KoQkh9Q1GFEEKyFYoq6YSiSg1CUSX1UFRJLxRVCCEk2wEAoJFQVGlyYVHF/6xldcqdgUR8ORyVSJIlCs2g4mWNWVsPxVtP8WVuihVVtJyQrqOERRh/vufO2x5vOZ1eU6n7DvlMI0pyiaJqqRTiJRPPWTM2R8vsaKaZcmcn8VlplMkr9sRbqxe+VkVFlELLI6mY49fTbC8AWgNFFULqG4oqhBCSrVBUSScUVWoQiiqph6JKeqGoQggh2Q4AAI2EokqT87JHuJxNJUv+iGYV0e3yFUJ8yRjNapKvlOFL/yj5ZgrxsomSLI9MXTVctihVVFFRpJSHNhzIPU6+mV9GQq9LJZ3zXtuRewyPCiLl8hlkFD3HYrO5lENLFmnWl1LlE5WN9DwLLbEEoDlRVCGkvqGoQggh2QpFlXRCUaUGoaiSeiiqpBeKKoQQku0AANBIKKo0OS+qeDTTR6VUdtBt8xVGVF7RZROW518yxksuysr9pxcmvOSiqKSR9Hhb8dlYfBYSzeiSbzkbpxlK/HG0PE+x645U55GT9sjGA9ESOyp/6L/lUtEnnF1G0X2osKPZUHTfAJAWiiqE1DcUVQghJFuhqJJOKKrUIBRVUg9FlfRCUYUQQrIdAAAaCUWVJhcWVVToaD/cF19SPi+EnD//1P/Uy/zdR3P3nSyhhLTUkK7jM6ZoKaFw9hAVYPKVR8IlaTTrR1L38VPLDuVbykfFjrD4UeuSSlq0XJLvs2QqnQ0HAAqhqEJIfUNRhRBCshWKKumEokoNQlEl9VBUSS8UVQghJNsBAKCRUFRpcmFRZeLbH8ZbK6MZQnR73VfI77vU8jZTVg7PaKJSicoin3zmg9xzUpGkWHnk08+eXnJJCl+fZovR9TQDiZbh8RKLX9YIJRWn5YRUBNKSRSr1qMyj5YCqKRoBQD4UVQipbyiqEEJItkJRJZ1QVKlBKKqkHooq6YWiCiGEZDsAADQSiipNzoscZ83YHM1AUg2VP3QfYVFFy9ScPbMt2v7opo/irfmpIPLFlztzpRFFZRUVYEqZvnZ4eSBdX0sQJem+VX4J7zuMnmOp5wcArYiiCiH1DUUVQgjJViiqpBOKKjUIRZXUQ1ElvVBUIYSQbAcAgEZCUaXJffmV4RLH+GXd8ZbK5Suq+CwrKpBoKZ9SNEPI42090X1paZt9J0rfRlRE8degGVLmdh2NLzlF960yimYc+fzsDvvSnM5ophYtWdRIs6gAQD1RVCGkvqGoQggh2QpFlXRCUaUGoaiSeiiqpBeKKoQQku0AANBIKKo0seV7j0cFD6XQ0jnlSBZVVP7wJXkmr9gTbaslFVGe33bYZm2leAIAaaGoQkh9Q1GFEEKyFYoq6YSiSg1CUSX1UFRJLxRVCCEk2wEAoJFQVGlivuxP2kWVaav3Rn/XsjrlzowCAMgWiiqE1DcUVQghJFuhqJJOKKrUIBRVUg9FlfRCUYUQQrIdAAAaCUWVJtU7MBgty5NGUeWhDcPL/Ghpnc4jJ+2sGZujvz+4bn98DQBAo6GoQkh9Q1GFEEKyFYoq6YSiSg1CUSX1UFRJLxRVCCEk2wEAoJFQVGlSWirHSyojLarM7Toa3cenZrVFZRX9+bMvbImW5AEANCaKKoTUNxRVCCEkW6Gokk4oqtQgFFVSD0WV9EJRhRBCsh0AABoJRZUmNXnFntSKKkf6Pz5tdhZlUfex+FIAQCOiqEJIfUNRhRBCshWKKumEokoNQlEl9VBUSS8UVQghJNsBAKCRUFRpUue8uu20YsnjbT3xJdWZsLw7d18qwQAAGhtFFULqG4oqhBCSrVBUSScUVWoQiiqph6JKeqGoQggh2Q4AAI2EokqTSs6AouV7RqL7eL+NWdhlD204EG8BADQyiiqE1DcUVQghJFuhqJJOKKrUIBRVUg9FlfRCUYUQQrIdAAAaCUWVJtQ/OHhaSUVZ33MivhQAAIoqhNQ7FFUIISRboaiSTiiq1CAUVVIPRZX0QlGFEEKyHQAAGglFlSb15VdOX/pn34mB+BIAACiqEFLvUFQhhJBshaJKOqGoUoNQVEk9FFXSC0UVQgjJdgAAaCQUVZrUyv29dvbMtqik8tkXtsRbAQAYRlGFkPqGogohhGQrFFXSCUWVGoSiSuqhqJJeKKoQQki2AwBAI6Go0sR6+gZsUfcxZlMBAJyBogoh9Q1FFUIIyVYoqqQTiio1CEWV1ENRJb1QVCGEkGwHAIBGQlEFAIAWRFGFkPqGogohhGQrFFXSCUWVGoSiSuqhqJJeKKoQQki2AwBAI6GoAgBAC6KoQkh9Q1GFEEKyFYoq6YSiSg3SAEUVlRVU9FAWLFhgb7zxRhRdpm26PHmb0QxFlfRCUYUQQrIdAAAaCUUVAABaEEUVQuobiiqEEJKtUFRJJxRVapCMFlW8gLJw4UJbu3atbdu2zQ4cOGBHjx7N5eDBg9bV1WXr16+3JUuWZKa0QlElvVBUIYSQbAcAgEZCUQUAgBZEUYWQ+oaiCiGEZCsUVdIJRZUaJINFFZUTVDzp7OyMSgnl0O88u3btsuXLl496KaQZiypeAlLyXV6rUFQhhJBsBwCARkJRBQCAFkRRhZD6hqIKIYRkKxRV0glFlRokg0WVDRs2WF9fX/yMTunv749mUlHxQ/8tdJ2tQ8fF/PnzR60c0oxFlbfeesveeeedqAik5ZfyXacWoahCCCHZDgAAjYSiCgAALYiiCiH1DUUVQgjJViiqpJNMFlW++hXr/dpX819WKt/4WlQUif6b7/J6JCNFFRU5VIAICx7iM6WorLB06dJoKSCVUPTfxYsX26pVq2z79u124sSJ+BbD9u/fb2+++eaoFESaraii575v377otej9WLZsWd1eD0UVQgjJdgAAaCQUVQAAaEEUVQipbyiqEEJIttKMRZUL1l1n31x/nX1r/fV5L69FMlVUUblkKCcf+qWduOH6yssqXz/fei8eYyf/67d24rJLqi+7jDQZKaq8/vrrtnv37vhZDOvu7o7KKSorKCpHeEHC/6ztr776alRK0UwqAwMD8a3NDh48OCpllWYsqqj4I5qxhqIKIYQQDwAAjYSiCgAALYiiCiH1DUUVQgjJVpqtqPK1ddfY/Z2P2Mv7F9glG26qW1klM0UVlVSGHvfkX/8SPY+PP9hsJ665anh2lXzXT0YllW9dYAPz5ka3H1j4hvVeevHozKySkaJKR0dH/AyG9sfAgG3atCnaXm4hQtdT2cULFW7v3r25y5O3qVUoqqQXiiqEEJLtAADQSCiqAADQgiiqEFLfUFQhhJBspZmKKiqL/Kjz13Zw4HD0et74aJldtvGWupRVMlNUUdFk7BU2uGuXPxP7uO2D8soquu1FF9rAa/Pi2w4Z+nndd8/3rff8/8x/m1pmlIsqKiK8++67Njg4GD2+Sirr16+Ptue7fr6oNKHlgLq6uqL7COl+29raollX8t22FqGokl4oqhBCSLYDAEAjoagCAEALoqhCSH1DUYUQQrKVZimqfGPdOLu382E7NHAkfjVm645usiven9RaRRXl6+db35132ODevf5shssq464uvIyPSipjvmUDC+bHtxnS22snf/vbllz6R2WHBQsWREv0iEol7e3tFZVK8pVU9PvP9u3bo1KF9PX1RUsI1bNcQVElnVBUIYSQbAcAgEZCUQUAgBZEUYWQ+oaiCiGEZCvNUFT52tpr7N6tD1tP/6H4lQyXVK56f7J9c911eW+TdjJVVFG+dr713THZBvft82cUl1WuOXNmFZVULvymDbz+WnzdIX19dvK3vxmdmVQ8o1hUUQnhvffeix/ZrKenJyqd5LtuoWi5n507d8b3MFykWLduXVR28bKICjBbh46Ves2qQlElvVBUIYSQbAcAgEZCUQUAgBZEUYWQ+oaiCiGEZCuNXlRRSWXa1l+dMZPK2Pdvt2+suzbvbWqRzBVVlK9+xfom32aDH34YP6uh59XeNjyzipdVVFK5eIwNzD/13KOSym9+HRVFzrjPemaUl/7Zs2dP9Lgqk6iQUG6ZREUJlVqSJRUVX3SZollU9LuQHDt2zBYuXFiXgkWjFFX0nFT0KfXcdDlFFUIIIfkCAEAjoagCAEALoqhCSH1DUYUQQrKVRi6qaLmfH259yA72H45fgdl7R96PZlKpZ0lFyWRRRfnP86zvtok2GJcuZLC93U5cG8+sctGFNrDwjfiSIVruRyWVr/yH9X7ja/nvs14ZxaLKm2++mSuSHD16NFoGqJwChK6TXO5HBYq1a9eeVnTR9Xbv3h1driLMu+++GxUfwvuqRRqhqKLnuGrVKtu3b1/0PhR7frqMogohhJB8AQCgkVBUAQCgBVFUIaS+oahCCCHZSqMWVb629uqopPJR/8H42ZutPfK+ja3jcj9hMltUUb76FTuhmVX2hmWVNuu79WYbeG1evGXIiRN28pFfj+5yP2FGqaiiooOKI06lk3JmU9HtNAtIWFIZGBiISirJEor+vmHDhug6Kqps2bKlLsv/ZL2oouenfd/X1xc9Py25tGjRooLPUdspqhBCCMkXAAAaCUUVAABaEEUVQuobiiqEEJKtNGJR5fy119gPt/7ytJlU1hzZWPflfsJkuqiiaBmg2yfZYPfwLB4yePSoDR0Aw39RSeXXD4/+cj9hRrGo8v7770ePqRLJpk2bSpZIdJt8y/3kK6n49d9+++3o/qW7u7vliypeUtF+cwcOHCi6LJK2U1QhhBCSLwAANBKKKgAAtCCKKoTUNxRVCCEkWxntosq31l1vF0TlkuvPuCxftNzPD7b+0nr6D8XPerikcuX7t8X3k/92tU7miyqKyioTb7HBXbviZxk7dsxO/uqhbCz3E2YUiyqa4URUJFm9enXesolH1y9nuZ/kbd56661cKUNli3oULLJaVPGSii+3JCqpvPHGG0Wfny6jqEIIISRfAABoJBRVAABoQSqq/G//8U279NrbowF0Qkhtc+HYWyiqEEJIhjKaRZWvrxtnt3wwzZ75cLZdvOEm++b64kv2fG3tNVFJ5aOTPfEz1nI/m6LlfkazpKI0RFHl6+dHz2lg+b/jZzlMs6ycGHd1VGTJe7vRSgMUVXTd5HI/XlIpVW5ZvHhxbombVi6qFCqpFJtJxaPLKaoQQgjJFwAAGglFFQAAWpCKKv/v/8//Yf/nN6+0/+MblxNCapxzzv+2rVj1nvX3U1QhhJAsZLSKKt9af73d/MEPbWvv8KD5ax8ttjEbboi257u+SipTt/7itJlU3js6usv9hMl8UUUllYsutIHXX4uf4ek+bm+3E+OuyVZZZRSLKh988EH0mCqqbNiwIW/pRNfLt9zPe++9V7Skoui2//73v21gYCC63Z49e0reJo3oMbJUVNHzSZZUVDzRTCq6TM+tWHQdiiqEEELyBQCARkJRBQCAFhTNqHLet+yy6ybbJddMIoTUOGOuupUZVQghJEMZraKKZkD5xY7H7GMbjB/dbO6BN+2SDRPOKKtouZ97tv7CPuo/GF9zeLmfKzaO7nI/YTJdVFFJ5eIxNvDGgvjZDTlxwvr/McsGu06VLAa3bLET146z3q99Nf/91DujVFRRAUFlE1FRZevQe5lcwkdliELL/ej24XXzRdfRTC2ix9i+fbu98sorea+bZvS4WSmq6LkkSyoHDx60JUuW2IIFC6IZVUpFhZaPPvooui1FFUIIIWEAAGgkFFUAAGhBKqqc85UL7dvX32GXjruNEFLjaPkfiiqEEJKdjObSPyqZPLZrhvUPDs8qIfMOvGlj1t+QWwboa+uutns6fm77+4Plfo6+H82kkpWSipLZoopKKmO+ZQNvzI+f2ZC+Pjv5yK+t9z/+Tztx+202uHdvfMHQ825vsxPXjcvGzCqjOKOKCg/+2VARInl5vuV+yplJxaP76OjoiG6rosr69evLvu1IkpWiih5z1apVp5VUREshHT161I4dO1Z2fFYaiiqEEELCAADQSCiqAADQgiiqEFLfUFQhhJBsZTSLKt8aytfXjbPHdj1j/YP98bMwe/XAwqisovLH9zsePGMmlaws9xMmk0UVX+5nQVBSOXHCTj7ysPV+5T+Gr/Of5w2XVT78ML7C0HPv2JKNssooFVUUzZaiEoeoCKFlelRMUAmi2uV+PLoPzQRy5MiR6Pb6nWjp0qV1KVhkpaiiGVM0e0qa9D5RVCGEEOIBAKCRUFQBAKAFUVQhpL6hqEIIIdnKaBZVPFra53ddT9rJoKwyZ/8Cm9b5K9t/8tRMKtFyP+9nZ7mfMJkrqnzja9Z7yUU2sGhh/IyG9PbayYd/NVxS0eV+3a9+xfom3WqD3d3xFVVW6bAT1187ussAjWJRRWWHtra2+JEtKqZo+Z+RLPfj0f1s2LAhvgezPXv21LVckZUZVd5+++3oHBTS33t6eqISS6U5cOBAtGwQRRVCCCEKAACNhKIKAAAtiKIKIfUNRRVCCMlWslBUUb6+7hr7/a6nrW9weCmQgcEBO/7xiejP4sv9ZG0mFU+miiqaSUUllYVvxM9miGZSUUml0CwpQ9tP3DbRBvfsiW9g9nF7+3BZZbRmVhnloopKD1qKRjRbh0oJYcnDSyqVFCN03TfffDNaska07I+WwKlnuSILRRVFz2X58uVRucPpPdZ+1+UqBVWa5GPUMhRVCCEk2wEAoJFQVAEAoAVRVCGkvqGoQggh2UpWiiqKyiqPRjOrDJdV3HvRcj+TM1tSUTJTVIlmUrnYBpYuiZ/JEJVUfvXQqeV+CkXLAKms0r07vuHQ69jWaSduuN6i8ku+29Qyo1hUUVTgaG9vjx99uKyiYon/Wcv9aHaUfLfNF92fyhSaQcXVczYVJUtFFSVfWUWzoyxevDi6LN9tshKKKoQQku0AANBIKKoAANCCKKoQUt9QVCGEkGwlS0UV5euJZYDWHnnfrnp/sn1z3XV5r5+VZKaookLJdy6zj9etHX4iKqn8+uHyZ0X52letb9JEG/zww+jmg/v324lJt47OEkCjXFRR3njjDfvoo4/iZzBMM6mopFJJkULXXbBgge3efaoEdGLovXnrrbdauqii6DlpGaCwrKLnpZlnKtnH9Y6eG0UVQgjJbgAAaCQUVQAAaEEUVQipbyiqEEJItpK1oorytXXX2B92PW0rD6+1qzK83E+YrC39c2LsFTawcoWd/M0jlS/dM3T9vtsm2sfr11nflDujwkje69U6GSiqqMShMklYotByQCoo6DKVFYoVPXS58u9///u0wosvJVTvIoYeL2tFFUXPKzmzip6bZlbJwvPLFz1niiqEEJLdAADQSCiqAADQgiiqEFLfUFQhhJBsJYtFFUUzqFy84cbMz6TiyVRRRdHMKt+6YPi/+S4vFc2gcuE3R2cmFU8GiiqKCgma8UOfF6clgD788ENbuXJlNOuKl1bCvP7661H5QsUQzcLi9DvQunXrRqWAoeeVxaKKomWU8pVVFi1alMmyivYlRRVCCMluAABoJBRVAABoQRRVCKlvKKoQQki2ktWiSqMlc0WVZkhGiiqKihJLly61/fv3x89mmAorx44ds+7ubuvo6LDNmzdbe3u7dXV12cGDB6OZU0JHjx61FStWRCWHfI9T62S5qKLo+YXLAO3bt88WLlxIUYUQQkjFAQCgkVBUAQCgBVFUIaS+oahCCCHZCkWVdEJRpQbJUFFFUVli/vz5tmnTpuizU4kTJ07Y1qFjQqWL0SqpKFkvqih6ju+8847t2rUrN1tNvuuNdiiqEEJItgMAQCOhqAIAQAuiqEJIfUNRhRBCshWKKumEokoNkrGiiqLShAoKKlCsX78+mvFD5YTwcySaaaWvr88OHDgQzbKyePHi6HajXbpohKKKoufkyXd5FkJRhRBCsh0AABoJRRUAAFoQRRVC6huKKoQQkq1QVEknFFVqkAwWVcJ48WTRokW2fPlyW716ta1du9bee++9aPmaJUuW2Ouvv56JgoqnUYoqjRCKKoQQku0AANBIKKoAANCCKKoQUt9QVCGEkGyFoko6oahSg2S8qOJR0UOlhWSyWADR86Kokk60LymqEEJIdgMAQCOhqAIAQAuiqEJIfUNRhRBCshWKKumEokoN0iBFlUYKRZX0QlGFEEKyHQAAGglFFQAAWlBaRZVLrp5oF111a5RLrpmU9zr5LtegvbZdfHXiNkPXueiqiXZJ/He/bS5Dtzvt+lEm2cXx5Rdfc2p73seI7l/XHXqM4LrR9Ye2hbdXLrnm1Ovz24WXF83QY40Ze2v+y/JE+/LiAvtwJNG+uXAoyddS6P0qleH9NCm6fUX7o4xE9zm0H/z9TyY8NhQ//vRe6+8XX3WLXTg23eeUViiqEEJItkJRJZ1QVKlBKKqkHooq6YWiCiGEZDsAADQSiioAALSgNIoqKmFcdesP7bZ7fmq3ff8BGzv+dhtzWnFhUlRouHHKdLvzhz+1q264Pfq7ighXTbzX7pz2oN0w6XtR8UHXV+ngkuvuspvvus++e+3Q7a+90yZO/Zndde+D0XXv+MFP7dY77rXvDN1H7jGG/nzxNbfbhLt/YnfcM92uvP5U2UGPcUf8GFGh4hrd//B93v79++07107KlR70vK+bfJ9de/MdQ7cf3qb7+e7N90SvT4+vTJ76gH1bz80fv1CGbvvtoX1zz09+Vdb19TzG3X6vXX/r3UO3zX+danLx1bfahHsfsUd+/mu7+uapdtvUn8SvY/rQ+zF5aD9VXlYZf+d9duOt37fLb/j+0Hv1o/L2Rxm5ZOi5Xjb+7qH7HHqPk5frPR3aLzfedb9ddf3kaH+p+HHFLT+wyUOvZ8LtU+3CK2+2idP/aD/7+c+j8sppt89AKKoQQki2QlElnVBUqUEoqqQeiirphaIKIYRkOwAANBKKKgAAtKCRFlVUcJj222ds/qLltujfK+zfq9bZwoULbOrUe3NllTFXTbKHZs63nbu7rX3bbtu0+i278YaJdvP9j1t71z5r29JpXTu32S9/8mO7cOytdvmEe2320vft6J7tNuXG2+2S639kc95cY2vXv2/vrllvWz88YFvfXWpXjb3lVMHk6tvtD88vta5dXdaxo9vWLltkV1830W564HH7YOdeax96jF07O+3Bn9xv37r6bntu8Xrb2bXTtu3eY4tffcGu0Cwj19xmP/7zS3bg2HGb+bfp9s0rhksOY6682e55eoEdPXjQ1g49/up1m2zZ4gV29Y2TS898ctUtNvbBv9j729qjgk7e6wS58Orb7OVVnbb0X09Hs4Lku07lmTS0f+6wl5Zvsmcefdge+9cy+7j/hK3dsMm2dR+w7Zves7vu+N7Q673ZxoydaBdeeUv0vqqgM2boz/733H0N7fcLrrjFlmzeaaue+4fd/dBs27Nrq028+c6h9/rW6PqnZeg9zb1PQ7ctVorRbC9X3fYTW/DeNvto60a75drb7GK/XPv62rvtj/9caseO9Niv7/yhfXPo/q6d+ltb2/mhdWzZart3d9lvf/VTu/knT1nbxvfshvGnSkhZCUUVQgjJViiqpBOKKjUIRZXUQ1ElvVBUIYSQbAcAgEZCUQUAgBY0kqKKZj655b4/2JzXXrf5KzbZ5o0b7N21m+zFl/5pL8+bbxNuHB6Uv/zWH9ma9q32y+k/sjHX/8je2bLHnvjtL+2lVR224J/PREWQR55dalvfWxzNkvLXue/a26s2Wldnh33vpjvs4nGT7KKxt0Qlh29ccZv9a/kmm/nn/4oKEMPPZaJdeevDtrFtq/34nql26cQHbP2uPfbI9J/bnKHHeONfM+wiPcZzb1nHu0vstgf+ZJs3v2+3TbzDrp36qO3s3m733DXRJv9ihq1bv8batm+3fzz5s9OKKj+c9aZt//cSu+zia+3r373JvnXlLXblTd+3sTcMPb+h13jZ0P675ubv2XfH32WXX3e7XXXLVBt3y912yZUTThVVxg8vWXP1rffYdZOm2mXXTIxue/G42+3aST+wq2+6a+jvk+zmH/zCbrvzB9FSPZeMG3qOQ5eNu/nu6O+XXjvZrrjxTvvO0ONcN+ke+861KncUL8tcMnS7q743tH82b7Qbrr/Z/jx3pfV+tMOuueFWu+YHv7O9Jz62N57+u/3owcftF//1qP1l5myb9r0f2ncn3We/e/IFe3rWi3bvtB/bxUP7/9Ibptov/jTL/vbMP2xT9wFb/fyzdtPk39jLr8y1G8dPtnF3/dz+/Mw/7cm/v2CPP/28/W3ovv70l7/aNTcNvYfX3mk/++Pf7f4Hfjy0HybZ2Anft8uvvz2auUZllLEThvbX+Kn2wpL1tnz1Ztu5ecNpRRUt5fPzJ1+3997ZYNs7u+23U6bZ16+81f7x1vu2YtFLdtlVN9sDf5lrXR+stWuuu8teW7fFHv3ldBtTpBgzGqGoQggh2QqZYG1UAAB2J0lEQVRFlXRCUaUGoaiSeiiqpBeKKoQQku0AANBIKKoAANCCRlJUGXPVbfbbv8+zp/74T9v4/nobf/1Eu+TaO+3b4ybZz5982R7+1YN24VUT7bLrJts1Km1cfbNdeN00e/eDnfa3Rx+zDZ3b7P5pU+yb373Zxt39sG3ftdUmTb7TrrjhLrvih7+zLdu32fejosrw42mGkdt+OcM6Nq2168dPipZ10YwdWnrosuvuiooil1x5s118ywO2dluXPTz9T7Zxy3ab/oMp0Qwg19z1a9u+Y7Pdffdku+KmKXbR2Jvtmu/9zjp3ttuUybfbt2+4O1oG6LWVG+z5GQ+eVlT5wcxF9uGGtTbtBz+zKff9wq657na7+7cv2Mb1K+3a8XfYk/NX2UtP/9Ue/vMCW7tmna3a0GEf7um2p377S/vuT/5smzrbhl7Xnfa759+07V27bev2Xfb24rk2dmjbX155x7Z07oiKPnffNc3+sGC1zfnTH+2ym+6zeSvbbHvnTuvq2mXPPv57u+iuB23Zpk329up1Q/ezx1a/Nd+uuk7LHp35/njGDL3Oux/6l7331kK76LLr7a+vvRsVVa4ef6tdfc+jtvfEgM392wu2eOVe6zu0y16b+7rd98Cv7c3N3dbVscnmLV1vRw/us59Mu9/++PLQbYf+PPe1JfZR34CtnDXTvvfjF6z36H6b/r2f2Iqt+23jireHnuMu6z+23155dYkd7Ttmjz30Exv7/Ufto95j9qeHf2pf/84t9ti/3rE358yyMZffYDc88LitXfuu3XDj7Tb2xrvsugeftm3tm04rqmhmlCsn3D10fP3YVq3fbY9+7wf2zaum2ZoPdtnvfjbNLhg6Fr5z83TbsqPTpk65zR7952p7ZcaTdtGVXmjKRiiqEEJItkJRJZ1QVKlBKKqkHooq6YWiCiGEZDsAADQSiioAALSgkRRVLrx6sj364nz72yPz7O23FtmY79wYFUcuGPrvXX961h7+/e9zs55oSZdvXTnZnvjvd+3dxa/atbf+yjp2bLNpU28f2n6rXTPlQevctdNuv/N70ewn3532e+s4ragyycaMu9Pmreqw5x7/nX3jOzfbjx5+yd7b9IG98c9/2jVX3RoVAL457i77+5vrbdnrL9jYGx+29vYddv+kO6LCzDWTp9u2XZtsyt23RjOifPumabZwdYe9PONv0eww0Wsaer7zV71vzz19elHlnhlv2PFDB231qnW2as0a++X3fmQXXHW7PbfwPVu/8X1bu2K5jbt2kv125ru2deNiu37CHfaTpxfYzg3v2i0//bOt79hkt93/mHV177Sf3HefXXXbz+y9rbvtb08/Zet37LWXZ/3dfvDjX9nlN0yxp5a32et/fdymP7PYOtYttxtvmmxTfvWs7d6+xe6c/mvbuPeA/ebBn9u133t0aJ/tsQcnTx16L4aff77o+U97ZqEtmv+ynX/ZePvrvBVmH/dFZQkt/dO5eZXdPPHHtnRdj/17/kv29Uuus8k/n2En+o7aL6dNHXqdd9vanT32zr/nDT32UZv7/NP2tW/faMvadtma5/9hdz/w/NC+2Ws//9FDtu2jI/bEzx60e2cutp6d79nV4yfZ/Pf32vqlr9qjL/zb9nSsseuunxjNjnPjA49bZ8cHdsN1E+2vc9fYGy/OsDFX3GyXXn2rXfeLGbY9UVQZjmah+bGt2ehFlR/b+s277TdT77FvDb3Hl990j7XtbLdpP7jVfvHkq/bvv//DLhl6r8P9MdqhqEIIIdkKRZV0QlGlBqGoknooqqQXiiqEEJLtAADQSCiqAADQgkZSVLlo7ER78M8v2T9mzrYNW7bab37xkP3wocdt6r0/tr+++Ib95N4f2kVXD5dUxoy7y/425x1b/eYbds01t9iY66fa2u277ZGf3mdfvXS83XTfn23n9k128y2TbMwVE+yyex61jm2dNuX622zMNVr652a7/Zd/t61bNtgNNw79/epJNm7S/fa9B35ld3zvfvv2VbfaRdfdbX9fsMaWvPGKffuaCTbm2mm2bttu+83P77Xzhx7jhvv+Zjs637cJ4yfYpTfcb6+/s8nmPvuUXXzFjfGMJJPsgstvstfe3Wj/ePIn9vXv3By9znDpn0vHjLOvfedG+9bYW+3C706wu37zovUN7ceF/3zavn7pTfb7f6yyVYv+bl+/bJxdM+1J2/n+Jrv7Z4/be1vet3t/+U/r6lhhV159vX31OxNs1so2+/szT9qknzxmr/97rbW3bbaf/Xi6/W3ZZnvtr4/bI2+stTf+OWvouV879Fp+Zu1bd9rPfvdftnrHDrtposo30239+7vt13feY98qUVT5wWOv21tvzBt6jtfbX+e9ayeP7LEfP/iw3XHPT+yqG26zC757jy3fcNBef+UF+9plN9jUh1+w/t5D9sDtd9jXrrzNVnTst7Wb3rQth3vt2Sf/aF+55AZb+kGXrXn+2aio0ntkv/3glnvs+X+3Wc/+bmvb2ml/fexRu+DbN9q0x16xo0d7rPvgYZvzzB/j8pKKR1Ns7rtb7Z8zX7S177fbvd+7O1qm5+Kh53v1z56ybW3v201D7+sYlZyuuHnoPZpklw4dO9+64n5bvWHofb1zqn3tirts2aYue+qxB4ee93i78q7f2rYdnXbHzRPt188sscV///vQ/VFUIYQQUjgUVdIJRZUahKJK6qGokl4oqhBCSLYDAEAjoagCAEALGklRRWWDy2+9355/bYnNW7zGOrfvts5t2+zNZcvsHzOficojl1wzyS659vv29wXrbc/2dvv5Tx+OyiXXT/y+/e5fK23HB2vtJw/9wd7a1GVvvfKsXXLFBLtu8o/sR3/6p3Xv/dD+8PNHbPxNd9qYoft4Y+NOe+7J30ezoejxowKMCip6nBun2j/f/sC6Otbb/T/9lX1/6DGuu+XO6DF2Dj3Gz4YeY9mmHbb0lVl2xY3327L3P7TNq96yH97/C5v6wEN29YQ77bLrvm933PtLe7dtqy2a97Tdete90WuMiioz37R9GzfY/fcOXf/Hv7a7fzjdxt31c1v7wXb789/+bhs6ttuDP7rfHpnxztDrXG8/+eWjNnf1Flu3+L/tmp/+2TZ2ttn47//S2rr32z+H9s1Pf/+s7d7Tbb995BH7w9Mv2I9/+gdbs3WXzXrsv+yJZR/Ygif+Yt/7zb9sz65O++2vHrUnX3nHuj54z8ZPe9jW7t5lt9x+l1109U/t/U0fliyqXDT2Fpt4/5O26b237btXjre/vL7a+g7utGsnaDabW4b2o5ZQ+qG9s+GQzZ/3T7vg8hvtiskPWseB4/bOolfsl3/6lx0+fsz+8rvHbMHGvbZ70yr7+e9m2O6j/bbqH7OipX/6ju23e26/3+Zv2mP7d3fa2++8azOfmWHXjp9kl06439Z1H7ePhx5zyu132EXxMkV6Xt//7Yt29KjZe2/8yy4bO1xGufGuB+xnz7xme3dtt4ce+IXdOOnn9uIrr9vEyd+zy26ZOnT8PGFbtn5kL/7uTzZ+4l32sxmLrHt7m/3q4d/b66u22Nq3XrWLrrjVZi153/7+5/+yMWML75vRCEUVQgjJViiqpBOKKjUIRZXUQ1ElvVBUIYSQbAcAgEZCUQUAgBY0sqLKbXbJ1bfa2EkP2B9n/Mv+/txQXnjV/vD7P9h3r1WRRIPyt9rVk35tb67cYO+8+569/e5ae3fNOvvDo7+xi669x57611JbtXajzXvlZRs/4U771pU32wOP/cNWvrfBVqxeZ++uXm0Pff9HdsVdv7K58+fbTTdPjmc/CXL1RBt7729t6eqN9vbK+DHeW2u/e3i6XTT+HnviX0uGH+O//2VX3zDJ7vrpU7Zy3ftD111j76waeoxV79rd99xrl9/4S5v/77W2Qsv7vLfRXnx+ZlSGUaFi0sPP2DtDz+mdVWvtndXrbcHr8+wXf5tt/3jmCRtz+QS7/0//tGefftJ+P2O5dXVutqUr1tpbixbaHROn2OU/eNj+Oe81u3xon9z187/YkpV6XWvsr3/+g1123V32x+fmR8/vtaF9cPUNd9rPZ82zvz78iI255g779Yy5Q/ti6HUtX27Tp/3Ixtz2gD0/f5Fdf8sdQ/vhXnvh5cX2w4nfi2YiOW2fhBl6DZfefJ+929ZhP/nB9+3Hf37Rli1dZNfcpH2p202yMVd9z2a8tNwef/xPduHQ673oqok2+cHH7c0V2hfrbebf/maXX32L3fTAH2zJuxts6Vtv2bML/20z/+v3duv3/2hLly6xex/4o23e2WVz//tV+9eilXb05El75rEf2/mX32bz1+2yjctesUvGDs9SM5xJ9u0JP7JXlqywnz7w46HnMLSvr7rVHn765aHHHH7/V6x4237+g9/ZvMX/ttvvuNuunv6YLVszfNmqtRvsiT/+ysZcO8V+/+wb0T5cOH+e3TRxsn3nlp/Z+rYtNm3KlDOPl1EORRVCCMlWKKqkE4oqNQhFldRDUSW9UFQhhJBsBwCARkJRBQCAFjTSoopyydUTbczYW+xiLdty9a1Df77VLgmvc80ku/DKm6MSiucizQBy2vah20elidvs4qtuPf26cZlCBQqVX3L3GybvYwzdLvEYur3KJ+H1FC9shPeh1+H3r0JOeH09F73W4WVsbrOLrrrFvvbtm+0Pz62xtUufs29+d3x0veHlaoafu1/v1H0M3XbosjFj/X71/Ib24dB1xmj/qEAydDu/vu8zbRveD8N/LqeIodfyy5nz7b9nPGHf0tJFQ4915nWGHveqU7OPqDQSPle9p+F7o32l56n9ecF3brAbpj9lBw4ftjfnz7d/vbHK9uzdaff/8G4bd88fbf+Ro/boz+6PlkwKH9Pfn+i9ireF+0jP86Kh+9d1tG9USjp12fDjn76fbomue8/v/mVvzPunXTp0X6c9XgZCUYUQQrIViirphKJKDUJRJfVQVEkvFFUIISTbAQCgkVBUAQCgBaVRVCHDufiqSTbxh/9l03/6U4tmMclzndHMZUPv8VU33JX3sjRyydW32R0PPGp/fvoF+8tTs+z79/zILrzyFht/z8P22z/82a68bniWnXy3TTvfuelu++71k+v2eJWEogohhGQrFFXSCUWVGoSiSuqhqJJeKKoQQki2AwBAI6GoAgBAC6Kokm6iGWWCWUlaLdEsM1dqtpVbcrOkaDaaaDacxHVbNRRVCCEkW6Gokk4oqtQgFFVSD0WV9EJRhRBCsh0AABoJRRUAAFoQRRVC6huKKoQQkq1QVEknFFVqEIoqqYeiSnqhqEIIIdkOAACNhKIKAAAtiKIKIfUNRRVCCMlWKKqkE4oqNQhFldRDUSW9UFQhhJBsBwCARkJRBQCAFkRRhZD6hqIKIYRkKxRV0glFlRqEokrqoaiSXiiqEEJItgMAQCOhqAIAQAuiqEJIfUNRhRBCshWKKumEokoNQlEl9VBUSS8UVQghJNsBAKCRUFQBAKAFUVQhpL6hqEIIIdkKRZV0QlGlBqGoknooqqQXiiqEEJLtAADQSCiqAADQgiiqEFLfUFQhhJBshaJKOqGoUoNQVEk9FFXSC0UVQgjJdgAAaCQUVQAAaEEUVQipbyiqEEJItkJRJZ1QVKlBKKqkHooq6YWiCiGEZDsAADQSiioAALQgiiqE1DcUVQghJFuhqJJOKKrUIBRVUg9FlfRCUYUQQrIdAAAaCUUVAABaEEUVQuobiiqEEJKtUFRJJxRVahCKKqmHokp6oahCCCHZDgAAjYSiCgAAAAAAAAAAAAAAAOqCogoAAAAAAAAAAAAAAADqgqIKAAAAAAAAAAAAAAAA6oKiCgAAAAAAAAAAAAAAAOqCogoAAAAAAEAd7TsxYIu6j9kT7Qdt/u6j1nnkZHwJAAAAAABA86OoAgAAAAAAUAeztx+2L83ptP/bk5vOiLYv33s8viYAAAAAAEDzoqgCAAAAAABQQ+t7Ttg5r27LW1AJ84mnNtujmz6KbwUAAAAAANCcKKoAAAAAAADUQE/fgE1Y3h0VULyMctaMzTburd32/LbD0fI/+q/+Hl5HM68gHUf6P7apq/ZG+5j9CgAAAABANlBUAQAAAAAASFH/4KA9svGAnT2zLVc+US5fvMs6j5yMr3U6lVY++cwH0fU+/Wy79Q4MxpdgJM57bcdp78G587bb0j0ssQQAAAAAwGiiqAIAAAAAAJASFVGSy/x8+ZVttnxv6XLEg+v2527z2OaeeCuqNbfr6GnvQxjNsKIZbwAAAAAAQP1RVAEAAAAAAEjBnJ1HcrOiKJ95rt1mdByKLy1NxQmfhUVlF4zM5BV7on2pZZXWHOg9Yxmmz76wpawCEQAAAAAASBdFFQAAAAAAgBGatnpvrgChjF2yq6oZO8Yv687dx74TzPgxEnoPtB9VSHHth/ui5X98H6u4MmXlHpZaAgAAAACgjiiqAAAAAAAAVOlI/8d2/vwdueKDZlR5ov1gfGnlZm8/nLuvSmZjwZm05JL2o/6bpGWWwtlVPj+7w1bu740vBQAAAAAAtURRBQAAAAAAoAqa8URL9HjZQTN3aImZkeg+3p+7v4lvfxhvRTU+NWt4GSXNrJKP3isVVHx/M7sKAAAAAAD1QVEFAAAAAACgQiqUhCWHL77cGW1Lw2eea4/uUzO1oDpadsnfm+lr98dbz6RSigpBfl1FhaO5XUfjawAAAAAAgLRRVAEAAAAAAKhA/+BgblkZRbOqaAmgtJz32vBSQiqsoDqaLcXfn3KWUFrUfey04pGimVg0aw4AAAAAAEgXRRUAAAAAAIAKhDNwpF1SkQnLu3P3zzI01Xl+2+HcPly+93i8tTjt62mr90ZLAPltz57ZZo+39cTXAAAAAAAAaaCoAgAAAAAAUKYn2g/mSgyaVUWzq6TtkY0Hco+x6WBfvBWVeHDd/tw+rHRWFO3zcMYc5dx523kvAAAAAABICUUVAAAAAACAMmhmjrNmDM+28eln2637eH98SbqW7jmeK0i0H6YcUY3xy4ZnpdGMKNV6bHNPdHt/L/Tea8YVZrkBAAAAAGBkKKoAAAAAAACUoFKKyikqLGhpmHKXk6mWShIPbTgQ/w2V0pJMeq++NKcz3lKdncf67dJFXbmyivL52R01f/8BAAAAAGhmFFUAAAAAAACK0PI+4VIwj7f1xJcgq7xUdPniXfGWkZmz84h95rnh+1RUVlpzoDe+FAAAAAAAVIKiCgAAAAAAQBG+jIyiPyP7/P3SUj1pOdL/sU18+8OopEJRBQAAAACA6lFUAQAAAAAAKECzp3jpQbOqaHYVZJuW6/H37NFNH8Vb07PpYJ+t7zkR/w0AAAAAAFSKogoAAAAAAEAey/cej2bOUOFBy750H++PL0GWtR/uyxVVnmg/GG8FAAAAAABZQVEFAAAAAAAgQaWUTz/bHpUdzpqx2VbuZ5mXRrGo+1iuqKI/AwAAAACAbKGoAgAAAAAAkHDuvO3MytGgZm8/nHvvKBgBAAAAAJA9FFUAAAAAAAACj276KFd0mLC8O96KRqFikb9/nUdOxlsBAAAAAEBWUFQBAAAAAACIqdjwyWc+iEoOn31hix3p/zi+BI2CogoAAAAAANlGUQUAAAAAAGBI/+BgbsmfTzy12ZbuOR5fUh2VXHSfqC+KKgAAAAAAZBtFFQAAAAAAgCGPbe7JFRymrNwTb63Oou5jUdnlggU74y2ol4c2HMi9jz19A/FWAAAAAACQFRRVAAAAAABAy9t3YsDOntkWlRs+92KH9Q6MbCaUc17dFt2X7hP1dd+afbmiCgAAAAAAyB6KKgAAAAAAoOWNX9adKzfM33003lqd5XuP5+5L94v6oqgCAAAAAEC2UVQBAAAAAAAtbemeU8WSyxfvirdW77zXdkT3paV/2g/3xVtRLxRVAAAAAADINooqAAAAAACgpX3x5c6o1KBlerqP98dbq7Oo+1iuJDHurd3xVtSTz47z6Wfb4y0AAAAAACBLKKoAAAAAAICW9UT7wVyx5LHNPfHW6p07b3t0X8ymMnpUENJ78NkXtsRbAAAAAABAllBUAQAAAAAALal3YDAqM6jU8IWXtlr/4GB8SXWYTSUb0iiq6L2kaAQAAAAAQG1QVAEAAAAAAC3poQ0HcsWSuV1H463V89lUzpqx2XYeG9kSQqjeSIsqOhY0I87nZ3fEWwAAAAAAQJooqgAAAAAAgJbTfbzfzp7ZFhUazp+/I95aPZUbvPQyecWeeCtGgxeG9N9qTFu9N/dejnSWHQAAAAAAcCaKKgAAAAAAoOWMX9YdFRE0c8amgyNb4kVlBi0dpPv75DMfRCUYjJ6RFlUe2Xhqpp0n2g/GWwEAAAAAQFooqgAAAAAAgJayfO/xXBFhysqRz37yeFtP7v60nBBG10iLKj19A7nZdj73YgezqgAAAAAAkDKKKgAAAAAAoKV8aU5nVEL41Ky2qJQwErr9p59tz5UaegcoNYy2kRZV5L41+6L7UJhVBQAAAACAdFFUAQAAAAAALWP29sO5AsKsrYfirdWbtnpvqveHkUujqMKsKgAAAAAA1A5FFQAAAAAA0DK+/Mq2EZcYXOeRk3bWjM3R/el+kQ1pFFXkkY0HovtRmFUFAAAAAID0UFQBAAAAAAAtof1wX654MH/30Xhr9cYu2ZW7v+V7j8dbMdrSKqpoGSeWdQIAAAAAIH0UVQAAAAAAQEvwZXq+8NLWeEv1VEzxksrli3fFW5EFn5/dkdr7Es6q8uC6/fFWAAAAAAAwEhRVAAAAAABAS/jSnM6ocHDeaztswvJue2jDgfiSyp3z6vASQlr6RzO1IDs++8KW6L0Z99bueEv1NIuKZlPR/Z09s826j/fHlwAAAAAAgGpRVAEAAAAAAC3Bl4TxgsnEtz+ML6nM89sO5+5nyso98VZkhRdV0npv5uw8knu/xy/rjrcCAAAAAIBqUVQBAAAAAAAtYdPBPrtvzT6btfWQ9fQNxFsrE86w8alZbVXfD2rHiyp6r9Ny/vwd0X1+4qnNtuZAb7wVAAAAAABUg6IKAAAAAABAmbRckM+u8eimj+KtyJJaFFW0vJNKKrpfzcwDAAAAAACqR1EFAAAAAACgDPtODNjZM9uisoJmVekfHIwvQZbUoqgiU1ftje5X0fJPAAAAAACgOhRVAAAAAAAAyjB5xZ5cUWH2dooKWfWZ59prUlQ50v+xffrZ4ftWGUbLQAEAAAAAgMpRVAEAAAAAACghXPrl/Pk74q3IolrNqCIzOg5F961MW7033goAAAAAACpBUQUAAAAAAKCEsUt25QoKaw70xluRRee8ui16n/Se1cKXXxm+/7NmbLbOIyfjrQAAAAAAoFwUVQAAAAAAAIpQMcVLKpcu6oq3IqumrBxeoknL9Ow81h9vTc/K/b252XXGLOR4AAAAAACgUhRVAAAAAAAAijjvtR1RKUHlBC0BhGxbvvd49F4pmw7W5v0av6w7V16a23U03goAAAAAAMpBUQUAAAAAAKCARd3HcoWEcW/tjrci6/S+aeaTWtl3YsDOntkWHRefn91h/YOD8SUAAAAAAKAUiioAAAAAAAAFfGlOZ1RGOGvGZus8cjLeCpg9svFArsT06KaP4q0AAAAAAKAUiioAAAAAAAB5zN5+OFdEmLxiT7wVGKZZVL7w0tbo+NDsKj19A/ElAAAAAACgGIoqAAAAAAAACSohaEkXLyFoqRcgKVwaauLbH8ZbAQAAAABAMRRVAAAAAAAAEp5oP5grINy3Zl+8FTjTpYu6ouPkE09ttk0H++KtAAAAAACgEIoqAAAAAAAAgd6BQfvsC1ui8sGnn223I/0fx5cAZ2o/3GdnzdgcHS/nz98RbwUAAAAAAIVQVAEAAAAAAAg8svFAbjaVRzd9FG8FCpu6am/umJnbdTTeCgAAAAAA8qGoAgAAAAAAEOvpG4hmUVHh4HMvdlj/4GB8CVAYxw0AAAAAAOWjqAIAAAAAABC7b82+3MwYMzoOxVuB0h5v68kdOw9tOBBvBQAAAAAASRRVAAAAAAAAhuw7MWBnz2yLigZffLkz3gqUR7Oo6LjR8aPjSMcTAAAAAAA4E0UVAAAAAACAIZNX7MnNiDG362i8FSjfou5juWNowvLueCsAAAAAAAhRVAEAAAAAAC2v88hJO2vG5qhgcO687fFWoHKXLuqKjqNPPLXZ2g/3xVsBAAAAAICjqAIAAAAAAFreuLd252bCWL73eLwVqJzKKSqp6Fia+PaH8VYAAAAAAOAoqgAAAAAAgJa26eCpYsGYhV3xVqB6ly/eFR1PmqWnp28g3goAAAAAAISiCgAAAAAAaGkqp6hUwFItSItm5dExpTy04UC8FQAAAAAACEUVAAAAAADQslbu780VCrT8D5CWL7+yLTquPvNcu/UPDsZbAQAAAAAARRUAAAAAANCyzp23PSoTaImW7uP98VZg5GZtPZQrQT2/7XC8FQAAAAAAUFQBAAAAAAAtaVH3sVyRYMrKPfFWIB2aRUWzqej4OufVbfFWAAAAAABAUQUAAAAAALSkL77cGZUIzp7ZZj19A/FWID0PrtufK0NpmSkAAAAAAEBRBQAAAAAAtKDZ2w/nCgTT1+6PtwLpUgFKy0rpOBu7ZFe8FQAAAACA1kZRBQAAAAAAtBQtyfK5Fzui8sCnn2233oHB+BIgfROWd0fHmgor3cf7460AAAAAALQuiioAAAAAAKClPNF+MDebymObe+KtQG1sOtiXO96mrd4bbwUAAAAAoHVRVAEAAAAAAC1Ds6doFhWVBjSrimZXAWrtggU7o2OOGXwAAAAAAKCoAgAAAAAAWsgjGw/kZrd4ftvheCtQW3O7juaOu8fbmMUHAAAAANDaKKoAAAAAAICW0NM3YGfPbIvKAl98uTPeCtTHF17ayrEHAAAAAMAQiioAAAAAAKAl3LdmX25Wi0Xdx+KtQH08trmH4w8AAAAAgCEUVQAAAAAAQNPrPt5vn3zmg6gkcO687fFWoH56BwbtU7OGZ/QZs7Ar3goAAAAAQOuhqAIAAAAAAJre5BV7crNZrDnQG28F6mvqqr3RMfiJpzZb++G+eCsAAAAAAK2FogoAAAAAAGhqKgScNWNzVBC4dBEzWWD0aGYflVR0LKo8BQAAAABAK6KoAgAAAAAAmtq4t3YziwUyY+ySXdHxePbMNjvS/3G8FQAAAACA1kFRBQAAAAAANK31PSdyM1hMWN4dbwVGz8r9vdHxqDyy8UC8FQAAAACA1kFRBQAAAAAANK0xC7uiQoCW/tGyK0AWnPPqtui4/NyLHfEWAAAAAABaB0UVAAAAAADQlJbuOZ6buWLa6r3xVmD0Pb/tcO7YnL39cLwVAAAAAIDWQFEFAAAAAAA0pXPnbY+KAGfPbLOevoF4KzD6+gcH7bMvbImOz/Ne2xFvBQAAAACgNVBUAQAAAAAATWdu19HcjBUPbTgQbwWyQ8elH6Pre07EWwEAAAAAaH4UVQAAAAAAQNP54sudUQHg08+2W+/AYLwVyA7N8vPJZz6IjtPxy7rjrQAAAAAAND+KKgAAAAAAoKnM2nooN1PFE+0H461A9kx8+8PoOD1rxmbbd4LlqQAAAAAArYGiCgAAAAAAaBr9g4P2uRc7osF//Vd/B7Kq/XBfrlT14Lr98VYAAAAAAJobRRUAAAAAANA0Htvckxv4n739cLwVyK4xC7ui41XLVFGsAgAAAAC0AooqAAAAAACgKfQODEaD/Rr0//Ir2+KtQLbN3300V67SslUAAAAAADQ7iioAAAAAAKApPLLxQG7Af1H3sXgrkH1ffLkzOm6/NKcz3gIAAAAAQPOiqAIAAAAAABqelkz53Isd0WC/llIBGsnjbaeWrFq+93i8FQAAAACA5kRRBQAAAAAANLwZHYdyA/1L9zDQj8YSLlt1+eJd8VYAAAAAAJoTRRUAAAAAANDwfOmUc+dtj7cAjWXa6r3RMfyJpzbbzmP98VYAAAAAAJoPRRUAAAAAANDQ5uw8kptNZVH3sXgr0Fi6j/fbWTM2R8fx9LX7460AAAAAADQfiioAAAAAAKChaRYVDe5rVhWgkZ332o7oWP7SHI5lAAAAAEDzoqgCAAAAAAAa1vK9x3OzqczefjjeCjSmx9t6csczy/8AAAAAAJoVRRUAAAAAANCwxizsigb1v/DS1ngL0Lj2nRiwTzw1vPyPSisAAAAAADQjiioAAAAAAKAhbTrYl5t94on2g/FWoLH5Ulbnz98RbwGA1tV55KT1Dw7GfwMAAECzoKgCAAAAAAAa0vhl3dGA/ude7GAQC03jwXX7o+P6rBmb7Uj/x/FWAGg9497aHZ0Pv/zKtngLAAAAmgVFFQAAAAAA0JA+/Wx7NID1yMYD8Rag8a3vOREd18rs7YfjrQDQWpbuOZ5bCk3RuREAAADNg6IKAAAAAABoOGsO9OYGr9oP98VbgeagWYJ0bF+6qCveAgCtZeqqvbmf88rz2yjuAQAANBOKKgAAAAAAoOEs6j4WDVx99oUt8RagefjyP5pNoPt4f7wVAFqHlvsJiyo6LwIAAKB5UFQBAAAAAAANR7OoaNYJBq7QjHr6BuzsmW3R4Oz4Zd3xVgBoHb68n+e+NfviSwAAANAMKKoAAAAAAAAAGRPOqgIArSYsqSiTV+yJLwEAAEAzoKgCAAAAAAAAZEzvwKCNWdjFjCoAWtInn/ngtKLK2CW74ksAAADQDCiqAAAAAAAAAACAzPjsC1tOK6qcO297fAkAAACaAUUVAAAAAAAAAABK2Hms3+Z2HY3/hlpKFlW++HJnfAkAAACaAUUVAAAAAAAAAACK6OkbsLNntkWliTk7j8RbUSvJoor+DgAAgOZBUQUAAAAAAAAAgCKmr92fK00wu0ftffmVbRRVAAAAmhhFFQAAAAAAAAAAirh0UVdUmBizsMs+/Ww7s6rU2Lnztp9WVDlrxub4EgAAADQDiioAAAAAAAAAABRxzqvDM3zct2afdR45ae2H++JLUAvJoooCAACA5kFRBQAAAAAAAAAyqn9w0MYu2WUXLNgZb8Fo0NIzKks80X4w3oJa0jFPUQUAAKB5UVQBAAAAAAAAgIyaumpvNEj/xZc74y0YDRRV6mvcW7tPK6komskGAAAAzYGiCgAAAAAAAABk0NI9x+0TT22uuCBxpP9je2TjARuzsCsquJz32g6bvna/dR/vj6+BSlFUqS8tsRSWVBSKKgAAAM2DogoAAAAAAADQIlRg0BIyly/eZb0Dg/FWZJGW/PnCS1ujAfrPvdgR/b0UXUcFlU8+88EZg/zK2TPbbM7OI/G1UQkvqmj/NrPH23qsp28g/tvo0X5OHr8UVQAAAJoHRRUAAAAAAACgRTy2uSc36MvMENn26KaPcu9VOeUSlZDOn78jdxtFRRctofLlV7bltmmGlrldR+NbNTeVsWZtPRQVs1T2UUmr2tfuRRXN9NGMZm8/bOfO2x7NwpMFej5+zHooqgAAADQPiioAAAAAAABAi5i6am9u0PfSRdkYkMaZVDr59LPt0fukZXvKoYKBv7da7mdR97H4kmH6u9/n52d3xFublwopXi5JRoWtSmmf6rZTVu6JtzS+fScGoplL/LV9alZbZpaHWrm/97T3TNl5jKWrAAAAmgVFFQAAAAAAAKBFaHYNH/TV7An1oFktylm2Jsv0GlRuULlH+02Fn/bDffGl6dOsHf4+rTnQG28tTLPj+PX1HAvtby3r4tfLSiGhFrQ/NHOMXudZMzZHM6ro/Zv49oe5bZUub+NFoKzMOFKMik56vZqVpJDle4/bZ54bLi4pKvVoW1bo+PTn5gEAAEDzoKgCAAAAAAAAtIiwqKJlUGpNMyBo9g49bqPadLAvWjYmHDBXVITQ7BoqsaRJJRMvEGgpn1J0fZ8pRc9TJYVCtAyOP/9mXUZFM3F4SUUzhSQLRToWP/nMB9FsIpWYvGJP7j6zSK9bs6Poc63X5+9zvllIdMz6MaZjZ9rqvUWPm5COG+0LFVv0OOe8ui06rmpBM7z469CfAQAA0DwoqgAAAAAAAAAtYvyy7tzArwaba0lLzWhwWaWBOTuPxFsbi2Z18AF9vQ7NpqFySrikjIoLIyl9qGiimU40i4qKBuHsKMX2m2730IYDp5WPnt9WeAYNlRN8iRc9/2ak16hilF6j3rdCs6ZUWlIRvTe6X5UzskKvb/ra/XmLVHqeOqby0cwpfr1yl9PR8abH0mw04eN4dNymTaUbv/8vvLQ13goAAIBmQFEFAAAAAACkYn3PCRu7ZFf0zWwgDZrJQjNKFFu+ApUJl5TR0iC1osKEz2qhAf5GpIH5817bEb0GDfov3XP6sih6jeGsFLpcxYFKl5TRedPfE5UAvEyi+9ZzKESfC7+doudQ6PqaLUNLFvl1VYxpRjqm/TUm36+RCvd3FpZNUokpnDlF0TGj42lGx6GiM6SoRKbrVzJLiZaUCh9LJRKdn/3vKk1VQqWiuV1Ho+eq4ky+Y1e/T4SPBwAAgOZBUQUAAAAAAIyYBmw1wKqB6UYdlEb2+CDll+Zkc6mNRuSzQijzdx+Nt6ZL9+uPodlHGpXKHP46ChU7NDOHD+B7MefsmW1llyR0e3+MiW9/GJVcdHv9XYWDYrTUi99WmbC8O77kFA3+6/wczgBz+eLi99vIfGYRzXyTtnB/q1hRio4BPQ+9nyqUqNShYkYawuNEP3s1U5KeX7lUAvTXklwaKZ9HN32Uu75mrNFj6fV5UUb/raS8o5KNP3+P7kOzPIX3o2PXL5+6ihIsAABAM6GoAgAAAAAAqqJvQ2u5i79vPWT/YzxAe+WS3dGMDRpw1XIUGqTTt/g1Q4DKBvp7Fr6J3mo0KKhBUn2LvpH4kiZffmVbvKX1qGigkoQvZ6JBaRUNqv0cqTjiA78afE6blhHRzB66f33udZ5oRCoCaLYJvQ59dorRa9T5zferon1QzswqmonKb7PmQO9pfy9nKZVwRgsN9GsGGH1uFBVd/DV4dG4uNktLIwuXs6nFuS4sFalAUUw4E0gymhmkmqWHQr48lMpROmaq4eWlUmUyHS9+HOk2OvckSyqVzF6jfeelrnzx2YlESw359lLFLQAAADQWiioAAAAAAOAMGnjVoJ8GwzSIpUFPDYiqMKCBKg2WhwNLlaTUAB/SowFGHzDVwGA535zPEl92pVRRoNHoffHPV7GZGTTrgS8Dk4yW+Kh0iRnRILnfRy0GflVG033reFPxolH550bnumKfG70H57y6LbdP9fp9EF6lkFJUIvPbquQTLl1TThlJM3T49YtFRadmX0LLl7WqZDmbSvnPvmLL3Dy47lS5Qs9Fz0vXDz/L+vzq810tL3Co1FEtf556jsUKZSqN+PPW8amleqotqeic4LfV50T7RaUinQv9fK9othXtny+8tDW3TX8GAABA86CoAgAAAAAAcjTgpIFWH0iqNho8U6FFs6moZKCii5almLX1UNN+mz9rNIAezrZQi9kzas0HKXX8NAsN8vqMI558S7ZoQDdcGkMD21r6wpeZUVSmqJTPzKJo4LxSKjuo7KIB++TzDmecaOQlfzRo7/teS5EUomJJuD/9/dB+0d81EK/rFOMzYyjiRR/dbznC22uf6/b63Oj8q//quaS13EzWeQlLn5Fa8fe70HGhWca8qKRiZ1g20s8+nYf9cp0Hqi2rhMtrVVtA0ufVizeFlraScLkw/Uz3P1fz/MNSl86FSfodIdw/fl3Pkf6P42sCAACg0VFUAQAAAAAA0QCaBt6Sg0KKF040CKjCgAZD9Q1xDWxd+MbwwOD/8vyWaICOQaR0aCkH7c9qafBQxQZ/DzXQ2Ih07On5N0NRRZ8xvQ5/T5IJlypRychfu6ICRDjjgQbAtb3SGQZ0H36figapyy2O6bZacii8fbKoogFzv6yRZ1MJX0ehz6FmwvGBdA2sa6YJpxlYfLC9WNFFNDDvj6VSixcH8pWX8glv32hLe6Xtcy8Ol0hqWZLy8p8KQfn4rC56/wvNxKPzux87Ok/7MkD6+VnJ58ZLHyrPVFsA9XOS9l2h+/DiVRidgyr9GRXOzFJsNqfwmE6mktlbAAAAkG0UVQAAAAAAQDT9vg8EaSBOg64aTCs1+OWDduOXlTeoitI0AK5BzmIDncWopBJ+E73UQHmW+bf3VZJqdPqM+HuiEooGY/X++jYNcDvNnJJvu/PLdYxUQoPgfr+ecmZE0KwQXo5RNKidbxYHX45EqXbgPAt88F5FgHw0m0W49Em+feH3oZlZii3RpHKJ7zMtFeR/LrYkVCh8T4vNitEKvNxVy9mj/H3VuSkfL49oGZtiwvO0zg3h38udKSk8djSzTjXC40fLUOXjr1nnG52LNRNKNZ/vsPBS6mebzyykhDNLNWrpEgAAAGeiqAIAAAAAAOxLczqjQaBKB7t8AElFF6QjLCnkWxqhmGYqqYgPVqok0cjC5Vk0kO0zKIhvV8lDNAD8qVnDnystzZNvQFhFMr9dJcIlPDwqXRSjYyqc3UWzuITLmYTCokojz67kBal8n5/k0iQq9OVTqISUtHL/meWhSo537We/XaN/3kfKj9Ni+3ukvHBWqMTkz6Gc90LvvYpOOp6Sy+2VWjLKeVm02IwopXi5plAh0IsqOt5HwpdyK2cmKH9OSjjDkWZ1AgAAQHOgqAIAAAAAAHIDs5UMLmuwOhxIQjo0WOj7tZJvjydLKpcu6mroWS3EB0g1+Js15X5WNJuGF080mBzOrhHOiOCfIRVHfFuhGTI044JfpxLhLAWeYuW0uV2nZg5RNChe7HWHhRwdj43KP4PhoLgKKV4KULTcSqkygd+PlvMpVO4RX+7HU+n5VM9Ft9MyMo3+mR8Jn/WnloUdX9qn0DnJ38NyyzJh6cwLUEq5s8KEM6JUO9vI89tOFUHyHdPhTD/hEmSV8hJPsWV/JFz6x6/ryzqNtCwDAACA7KCoAgAAAAAAom92a7Cz0OwA+YQDZOUuU4HSvNSglDvYqRk6NEjtt2uGkor4oHClS9zk03nkZNGyQCVUJtFzKjUbiYTLaoXXV+HDZxjQzEQ+ABzOSlLo+WpZEV2uwdty6fG8EOGPqxQ6xvS8w4FzzSRR6phSscWv38jltXDmGZUfwv2laP8XW87HaVYV34cqXRUS3r/KMJV6cN2pY0bFh1ZVjxmY0iyq6PPtJSNFM2j5LGUqh5TLX7dKHJWUTZ0+1/64OpaSws+Dfu5Xy88/xT4LKsr4z0A9Jz8HemlRaeQSHAAAAE6hqAIAAAAAAKoSzvygEgBGToUT36eKygGlaJDRiwuKlkwYybfesyQcIC2nGJCPBjp9aStFy+nM2XkkvrQ6PnOIZhspdex7CSE5eB4OvIazJ/igc6GBcJXC/HZaJqpc4WwnGhD3P09YfuYxFu53FS3yDV7no33ttyv3NlmkwX6fZSqM3pNCs9wUEs5GUei48xlySs1YU4g+Gz6bko7JSgqHzcRnJ1EhIlxeK03+Xo20qKL3KCwX+vJ5fi7XOatcYWm03JlYkjR7kG6v809SeM4ZyefaZ0UptGySfpb5rDhK+FrC81exWaAAAADQOCiqAAAAAACAqoQDR9WWCHA6DWT7PlXCpUcKCQfCVYqoZqA7q8JjTLNTVMOXa9HgtUoqKiCMdGkQPRd/XvlmwFBhQwUQlVj8euEArx7ft2tgOpypxAsS+m+SruelG72eUkvPhPTadTufvcUHyZPPP1lSqbTU4zMzlHPsZpn2tZYg0edL5QQV88L3qVz6PPoAvUokKgJoH+m+QyMt+4XLt+hxRlrGakTh503HcS2UmlHF32vNalWIZhsKl9QKz0d+btDllfDznH4GFKLjt9DsZz7zk84L+XgRqtDrLof2ie5D55Xk+Vy/Q3hZRtF5MRS+t/nKdQAAAGg8FFUAAAAAAEBVNPDuA0dIR7hPlXxlhVBY5NByCSMd7M6aRd3Hcq9Pf66UBj/99pUsRaPZGEqVQDRY6vedXAJIj6XtmvEkvI4GZ33GFEUzCySLRcWKKpphwG+r8kS5wtmPfEkRPbb+rqVHnPaxL1Wj/6r8UCmfESG831anpUp8oN9T7cwXxYTHm6L3WOeIaktejcgLG9rftZhZyosqhYokXhzU5ye5RI0KbGOXnCpj6DrJ4yCc7aiSmXHColKhMoo/t3yfaxWn/Pb5TFl5qlxXbQkoPA+pOLd0z/GoUKWCiop3fpnKMPlmxPFynW4LAACAxkdRBQAAAAAAVMUH7BSkw79x7ilWVNEgqA/uacAzWZZoBuGSFskZKMrhhRHtn3JnmtHgtkoW2rfFZgrSQKrPHqJZFMJBcZ8ZR4/rz1/XCf+er6QiFyzYGV2eLHpo0Npvn3y8UryUott7acFnL9DrFA2ih2WKava3hLPFMNPSKdq/Omeq4FRJaapSWv4mPM48OlZ1PlG07FQYPa8wuo+V+3vje2wsYbmtkjJXucIiSb7jW58vPy/r86T9qbKQPhd+vvDL5nadec4Oz3n5CiW6v3xLwmm2FP/8hjO0OJUY/bjIV1zS/eoyPcd8VNzz56/7Uamy3BmGdD2dv3ROCfdBvujcliz4OM4tAAAAzYWiCgAAAAAAqIoPbCk4RQOC+QYgy+HLRngKFVU08OczVyi1WuZitIXLPVQzA4UvZ6H9Wi69d/6YpWZxCZfJCd8DvT/J0pFHMzFo5otCRROf9UCD3X6dcEYODRJrMLtcKh34Y6uU4MLZN3T/4fE0kgF+Lwcprbj8TBaoiKCZO7wwUU10nKlc04jCz141swKJijr5yjqarcTvWzOC5PN426nPXL7oc5hvxhDRucMLJXodKmf4DCm6jbbrfc1XEvHPcPg5d/pM67JkAU7nWJ0n/THzlWCcypDhMaUZTvT8pq/dH5VxPDrnaLtKd8mfaYqWJ0pu0/3q3FesgKLj2q9fyTkQAAAA2URRBQAAAAAAVKXRiyr6hrgG1QoNNlZLyxZon2iwshKaXcP3p6dQwcILGIqWumhmWtJIr9OXrFGpQrMalDNQ6WWMYjPTJPnSIUqpQW4NFmsZCl1Xg7ZJ4VI9eg4awC00QO3CQW6VZvQ6w5lOKjmuNNDuA8uaySAsHoQFlnDgWK8/3yB4ucJykQawMXp0TtExpM+B3ledT8JjyaNz1pfmdEbFAn3O9PnS+9iodJz7eVgFDB3r5dKxr+NWt9O5Jyk8Txcrz6mkpZmMvACiz5+W/SpnCbNweSDFS3BeVFH03HyGHMXPk0q+56UCii7T+UDvtW7j5y6Pjo1SS57pnOL7ttyonKfXrnOXn/9UOtH7otemclu5M6RovxYr+gEAAKBxUFQBAAAAAKCJaHp9DQZpeQkNQmlA6bzXdtRkUKeRiyoahNXgmT9/DdCWGqArh/a/36f2TyVUmPHbevINlGoQ1p+7/tvIA8rl+P/NHZ4l4H8e2hfhshHlzJKimQV0XQ3KliNcdkPxckwxKjv59fMNQvsAspbaKYfeXy+XaPaD8DitZOaccBYWJbmUTzhzjEePl8aSGv4+aXAaGA3J41/nAB3zhUpYOu5V0Clnpip9Tvw6tTjG9Vz0M0k/v1UwCZcIm7Ly1PI3+aKf9/leo36+eGkmGW2v5Geg7l/nPd0m3Mf6s0pv2id6nir66WciAAAAkA9FFQAAAAAAGpS+maxvImtKfw1OhQPaydRiCYd6FFX0vFW60TfcRzLLQ5L2V7h/FA2yaXBzJPQ8/f609EElHlx36rbhQGiSfzNeqWY5nEah0ocGQv+HJ88cXNV7Vc4sCb7chQZPy6HHCx9HhYtSJS8NIvtnL98MIuHAcr6lRPLRMe+3USqdFUJLdIQDyPmW8tGxHj6Gjrm0zhM+2F/JkktA2lTi0+wh4XGu4piW1FGJTVGBLLk8jT5vmrWqkPDzqT/Xm84j+kz7a1B07tHnvhjNYqLrhbdT4aTULE8AAABALVBUAQAAAACgAWiwXN+IVplBg2ylpt7XQJtmVNFAlMostVCPokpYHEjOCFGtcOYSfcs+XOpF+9W/va4BTg1q6lv25VCRJnxfNFhfCR/cV+kh3LfhN9JVJPBvxWtwNc3yTlboW/35ikTKN4aOBw3Glvu6fRkd7bNwVoJ8tKSEP45mBPA/qxhUipb90XXzzaITzt6j96xUGUSD0GFRSdFxWs5MJ7qOijF+jCjFClMa7M43a8NIaSYaf3yW6MBo0rlCM6OExa1i0c+cUsuK6T5V8KjVz1YAAACgFVBUAQAAAAAgozQYplkUVGAIB57zRTNGjF2yKxqQ00B3PQaHa11U0bIB4evW60uDyjt+n/qGuYSzlExdNTz7hF9PhZ9yqNDi9+EpNeDpVM7w2+h1hvcVDobqufl2DZQ2G73WcHkf/VnFi//p6eG/VzpLTbgUk4oohahM4o+r4oY+PyqE+W1V6ChUjtHnza+nYkw+mvnGr6P7z7dEkO4nLMgko+enAoiKVmGpRH/WNu2bcN/ps6Ni22gIzw3NvjQVGoM+v1r6R+dQFeFU/lJUTNE2nXvSWPYKAAAAQHkoqgAAAAAAkEEafNYgmg/2htFsCxpE19IEml0izZkQKlHLooqKAslvwJ/zamUzlBSiWVJ0f+GMJ3o8X/5Bs19oKQR/fZotoxTd3mfBCMs1eg8LFRxCYQFFBZ1wWRYvZ+gxvIigfaO/Nxt/z7UPtf/9NfrMOuW8F0k+y02hopNmOAnfOxVGRMdAOLOJ3stwdhu9r5rlx98TP24K0fvo96XotfpgefJY133q863jILl0STlRuUrlldESnhsY/AcAAAAAJFFUAQAAAAAggzRbhg/0qlChmRFGs5SSTy2LKuHrP2vGcPFDhYOR0uwOfr+aqSMUPqZKApW8vulr9+euq9k3wqVrSs0CooF8f40qLHixxcsLPqOLShF+n3qMZqPCiL++ZMkifO2aFaES2le6nUooyRluNJNNWEZJzoii56SClF+u6DjUtuTsJeUsEaX7D2+XjI4DHS/Jcofu25eGKhY9Lx3H5ZSjaslno9HrAQAAAAAgiaIKAAAAAAAZpCVpzp+/I1r6Z7QHnQtJq6ii8o2WZVFpwPnsJiprXL54V/TnNIoqWt7Bn3Ny6RzN3hHOtqJllPy6xQpCKr940UQzfuh+9FrCWTJUZClkwvJTyw5piRjnr1vR46uwoj+rFBHuq2aiJaz0GpNllPC9UQmiEtpXmu1Et9XsJdqXPhuK36ei4zkfXVcz3vh7nEyhpXwKUQlFx56WlvIZVfRnlViKzcgiOi/otipZ6TaKnpvOE76M1WjT6wv3NwAAAAAASRRVAAAAAABAVcYvO1WwGAkVcnQfKqeoVBCWSVQW0WC8/pxGUUUzpfh9L9975tIo4Wv6TVBUyXdd589f0bI9TrOCqFTil41Z2BXN0BFSMcUv1+sPS0lhUSYsrejPzcpnplH5IknlDF2mfZrcj6WEM96ocOJFCr+/5Ewq+egx9X7pGNExqeejYzWrRbLRoH2h49z3bTmzzAAAAAAAWg9FFQAAAAAAUBUvkCjVCkspY5fsimYn8ZlDNNuFZtJIq6iix/rSnOH7VpLLq0j4fB4OiiLhTCchLcnk17lgwc546ykqq4RLvaggoRlUNCuGXq9vV1kiudyNlqnxyz0qWWw6mI2ZM2pB74lmotHMKkl63V78KfR+FKICxcS3Pzxjf2rZn0pmQ0F+mglGx7TPiKNoGSJKPAAAAACAfCiqAAAAAACAqqRRIPGyhsoJGtQOiyK+FEsaj6OlZPx+FZVH8lnfcyJ3HQ28+8wb+Zab0X16cULPv9AsH1qSRUsJ+f0mo/sIZ2IJeWnHo1lWmp2/V8nijnjRqNAyPaXo/dWsOooKKhQpKqPPp8o9+ix6tNxVeIwquk6ls94AAAAAAFoHRRUAAAAAAFCVNAokXsTw5Wz87yqS+IwnI525RQPmKpL4fSiFnnM4i4mKKpolRX9WmUQFCtHz0kwqXlLRf+fvHr6sEBUidH8awPf7V1RgKbaskC7TkkAqzGj5mlahQoRm1wlpdh1/H1lSZnSEMwjli2b80cw1+WYrAgAAAADAUVQBAAAAAABVSaOootvqPnRfmkHDB7ynrd4bX8OigoZvr3SWBhVEzp+/I3d7T6HnPGvrodx15uw8ctpzUlSU8IKKp9JlaDSrh2bz2HmMGScqcaT/42j/qzzETCijR8evSlf6XGoZK312NcONykV6jwAAAAAAKIWiCgAAAAAAqIoXVTRLSLU0c4ruQwPdWl5Hf1YRJCykhOURFTwqocKL3zZMoaKKZnbx63iR5LHNPWeUUxTdh8+yAgAAAAAAgPJQVAEAAAAAAGXRMjSPt/XYlJV7bMzCLvt/zhoumSTzqaHtWq5Gy4SU4rcZu2RXrgziywC5cDmecu7TPbLxQO52yeQrqqgE48/hvNd2xFuHbTrYF5VeVM7RLBIqz2gpGgAAAAAAAFSGogoAAAAAAChJRZJk2aNUvvzKtvjW+e07MZC7bjhjiYopIS3zoiVfdJkKMOUs+/LQhlMllU8+80EU/7ui+1P5pPPISWs/3BeVWsLraMkfAAAAAAAApI+iCgAAAAAAKGr29sNnlDxUQvlfX9wS/V2zk0xfu9+eaD8YZUbHoWh2kp6+gfge8lNJJLxfRTO15KOlgfw6mtmkED3m+GXdueuqfKLSieJll1Ipdv8AAAAAAAAYGYoqAAAAAACgqLldR3MljnCmES2Do22XLspfLiklWVTRrCrre07El55OBZTPPHeqaKLiSnJmFS3Ho9KMX0dLEIXPNyy75MvZM9uipY0AAAAAAABQOxRVAAAAAABASfN3H41mS+kdOFUO8aKK/lsNzboSFkUmr9gTX5KfSidnzTi1RJCWAdJja1misKCifPHlzmhpn1C4HJBmV9FyPyqvKCq5lJoBBgAAAAAAACNHUQUAAAAAAFRlpEUVLRHkxREVTcISTCEqzGjmE79dMiqyqHiS775UtPHr6fEAAAAAAABQfxRVAAAAAABAVUZaVNGMJ5985oNoSZ/k7CfFdB/vtykr99jnZ3fkiif687TVe6PLCpmz8whFFQAAAAAAgFFGUQUAAAAAAFRFS/Wo9KEldaq178RAWTOppCFcakizsgAAAAAAAKD+KKoAAAAAAICqLN97PJrJpKdvIN6SbZ1HTuaKKgoAAAAAAADqj6IKAAAAAABoCVoWKCyqFFsmCAAAAAAAALVBUQUAAAAAALSMTzy1OVdUWd9zIt4KAAAAAACAeqGoAgAAAAAAWsbnXuzIFVXm7DwSbwUAAAAAAEC9UFQBAAAAAAAt49x523NFlUc3fRRvBQAAAAAAQL1QVAEAAAAAAC1jwvLuXFFlyso98VYAAAAAAADUC0UVAAAAAADQMh7ZeCBXVLl0UVe8FQAAAAAAAPVCUQUAAAAAALSMuV1Hc0WVL83pjLcCAAAAAACgXiiqAAAAAACAltF9vD9XVPnUrLZ4KwAAAAAAAOqFogoAAAAAAGgpZ89sy5VVjvR/HG8FAAAAAABAPVBUAQAAAAAALeXLr2zLFVXW95yItwIAAAAAAKAeKKoAAAAAAICWMvHtD3NFlTk7j8RbAQAAAAAAUA8UVQAAAAAAQEt5dNNHuaKK/gwAAAAAAID6oagCAAAAAABayvK9x3NFlSkr98RbAQAAAAAAUA8UVQAAAAAAQEvp6RvIFVUuXdQVbwUAAAAAAEA9UFQBAAAAAAAt54svd0ZFlcsX74q3AAAAAAAAoB4oqgAAAAAAgJazvueETV+73zqPnIy3AAAAAKi3/sFBe2jDgeh3cwBA66CoAgAAAAAAAAAAAKCuuo/32zmvbssty7nvxEB8CQCg2VFUAQAAAAAAAAAAAHCaxzb32OQVe6JCSdpW7u+1zzzXniupTF21N74EANAKKKoAAAAAAAAAAAAAyJm/+2iuRPL52R3WOzAYXzJyMzoO2Sef+SC67088tdke2XggvgQA0CooqgAAAAAAAAAAAADIUXnEiyrK42098SUjo5lT/D5VUnl+2+H4EgBAK6GoAgAAAAAAAKAl9PQN2KObPrIH1+23NQd6460AACBp/LLu04oq57y6Lb6kelpGyO9PM6os3XM8vgQA0GooqgAAAAAAAABoepsO9tmnZrWdNuim0goAIHvm7DxiK/dTKBxNX5rTedrPTGXfiYH40sqFJZVPP9se/VwGALQuiioAAAAAAAAAmlrvwKB94aWtpw22KVpyYPlevs0NAFkya+uh6BytGTeO9H8cb0W9nT1zuNx51ozNuZ+bMzoOxZdWhpIKACCJogoAAAAAAACApqaZU3yAbMrKPdGyPz7w9uVXRr6UAQAgPTpP+zmbWVVGR+eRk7n34PLFu3J/VuGkUpRUAAD5UFQBAAAAAAAA0NR8NpXPvrDF+gcHo233rdmXGzhjIBQAsuOCBTtz5+fHNvfEW1FPmjnF34Pntx3OLZ13/vwd8TXKQ0kFAFAIRRUAAAAAAAAATav7eH9ukGza6r3x1uHtWvonuR0AMLpUaPDz9sS3P4y3Ni4VJDVDyc5j/fGWdO07MRD/KT1jlwzPoqKfkz19A9HsY/q7Cp/lCguhlFQAAEkUVQAAAAAAyDj9o/YjGw/YmIVddu687dE3GTUl+tI9x+NroFHpW6bVTKEOoHyLuo/lBspmbz8cbx3mA2+VfkMcAFAbKjP4ObuS87PKICpUpGFu11E7e2ZbFP0MqZYKJCp8+FJzyudnd0T3n4begcFoxjCVSZI/30ZC+/GTz3xw2v7X/4fo75pZpRyztp6akYWSCgAgH4oqAAAAAABklP5B1/9RuFCeaD8YXxuNRoMA/j4CqJ1wsCw54Djurd3R9i++3BlvAVqTllfRzBVpDfQD1Xpw3f7cOVtRsaMUHbe6nool7YdHVohQ4cWXuVFUslAhpFIqmn/muVMzw4RRsWT+7pGXVebsPJK7T712X9pupFSQ9/vVz1CZsLw7t62U5XuP58o5+q/+DgBAEkUVAAAAAAAySGvB+zcZFf3js76R+eimj2z62v123ms7ou1fmsPgaqPyWR40iAG0Ai17cKT/4/hv9aNCn59LCxVVyhkIBZpVONitkgBQCZ3XH9pwIDp20jjHn/Pq8ExXHhUdStHvzbquSiUjXV7Hf2b40nCK7j9J5Rj9Pq7fxdcc6I23nuI/X5QLFuyMymBaCsd/v0+jIJkstKcx26Jely+9FJZ0wmV89PO8EC2r57dXKNUDAAqhqAIAAAAAQAn6B9r1PSeiAU5Ff64lDRj5P46roKJ/2M73TU4VV8Yv647/hkbjgyrM5IBW4AN/Wr6s3sJB+GRRxUt/o/G8kA7NIKD3WN/6r2bWA1j0c8g/IxqMRuPT746fe7Ejek9V9NBsGLX6fOj86cePyhkjoaVy/HfgsOyg8kMxKnHrelNX7Y23FKb7unzxroKlDv88aP/5zCr6nTuk805YqFHZMSzpqOzhM4ro50wonK0kX8FFdJ3PvrAlN5tJPno/9f8Jfl+KCkMjpSUp/f7CksnjbT257cmfpSGVcvx6WqoUAIBCKKoAAAAAAFDAyv290brs4cwmHv3juf4ht9Q/nFdD/zCtx9A/ehf7xiIaW6UD9xqQ0AAO0IjCb2LXmwbU/LGTg35feGlrtF2DlihMg6kacNQA5Jdf2RYtEZPWEhMjpffO31/93BzJeVLLU2gwdm7XyJfkaBQq3/r+UyiqNDaVJS5dlH/ZyGRhIg1aviZ8DJVMRrL0zoyOU0u1eflEKbVMjhcSNcNIKf4zQeeyJH32/TFVFlFBRX9WYcXp3KdzoF/Po/8vcLO3D5eRFf05pBlf/DI9Rj5ekClWZg6LI55yXn8xOh94USi5f8L3ulCBJizh6P+hsvJzAgCQTRRVAAAAAADIQwWUfAWVZHQd/eN4WsIBozTWrkd2VVpU8cFYfUsaaDRhUaXeA1cq/PljJwcFfTBQsw3gTHqvwm/Xe+o9AKnZCfJRgSb53HROrfS5aXA/uYSG7ieNZUyyLpxxSKGoki2VHIO6bjjLhworKmWE5QEVQdKkZW90vzqXesGhnFlNCvHfdXR/YaGj1O8++syrWKHfywudL5wu9/tNFsJ9li3NVKKCsP+upmgmPO1PPY5vU5EknFHGn6eKfb4t33vos8Xk+9kTPj8l30yOuk8tHanLta/8fdf9jkR4/Ki4FwrPt/neD71fPsOL/jvSJZgAAM2PogoAAAAAAHn4uvL6B+9HN31kmw6e+nao/qxtPvOJ/mE++W3Jamkacv9H4PAx0XwqLar4P/4nBw6ARhB++3w0ZoryJRjC5Rs0sOnPKY3lEpqR/yxUNACqAe96v38qUujnrI6hpHA2lXCwuNL3s9AMFOEMCc0qOStDqaKKBus1QJ524QGnqBCgz54v3aMiwoPr9seX5qfzmX8G9HlJlvJUiNBlI51xIxTOGqLigpc89LyrofKFl8R9CSEvv5TzWdTvzTrXl/P5932r49/p9tqmTFs9XLZRWcULIf5cPCqpqNiuQka4TJFmgvFzk26bj/8/RL6lksJypYpA+f4fw2d6UfT/JOHsM9XO9qj95veRb2lRzVbll+d7P8JzcLhfAQAohKIKAAAAAAAJYVmk2ICN/vHaB7f0D+tpDN7pW5T+D+GlBiUwuvSNYc0qUOqbu4V4UaXYtO4hPZauz4wqaET+rXsl37fDa02fMz22lvpx4bfD0yobNpNwySQNblcys0Oa/L1L/jzW8iL+89Kfnw/+arC63LJnOKOIjg8t++fHa6FB5mYSzhihlBpg9veDclf6VDbRTBzJQoQnWT4JqVjh11OZKMnf52pLJEl6rlpqy+9Tf1dhwp9DNUtw6fcbv70vv+Wf6bBkWIzuQ5//Ur8r+QxKYSEjnHkmnA0kOeuQisP6HVD/H+D0cy0sq3jylZHDQk6+wkd47tWfk8JSij6P2vfhkkXVlMh03vNCp4pRhd4/L+1o5pVQ+N7r91UAAMpBUQUAAAAAgAQfhNE/vIf/CJ2P/nHYpwBP61uq/i1M/YP3aA0MNrLke6b3SKUffWs1zW+A67400KD3qxo+8FHuQKgGXTV4pQGSagaA0qZBYg2MaUBCAzEaXBuNmTLQGHxQTtGxXw19lvW5u2DBzuib+5UsK+CzCegz5OfVcFAyC5+prFFpQ/tGg5bVFvJGSjMD+HuULDiFs72oYCpaMs+36Wd5OT9D/We+Bml1XpPw2Gj281qyqFLq8+n7XWUe318YOZ3fwhmC9LNVhROdm0qVTPQ+eMmg0DJmfh/JgkG1wuNGf5aw/FfN71vh79/Ol6LJV/goRMXDfDOChHxpHj2m8/KKCjhJ+lzo2FdJpND5UO+Dl3c8+h1v1tZDURFE5xKdo8KZR/IVUYoVVfQ8vMik/0/w85N+9/WfsyrRVyI5I0yxpUd9H+l489+39Rz8sVnyBwBQCYoqAAAAAAAEwm8klvsNey8QKPrH2pEOeIb/0O9Tj6M4DQDoH8/9H+81wKqBEw38hOvtK/oWbJKW0/EZUjSAoPvSYI++Ma6BIg0U6DGStF2DHdUI3+dShSjn35jWQEklNGiQZulJ35z1QbEwGpAp97WgdYTLKSg6fiqlAUCf5ULHngYMw2NNJQZ9Hgudf8MlKnwg3geF9Y19nC7cX6O5hEM4YBsWRlRg8fN9cgDbS0lKqQFbHTd+3XCAPxyE9xJMKfp5o58HGrDVc9PPkXJnddHr0QwQmjVGP3fKvV0awteqlFpeTs9VZTFdt9qiJs7kM1Lo2MlX8vCZLPLxpdVUNihUolBhV9fRezdSOvf6TCdh0UO88FDuDCguLJmFv+N4qUOl8FL0e1q5M3b57C3a3/rsii+xWKjsUw7tm2Kz4oQp9F6E5z392em84IUQ3X94mfjnUpeVu/yPfjf0wr1S6v87wllv9J5p34W399ISAADloKgCAAAAAECg2Lcpi/ElgPSP3BpELTXQU4rfn/6xudx/dG9Eem0aYFGxRIMeGvDQNOjhgGQxPjBYaEDAv52ry8M/+7c99Q/5mpkhvE2h6H1NkwaT/L5VWimXBpDLLUNp//gxraSxVEM4SKF9qUGk8Ju4yYET1I6Og3IHo0ZTuCSAkm+pg2L0Ov0Y07k5PCfq9YeDZDomNXie3C/6vPl5wgdQfVCy1DfvW5EX/DQ47oO4o0E/S/29Dd93nct8uy8R4jRQHB4TxY63cLmU8Od2WN4o9/zsZYEw+rmRbxmWkIpAfiyG0aBzPWZVSxZVyn1M/RylmJgO7Uc/Bgot++i/q+Tj58d8RVznn+lKi675hDMOJUvdPuOOXk+5x5LOMT6Dk24Xlm38/goVCnWu1++B4WdIv++V+tyGxXQVQMLysGZAGalwHyWj84J+7hTaP+F5z/ev9kk4W0u+AmFYMCyn6K7PcHiuVFm71Plet/Hr62et//+KkkYJCgDQWiiqAAAAAAAQ00CB/vFY/9iqf2CuRPhNUGWk/8itgVktt6D70j+4N+NgkPaxDxwno/eh1KwL+gf+cLYUDXLoH+lVctEgpt+3/qsZFHR9/yaqyhYSljj0D/R6Thq00/VVuPBo0KDQt5RHwt/jWn0DVa/D94EGRbygUy0N5vhnRANjGugJlyrQ/i23RNPqdDxqIMmPAc0WUmpA22kf+zenFZ0j8s34kya913rvNWhYKX22/Lkq+nsl/HOqxw/LChpQ81lWktH25HnTB3p1nIaDlGkMSjYTzV7j+yaNcttI6HzuzyUswXnxsNDSabpdWKArVFbxY0KD3CENfPttyzmnaZDbf+ZoMFllKL+9thf6bGuw2a+XL/oZV+5gf7XCz4L2WTW0j7QP6jETjPaH9qd+bo60FJwVOgf5/i/0+54XNpLCUkOh/a/Pjl+n3CJwIfpdyD9bOj6TwuOpUOkmKSx1JG+j3120XT8rk/Q7X1hQCaPnWOx3nrBwof0flnDTKICG74teQ/g7ZanfJ8Pznv//SHhOKVa+07JJuo72S6Giu44x/Y4d7rtKzjXh794e/Q5e63MVAKD5UFQBAAAAACDmg/pKpQP6GjAN/8G23G9gF6OBGL+/kUxDnkXhoIQGlDVAoLKPBkX9W7VKsQJH+I/2GlRMfgtUSyjosnBw0wclfX/6wOJoLW3hA/j6Jn4t+Dfl8w3wVCMsR2igwksrir7t3CyDhrWmwUQfTEom35IPoUK3Vfmi0gFIfe40qFiOsCxSCQ2IeUHMowFEfV41iKbPnj6P+tx7aSdcQioc9EyWJnwpC0XnABUsdG7x4zJZdgtLAb5shZ4bg2un83Onzo+jXTwLB2z9WNVx49uKzQ6hz4oPqCv6mZH8OeEDtcnlg7yAp9uXw2dT0T7TcSj6mebHtI6zZIlAf/djVY/jMydoe1iirNXPBxcOqOuzp5+T+tmkYoSXNxX9WeU6bdfl+tntn6MwydeZJu0j36ceHa+NTudAvZZi77X2e75ils9YVehY1e9Avs98NqmR8PODEv5+FfIig47vQmUJp5Klfw70c6DQ73KK03VU1vDtio5b/fwMZ0kqNcOHH7+6L//M6+drGvQc/fyj+0y+rlL8Nei56XX53/U6i91X+P8O2q/62ahzp94r/QzUcZQs9+i1V/JzMCz1KCrnNcLsbgCA7KGoAgAAAABATFOm6x9c9Q/lldJgmv9Du5JGUUXCpQR8EKvRhUs26B/gk//grr/7VOKFBt/Df4gvNEil+1m65/hp9+/fSNZ/xd+zYoWYWvIBmEoGRjToo2OhnDKVBiZ8P5VTYtC3fDVwo0GHcABKAxhhYSCMBmb12Sn0LfBWp0HE8PjSwL8GG33/aUBa1/FtGkAqNOCj9yGc+l+fH93Wj2MNSJXLi3l6v0vRZygsm5QaeAyFn9WvxEUxxUtiYfQ69NkPjz0f8NSAX/hZ1vHmg68auAt5ES45c4v2ffJx0xi4bTa+z/XfLPD3yj9H4cC1l0IKUWkiLFPoNYWfL98eLv+kY8sHmMud/cc/l8l9Fg7CJ4/TcDYqlVpCOtbDskoln7lKhcWfkUbLiNRi9jHxQkYy2r+NXjbz5VeK/S6i31vyfSa9sJEsW+l9DQu9aZQJdA71kkPyeA4lZxgqdEzo8+mfNb2P+WYGC39n1P3oM+8zKil6Psnfj8v93dk/g7o/f13++2Eawude6f367wR6z/8ffx/++Vvod+KksMRZLHqMan7/1flJj6FjTufjWn3mAQDNj6IKAAAAAAAxHxTSQGkl9A+2+ofk8B9/NQicBg2Y+T/Iq8zQ6GUADWz4Pio2S4wGnXxwMd9Asu8TDe6Eg9el+AwmPmDggxTJAZ5qqRhTakaMUFgkKVU80esMBzY1CKSBu2K0H71goMH7UjQAEg7ka+DIB5GS0fW0H0sNFLcyHQ/aV+G3un3gUPsvPFY0qOj7vtBnwwcklfD9rOY49qVNyhmI99fhqeQY98+cjsP/6enTSyIqmujcqdelQkty9o5waQaVoULhN8yTg5tejgnLBy4c/FeaZRYgfXZ1PtDPL5Ut9d9qfg7pZ4w+99o3xWYrqSd/r7yUGP5MLIcG58OZunTcaXBWr9W3+UwWum54jJQ725ZfP19ZLCzWeOEk3M+FfufQc/HB80pKaJUKP0v/89C+0Xld55KwUOfRc1bxQD/LdT29Nu0jFRkrnYmuEiry+PlR/9WxGZYwavnY9eDHp85dhWg/J3/m69zs51jNcKP3Q8dTWM5StK/KnR1Jv2vo3KHjIlmKCH8GlSpke2FQ0TGTvK+wpKIUKkxou19H53T/3Ch6zfmKG/p8+T7Q+aKQ8Dl6ir0HldLzCM89eh/KLXXotYXPS/FlK8uh99ALdGH0+dHPXT8HAgAwmiiqAAAAAAAQq6aoon/4D0sqPpCS5gBfOEhcTtkgq8LlBTRwX6pg4oNn2qfhIJQGJfx+fCmIcmnwTbfTYIuERZFK7ysfTTmvgcVyaR/4QKS+nVqIBjd9cFYJB2pKfRvWB/N0nJYj38BNGBUOdJ1yB71amX+b2pes0cCznyPyLfHgg4B6f5PffNdnwN/35DlKA8baXklRxUtjyQJIPuFAu+Kfn1JUYvLXq4TH7aR3Si9nEs6gkCyj+FIZGohL0jlTg4P5BjDDQflyPxNZpuNE73+4n8OU+145n2lHyUqJxwec9ZkJy0uVlDdU2guXLlPCc6r+rAH/cD/q81ROETL8meSf9ZAGpv3Y989b+HO9WBnGZ4bId5ynJSx8qJwS0kC2Xp8yWud8PYewNKMigX52ewkz+ZwbkZdNiv0ekBSWRvJFx7J+r9WxVg4d6/p9QgWw8D78904dA34c637LET5H/a6jv+sx9F//3Ucp9rut/3xLRp+lYp9PzaTi103OWOT0c0WX++dezynt8oZ+DoaFHD2Gzl16ToVKKzrPfS0+Jjz/W5U/r/S+6fOi6Jze6LMPAQCaC0UVAAAAAABiPiBU7NuXIQ2WhN9a1T+8+/TtpdbFr5QPYlSzzn1WaFBBr0H/SJ8chM9Hr9P/cT8cvAkLLJX+g7svFRJ+K9X3rR6rnOdVjH/zt5JZRnwQJt9xp+ej48oHUfRfDd7rdXtBSgNHxb7ZHA7WaMCiFO13H6jSPvFvzPt+0jGP8ujb39pnXiby6fj1PuabAUDb/L1Olt3CAlHy+PJjQQPO5fL3ON/AelI4oK+UO5NFOACugU0NdPt96VxZipdp8g1E+2WVvGbxgovSyOdT0QB0OICvY0fHgs61fkwos7aWPwOO7x+dK7PCZxZQQUuvxV+XBl4rpc9iOGhcKPoZXu7MBzqu/XaFPk9+LvDzvAap/TbFXofPDqRSRi1oUN4LH57RXsZDn0kNqPt5Liys6eehfh75eVLx82sjU8lVr6WS8pyOIZ0H/fdQvY/6/OpnhYq35f5+pP2tfew/E/JFZVn/XUX7vpLfcbywmS+6r2IlFUl+XvWa8y0RlI//vClUQNfxHxZmyvl5WA39bA/PyWH0+HoPPfnOT//foZ+XI/39FACALKKoAgAAAABAzEsGSrEBfV0WLg2gf2jXIINocFnbVB7INxBdrXA2kkLfDM0yDZj4P74np64vRoNSuk04eOMDOpoxoRJ633wfhjMF6B//vcCiMsZI+DFUydTxGqT056X3VvG1/8PBOH2jPhyc0WCiD1BpXxQacNdAjH8Lutxva4cDSz7Y5QPYGlRBeXxgT8eF3h9/v4p9G10DarqOPi/hN7t9Noh8hSY/fv08VA5/LioiFePfOFe8HKKUKgmEM3OES/D4Z1rHdrGBVF3mx3++JXz8+VfymjV468/JU8nts0TnMy8YaD9pvyYHMv34C0tBOqZUXss30KvL/FjSbbPCS3I6J/p5SOe08PNRCZ07ddwnB4R1btMyWtXMJOOD3fmOVQmLKXr88Lxf7LPk19PrrYWwyOgpdwaOSul+9XNM579in30/bhUVscIyVvhnpVTJoVGobOqvqdSSOklhebfSWW/0/icLKnp/9F7pfOLHtT4Xfj6u5tyg+9PPMD9n6b/6WVfOa9Vz1GPq9+tyyrYhL3jq81PomNNz0zlGPwtqWVzUfet3AS+0l4rOT/qd7cPe0S2OAQBQSxRVAAAAAACIafDIB/Q1GJakf+TWPxr7dRQVBMJBLZVT/PJig9HV8AGDWn3js5bC5TYqGVz0wW7tU+ffTK9kmRPxb2VrgCQ5YBEOYJdb5sjH76ec5VRCn3l+ePDtf3jq1CCFRwN7GmzJN4CiY88Hj4p9q1yDTLpOsvxQSDiI6gNDPuCj6NvVKM0HXDXAFu7TYstMhdcLB2F9MDE5SBgWSYrdb5J/u1sFh2K8GKDPjQZBvcigwbZCg3rhUgcaWA4HT8OBcZ0XCgnPGbpNUrlFG6dzsz93PTcf8Nbnp5L9lhVeGtK5sVB5UQPNfn7Qzzf9PRyU1rk0fA/DmSuqKWvUin+O9J77+17p+b8Qv28lWfSphM/coPN1vs+Fzrs+SK/P7KaDfbnHDWf4SvKfKflmINLjaKB/JM87fP2eWv2OEc6wpNdT6HnrvQ2fT75oX1ZSCG0EXoCu9HdH/T7jx1a+313z0TnDZyryqDii4zKUXC5L55tKyyKjST97/ByY7+fIaNHPIz0f/fzSe6bPoUe/gxY6pwMA0GwoqgAAAAAAEPDZOvQP2/rHYv2DvAaCtJ68F0UUDQro8nwDUn4fipYT0j/8a/BZA4Uj0chFlXAmhkpmmgm/ZeyDWvqHff0938wSxfigTKFBoHCmh3yzDZTDSwYabChXOHCv/I9Dj6/XpmNO91eKDzRq8L1QcUCDzn7/5Qzsh2UJH5QKB1ZLlRswzI8pFYXCpa8KvU/OSyS6rh/3XvxIzgDiRRKVMCopgZUzKJpvAFTnPf1dyVfq0vGiwXq/TrIEEg7YF3tsH9TWwGi+b8J7YaGcY1H70J+TPt86vhUfwNTzqdUsErWg1+PPvdSMMH4sqVzmJb8wfj7Q++LHWL5SxGgKfy7788537FVDy8j4fRYr+5USfi70Wc/3GfeZFHQ++H/Fx69S7Bj2c0jy9ep4DWcX0X1WOpuGjiN9vnR7/czx/VvpbGXl8gKKylL67Bcqqvk5TfHPuUevWT8b/bzYTMLfd8qZaSQU/t5ZqNiq86iOcS9VeVRGKfR4/vuWpxF/9vvx1IiFRAAAmh1FFQAAAAAAAvqH/GLr9Cv61mmxb5TqPvKtRT+Sgkm4bECj/WO7Bs/C/VDJt6C1n/12vs99YFEDbKUG/F0460Shb6rqvnwAR4Nj+QbHS/GCRyXf9vflov7vTw4PEv7vcyubKSAskBT7xrDPqqLByFLfLPbnpOuG+8ELR9pe6UBaK9JMCdpfGvj1opTOH6Vo3/qgsZYk0LGpPyth0UjlAx9ornQAUYO9up3Od4X481e8vBV+TpLHkgpRXnZQCi3zVaqEosfwYl6h5bh8f+q4LkbFuLA4ExY7wlmCVFZplBkawiJZqc+hF9nCIoUKK+GsFZq5SqVK/3vWvs0fLkXmSWtWp7D0M5Kl33Qch8URfQ60jz36nPnjJFPoM6jXqMt1/IafE+2PfPel61VS4PASjKLfK3zZMUU/Z9Pmn3vtm2LC844v+6TM2lp4BqZmUU6BMB8VzcICin6H8Rk6FJWk/GeFR8elziXFhEUunSMbsSCknyeVFKQBAED9UFQBAAAAACBB/xDvgwXhP9DrW5nlDs5r9hQNBmqwVTMdaFBY/1hejB5XA4bJ62mA2Ad/NRBW6n6yRoNLeu7VDKjnK6qE27S/yuEFCw3kFKMlS3y2Bw3uVMoHkCv5RrreT73HtwYDxaUGj5K8GFXsOeuY9G+na5Cz0ECkHtv3QXKwTN/i9+eowVV/Txqd3ncN8qZdvvFlO7Q//fgPl/MpJvwmuwaQvbjhRQsNYvt5oZoBxHAAslApy0t7yc9N+DlR9DzCQXql2OsMZxHKN6tCWMQodJz6t+R1TBei84PvIyXfuSdZgtDsAvWeXUX7o5IZtzQrgj/fUp9BnRN0PX9/9PPIlwHy84EfW8pIyhq1Er5eRa8lTWEBT8d2tVQa9H1aafIdcxpc1+fdjw2VEbxwqOj56neLsHSk81g5x5Jep5dd/POtc4pv0zGR9vk9nPWj0DlH9DrDY9LTCjNi6GeQv95Kfx5pn4bHR77o/dXP9XL3pcp7ftuRzDgEAACQD0UVAAAAAAAK0EwgGjBViUADJ7XmAww+iKDH1mC1DwhrgKER1633b217+aeSZSXCJWvCgXj/5nA5s1OEMwmU841szQLh1y80I0QhGvzT7YoNnheiwooKLrp9pYPFXmoo9U11DaSGA/d6PA106vYaRAxnAtJxl2/QNhxs1KB3M3zL3Wfc0Tf+0xQOOnrKLSHpeAhnOPDoPdLsF1580Xmh1Aw5+YSlo3yzU6hA4pfnG6BMLj3i0TFRaEkPp/Opn9eSZSjx2V6UQt+ED8sLyevoXOEFDU+xGa1UhvH96dHnRPtf95OMnrPKDaVeZzn82KtkKRsvQCmlygRhiUEJiz/h/SjllhzqLSwuKTr+0xQWp8r5mVKMygLaxzqH+2wqio4Z/SzUcaUShs8I5NHPxWIlVN2vLx2k6H7894HkuUKPV+y+xH8eK+HvFT6blqKfs6XuR8r9/Sg83kqVHsIZfjyaaaUV+HuT79xYDv3c0TlUpTsdC/rdUn9X6aTS5aF03Om2lFQAAEAtUFQBAAAAACAj8i1v4NGgbiOWVMTLD17C0IBwOYNf4qURDX6HfMkODdIXm1UlLKlUMuijwWi/fw0kl8tne6mmqCJ6j/35VvK4Gpj3gfZSMwLo8nDAM19UQCg2q0S4ZISi91aDs5UOgmWFFye0D4t9079SfjyEqWQf6XOiwcbkfXj0nKtdrkaFBB3fuh+fpcWp0KTPnC4rNguR9pXKGhpU1gwnlRwD4fI/4UC37tMfW4OshWjf+vPX8axBcO0LHZvhbAzhgH4x+lyEg/flRMWOkfLzfiXlNF8SRilVfNK50veTZshJnnunrtobna/02iudladewterqMCYtvCcWO5MXSPhM42FUfkp3/lb77GONb+efqYm3yu9r2HRUOUEncPz/awNS2g6v4R0fX3u/HIdH4VoP4VlNe3DYj+39Dn3z2ax84ok33Ml7SJhVun865/ZtGf5AgAAyBKKKgAAAAAAZIhmtvABCkV/1gBiqfJBluVbCqHcwRdfkiH5LXcNeHnxRftIhZRwgFyD1uGgnf6cr4CgwT4NFCe/Ea6/+6wteg7lGmlRRXxJE72+fIOMhXi5ptxvPmtQX4OZeq4eDVrqW+vJ/ZGPSkTJ5Rn0Xmh/qSyg0oIKAhpkVTQwq+em90rHua6j56zBRw2MVjKjRC14cSKccWKkkkUVlSaqoYFlP94VDQ5rabGRnhe8BKP30Wcl0QCxnqe26/2sRSlAwlkswn0ezthTqoQTXjcZPXe9p5WWpzRIrONTx7Ef3yoE6fOhgXht13Gr6+i6I6XXrsfQfZdL5zIvphX73Oj8EZZv0pgBZjTo2PTXUKrgUC2f2UbR+13rmaLCc4N/3jyabUXvm6LjLrxMx1+hMp1+niWvr2NY51qfKUfnDL0+Xab/6nkkaX97WUyfI+0LHUvaR4p+PujY92MwGf28LvQcdd7y65UqBCVnndFryeKMP7XgP891DAAAADQriioAAAAAAGSMBoE0WKwyRzMMyvigWJhyygDht4rzDbDq8uSgnAbwk49XbNDMlxfIN3tIuExBuYWRNIoqev/92/2VLOniA5D1nKJfx6fKAvmWgKkmo3m8+2w2KjWlJVlUKTZDSCnhUj1pFQ50jvHPmIowKi754LO213KpDR3n/vnVQL0KJSo0+fMpd9kRzRjig+qKBrP1OnQObQQ65v2cVcn+9lkvNJhfSFgKSHu5nHrTe6rjpNhMTyPlM3V5dB7W+U0/C7xwp/OrSkqK9m+ly8OFvKDy1dd3nLZ0T77oc6HZTUp9JnTOCWdE8fjnIizFFPtZoRJJePswuq/w56zKM2GRTilUDtXPqfCcU+z1aB+H96loGZpWEO6nWh7zAAAAo4miCgAAAAAAqKnkQJOiWUOK0TfDfakDlSAKzfChQV4NFvqAThgN4Jb6xrZ/aznfALEGJf2+yi1QaNBNS3hogG0kNGivAdBCBZus0evWvtb7mhywzBe9XyopaDBTA7QaRC/1XtWaXoMXHtIqOeg4Dl+3jtWR8OeXZpkmXB7Lo0Hoesy+4bOJKFqWxge/dXxU8h7o/KABep8VptH4EmcqABQ61yXpnOX7TueqkI47nyFI0WesVMEBw7RfC80UkoyOU5VbquWz3ei4F81epHOEfnbp/KiodKKfJ5Ue2/r8aLawQufjcopL4bJRhRIuWaViZbhEUaFlg1Q28esUK2eFZdEw1S53liU6X5UqOWnf6vWO9PcJAACArKKoAgAAAAAAaiY5o4Sn2MwSGuzymRY0SJYchM1HxQ4VHfQNcaXcJTl8gFgDhRq482/OayBMA+e6TP9FZVSw0Wwd2pdh9C3x0Zw1pRSfYUezKKRF9+cZyaC2hAO8I72vkEop+kxqkFkFB31u60WzPIT7SJ/5ZhiIroRKJCqp6PVraZVy6DPmt9E5Su+hzoEqpYTlAi3vREmlMjr+9VnznwEezUaiz4mW0tExqkLQSKjI4fddy8+cfibqeevnqoor+rlX7jGh2TxU6NSsKdoneu0q0mi2GRVhkvejfeKztujx8tHPAC/d6b+FXrt+Zvj+CWec0fFdyexDWaRjS4WofFRW03vm+7FUoQUAAKBRUVQBAAAAAAA1o291++CSBv/9z4oGuzTopW8LawBM3x4OlyWox4C1BoT0PMLnFUbPgWn3W4d/gz/NclJ4PKm8MxIqJ4QlrmYYwNRA9/S1+6OBdA1Gt+rnzd9XDc6XS4PZ4fEVRoPgOudSUsmuWVsP5d6v0Z5RKk3hLE2FZoIJZwTSz32de5PCGVV0rKsY439XNCONyo+NyGftUZFMvwMpKi7pNYVLmak82CgzqwEAAFSKogoAAAAAAKgZ/0a0vvkvxQZWw2hpk3JnFhgpDQJpYC389rxKABo4r9dzQDaouOTLz5Q7K08pfkylVX5R2SUsdKlopUJXuUvGIJt8dpRKizoazA+XW9EgtwoqjboMUivRZ9nftzRnSBptmjHFz6OFZp1RgSqcJUXRuUzHrhc3fOkbxQtcyaWZ9LNa96OiT6lzoH7Wqxykz8tol/z0+vw15IvO8SrwarY4AACAZkVRBQAAAAAA1Mz83cPfiA6XAPCZA7ScgMogGsD32RQ0s8JozqiggSwGeFubvuGu41PlpTT4oGpa9yeaRSA5E5AGhrUchz5Lil4HswE1Bp9ZQ8dKtbMnaECbc1djUbHCP78TlnfHW5uDSp76+V+MyioqbKhs4vshX/Q7Qjgz0PK9x+2LL585E5ruR0sb+TlQ0ZJF+l1D5dfwccYvG/39rf2jWVR8aSUtu6ZZ5lQ+o3gIAABaAUUVAAAAAABQMz6jSlhU8QGmziMn4y1AdmhmAx2fWoIhDY+39UTfjE97+QYN3Oq+iy1d1QxLAzU7nQd99gkNVKO1+Gw4Kpm1Ki0RqOJIOFOUR/ul0OxWKnipmJK8TamoFJL2+RgAAACVo6gCAAAAAABqJl9RRd9y1jZme0AW+TGrAeRGoYHcGR2HohmJNEPBQxsORLMOINs0C4rP4KNZIxg8bwz6bM3efjj+28j4++/L47U6Fbc85X4eNHuLLxXkM7Ylo8/XxLc/5LwIAACQIRRVAAAAAABAzRQrqugyIGvyHbNA2jQQ77NpaEmS57elU3xAbWn2D82Ao5mX0qDZlnQMKN3HWboJAAAArYOiCgAAAAAAqBnN9OADse7yxbuibRRVkEVzu45Gx6e+gQ+kqXdgeLkmLT2ic6KOM5Ue0pqdA7Wn907vWU/fQLxlZJ5oPxgdB/xMBAAAQKuhqAIAAAAAAGpGswb4IJwb99bu6O9zdh6JtwDZoWVzdHxqGQkgTWMWduXOh4rKUJqhA43BZ1vSz7C0aAk8Px5UWgEAAABaBUUVAAAAAABQM5pBwAfhfFkDL6owKIcsunTRcJlAS3IAaQlnlxq/rDsq6vUPDsaXohFoNpW0f3aFZc4H1+2PtwIAAADNj6IKAAAAAACoqbNntkWDcBqQE4oqyIIj/R/bjI5D0X+dylRnzRhekoXlWJAmlVKmrtobLS2FxrPvxEBuuable4/HW0cuLKrct2ZfvBUAAABofhRVAAAAAABATWl5Cw3CadkEmbxiT/R3iioYTSqp6Dictnpv9HfN/uNLs3zmuXZmuwCQs3J/b3RuUHx2sDRQVAEAAECroqgCAAAAAABq6tx526NBOBUDRINx+jvLHGA0aekVHyBWMeWTz3yQ+7sfqwAgmmHJzw9poqgCAACAVkVRBQAAAAAA1JQv9TN97XAxxYsqDMphNGnGlMsX78oNEitapuqxzT3xNQBgmGYA8/OEZl9KC0UVAAAAtCqKKgAAAAAAoKamrtobDcKNX9Yd/Z2iCrJkzYHeaBBaM6wc6f843goAp2jpOi+UaBmgtCzfezx3v49sPBBvBQAAwP+/vbv3beoKAzi8MDAwdGBgYGDo0IEhQwZGBgaGjh07dOgf0JGB/yBjR4YKBYHCh4qCKlqBhAStKhW1C5ESHIIDpEQB2qRNmi+7Pui9vnYjNZVwHR/i3OeRjmTfG9/1DueX93DwCVUAAACAgYrNt9iEiyOAglAFgGGyuN7oBiWd6WB7YeeRQhHLAQBAVQhVAAAAgIF6sNT+j/FjE7PFd6EKAMPm5M2nxbvrxPUnxdFhe2Fsqh1yxppe2SqvAgDAwSdUAQAAAAYqjlM5dHGmuxF3/pf2UUBCFQCGRUxS6UQl1+b/LK/255N7C8Xz4h25V/ELAAAMA6EKAAAAMHCnvpkvNuNio+/T+78Wny/Ulsu7ALC/vd5spsPj7ehyZLJeXu3P0Su14nnxjgQAgCoRqgAAAAAD99XsSrEZF8f/jN6qF59vL6yVdwFg//vip6Xi/RWr36kqP75qH4sXKyJOAACoEqEKAAAAMHAbzVb68MZcd1Mu1qPlzfIuAOx/i+uN7lSV41dn0/JWs7zTuzj+rvM+fPhmo7wKAADVIFQBAAAAsrjzci0dutje4IvVzwYfALwPMf2k8x77/IfF8mpvIniJCWPxjAheAACgaoQqAAAAQDbjc3+ko1dqaWSyXl4BgOHRaLXSyZtPu7FKr8f2xPSUj77+Z8LYl9O/l3cAAKA6hCoAAAAAAPCOple20pFLj7uxyWffv0yrjb/Lu7urr26nM9897/4m1ulvnxXhCwAAVI1QBQAAAAAAevBgaT19cLnWjU5Gb9XTi78a5d2UNpqtdHthrZi4EkcE7QxbYr1L3AIAAAeVUAUAAAAAAHoUk1V2HuNzbGI2nfv5VTp75/m/wpTOiikqEbkAAECVCVUAAAAAAOB/iKkoH999sWuUsnONTNbThdpy+SsAAKg2oQoAAAAAAPQhjvjpTFE5PD5TTE4Zm/otPXyzkV5vNsu/AgAAglAFAAAAAAD61Gi1Un11u/wGAAD8F6EKAAAAAAAAAABZCFUAAAAAAAAAAMhCqAIAAAAAAAAAQBZCFQAAAAAAAAAAshCqAAAAAAAAAACQhVAFAAAAAAAAAIAshCoAAAAAAAAAAGQhVAEAAAAAAAAAIAuhCgAAAAAAAAAAWQhVAAAAAAAAAADIQqgCAAAAAAAAAEAWQhUAAAAAAAAAALIQqgAAAAAAAAAAkIVQBQAAAAAAAACALIQqAAAAAAAAAABkIVQBAAAAAAAAACALoQoAAAAAAAAAAFkIVQAAAAAAAAAAyEKoAgAAAAAAAABAFkIVAAAAAAAAAACyEKoAAAAAAAAAAJCFUAUAAAAAAAAAgCyEKgAAAAAAAAAAZCFUAQAAAAAAAAAgC6EKAAAAAAAAAABZCFUAAAAAAAAAAMggpbercGusZlfO6QAAAABJRU5ErkJggg==)\n"
      ]
    },
    {
      "cell_type": "markdown",
      "metadata": {
        "id": "I-GW2qx1LAG9"
      },
      "source": [
        "#### Q3.5: Modelling Approach"
      ]
    },
    {
      "cell_type": "markdown",
      "metadata": {
        "id": "MFavPUpmLAE0"
      },
      "source": [
        "The data, once engineered will be split into training, validation and test sets. Both training sets of TFIDF vectorised manually engineered data will be trained on a pre trained BERT model - with hugging face transformers used to fine tune the model for our sentiment analysis task.\n",
        "\n",
        "The model performance will be compared for each set of data and the data with best performing model on the validation set will be employed for the task.\n",
        "\n",
        "Once the best combination of data and model is selected, the model will be tested on test data. The model, with accuracy and f1 above 85% will be able to be employed on live twitter data to register numbers of positive tweets about the programme vs negative and neutral tweets about the new series release. "
      ]
    },
    {
      "cell_type": "markdown",
      "metadata": {
        "id": "J0Pq4vKsLX53"
      },
      "source": [
        "<hr />"
      ]
    },
    {
      "cell_type": "markdown",
      "metadata": {
        "id": "UMoIwqEfK_9P"
      },
      "source": [
        "## Q4: Be the Adversary [10 marks (+ potentially 5 bonus marks)]\n",
        "This question is designed to provide you with examples of the capabilities of state-of-the-art NLP models, as well as some intuition to how they work, and in particular where their weaknesses may lie."
      ]
    },
    {
      "cell_type": "markdown",
      "metadata": {
        "id": "Y4gXaosmK_4T"
      },
      "source": [
        "### Q4.1: Adversarial Human Annotation for Reading Comprehension [10 marks]\n",
        "#### Setup Instructions:\n",
        "1. Access [Dynabench](https://dynabench.org/) (feel free to create an account to easily track your examples)\n",
        "1. Navigate to \"Tasks -> Question Answering -> Create Examples\"\n",
        "1. Try to beat the AI!\n",
        "\n",
        "#### Your Challenge:\n",
        "Try to **identify a pattern (or patterns) of weakness** that the model is susceptible to (feel free to use the \"Inspect\" button to see which passage tokens the model is giving most importance when answering the question). If you don't manage to identify any patterns in particular, provide a few examples of questions the model could not answer and the model predictions, and explain why you think the model might have found those examples challenging (based on your learnings so far).\n",
        "\n",
        "Briefly describe your findings in the cell below."
      ]
    },
    {
      "cell_type": "markdown",
      "metadata": {
        "id": "a1-i_l93QEtY"
      },
      "source": [
        "**Answer**\n",
        "\n",
        "Initial attempts to find weakness in the ensemble of RoBERTa models trained on SQuAD v1.1 and data from previous Beat the AI rounds using questions with no synonyms proved seemingly futile. \n",
        "\n",
        "\n",
        "Next, the ambiguity within the questions was increased. \n",
        "Questions included;\n",
        "- Name an animal phylum less complex than jellyfish but not less complex than most other animals ?\n",
        "-How could you describe the accent of an American citizen who pronounced New York as ' New Yawk'?\n",
        "\n",
        "These questions were used to induce a comparative nature to the questioning, but where dealt with upwards of 80% confidence by the model. \n",
        "\n",
        "However, we increased the diversity, the comparative nature of the question, the frequency of synonyms and required background knowledge. These lines of questioning tricked the model with great efficacy. \n",
        "\n",
        "**Examples**\n",
        "\n",
        "- **Which year, was it not possible to visit northern East Prussia?** The real answer is 1948 but the model answered 1946. This question was an example of increased diversity, as the passage stated that northern East Prussia was known by a different name after 1948. \n",
        "\n",
        "-  What became a key feature for OpenType before the death of Princess Diana?  The real answer to this questionw as ACE. However, the question was able to trick thge model with the input of background knowledge. This theme on introducing background knowledge into the line of questioning was further explored. \n",
        "\n",
        "- **During the Falkands defence, the British Military used professional soldiers, which tribe can we confidently say didn’t use them?** This question is another example of where we introduced background information to fool the model, so it would place excess importance on the background information as appose to the real question. The passage described a certain tribe of people not a having professional infantry. The use of synonyms may have played a further role as well. \n",
        "\n",
        "\n",
        "\n",
        "\n",
        "- **The titanic was sunk by an object greater than 19,000 sq mi… what can we confidently call that object?** The passage described Glacial Icebergs as being greater than 15,000 sq mi in size, however with the use of a comparison within the line of questioning, the model was unable to return the correct answer of 'Glacier'. Combined with background information in the questioning, the model was unable to predict the right answer with 35% confidence. \n",
        "\n",
        "\n"
      ]
    },
    {
      "cell_type": "markdown",
      "metadata": {
        "id": "ahvQIoOoQqJ_"
      },
      "source": [
        "## Q4.2: Word Adversaries for Sentiment Classification [Optional, up to 5 bonus marks]\n",
        "In this question, you will attempt to create your own adversarial examples against an NLP model trained to classify sentiment of movie reviews. **However**, this will prove more challenging than the previous question as you will be **restricted to only making word-level edits to the input**.\n",
        "\n",
        "#### Setup Instructions:\n",
        "This question has four sub-tasks revolving around adversarial example generation:\n",
        "\n",
        "1. **Task 1**: you will simply be asked to write movie reviews that should **NOT** be misclassified by the model.\n",
        "2. **Task 2**: you will be asked to repeat the first task with one crucial difference: this time you should write an adversarial example. This means given a specific sentiment (positive or negative), you are asked to write a movie review with that sentiment, but the model should misclassify it.\n",
        "3. **Task 3**: you will be given a set of existing movie reviews and you have to change individual words in order to make the model misclassify the reviews. You can replace words with other words without the need to preserve the actual meaning of the review. This means that you can, for example, replace the word *good* with *terrible*.\n",
        "4. **Task 4**: you will be asked to generate a word-level adversarial attack. This task is similar to the third task, however, you must not make changes that alter the review's actual meaning. That means you are only allowed to make changes that **preserve the review's semantics** (e.g., by changing the word *great* to *excellent*). \n",
        "\n",
        "**Note**: you are advised to save your adversarial examples before you submit them in the online study. You can do this by simply copy-and-pasting them to a local document.\n",
        "\n",
        "#### Your Challenge:\n",
        "Briefly explain how you approached each of the four tasks. To successfully explain your strategy, it is advised that you document some of the adversarial examples that you create and present them to us in your description. In particular, for the different sub-tasks:\n",
        "* For task 1, explain why you think that your model predicted the respective sentiments.\n",
        "* For task 2, explain how you tried to fool the model. What strategies did you use to create your adversarial examples?\n",
        "* For task 3, which words did you target for replacement, and which words you did you use as your substitutions? And why?\n",
        "* For task 4, was this task more or less difficult than task 3? Why do you think this was the case from a modelling perspective?\n",
        "\n",
        "\n",
        "#### Let's Go:\n",
        "\n",
        "The online study can be accessed at http://compass.cs.ucl.ac.uk/humanadversaries. Detailed instructions will be provided in the online interface.\n",
        "\n",
        "If you have any questions about this study, please contact Maximilian Mozes ([m.mozes@cs.ucl.ac.uk](mailto:m.mozes@cs.ucl.ac.uk)).\n",
        "\n",
        "Briefly describe your findings in the cell below."
      ]
    },
    {
      "cell_type": "markdown",
      "metadata": {
        "id": "PgbWpUmlQqG2"
      },
      "source": [
        ""
      ]
    },
    {
      "cell_type": "markdown",
      "metadata": {
        "id": "b8qs1CLdQqEW"
      },
      "source": [
        "<hr />"
      ]
    },
    {
      "cell_type": "markdown",
      "metadata": {
        "id": "d2AR2SLYQqCU"
      },
      "source": [
        "## Q5: Text Similarity [15 marks]\n",
        "- Notebook \n",
        "\n",
        "For this question, we recommend using the `flair` library, although you may use any library of your choice as long as it runs properly within this notebook on Colab.\n",
        "\n",
        "You will be given two sentences `She went for a walk in the park by the river bank` and `The woman went strolling on the grass next to the stream`, and asked to investigate the similarity between the two using different word embeddings."
      ]
    },
    {
      "cell_type": "code",
      "metadata": {
        "id": "LA_8KmdIYMGK",
        "colab": {
          "base_uri": "https://localhost:8080/",
          "height": 1000
        },
        "outputId": "968a333e-aede-48c2-a3de-abb179755ca5"
      },
      "source": [
        "# Install and use the flair library\n",
        "# https://github.com/zalandoresearch/flair\n",
        "import warnings\n",
        "warnings.filterwarnings(\"ignore\")\n",
        "try:\n",
        "  import flair\n",
        "  assert flair.__version__ == '0.8', f\"flair version is {flair.__version__}\"\n",
        "except ModuleNotFoundError or AssertionError:\n",
        "  !pip install flair==0.8.0\n",
        "  !pip install allennlp==0.9.0\n",
        "  import flair\n",
        "\n",
        "from flair.data import Sentence\n",
        "from flair.embeddings import WordEmbeddings, ELMoEmbeddings, TransformerWordEmbeddings, TransformerDocumentEmbeddings"
      ],
      "execution_count": 14,
      "outputs": [
        {
          "output_type": "stream",
          "text": [
            "Collecting flair==0.8.0\n",
            "\u001b[?25l  Downloading https://files.pythonhosted.org/packages/16/a9/02ab3594958a89c5477f2820a19158187e095763ab6d5d6c0aa5a896087c/flair-0.8-py3-none-any.whl (277kB)\n",
            "\r\u001b[K     |█▏                              | 10kB 12.5MB/s eta 0:00:01\r\u001b[K     |██▍                             | 20kB 18.4MB/s eta 0:00:01\r\u001b[K     |███▌                            | 30kB 14.1MB/s eta 0:00:01\r\u001b[K     |████▊                           | 40kB 12.6MB/s eta 0:00:01\r\u001b[K     |██████                          | 51kB 14.3MB/s eta 0:00:01\r\u001b[K     |███████                         | 61kB 14.0MB/s eta 0:00:01\r\u001b[K     |████████▎                       | 71kB 9.6MB/s eta 0:00:01\r\u001b[K     |█████████▌                      | 81kB 10.5MB/s eta 0:00:01\r\u001b[K     |██████████▋                     | 92kB 9.9MB/s eta 0:00:01\r\u001b[K     |███████████▉                    | 102kB 10.6MB/s eta 0:00:01\r\u001b[K     |█████████████                   | 112kB 10.6MB/s eta 0:00:01\r\u001b[K     |██████████████▏                 | 122kB 10.6MB/s eta 0:00:01\r\u001b[K     |███████████████▍                | 133kB 10.6MB/s eta 0:00:01\r\u001b[K     |████████████████▌               | 143kB 10.6MB/s eta 0:00:01\r\u001b[K     |█████████████████▊              | 153kB 10.6MB/s eta 0:00:01\r\u001b[K     |███████████████████             | 163kB 10.6MB/s eta 0:00:01\r\u001b[K     |████████████████████            | 174kB 10.6MB/s eta 0:00:01\r\u001b[K     |█████████████████████▎          | 184kB 10.6MB/s eta 0:00:01\r\u001b[K     |██████████████████████▌         | 194kB 10.6MB/s eta 0:00:01\r\u001b[K     |███████████████████████▋        | 204kB 10.6MB/s eta 0:00:01\r\u001b[K     |████████████████████████▉       | 215kB 10.6MB/s eta 0:00:01\r\u001b[K     |██████████████████████████      | 225kB 10.6MB/s eta 0:00:01\r\u001b[K     |███████████████████████████▏    | 235kB 10.6MB/s eta 0:00:01\r\u001b[K     |████████████████████████████▍   | 245kB 10.6MB/s eta 0:00:01\r\u001b[K     |█████████████████████████████▌  | 256kB 10.6MB/s eta 0:00:01\r\u001b[K     |██████████████████████████████▊ | 266kB 10.6MB/s eta 0:00:01\r\u001b[K     |████████████████████████████████| 276kB 10.6MB/s eta 0:00:01\r\u001b[K     |████████████████████████████████| 286kB 10.6MB/s \n",
            "\u001b[?25hRequirement already satisfied: python-dateutil>=2.6.1 in /usr/local/lib/python3.7/dist-packages (from flair==0.8.0) (2.8.1)\n",
            "Requirement already satisfied: scikit-learn>=0.21.3 in /usr/local/lib/python3.7/dist-packages (from flair==0.8.0) (0.22.2.post1)\n",
            "Collecting sqlitedict>=1.6.0\n",
            "  Downloading https://files.pythonhosted.org/packages/5c/2d/b1d99e9ad157dd7de9cd0d36a8a5876b13b55e4b75f7498bc96035fb4e96/sqlitedict-1.7.0.tar.gz\n",
            "Requirement already satisfied: matplotlib>=2.2.3 in /usr/local/lib/python3.7/dist-packages (from flair==0.8.0) (3.2.2)\n",
            "Requirement already satisfied: lxml in /usr/local/lib/python3.7/dist-packages (from flair==0.8.0) (4.2.6)\n",
            "Collecting gdown==3.12.2\n",
            "  Downloading https://files.pythonhosted.org/packages/50/21/92c3cfe56f5c0647145c4b0083d0733dd4890a057eb100a8eeddf949ffe9/gdown-3.12.2.tar.gz\n",
            "  Installing build dependencies ... \u001b[?25l\u001b[?25hdone\n",
            "  Getting requirements to build wheel ... \u001b[?25l\u001b[?25hdone\n",
            "    Preparing wheel metadata ... \u001b[?25l\u001b[?25hdone\n",
            "Requirement already satisfied: numpy<1.20.0 in /usr/local/lib/python3.7/dist-packages (from flair==0.8.0) (1.19.5)\n",
            "Collecting transformers>=4.0.0\n",
            "\u001b[?25l  Downloading https://files.pythonhosted.org/packages/ed/d5/f4157a376b8a79489a76ce6cfe147f4f3be1e029b7144fa7b8432e8acb26/transformers-4.4.2-py3-none-any.whl (2.0MB)\n",
            "\u001b[K     |████████████████████████████████| 2.0MB 18.7MB/s \n",
            "\u001b[?25hCollecting deprecated>=1.2.4\n",
            "  Downloading https://files.pythonhosted.org/packages/fb/73/994edfcba74443146c84b91921fcc269374354118d4f452fb0c54c1cbb12/Deprecated-1.2.12-py2.py3-none-any.whl\n",
            "Requirement already satisfied: torch>=1.5.0 in /usr/local/lib/python3.7/dist-packages (from flair==0.8.0) (1.8.0+cu101)\n",
            "Collecting mpld3==0.3\n",
            "\u001b[?25l  Downloading https://files.pythonhosted.org/packages/91/95/a52d3a83d0a29ba0d6898f6727e9858fe7a43f6c2ce81a5fe7e05f0f4912/mpld3-0.3.tar.gz (788kB)\n",
            "\u001b[K     |████████████████████████████████| 798kB 55.1MB/s \n",
            "\u001b[?25hRequirement already satisfied: tqdm>=4.26.0 in /usr/local/lib/python3.7/dist-packages (from flair==0.8.0) (4.41.1)\n",
            "Requirement already satisfied: tabulate in /usr/local/lib/python3.7/dist-packages (from flair==0.8.0) (0.8.9)\n",
            "Collecting segtok>=1.5.7\n",
            "  Downloading https://files.pythonhosted.org/packages/41/08/582dab5f4b1d5ca23bc6927b4bb977c8ff7f3a87a3b98844ef833e2f5623/segtok-1.5.10.tar.gz\n",
            "Requirement already satisfied: gensim<=3.8.3,>=3.4.0 in /usr/local/lib/python3.7/dist-packages (from flair==0.8.0) (3.6.0)\n",
            "Requirement already satisfied: hyperopt>=0.1.1 in /usr/local/lib/python3.7/dist-packages (from flair==0.8.0) (0.1.2)\n",
            "Collecting ftfy\n",
            "\u001b[?25l  Downloading https://files.pythonhosted.org/packages/04/06/e5c80e2e0f979628d47345efba51f7ba386fe95963b11c594209085f5a9b/ftfy-5.9.tar.gz (66kB)\n",
            "\u001b[K     |████████████████████████████████| 71kB 5.9MB/s \n",
            "\u001b[?25hCollecting bpemb>=0.3.2\n",
            "  Downloading https://files.pythonhosted.org/packages/91/77/3f0f53856e86af32b1d3c86652815277f7b5f880002584eb30db115b6df5/bpemb-0.3.2-py3-none-any.whl\n",
            "Collecting huggingface-hub\n",
            "  Downloading https://files.pythonhosted.org/packages/af/07/bf95f398e6598202d878332280f36e589512174882536eb20d792532a57d/huggingface_hub-0.0.7-py3-none-any.whl\n",
            "Collecting konoha<5.0.0,>=4.0.0\n",
            "  Downloading https://files.pythonhosted.org/packages/02/be/4dd30d56a0a19619deb9bf41ba8202709fa83b1b301b876572cd6dc38117/konoha-4.6.4-py3-none-any.whl\n",
            "Requirement already satisfied: regex in /usr/local/lib/python3.7/dist-packages (from flair==0.8.0) (2019.12.20)\n",
            "Collecting langdetect\n",
            "\u001b[?25l  Downloading https://files.pythonhosted.org/packages/56/a3/8407c1e62d5980188b4acc45ef3d94b933d14a2ebc9ef3505f22cf772570/langdetect-1.0.8.tar.gz (981kB)\n",
            "\u001b[K     |████████████████████████████████| 983kB 55.8MB/s \n",
            "\u001b[?25hCollecting janome\n",
            "\u001b[?25l  Downloading https://files.pythonhosted.org/packages/a8/63/98858cbead27df7536c7e300c169da0999e9704d02220dc6700b804eeff0/Janome-0.4.1-py2.py3-none-any.whl (19.7MB)\n",
            "\u001b[K     |████████████████████████████████| 19.7MB 1.3MB/s \n",
            "\u001b[?25hCollecting sentencepiece==0.1.95\n",
            "\u001b[?25l  Downloading https://files.pythonhosted.org/packages/f5/99/e0808cb947ba10f575839c43e8fafc9cc44e4a7a2c8f79c60db48220a577/sentencepiece-0.1.95-cp37-cp37m-manylinux2014_x86_64.whl (1.2MB)\n",
            "\u001b[K     |████████████████████████████████| 1.2MB 44.8MB/s \n",
            "\u001b[?25hRequirement already satisfied: six>=1.5 in /usr/local/lib/python3.7/dist-packages (from python-dateutil>=2.6.1->flair==0.8.0) (1.15.0)\n",
            "Requirement already satisfied: joblib>=0.11 in /usr/local/lib/python3.7/dist-packages (from scikit-learn>=0.21.3->flair==0.8.0) (1.0.1)\n",
            "Requirement already satisfied: scipy>=0.17.0 in /usr/local/lib/python3.7/dist-packages (from scikit-learn>=0.21.3->flair==0.8.0) (1.4.1)\n",
            "Requirement already satisfied: pyparsing!=2.0.4,!=2.1.2,!=2.1.6,>=2.0.1 in /usr/local/lib/python3.7/dist-packages (from matplotlib>=2.2.3->flair==0.8.0) (2.4.7)\n",
            "Requirement already satisfied: kiwisolver>=1.0.1 in /usr/local/lib/python3.7/dist-packages (from matplotlib>=2.2.3->flair==0.8.0) (1.3.1)\n",
            "Requirement already satisfied: cycler>=0.10 in /usr/local/lib/python3.7/dist-packages (from matplotlib>=2.2.3->flair==0.8.0) (0.10.0)\n",
            "Requirement already satisfied: filelock in /usr/local/lib/python3.7/dist-packages (from gdown==3.12.2->flair==0.8.0) (3.0.12)\n",
            "Requirement already satisfied: requests[socks] in /usr/local/lib/python3.7/dist-packages (from gdown==3.12.2->flair==0.8.0) (2.23.0)\n",
            "Collecting tokenizers<0.11,>=0.10.1\n",
            "\u001b[?25l  Downloading https://files.pythonhosted.org/packages/71/23/2ddc317b2121117bf34dd00f5b0de194158f2a44ee2bf5e47c7166878a97/tokenizers-0.10.1-cp37-cp37m-manylinux2010_x86_64.whl (3.2MB)\n",
            "\u001b[K     |████████████████████████████████| 3.2MB 49.5MB/s \n",
            "\u001b[?25hCollecting sacremoses\n",
            "\u001b[?25l  Downloading https://files.pythonhosted.org/packages/7d/34/09d19aff26edcc8eb2a01bed8e98f13a1537005d31e95233fd48216eed10/sacremoses-0.0.43.tar.gz (883kB)\n",
            "\u001b[K     |████████████████████████████████| 890kB 39.3MB/s \n",
            "\u001b[?25hRequirement already satisfied: importlib-metadata; python_version < \"3.8\" in /usr/local/lib/python3.7/dist-packages (from transformers>=4.0.0->flair==0.8.0) (3.7.2)\n",
            "Requirement already satisfied: packaging in /usr/local/lib/python3.7/dist-packages (from transformers>=4.0.0->flair==0.8.0) (20.9)\n",
            "Requirement already satisfied: wrapt<2,>=1.10 in /usr/local/lib/python3.7/dist-packages (from deprecated>=1.2.4->flair==0.8.0) (1.12.1)\n",
            "Requirement already satisfied: typing-extensions in /usr/local/lib/python3.7/dist-packages (from torch>=1.5.0->flair==0.8.0) (3.7.4.3)\n",
            "Requirement already satisfied: smart-open>=1.2.1 in /usr/local/lib/python3.7/dist-packages (from gensim<=3.8.3,>=3.4.0->flair==0.8.0) (4.2.0)\n",
            "Requirement already satisfied: pymongo in /usr/local/lib/python3.7/dist-packages (from hyperopt>=0.1.1->flair==0.8.0) (3.11.3)\n",
            "Requirement already satisfied: future in /usr/local/lib/python3.7/dist-packages (from hyperopt>=0.1.1->flair==0.8.0) (0.16.0)\n",
            "Requirement already satisfied: networkx in /usr/local/lib/python3.7/dist-packages (from hyperopt>=0.1.1->flair==0.8.0) (2.5)\n",
            "Requirement already satisfied: wcwidth in /usr/local/lib/python3.7/dist-packages (from ftfy->flair==0.8.0) (0.2.5)\n",
            "Collecting overrides<4.0.0,>=3.0.0\n",
            "  Downloading https://files.pythonhosted.org/packages/ff/b1/10f69c00947518e6676bbd43e739733048de64b8dd998e9c2d5a71f44c5d/overrides-3.1.0.tar.gz\n",
            "Requirement already satisfied: idna<3,>=2.5 in /usr/local/lib/python3.7/dist-packages (from requests[socks]->gdown==3.12.2->flair==0.8.0) (2.10)\n",
            "Requirement already satisfied: chardet<4,>=3.0.2 in /usr/local/lib/python3.7/dist-packages (from requests[socks]->gdown==3.12.2->flair==0.8.0) (3.0.4)\n",
            "Requirement already satisfied: certifi>=2017.4.17 in /usr/local/lib/python3.7/dist-packages (from requests[socks]->gdown==3.12.2->flair==0.8.0) (2020.12.5)\n",
            "Requirement already satisfied: urllib3!=1.25.0,!=1.25.1,<1.26,>=1.21.1 in /usr/local/lib/python3.7/dist-packages (from requests[socks]->gdown==3.12.2->flair==0.8.0) (1.24.3)\n",
            "Requirement already satisfied: PySocks!=1.5.7,>=1.5.6; extra == \"socks\" in /usr/local/lib/python3.7/dist-packages (from requests[socks]->gdown==3.12.2->flair==0.8.0) (1.7.1)\n",
            "Requirement already satisfied: click in /usr/local/lib/python3.7/dist-packages (from sacremoses->transformers>=4.0.0->flair==0.8.0) (7.1.2)\n",
            "Requirement already satisfied: zipp>=0.5 in /usr/local/lib/python3.7/dist-packages (from importlib-metadata; python_version < \"3.8\"->transformers>=4.0.0->flair==0.8.0) (3.4.1)\n",
            "Requirement already satisfied: decorator>=4.3.0 in /usr/local/lib/python3.7/dist-packages (from networkx->hyperopt>=0.1.1->flair==0.8.0) (4.4.2)\n",
            "Building wheels for collected packages: gdown\n",
            "  Building wheel for gdown (PEP 517) ... \u001b[?25l\u001b[?25hdone\n",
            "  Created wheel for gdown: filename=gdown-3.12.2-cp37-none-any.whl size=9693 sha256=662b79dec77e08567150633e83515b657519e0ae5c09d65d8d5d47f35dbe382f\n",
            "  Stored in directory: /root/.cache/pip/wheels/81/d0/d7/d9983facc6f2775411803e0e2d30ebf98efbf2fc6e57701e09\n",
            "Successfully built gdown\n",
            "Building wheels for collected packages: sqlitedict, mpld3, segtok, ftfy, langdetect, sacremoses, overrides\n",
            "  Building wheel for sqlitedict (setup.py) ... \u001b[?25l\u001b[?25hdone\n",
            "  Created wheel for sqlitedict: filename=sqlitedict-1.7.0-cp37-none-any.whl size=14376 sha256=52ce7a56df54051aa93b6a99e644ff992778c38e280b5add9e895a0ac4e2365e\n",
            "  Stored in directory: /root/.cache/pip/wheels/cf/c6/4f/2c64a43f041415eb8b8740bd80e15e92f0d46c5e464d8e4b9b\n",
            "  Building wheel for mpld3 (setup.py) ... \u001b[?25l\u001b[?25hdone\n",
            "  Created wheel for mpld3: filename=mpld3-0.3-cp37-none-any.whl size=116679 sha256=2a2dbb393921b491ead4c559e23f042c59c605a93e1645b980701ba38da5ee5a\n",
            "  Stored in directory: /root/.cache/pip/wheels/c0/47/fb/8a64f89aecfe0059830479308ad42d62e898a3e3cefdf6ba28\n",
            "  Building wheel for segtok (setup.py) ... \u001b[?25l\u001b[?25hdone\n",
            "  Created wheel for segtok: filename=segtok-1.5.10-cp37-none-any.whl size=25019 sha256=afe96d3e07dc61e3f74dbb350823812ddfdfa52063fa0d90d9c040762305b44f\n",
            "  Stored in directory: /root/.cache/pip/wheels/b4/39/f6/9ca1c5cabde964d728023b5751c3a206a5c8cc40252321fb6b\n",
            "  Building wheel for ftfy (setup.py) ... \u001b[?25l\u001b[?25hdone\n",
            "  Created wheel for ftfy: filename=ftfy-5.9-cp37-none-any.whl size=46451 sha256=cf9a4c72ce6a7564e9ef29cd7a78643f241c551164bdd99e332a625fefbd4304\n",
            "  Stored in directory: /root/.cache/pip/wheels/5e/2e/f0/b07196e8c929114998f0316894a61c752b63bfa3fdd50d2fc3\n",
            "  Building wheel for langdetect (setup.py) ... \u001b[?25l\u001b[?25hdone\n",
            "  Created wheel for langdetect: filename=langdetect-1.0.8-cp37-none-any.whl size=993193 sha256=84dea82cf082b0d7f98e8615082d6c02def736f185045f2d9e92e7a4434045db\n",
            "  Stored in directory: /root/.cache/pip/wheels/8d/b3/aa/6d99de9f3841d7d3d40a60ea06e6d669e8e5012e6c8b947a57\n",
            "  Building wheel for sacremoses (setup.py) ... \u001b[?25l\u001b[?25hdone\n",
            "  Created wheel for sacremoses: filename=sacremoses-0.0.43-cp37-none-any.whl size=893262 sha256=9584212e23e648dad5408b4b041a7605b8f1b4c7e215a0de583cb713a154f64d\n",
            "  Stored in directory: /root/.cache/pip/wheels/29/3c/fd/7ce5c3f0666dab31a50123635e6fb5e19ceb42ce38d4e58f45\n",
            "  Building wheel for overrides (setup.py) ... \u001b[?25l\u001b[?25hdone\n",
            "  Created wheel for overrides: filename=overrides-3.1.0-cp37-none-any.whl size=10174 sha256=6f2e616782ee6e08445a77596627818bf801fa6b47810dbe35e4af6d279e0058\n",
            "  Stored in directory: /root/.cache/pip/wheels/5c/24/13/6ef8600e6f147c95e595f1289a86a3cc82ed65df57582c65a9\n",
            "Successfully built sqlitedict mpld3 segtok ftfy langdetect sacremoses overrides\n",
            "\u001b[31mERROR: konoha 4.6.4 has requirement requests<3.0.0,>=2.25.1, but you'll have requests 2.23.0 which is incompatible.\u001b[0m\n",
            "Installing collected packages: sqlitedict, gdown, tokenizers, sacremoses, transformers, deprecated, mpld3, segtok, ftfy, sentencepiece, bpemb, huggingface-hub, overrides, konoha, langdetect, janome, flair\n",
            "  Found existing installation: gdown 3.6.4\n",
            "    Uninstalling gdown-3.6.4:\n",
            "      Successfully uninstalled gdown-3.6.4\n",
            "Successfully installed bpemb-0.3.2 deprecated-1.2.12 flair-0.8 ftfy-5.9 gdown-3.12.2 huggingface-hub-0.0.7 janome-0.4.1 konoha-4.6.4 langdetect-1.0.8 mpld3-0.3 overrides-3.1.0 sacremoses-0.0.43 segtok-1.5.10 sentencepiece-0.1.95 sqlitedict-1.7.0 tokenizers-0.10.1 transformers-4.4.2\n",
            "Collecting allennlp==0.9.0\n",
            "\u001b[?25l  Downloading https://files.pythonhosted.org/packages/bb/bb/041115d8bad1447080e5d1e30097c95e4b66e36074277afce8620a61cee3/allennlp-0.9.0-py3-none-any.whl (7.6MB)\n",
            "\u001b[K     |████████████████████████████████| 7.6MB 10.2MB/s \n",
            "\u001b[?25hCollecting gevent>=1.3.6\n",
            "\u001b[?25l  Downloading https://files.pythonhosted.org/packages/3e/85/df3d1fd2b60a87455475f93012861b76a411d27ba4a0859939adbe2c9dc3/gevent-21.1.2-cp37-cp37m-manylinux2010_x86_64.whl (5.6MB)\n",
            "\u001b[K     |████████████████████████████████| 5.6MB 25.5MB/s \n",
            "\u001b[?25hRequirement already satisfied: editdistance in /usr/local/lib/python3.7/dist-packages (from allennlp==0.9.0) (0.5.3)\n",
            "Requirement already satisfied: scikit-learn in /usr/local/lib/python3.7/dist-packages (from allennlp==0.9.0) (0.22.2.post1)\n",
            "Collecting jsonpickle\n",
            "  Downloading https://files.pythonhosted.org/packages/bb/1a/f2db026d4d682303793559f1c2bb425ba3ec0d6fd7ac63397790443f2461/jsonpickle-2.0.0-py2.py3-none-any.whl\n",
            "Collecting word2number>=1.1\n",
            "  Downloading https://files.pythonhosted.org/packages/4a/29/a31940c848521f0725f0df6b25dca8917f13a2025b0e8fcbe5d0457e45e6/word2number-1.1.zip\n",
            "Requirement already satisfied: nltk in /usr/local/lib/python3.7/dist-packages (from allennlp==0.9.0) (3.2.5)\n",
            "Requirement already satisfied: matplotlib>=2.2.3 in /usr/local/lib/python3.7/dist-packages (from allennlp==0.9.0) (3.2.2)\n",
            "Requirement already satisfied: sqlparse>=0.2.4 in /usr/local/lib/python3.7/dist-packages (from allennlp==0.9.0) (0.4.1)\n",
            "Requirement already satisfied: requests>=2.18 in /usr/local/lib/python3.7/dist-packages (from allennlp==0.9.0) (2.23.0)\n",
            "Collecting spacy<2.2,>=2.1.0\n",
            "\u001b[?25l  Downloading https://files.pythonhosted.org/packages/16/f3/554271be8ff46471586d164bfbb6999364ba30ca5a0045e2a86da5f3b2c5/spacy-2.1.9-cp37-cp37m-manylinux1_x86_64.whl (30.8MB)\n",
            "\u001b[K     |████████████████████████████████| 30.8MB 158kB/s \n",
            "\u001b[?25hRequirement already satisfied: ftfy in /usr/local/lib/python3.7/dist-packages (from allennlp==0.9.0) (5.9)\n",
            "Requirement already satisfied: torch>=1.2.0 in /usr/local/lib/python3.7/dist-packages (from allennlp==0.9.0) (1.8.0+cu101)\n",
            "Collecting parsimonious>=0.8.0\n",
            "\u001b[?25l  Downloading https://files.pythonhosted.org/packages/02/fc/067a3f89869a41009e1a7cdfb14725f8ddd246f30f63c645e8ef8a1c56f4/parsimonious-0.8.1.tar.gz (45kB)\n",
            "\u001b[K     |████████████████████████████████| 51kB 4.1MB/s \n",
            "\u001b[?25hCollecting responses>=0.7\n",
            "  Downloading https://files.pythonhosted.org/packages/b1/a1/162c90162e0f4539534b6ce6d723c4c07be8ad38c1cb975d7c63128502e0/responses-0.13.1-py2.py3-none-any.whl\n",
            "Requirement already satisfied: pytz>=2017.3 in /usr/local/lib/python3.7/dist-packages (from allennlp==0.9.0) (2018.9)\n",
            "Collecting flaky\n",
            "  Downloading https://files.pythonhosted.org/packages/43/0e/2f50064e327f41a1eb811df089f813036e19a64b95e33f8e9e0b96c2447e/flaky-3.7.0-py2.py3-none-any.whl\n",
            "Collecting conllu==1.3.1\n",
            "  Downloading https://files.pythonhosted.org/packages/ae/54/b0ae1199f3d01666821b028cd967f7c0ac527ab162af433d3da69242cea2/conllu-1.3.1-py2.py3-none-any.whl\n",
            "Requirement already satisfied: tqdm>=4.19 in /usr/local/lib/python3.7/dist-packages (from allennlp==0.9.0) (4.41.1)\n",
            "Requirement already satisfied: pytest in /usr/local/lib/python3.7/dist-packages (from allennlp==0.9.0) (3.6.4)\n",
            "Collecting jsonnet>=0.10.0; sys_platform != \"win32\"\n",
            "\u001b[?25l  Downloading https://files.pythonhosted.org/packages/42/40/6f16e5ac994b16fa71c24310f97174ce07d3a97b433275589265c6b94d2b/jsonnet-0.17.0.tar.gz (259kB)\n",
            "\u001b[K     |████████████████████████████████| 266kB 55.0MB/s \n",
            "\u001b[?25hRequirement already satisfied: scipy in /usr/local/lib/python3.7/dist-packages (from allennlp==0.9.0) (1.4.1)\n",
            "Requirement already satisfied: overrides in /usr/local/lib/python3.7/dist-packages (from allennlp==0.9.0) (3.1.0)\n",
            "Requirement already satisfied: h5py in /usr/local/lib/python3.7/dist-packages (from allennlp==0.9.0) (2.10.0)\n",
            "Collecting boto3\n",
            "\u001b[?25l  Downloading https://files.pythonhosted.org/packages/57/3d/386cc84db1e57aa7782eed00bcbdb884e496bdb1689c7f4c09a22572846d/boto3-1.17.35-py2.py3-none-any.whl (131kB)\n",
            "\u001b[K     |████████████████████████████████| 133kB 49.7MB/s \n",
            "\u001b[?25hRequirement already satisfied: flask>=1.0.2 in /usr/local/lib/python3.7/dist-packages (from allennlp==0.9.0) (1.1.2)\n",
            "Collecting unidecode\n",
            "\u001b[?25l  Downloading https://files.pythonhosted.org/packages/9e/25/723487ca2a52ebcee88a34d7d1f5a4b80b793f179ee0f62d5371938dfa01/Unidecode-1.2.0-py2.py3-none-any.whl (241kB)\n",
            "\u001b[K     |████████████████████████████████| 245kB 62.7MB/s \n",
            "\u001b[?25hCollecting tensorboardX>=1.2\n",
            "\u001b[?25l  Downloading https://files.pythonhosted.org/packages/af/0c/4f41bcd45db376e6fe5c619c01100e9b7531c55791b7244815bac6eac32c/tensorboardX-2.1-py2.py3-none-any.whl (308kB)\n",
            "\u001b[K     |████████████████████████████████| 317kB 63.3MB/s \n",
            "\u001b[?25hCollecting flask-cors>=3.0.7\n",
            "  Downloading https://files.pythonhosted.org/packages/db/84/901e700de86604b1c4ef4b57110d4e947c218b9997adf5d38fa7da493bce/Flask_Cors-3.0.10-py2.py3-none-any.whl\n",
            "Requirement already satisfied: numpy in /usr/local/lib/python3.7/dist-packages (from allennlp==0.9.0) (1.19.5)\n",
            "Collecting pytorch-pretrained-bert>=0.6.0\n",
            "\u001b[?25l  Downloading https://files.pythonhosted.org/packages/d7/e0/c08d5553b89973d9a240605b9c12404bcf8227590de62bae27acbcfe076b/pytorch_pretrained_bert-0.6.2-py3-none-any.whl (123kB)\n",
            "\u001b[K     |████████████████████████████████| 133kB 40.6MB/s \n",
            "\u001b[?25hCollecting pytorch-transformers==1.1.0\n",
            "\u001b[?25l  Downloading https://files.pythonhosted.org/packages/50/89/ad0d6bb932d0a51793eaabcf1617a36ff530dc9ab9e38f765a35dc293306/pytorch_transformers-1.1.0-py3-none-any.whl (158kB)\n",
            "\u001b[K     |████████████████████████████████| 163kB 38.9MB/s \n",
            "\u001b[?25hCollecting numpydoc>=0.8.0\n",
            "\u001b[?25l  Downloading https://files.pythonhosted.org/packages/60/1d/9e398c53d6ae27d5ab312ddc16a9ffe1bee0dfdf1d6ec88c40b0ca97582e/numpydoc-1.1.0-py3-none-any.whl (47kB)\n",
            "\u001b[K     |████████████████████████████████| 51kB 4.4MB/s \n",
            "\u001b[?25hCollecting greenlet<2.0,>=0.4.17; platform_python_implementation == \"CPython\"\n",
            "\u001b[?25l  Downloading https://files.pythonhosted.org/packages/c6/25/f52f0dde4135833c2f85eae30a749d260231065b46942534df8366d7e1ec/greenlet-1.0.0-cp37-cp37m-manylinux2010_x86_64.whl (160kB)\n",
            "\u001b[K     |████████████████████████████████| 163kB 52.3MB/s \n",
            "\u001b[?25hRequirement already satisfied: setuptools in /usr/local/lib/python3.7/dist-packages (from gevent>=1.3.6->allennlp==0.9.0) (54.1.2)\n",
            "Collecting zope.event\n",
            "  Downloading https://files.pythonhosted.org/packages/9e/85/b45408c64f3b888976f1d5b37eed8d746b8d5729a66a49ec846fda27d371/zope.event-4.5.0-py2.py3-none-any.whl\n",
            "Collecting zope.interface\n",
            "\u001b[?25l  Downloading https://files.pythonhosted.org/packages/89/57/8a68360d697cf9159cba5ee35f2d25bdcda33883e8b5a997714a191a0b11/zope.interface-5.3.0-cp37-cp37m-manylinux2010_x86_64.whl (248kB)\n",
            "\u001b[K     |████████████████████████████████| 256kB 61.8MB/s \n",
            "\u001b[?25hRequirement already satisfied: joblib>=0.11 in /usr/local/lib/python3.7/dist-packages (from scikit-learn->allennlp==0.9.0) (1.0.1)\n",
            "Requirement already satisfied: importlib-metadata; python_version < \"3.8\" in /usr/local/lib/python3.7/dist-packages (from jsonpickle->allennlp==0.9.0) (3.7.2)\n",
            "Requirement already satisfied: six in /usr/local/lib/python3.7/dist-packages (from nltk->allennlp==0.9.0) (1.15.0)\n",
            "Requirement already satisfied: python-dateutil>=2.1 in /usr/local/lib/python3.7/dist-packages (from matplotlib>=2.2.3->allennlp==0.9.0) (2.8.1)\n",
            "Requirement already satisfied: cycler>=0.10 in /usr/local/lib/python3.7/dist-packages (from matplotlib>=2.2.3->allennlp==0.9.0) (0.10.0)\n",
            "Requirement already satisfied: kiwisolver>=1.0.1 in /usr/local/lib/python3.7/dist-packages (from matplotlib>=2.2.3->allennlp==0.9.0) (1.3.1)\n",
            "Requirement already satisfied: pyparsing!=2.0.4,!=2.1.2,!=2.1.6,>=2.0.1 in /usr/local/lib/python3.7/dist-packages (from matplotlib>=2.2.3->allennlp==0.9.0) (2.4.7)\n",
            "Requirement already satisfied: urllib3!=1.25.0,!=1.25.1,<1.26,>=1.21.1 in /usr/local/lib/python3.7/dist-packages (from requests>=2.18->allennlp==0.9.0) (1.24.3)\n",
            "Requirement already satisfied: certifi>=2017.4.17 in /usr/local/lib/python3.7/dist-packages (from requests>=2.18->allennlp==0.9.0) (2020.12.5)\n",
            "Requirement already satisfied: idna<3,>=2.5 in /usr/local/lib/python3.7/dist-packages (from requests>=2.18->allennlp==0.9.0) (2.10)\n",
            "Requirement already satisfied: chardet<4,>=3.0.2 in /usr/local/lib/python3.7/dist-packages (from requests>=2.18->allennlp==0.9.0) (3.0.4)\n",
            "Requirement already satisfied: srsly<1.1.0,>=0.0.6 in /usr/local/lib/python3.7/dist-packages (from spacy<2.2,>=2.1.0->allennlp==0.9.0) (1.0.5)\n",
            "Collecting blis<0.3.0,>=0.2.2\n",
            "\u001b[?25l  Downloading https://files.pythonhosted.org/packages/fa/5f/47b7b29ad202b2210020e2f33bfb06d1db2abe0e709c2a84736e8a9d1bd5/blis-0.2.4-cp37-cp37m-manylinux1_x86_64.whl (3.2MB)\n",
            "\u001b[K     |████████████████████████████████| 3.2MB 44.7MB/s \n",
            "\u001b[?25hCollecting plac<1.0.0,>=0.9.6\n",
            "  Downloading https://files.pythonhosted.org/packages/9e/9b/62c60d2f5bc135d2aa1d8c8a86aaf84edb719a59c7f11a4316259e61a298/plac-0.9.6-py2.py3-none-any.whl\n",
            "Requirement already satisfied: cymem<2.1.0,>=2.0.2 in /usr/local/lib/python3.7/dist-packages (from spacy<2.2,>=2.1.0->allennlp==0.9.0) (2.0.5)\n",
            "Collecting preshed<2.1.0,>=2.0.1\n",
            "\u001b[?25l  Downloading https://files.pythonhosted.org/packages/bc/2b/3ecd5d90d2d6fd39fbc520de7d80db5d74defdc2d7c2e15531d9cc3498c7/preshed-2.0.1-cp37-cp37m-manylinux1_x86_64.whl (82kB)\n",
            "\u001b[K     |████████████████████████████████| 92kB 6.5MB/s \n",
            "\u001b[?25hRequirement already satisfied: wasabi<1.1.0,>=0.2.0 in /usr/local/lib/python3.7/dist-packages (from spacy<2.2,>=2.1.0->allennlp==0.9.0) (0.8.2)\n",
            "Requirement already satisfied: murmurhash<1.1.0,>=0.28.0 in /usr/local/lib/python3.7/dist-packages (from spacy<2.2,>=2.1.0->allennlp==0.9.0) (1.0.5)\n",
            "Collecting thinc<7.1.0,>=7.0.8\n",
            "\u001b[?25l  Downloading https://files.pythonhosted.org/packages/36/42/d7ea7539af3852fd8c1f0b3adf4a100fb3d72b40b69cef1a764ff979a743/thinc-7.0.8-cp37-cp37m-manylinux1_x86_64.whl (2.1MB)\n",
            "\u001b[K     |████████████████████████████████| 2.1MB 44.3MB/s \n",
            "\u001b[?25hRequirement already satisfied: wcwidth in /usr/local/lib/python3.7/dist-packages (from ftfy->allennlp==0.9.0) (0.2.5)\n",
            "Requirement already satisfied: typing-extensions in /usr/local/lib/python3.7/dist-packages (from torch>=1.2.0->allennlp==0.9.0) (3.7.4.3)\n",
            "Requirement already satisfied: py>=1.5.0 in /usr/local/lib/python3.7/dist-packages (from pytest->allennlp==0.9.0) (1.10.0)\n",
            "Requirement already satisfied: attrs>=17.4.0 in /usr/local/lib/python3.7/dist-packages (from pytest->allennlp==0.9.0) (20.3.0)\n",
            "Requirement already satisfied: more-itertools>=4.0.0 in /usr/local/lib/python3.7/dist-packages (from pytest->allennlp==0.9.0) (8.7.0)\n",
            "Requirement already satisfied: atomicwrites>=1.0 in /usr/local/lib/python3.7/dist-packages (from pytest->allennlp==0.9.0) (1.4.0)\n",
            "Requirement already satisfied: pluggy<0.8,>=0.5 in /usr/local/lib/python3.7/dist-packages (from pytest->allennlp==0.9.0) (0.7.1)\n",
            "Collecting jmespath<1.0.0,>=0.7.1\n",
            "  Downloading https://files.pythonhosted.org/packages/07/cb/5f001272b6faeb23c1c9e0acc04d48eaaf5c862c17709d20e3469c6e0139/jmespath-0.10.0-py2.py3-none-any.whl\n",
            "Collecting s3transfer<0.4.0,>=0.3.0\n",
            "\u001b[?25l  Downloading https://files.pythonhosted.org/packages/98/14/0b4be62b65c52d6d1c442f24e02d2a9889a73d3c352002e14c70f84a679f/s3transfer-0.3.6-py2.py3-none-any.whl (73kB)\n",
            "\u001b[K     |████████████████████████████████| 81kB 5.3MB/s \n",
            "\u001b[?25hCollecting botocore<1.21.0,>=1.20.35\n",
            "\u001b[?25l  Downloading https://files.pythonhosted.org/packages/82/1d/e6ea5f2f856262415eb252b035fdb3524eeff4bb27864f7363a9bce5439f/botocore-1.20.35-py2.py3-none-any.whl (7.3MB)\n",
            "\u001b[K     |████████████████████████████████| 7.3MB 44.5MB/s \n",
            "\u001b[?25hRequirement already satisfied: click>=5.1 in /usr/local/lib/python3.7/dist-packages (from flask>=1.0.2->allennlp==0.9.0) (7.1.2)\n",
            "Requirement already satisfied: Werkzeug>=0.15 in /usr/local/lib/python3.7/dist-packages (from flask>=1.0.2->allennlp==0.9.0) (1.0.1)\n",
            "Requirement already satisfied: itsdangerous>=0.24 in /usr/local/lib/python3.7/dist-packages (from flask>=1.0.2->allennlp==0.9.0) (1.1.0)\n",
            "Requirement already satisfied: Jinja2>=2.10.1 in /usr/local/lib/python3.7/dist-packages (from flask>=1.0.2->allennlp==0.9.0) (2.11.3)\n",
            "Requirement already satisfied: protobuf>=3.8.0 in /usr/local/lib/python3.7/dist-packages (from tensorboardX>=1.2->allennlp==0.9.0) (3.12.4)\n",
            "Requirement already satisfied: regex in /usr/local/lib/python3.7/dist-packages (from pytorch-pretrained-bert>=0.6.0->allennlp==0.9.0) (2019.12.20)\n",
            "Requirement already satisfied: sentencepiece in /usr/local/lib/python3.7/dist-packages (from pytorch-transformers==1.1.0->allennlp==0.9.0) (0.1.95)\n",
            "Requirement already satisfied: sphinx>=1.6.5 in /usr/local/lib/python3.7/dist-packages (from numpydoc>=0.8.0->allennlp==0.9.0) (1.8.5)\n",
            "Requirement already satisfied: zipp>=0.5 in /usr/local/lib/python3.7/dist-packages (from importlib-metadata; python_version < \"3.8\"->jsonpickle->allennlp==0.9.0) (3.4.1)\n",
            "Requirement already satisfied: MarkupSafe>=0.23 in /usr/local/lib/python3.7/dist-packages (from Jinja2>=2.10.1->flask>=1.0.2->allennlp==0.9.0) (1.1.1)\n",
            "Requirement already satisfied: snowballstemmer>=1.1 in /usr/local/lib/python3.7/dist-packages (from sphinx>=1.6.5->numpydoc>=0.8.0->allennlp==0.9.0) (2.1.0)\n",
            "Requirement already satisfied: docutils>=0.11 in /usr/local/lib/python3.7/dist-packages (from sphinx>=1.6.5->numpydoc>=0.8.0->allennlp==0.9.0) (0.16)\n",
            "Requirement already satisfied: packaging in /usr/local/lib/python3.7/dist-packages (from sphinx>=1.6.5->numpydoc>=0.8.0->allennlp==0.9.0) (20.9)\n",
            "Requirement already satisfied: sphinxcontrib-websupport in /usr/local/lib/python3.7/dist-packages (from sphinx>=1.6.5->numpydoc>=0.8.0->allennlp==0.9.0) (1.2.4)\n",
            "Requirement already satisfied: alabaster<0.8,>=0.7 in /usr/local/lib/python3.7/dist-packages (from sphinx>=1.6.5->numpydoc>=0.8.0->allennlp==0.9.0) (0.7.12)\n",
            "Requirement already satisfied: Pygments>=2.0 in /usr/local/lib/python3.7/dist-packages (from sphinx>=1.6.5->numpydoc>=0.8.0->allennlp==0.9.0) (2.6.1)\n",
            "Requirement already satisfied: imagesize in /usr/local/lib/python3.7/dist-packages (from sphinx>=1.6.5->numpydoc>=0.8.0->allennlp==0.9.0) (1.2.0)\n",
            "Requirement already satisfied: babel!=2.0,>=1.3 in /usr/local/lib/python3.7/dist-packages (from sphinx>=1.6.5->numpydoc>=0.8.0->allennlp==0.9.0) (2.9.0)\n",
            "Requirement already satisfied: sphinxcontrib-serializinghtml in /usr/local/lib/python3.7/dist-packages (from sphinxcontrib-websupport->sphinx>=1.6.5->numpydoc>=0.8.0->allennlp==0.9.0) (1.1.4)\n",
            "Building wheels for collected packages: word2number, parsimonious, jsonnet\n",
            "  Building wheel for word2number (setup.py) ... \u001b[?25l\u001b[?25hdone\n",
            "  Created wheel for word2number: filename=word2number-1.1-cp37-none-any.whl size=5589 sha256=9e555c7d296b0bd7446dfb8c8af9bcfe44c52d1880663f09169e1cd9468849fa\n",
            "  Stored in directory: /root/.cache/pip/wheels/46/2f/53/5f5c1d275492f2fce1cdab9a9bb12d49286dead829a4078e0e\n",
            "  Building wheel for parsimonious (setup.py) ... \u001b[?25l\u001b[?25hdone\n",
            "  Created wheel for parsimonious: filename=parsimonious-0.8.1-cp37-none-any.whl size=42711 sha256=473caf66926b15665c5ea2ee61b28a8cef235eae1753a3d008cc20e6dc3e14a3\n",
            "  Stored in directory: /root/.cache/pip/wheels/b7/8d/e7/a0e74217da5caeb3c1c7689639b6d28ddbf9985b840bc96a9a\n",
            "  Building wheel for jsonnet (setup.py) ... \u001b[?25l\u001b[?25hdone\n",
            "  Created wheel for jsonnet: filename=jsonnet-0.17.0-cp37-cp37m-linux_x86_64.whl size=3388783 sha256=238230ea6111faf5506fa132a4200d5a8eaef3523e25a924070d37556e2db059\n",
            "  Stored in directory: /root/.cache/pip/wheels/26/7a/37/7dbcc30a6b4efd17b91ad1f0128b7bbf84813bd4e1cfb8c1e3\n",
            "Successfully built word2number parsimonious jsonnet\n",
            "\u001b[31mERROR: en-core-web-sm 2.2.5 has requirement spacy>=2.2.2, but you'll have spacy 2.1.9 which is incompatible.\u001b[0m\n",
            "\u001b[31mERROR: responses 0.13.1 has requirement urllib3>=1.25.10, but you'll have urllib3 1.24.3 which is incompatible.\u001b[0m\n",
            "\u001b[31mERROR: botocore 1.20.35 has requirement urllib3<1.27,>=1.25.4, but you'll have urllib3 1.24.3 which is incompatible.\u001b[0m\n",
            "Installing collected packages: greenlet, zope.event, zope.interface, gevent, jsonpickle, word2number, blis, plac, preshed, thinc, spacy, parsimonious, responses, flaky, conllu, jsonnet, jmespath, botocore, s3transfer, boto3, unidecode, tensorboardX, flask-cors, pytorch-pretrained-bert, pytorch-transformers, numpydoc, allennlp\n",
            "  Found existing installation: blis 0.4.1\n",
            "    Uninstalling blis-0.4.1:\n",
            "      Successfully uninstalled blis-0.4.1\n",
            "  Found existing installation: plac 1.1.3\n",
            "    Uninstalling plac-1.1.3:\n",
            "      Successfully uninstalled plac-1.1.3\n",
            "  Found existing installation: preshed 3.0.5\n",
            "    Uninstalling preshed-3.0.5:\n",
            "      Successfully uninstalled preshed-3.0.5\n",
            "  Found existing installation: thinc 7.4.0\n",
            "    Uninstalling thinc-7.4.0:\n",
            "      Successfully uninstalled thinc-7.4.0\n",
            "  Found existing installation: spacy 2.2.4\n",
            "    Uninstalling spacy-2.2.4:\n",
            "      Successfully uninstalled spacy-2.2.4\n",
            "Successfully installed allennlp-0.9.0 blis-0.2.4 boto3-1.17.35 botocore-1.20.35 conllu-1.3.1 flaky-3.7.0 flask-cors-3.0.10 gevent-21.1.2 greenlet-1.0.0 jmespath-0.10.0 jsonnet-0.17.0 jsonpickle-2.0.0 numpydoc-1.1.0 parsimonious-0.8.1 plac-0.9.6 preshed-2.0.1 pytorch-pretrained-bert-0.6.2 pytorch-transformers-1.1.0 responses-0.13.1 s3transfer-0.3.6 spacy-2.1.9 tensorboardX-2.1 thinc-7.0.8 unidecode-1.2.0 word2number-1.1 zope.event-4.5.0 zope.interface-5.3.0\n"
          ],
          "name": "stdout"
        },
        {
          "output_type": "display_data",
          "data": {
            "application/vnd.colab-display-data+json": {
              "pip_warning": {
                "packages": [
                  "blis",
                  "plac",
                  "plac_core",
                  "plac_ext",
                  "preshed",
                  "spacy",
                  "thinc"
                ]
              }
            }
          },
          "metadata": {
            "tags": []
          }
        }
      ]
    },
    {
      "cell_type": "code",
      "metadata": {
        "id": "useFNFXmZ8M-"
      },
      "source": [
        "# Preparing the sentences [do not change!]\n",
        "sentence_1 = \"She went for a walk in the park by the river bank\"\n",
        "sentence_2 = \"The woman went strolling on the grass next to the stream\""
      ],
      "execution_count": 15,
      "outputs": []
    },
    {
      "cell_type": "markdown",
      "metadata": {
        "id": "QVMPb5NRQp-5"
      },
      "source": [
        "### Q5.1: Calculate Cosine Similarity [2 marks]\n",
        "Create a function called `get_similarity` which calculates the cosine similarity between two word embeddings as a score between `0` and `1`. You may use any libraries you like to support this.\n"
      ]
    },
    {
      "cell_type": "code",
      "metadata": {
        "id": "KiqIBk7qaqO8",
        "colab": {
          "base_uri": "https://localhost:8080/"
        },
        "outputId": "fb206447-d94d-45bf-8d86-b482039d4a7a"
      },
      "source": [
        "#TODO: complete the function below\n",
        "def get_similarity(embedding_1:np.array, embedding_2:np.array) -> float:\n",
        "  return float(cosine_similarity(embedding_1.reshape(1, -1), embedding_2.reshape(1, -1)))\n",
        "  \n",
        "  # cos_sim = np.dot(embedding_1, embedding_2.T)/(np.linalg.norm(embedding_1)*np.linalg.norm(embedding_2))\n",
        "  # return cos_sim\n",
        "\n",
        "\n",
        "  # cos_sim = dot(embedding_1,embedding_2)/(norm(embedding_1)*norm(embedding_2))\n",
        "  # return cos_sim \n",
        "\n",
        "  \n",
        "  \n",
        "  \n",
        " \n",
        "\n",
        "embedding_1 = np.array([1, 1, 1, 1, 0, 0])\n",
        "embedding_2 = np.array([0, 1, 1, 0, 1, 0])\n",
        "print(get_similarity(embedding_1, embedding_2))  # should print 0.57735...\n",
        "print(get_similarity(embedding_2, embedding_1))  # should print 0.57757..."
      ],
      "execution_count": 16,
      "outputs": [
        {
          "output_type": "stream",
          "text": [
            "0.5773502691896258\n",
            "0.5773502691896258\n"
          ],
          "name": "stdout"
        }
      ]
    },
    {
      "cell_type": "markdown",
      "metadata": {
        "id": "tl_kRz9UQp8E"
      },
      "source": [
        "### Q5.2: Calculate the similarity between TFIDF representations [2 marks]\n",
        "Obtain TFIDF representations for the two sentences (treat the two as your corpus). Calculate the cosine similarity between the two and store it in a variable called `similarity_tfidf`.\n"
      ]
    },
    {
      "cell_type": "code",
      "metadata": {
        "id": "X4ijk_BZI6Sh",
        "colab": {
          "base_uri": "https://localhost:8080/"
        },
        "outputId": "8874eb01-266f-4e2b-9867-ad24753af445"
      },
      "source": [
        "#TODO: your code goes here\n",
        "vectorizer = TfidfVectorizer()\n",
        "corpus = [sentence_1, sentence_2]\n",
        "embedding = vectorizer.fit_transform(corpus)\n",
        "similarity_tfidf = get_similarity(embedding[0], embedding[1])\n",
        "print(similarity_tfidf)"
      ],
      "execution_count": 17,
      "outputs": [
        {
          "output_type": "stream",
          "text": [
            "0.31441335589027025\n"
          ],
          "name": "stdout"
        }
      ]
    },
    {
      "cell_type": "markdown",
      "metadata": {
        "id": "f3BdW2PZeB74"
      },
      "source": [
        "### Q5.3: Calculate the similarity between mean GloVe embeddings [2 marks]\n",
        "Obtain GloVe embeddings for the two sentences (use the mean of the GloVe word embeddings as the sentence representations). Calculate the cosine similarity between the two and store it in a variable called `similarity_glove`.\n"
      ]
    },
    {
      "cell_type": "code",
      "metadata": {
        "id": "CfgDwVKXI6Pz",
        "colab": {
          "base_uri": "https://localhost:8080/"
        },
        "outputId": "11af07b1-d227-4a00-e8f0-f14c03ad615f"
      },
      "source": [
        "#TODO: your code goes here\n",
        "\n",
        "glove = WordEmbeddings('GloVe')\n",
        "sent_1 = flair.data.Sentence(sentence_1)\n",
        "sent_2 = flair.data.Sentence(sentence_2)\n",
        "\n",
        "glove.embed(sent_1)\n",
        "glove.embed(sent_2)\n",
        "\n",
        "\n",
        "embedding_1 = []\n",
        "embedding_2 = []\n",
        "for token in sent_1:\n",
        "    embedding_1.append(token.embedding.mean())\n",
        "\n",
        "for token in sent_2:\n",
        "    embedding_2.append(token.embedding.mean())\n",
        "\n",
        "embedding_1 = np.array(embedding_1)\n",
        "embedding_2 = np.array(embedding_2 + [0])\n",
        "\n",
        "\n",
        "\n",
        "\n",
        "similarity_glove = get_similarity(embedding_1, embedding_2)\n",
        "print(similarity_glove)\n"
      ],
      "execution_count": 18,
      "outputs": [
        {
          "output_type": "stream",
          "text": [
            "2021-03-23 20:01:16,008 https://flair.informatik.hu-berlin.de/resources/embeddings/token/glove.gensim.vectors.npy not found in cache, downloading to /tmp/tmpt0vk9cd0\n"
          ],
          "name": "stdout"
        },
        {
          "output_type": "stream",
          "text": [
            "100%|██████████| 160000128/160000128 [00:04<00:00, 38330458.94B/s]"
          ],
          "name": "stderr"
        },
        {
          "output_type": "stream",
          "text": [
            "2021-03-23 20:01:20,269 copying /tmp/tmpt0vk9cd0 to cache at /root/.flair/embeddings/glove.gensim.vectors.npy\n"
          ],
          "name": "stdout"
        },
        {
          "output_type": "stream",
          "text": [
            "\n"
          ],
          "name": "stderr"
        },
        {
          "output_type": "stream",
          "text": [
            "2021-03-23 20:01:20,515 removing temp file /tmp/tmpt0vk9cd0\n",
            "2021-03-23 20:01:20,872 https://flair.informatik.hu-berlin.de/resources/embeddings/token/glove.gensim not found in cache, downloading to /tmp/tmpfkyftiap\n"
          ],
          "name": "stdout"
        },
        {
          "output_type": "stream",
          "text": [
            "100%|██████████| 21494764/21494764 [00:00<00:00, 32866621.40B/s]"
          ],
          "name": "stderr"
        },
        {
          "output_type": "stream",
          "text": [
            "2021-03-23 20:01:21,599 copying /tmp/tmpfkyftiap to cache at /root/.flair/embeddings/glove.gensim\n",
            "2021-03-23 20:01:21,630 removing temp file /tmp/tmpfkyftiap\n"
          ],
          "name": "stdout"
        },
        {
          "output_type": "stream",
          "text": [
            "\n"
          ],
          "name": "stderr"
        },
        {
          "output_type": "stream",
          "text": [
            "-0.05504035622074767\n"
          ],
          "name": "stdout"
        }
      ]
    },
    {
      "cell_type": "markdown",
      "metadata": {
        "id": "bcJ5vL9_flGp"
      },
      "source": [
        "### Q5.4: Calculate the similarity between mean ELMo embeddings [2 marks]\n",
        "Obtain ELMo embeddings (use the `small` version in `flair`) for the two sentences (use the mean of the ELMo word embeddings as the sentence representations). Calculate the cosine similarity between the two and store it in a variable called `similarity_elmo`.\n"
      ]
    },
    {
      "cell_type": "code",
      "metadata": {
        "id": "-BgdFnMqI6I1",
        "colab": {
          "base_uri": "https://localhost:8080/"
        },
        "outputId": "94959cd6-42f7-495d-e242-7990e4e2d82e"
      },
      "source": [
        "#TODO: your code goes here\n",
        " \n",
        "\n",
        "elmo = ELMoEmbeddings('small')\n",
        "elmo_sent_1 = flair.data.Sentence(sentence_1)\n",
        "elmo_sent_2 = flair.data.Sentence(sentence_2)\n",
        "\n",
        "elmo.embed(elmo_sent_1)\n",
        "elmo.embed(elmo_sent_2)\n",
        "\n",
        "\n",
        "elmo_embedding_1 = []\n",
        "for token in elmo_sent_1:\n",
        "    elmo_embedding_1.append(token.embedding.mean())\n",
        "\n",
        "elmo_embedding_2 = []\n",
        "for token in elmo_sent_2:\n",
        "    elmo_embedding_2.append(token.embedding.mean())\n",
        "\n",
        "elmo_embedding_1 = np.array(elmo_embedding_1)\n",
        "elmo_embedding_2 = np.array(elmo_embedding_2 + [0])\n",
        "\n",
        "\n",
        "similarity_elmo = get_similarity(elmo_embedding_1, elmo_embedding_2)\n",
        "print(similarity_elmo)\n",
        "\n",
        "\n",
        "\n",
        "\n"
      ],
      "execution_count": 19,
      "outputs": [
        {
          "output_type": "stream",
          "text": [
            "100%|██████████| 336/336 [00:00<00:00, 314572.80B/s]\n",
            "100%|██████████| 54402456/54402456 [00:05<00:00, 10667073.14B/s]\n"
          ],
          "name": "stderr"
        },
        {
          "output_type": "stream",
          "text": [
            "0.5610835443355856\n"
          ],
          "name": "stdout"
        }
      ]
    },
    {
      "cell_type": "markdown",
      "metadata": {
        "id": "w0YCoTaXid1x"
      },
      "source": [
        "### Q5.5: Calculate the similarity between BERT document embeddings [2 marks]\n",
        "Obtain BERT **document** embeddings (use the `bert-base-uncased` model) for the two sentences (note that we are no longer doing mean pooling for this question). Calculate the cosine similarity between the two and store it in a variable called `similarity_bert`.\n"
      ]
    },
    {
      "cell_type": "code",
      "metadata": {
        "id": "49SRk_8HI6Fw",
        "colab": {
          "base_uri": "https://localhost:8080/",
          "height": 279,
          "referenced_widgets": [
            "3303af56bd7a4218ba2a1229e1dada2d",
            "5adb70b042f0410ab0f521f2eb67c4c7",
            "5750da95ed88413888febdf046fd76ed",
            "23d357f4188b491381d9efe91ff9a979",
            "131e0fc2c49244a9b1652b173376dbf5",
            "4da8a092f9984763a4cce4aa037a5944",
            "73e46508629844b1888f163847d6cff5",
            "29ed5ca672bb45e38e4e858b28406d64",
            "93b8fd37fcfc4d83b6e75dfc56a729b8",
            "b7fb7cf1c0174d6c92c05d0091d6b067",
            "af13ce49a0574a25ac7f0c3f0c6a85ee",
            "71fc53591fbd45a886914872da790404",
            "ed6cef883d5e45888123c7a55b4ef93a",
            "5ecc219d60c34d468ae57d812553b444",
            "de36d9fa9ec347b68cd4c0e2968093d7",
            "a04000e07f1a4bd9ae53d769436afab9",
            "31cba671b0624e1684e610a70559c3bc",
            "b724a77f66cd4aa7acdb922978fed460",
            "45e7e956a6f749058e9becc7bcc0dea8",
            "168b38ff6f00470f9e2ba0cb7406e863",
            "3c6ac90d2eff4720b45c585070d06ecc",
            "9777082268ea4a2b9301f4c645e7aa9a",
            "c98fde75a55e4fa28f067330ff7352ce",
            "c977db98341d4d458a5d20f9eaca7bc7",
            "1467a5a29da84d7ea0ddf9754df07d9e",
            "c4ad212d64ef4e609f0e900aaa5a1b16",
            "c4eb4ae9263740cd9b7f2af092431889",
            "af3299f2eb59490fafd3eeae125e5a8c",
            "ec4475c4c543406481155a97c33ac986",
            "0cfea845e1614863ad1dea713111a0b7",
            "7987488b787a46dc8b735b61a4483d6c",
            "e29a7450a370441491b3ed4b4ec428d5",
            "c1c28ef85d3848dd957aa11a4db87493",
            "3d9c600be1944a2fb3be9cce72be98b0",
            "9b72783634bb4e4e8b7fab393d9c2fa3",
            "d1e1d010e0454caba1001441b468670f",
            "82c1264f4e6344adae6701d48db89485",
            "90790e2479ad4d7994307199d36d2448",
            "65f733227f4948968506cad02a64d0ad",
            "d9777cafb1a6432081cc645b0e62f272"
          ]
        },
        "outputId": "a6180f0a-7f1c-44d6-c018-334a462cfcd1"
      },
      "source": [
        "#TODO: your code goes here\n",
        "bert = TransformerWordEmbeddings('bert-base-uncased')\n",
        "sent_1 = flair.data.Sentence(sentence_1)\n",
        "sent_2 = flair.data.Sentence(sentence_2)\n",
        "\n",
        "bert.embed(sent_1)\n",
        "bert.embed(sent_2)\n",
        "\n",
        "\n",
        "embedding_1 = []\n",
        "embedding_2 = []\n",
        "for token in sent_1:\n",
        "    embedding_1.append(token.embedding.mean())\n",
        "\n",
        "for token in sent_2:\n",
        "    embedding_2.append(token.embedding.mean())\n",
        "\n",
        "\n",
        "embedding_1 = np.array(embedding_1)\n",
        "embedding_2 = np.array(embedding_2 + [0])\n",
        "\n",
        "\n",
        "similarity_bert = get_similarity(embedding_1, embedding_2)\n",
        "print(similarity_bert)"
      ],
      "execution_count": 20,
      "outputs": [
        {
          "output_type": "display_data",
          "data": {
            "application/vnd.jupyter.widget-view+json": {
              "model_id": "3303af56bd7a4218ba2a1229e1dada2d",
              "version_minor": 0,
              "version_major": 2
            },
            "text/plain": [
              "HBox(children=(FloatProgress(value=0.0, description='Downloading', max=433.0, style=ProgressStyle(description_…"
            ]
          },
          "metadata": {
            "tags": []
          }
        },
        {
          "output_type": "stream",
          "text": [
            "\n"
          ],
          "name": "stdout"
        },
        {
          "output_type": "display_data",
          "data": {
            "application/vnd.jupyter.widget-view+json": {
              "model_id": "93b8fd37fcfc4d83b6e75dfc56a729b8",
              "version_minor": 0,
              "version_major": 2
            },
            "text/plain": [
              "HBox(children=(FloatProgress(value=0.0, description='Downloading', max=231508.0, style=ProgressStyle(descripti…"
            ]
          },
          "metadata": {
            "tags": []
          }
        },
        {
          "output_type": "stream",
          "text": [
            "\n"
          ],
          "name": "stdout"
        },
        {
          "output_type": "display_data",
          "data": {
            "application/vnd.jupyter.widget-view+json": {
              "model_id": "31cba671b0624e1684e610a70559c3bc",
              "version_minor": 0,
              "version_major": 2
            },
            "text/plain": [
              "HBox(children=(FloatProgress(value=0.0, description='Downloading', max=466062.0, style=ProgressStyle(descripti…"
            ]
          },
          "metadata": {
            "tags": []
          }
        },
        {
          "output_type": "stream",
          "text": [
            "\n"
          ],
          "name": "stdout"
        },
        {
          "output_type": "display_data",
          "data": {
            "application/vnd.jupyter.widget-view+json": {
              "model_id": "1467a5a29da84d7ea0ddf9754df07d9e",
              "version_minor": 0,
              "version_major": 2
            },
            "text/plain": [
              "HBox(children=(FloatProgress(value=0.0, description='Downloading', max=28.0, style=ProgressStyle(description_w…"
            ]
          },
          "metadata": {
            "tags": []
          }
        },
        {
          "output_type": "stream",
          "text": [
            "\n"
          ],
          "name": "stdout"
        },
        {
          "output_type": "display_data",
          "data": {
            "application/vnd.jupyter.widget-view+json": {
              "model_id": "c1c28ef85d3848dd957aa11a4db87493",
              "version_minor": 0,
              "version_major": 2
            },
            "text/plain": [
              "HBox(children=(FloatProgress(value=0.0, description='Downloading', max=440473133.0, style=ProgressStyle(descri…"
            ]
          },
          "metadata": {
            "tags": []
          }
        },
        {
          "output_type": "stream",
          "text": [
            "\n",
            "0.9356291639429436\n"
          ],
          "name": "stdout"
        }
      ]
    },
    {
      "cell_type": "markdown",
      "metadata": {
        "id": "GuPg7dPKjnav"
      },
      "source": [
        "### Q5.6: Analysis [5 marks]\n",
        "Experiment with different sentences. Compare and contrast - for example, what can you say about comparing similarities when using different representations? What about when using the same representation type (e.g. GloVe) but using different sentences? If you had to build a text similarity system, what would you propose using?\n",
        "\n",
        "Report on your findings below."
      ]
    },
    {
      "cell_type": "markdown",
      "metadata": {
        "id": "tdCXG8XrZ-P-"
      },
      "source": [
        "\n",
        "With the use of different sentences, we can see the stark difference in similarity scores within some representation types.\n",
        "\n",
        "- The TFDIF cosine similarity score decreases compared to the similarity  previous sentences. The score decreases from 0.3144 to 0.2244.\n",
        "\n",
        "- The Glove representation type for these two sentences changes dramatically to the previous sentences and has a similarity of 0.9356, compared to -0.055.\n",
        "\n",
        "- The BERT similarity score remains high at 0.9356 when compared to the score induced from the previous two sentences. \n",
        "\n",
        "- The ELMO similarity score remains near the same value induced from the previous sentences at 0.5775. \n",
        "\n",
        "To conclude, when building a text similarity system, I would propose using BERT embeddings. Firstly because BERT models cant use GloVe embeddings due to its segmentation of its input into subword units. Whereas GloVe utilises traditional word-like tokens. \n",
        "\n",
        "Secondly, BERT generates word embeddings for a word that captures the context of a word based on its position in a sentence, wheras GloVe word embeddings are context independent and output just one vector. \n",
        "\n",
        "\n",
        "\n",
        "\n",
        "\n"
      ]
    },
    {
      "cell_type": "code",
      "metadata": {
        "id": "H7kNx6Z8GlFU"
      },
      "source": [
        "# Preparing the new sentences \n",
        "sentence_3 = \"He bought a coffee to avoid doing his work\"\n",
        "sentence_4 = \"He went to a cafe to waste time\""
      ],
      "execution_count": 21,
      "outputs": []
    },
    {
      "cell_type": "code",
      "metadata": {
        "colab": {
          "base_uri": "https://localhost:8080/"
        },
        "id": "E9NGJtNVG530",
        "outputId": "0614ea89-572e-48fc-f05c-ca6020f928bf"
      },
      "source": [
        "#TFIDF\n",
        "vectorizer = TfidfVectorizer()\n",
        "corpus = [sentence_3, sentence_4]\n",
        "embedding = vectorizer.fit_transform(corpus)\n",
        "similarity_tfidf = get_similarity(embedding[0], embedding[1])\n",
        "print(similarity_tfidf)\n",
        "\n",
        "#Glove\n",
        "glove = WordEmbeddings('GloVe')\n",
        "sent_3 = flair.data.Sentence(sentence_3)\n",
        "sent_4 = flair.data.Sentence(sentence_4)\n",
        "glove.embed(sent_3)\n",
        "glove.embed(sent_4)\n",
        "\n",
        "embedding_3 = []\n",
        "embedding_4 = []\n",
        "for token in sent_1:\n",
        "    embedding_3.append(token.embedding.mean())\n",
        "\n",
        "for token in sent_2:\n",
        "    embedding_4.append(token.embedding.mean())\n",
        "\n",
        "embedding_3 = np.array(embedding_3)\n",
        "embedding_4 = np.array(embedding_4 + [0])\n",
        "\n",
        "similarity_glove = get_similarity(embedding_3, embedding_4)\n",
        "print(similarity_glove)\n",
        "\n",
        "\n",
        "#BERT\n",
        "bert = TransformerWordEmbeddings('bert-base-uncased')\n",
        "sent_3 = flair.data.Sentence(sentence_3)\n",
        "sent_4 = flair.data.Sentence(sentence_4)\n",
        "\n",
        "bert.embed(sent_3)\n",
        "bert.embed(sent_4)\n",
        "\n",
        "\n",
        "embedding_3 = []\n",
        "embedding_4 = []\n",
        "for token in sent_3:\n",
        "    embedding_3.append(token.embedding.mean())\n",
        "\n",
        "for token in sent_4:\n",
        "    embedding_4.append(token.embedding.mean())\n",
        "\n",
        "\n",
        "embedding_3 = np.array(embedding_3)\n",
        "embedding_4 = np.array(embedding_4 + [0])\n",
        "\n",
        "\n",
        "similarity_bert = get_similarity(embedding_3, embedding_4)\n",
        "print(similarity_bert)\n",
        "\n",
        "\n",
        "#ELMO\n",
        "\n",
        "elmo = ELMoEmbeddings('small')\n",
        "elmo_sent_3 = flair.data.Sentence(sentence_3)\n",
        "elmo_sent_4 = flair.data.Sentence(sentence_4)\n",
        "\n",
        "elmo.embed(elmo_sent_3)\n",
        "elmo.embed(elmo_sent_4)\n",
        "\n",
        "\n",
        "elmo_embedding_3 = []\n",
        "for token in elmo_sent_3:\n",
        "    elmo_embedding_3.append(token.embedding.mean())\n",
        "\n",
        "elmo_embedding_4 = []\n",
        "for token in elmo_sent_4:\n",
        "    elmo_embedding_4.append(token.embedding.mean())\n",
        "\n",
        "elmo_embedding_3 = np.array(elmo_embedding_3)\n",
        "elmo_embedding_4 = np.array(elmo_embedding_4 + [0])\n",
        "\n",
        "\n",
        "similarity_elmo = get_similarity(elmo_embedding_3, elmo_embedding_4)\n",
        "print(similarity_elmo)"
      ],
      "execution_count": 22,
      "outputs": [
        {
          "output_type": "stream",
          "text": [
            "0.22441294385136584\n",
            "0.9356291639429436\n",
            "0.9394384905438842\n",
            "0.5775533865492557\n"
          ],
          "name": "stdout"
        }
      ]
    },
    {
      "cell_type": "markdown",
      "metadata": {
        "id": "Te4a0ZgakHrv"
      },
      "source": [
        "<hr />"
      ]
    },
    {
      "cell_type": "markdown",
      "metadata": {
        "id": "_z43sx3QkVLa"
      },
      "source": [
        "## Q6: Modelling in PyTorch [20 marks]\n",
        "Put your knowledge to the test! Implement an MLP in any ML library (we'd recommend PyTorch - refer to the lecture slides) on the SST-2 dataset which is already loaded into this notebook (refer to question 2).\n",
        "\n",
        "### Your tasks include:\n",
        "1. Optimize your model for best performance on the validation set\n",
        "1. Show a plot of your model training and validation loss during training\n",
        "1. Show a plot of your model training and validation accuracy during training\n",
        "1. Explain where you might want to stop the model training and why\n",
        "1. Provide your model's best accuracy on the test set\n",
        "1. Perform an error analysis and compare to the models investigated in **question 2**\n",
        "\n",
        "Make sure to explain the steps you went through and your observations."
      ]
    },
    {
      "cell_type": "markdown",
      "metadata": {
        "id": "BZJV2Pl9DzFb"
      },
      "source": [
        "**Answer**\n",
        "\n",
        "The best performance of the model on the validations set was 77.52% accuracy. The model induced a test accuracy score of 75.23%. \n",
        "\n",
        "The plots, at in the output of the cell below, show that the optimal time to stop training woul dbe after the 6th epoc. This is because at the 6th epoc, the validation loss begins to increase, and it is in close proximity to the point at which the validation accuracy is the highest. "
      ]
    },
    {
      "cell_type": "code",
      "metadata": {
        "id": "bna0Kb1eWPeq"
      },
      "source": [
        "# Define where the data is located\n",
        "\n",
        "path_train = \"https://drive.google.com/uc?id=1IsO72aOzjx-6eu2Z5VOaXZBShatNxBaj\"\n",
        "path_dev = \"https://drive.google.com/uc?id=1tUiTEzR14wmYTdr0mYEKaDbj9-pN05-u\"\n",
        "\n",
        "# Load in the train and dev data\n",
        "df_train = pd.read_csv(path_train, sep='\\t')\n",
        "df_dev_orig = pd.read_csv(path_dev, sep='\\t')\n",
        "df_dev, df_test = train_test_split(df_dev_orig, test_size=0.5, shuffle=True, random_state=RAND_SEED)\n",
        "\n",
        "#define training, development and test sets\n",
        "X_train, y_train = df_train[\"sentence\"].values, df_train[\"label\"].values\n",
        "X_dev, y_dev = df_dev[\"sentence\"].values, df_dev[\"label\"].values\n",
        "X_test, y_test = df_test[\"sentence\"].values, df_test[\"label\"].values"
      ],
      "execution_count": 23,
      "outputs": []
    },
    {
      "cell_type": "code",
      "metadata": {
        "colab": {
          "base_uri": "https://localhost:8080/",
          "height": 1000
        },
        "id": "f3KbwP5Czmd3",
        "outputId": "01c75241-f39a-478b-9f80-20b0c0dceb88"
      },
      "source": [
        "#TODO: your code goes here\n",
        "# Apply manual feature engineering\n",
        "import numpy as np\n",
        "np.random.seed(RAND_SEED)  # set the random seed for reproducibility\n",
        "\n",
        "def fe_text_len(tokens):\n",
        "    return len(\" \".join(tokens))\n",
        "    \n",
        "def fe_positivity(tokens):\n",
        "    score = 0\n",
        "    for token in tokens:\n",
        "        if token in POS_WORDS:\n",
        "            score += 1\n",
        "        if token in NEG_WORDS:\n",
        "            score -= 1\n",
        "    return score\n",
        "\n",
        "def tokenise(text):\n",
        "    return text.split()  # because punctuation is already separated by spaces\n",
        "\n",
        "def featurise(text):\n",
        "    tokens = tokenise(text) \n",
        "    feature_functions = [fe_text_len, fe_positivity]\n",
        "    return np.array([fn(tokens) for fn in feature_functions])\n",
        "\n",
        "# Standardise each feature\n",
        "def standardise(features):\n",
        "    features = np.stack(features)\n",
        "    num_features = features.shape[1]\n",
        "    standardised_features = []\n",
        "    for i in range(num_features):\n",
        "        feature = features[:, i]\n",
        "        feature_mean = np.mean(feature)\n",
        "        feature_std = np.std(feature)\n",
        "        feature = (feature - feature_mean) / feature_std\n",
        "        standardised_features.append(feature)\n",
        "    \n",
        "    return list(zip(*standardised_features))\n",
        "# Extract the features from the sentences\n",
        "df_train['input_features'] = df_train['sentence'].apply(featurise)\n",
        "df_train['input_features_standardised'] = standardise(df_train['input_features'].values)\n",
        "\n",
        "#Build MLP\n",
        "class MLP(torch.nn.Module):\n",
        "    def __init__(self, input_size, hidden_size_1, hidden_size_2, output_size=1):# initialise with sizes\n",
        "        super(MLP, self).__init__()\n",
        "        self.input_size = input_size\n",
        "        self.hidden_size_1  = hidden_size_1\n",
        "        self.hidden_size_2  = hidden_size_2\n",
        "        self.output_size = output_size\n",
        "        \n",
        "        self.fc1 = torch.nn.Linear(self.input_size, self.hidden_size_1)\n",
        "        self.fc2 = torch.nn.Linear(self.hidden_size_1, self.hidden_size_2)\n",
        "        self.fc3 = torch.nn.Linear(self.hidden_size_2, self.output_size)  # single output node\n",
        "        \n",
        "        # Activation functions\n",
        "        self.relu = torch.nn.ReLU()\n",
        "        self.sigmoid = torch.nn.Sigmoid()\n",
        "     #our forawrd function   \n",
        "    def forward(self, x):\n",
        "        if type(x) == np.ndarray:\n",
        "            x = torch.FloatTensor(x)\n",
        "        hidden_1 = self.fc1(x)\n",
        "        activation_1 = self.relu(hidden_1)\n",
        "        hidden_2 = self.fc2(activation_1)\n",
        "        activation_2 = self.relu(hidden_2)\n",
        "        output = self.fc3(activation_2) \n",
        "        output = self.sigmoid(output)  # Now we have probabilities\n",
        "        return output\n",
        "    \n",
        "    def predict(self, x, threshold=0.5):\n",
        "        return (self.forward(x) >= threshold).float() * 1\n",
        "\n",
        "# Define Helper functions\n",
        "def predict(probabilities, threshold=0.5):\n",
        "    return (probabilities >= threshold).float() * 1\n",
        "\n",
        "\n",
        "# Compute the accuracy score\n",
        "def accuracy(y_true: list, y_pred: list) -> int:\n",
        "    assert len(y_true) == len(y_pred), \"y_true and y_pred must be the same length\"\n",
        "    num_correct = 0\n",
        "    for y_t, y_p in zip(y_true, y_pred):\n",
        "        if y_t == y_p:\n",
        "            num_correct += 1\n",
        "    return 100*num_correct / len(y_true)\n",
        "\n",
        "\n",
        "\n",
        "\n",
        "X_train, y_train = np.stack(df_train['input_features_standardised'].values), df_train['label'].values\n",
        "\n",
        "\n",
        "\n",
        "# Define the model, loss function and optimizer\n",
        "model = MLP(input_size=2, hidden_size_1=5, hidden_size_2=5, output_size=1)\n",
        "criterion = torch.nn.BCELoss()  # binary cross-entropy loss\n",
        "optimizer = torch.optim.Adam(model.parameters(), lr=0.01) #use Adam which builds on gradient descent. Lr is a parameter we can change !\n",
        "\n",
        "# Evaluate our model's performance before training\n",
        "model.eval()  # we need to put the model into eval mode so that it does not update the gradients\n",
        "y_pred_proba = model(torch.FloatTensor(X_train))\n",
        "y_pred = predict(y_pred_proba)\n",
        "before_train = criterion(y_pred_proba.squeeze(), torch.FloatTensor(y_train))\n",
        "\n",
        "print(\"The binary cross-entropy loss of our model is {:.4f}.\".format(before_train))\n",
        "print(\"The model's accuracy score is {:.2f}%\".format(accuracy(y_train, y_pred.squeeze())))\n",
        "\n",
        "\n",
        "\n",
        "\n",
        "#Train the model !!\n",
        "# We'll use the PyTorch DataLoader for organising our data into mini-batches\n",
        "from torch.utils.data import DataLoader\n",
        "\n",
        "batch_size = 4000 #change this size!\n",
        "# Note that we are training on the full dataset\n",
        "train_loader = DataLoader(list(zip(X_train, y_train)), batch_size=batch_size, shuffle=True)\n",
        "\n",
        "\n",
        "# Train the model\n",
        "def train(model, train_loader, criterion, optimizer, num_epochs=20):\n",
        "    model.train()  # tells PyTorch that the model is in training modes\n",
        "    for epoch in range(num_epochs):\n",
        "        train_loss = 0.0\n",
        "        for data, target in train_loader:  # every batch\n",
        "            data, target = data.float(), target.float()\n",
        "            optimizer.zero_grad()  # clear the gradients of all optimized variables\n",
        "            # Forward pass\n",
        "            y_pred_proba = model(data)  # probability\n",
        "            # Compute Loss\n",
        "            loss = criterion(y_pred_proba.squeeze(), torch.FloatTensor(target))\n",
        "            # Backward pass\n",
        "            loss.backward()\n",
        "            optimizer.step()\n",
        "            # Update the running training loss\n",
        "            train_loss += loss.item()*data.size(0)\n",
        "            \n",
        "        # Calculate average loss over an epoch\n",
        "        train_loss = train_loss/len(train_loader.dataset)\n",
        "        if not epoch % 1:\n",
        "            \n",
        "            print('Epoch {}: Train loss: {:.6f}'.format(epoch, train_loss))\n",
        "        \n",
        "train(model, train_loader, criterion, optimizer)\n",
        "\n",
        "# Evaluate our model's performance after training\n",
        "model.eval()  # we need to put the model into eval mode so that it does not update the gradients\n",
        "y_pred_proba = model(torch.FloatTensor(X_train))\n",
        "y_pred = predict(y_pred_proba)\n",
        "after_train = criterion(y_pred_proba.squeeze(), torch.FloatTensor(y_train))\n",
        "\n",
        "print(\"The binary cross-entropy loss of our model is {:.4f}.\".format(after_train))\n",
        "print(\"The model's accuracy score is {:.2f}%\".format(accuracy(y_train, y_pred.squeeze())))\n",
        "\n",
        "\n",
        "\n",
        "#Beginning of emedding model \n",
        "TEXT = data.Field(sequential=True, tokenize=tokenise)\n",
        "LABEL = data.LabelField(dtype=torch.long, sequential=False)\n",
        "\n",
        "\n",
        "# Helper classes to allow loading of dataframes into torchtext datasets\n",
        "# Sourced from: https://stackoverflow.com/questions/52602071/dataframe-as-datasource-in-torchtext\n",
        "class DataFrameDataset(Dataset):\n",
        "    \"\"\"Class for using pandas DataFrames as a datasource\"\"\"\n",
        "\n",
        "    def __init__(self, examples, fields, filter_pred=None):\n",
        "        \"\"\"\n",
        "        Create a dataset from a pandas dataframe of examples and Fields\n",
        "        Arguments:\n",
        "            examples pd.DataFrame: DataFrame of examples\n",
        "            fields {str: Field}: The Fields to use in this tuple. The\n",
        "                string is a field name, and the Field is the associated field.\n",
        "            filter_pred (callable or None): use only exanples for which\n",
        "                filter_pred(example) is true, or use all examples if None.\n",
        "                Default is None\n",
        "        \"\"\"\n",
        "        self.examples = examples.apply(SeriesExample.fromSeries, args=(fields,), axis=1).tolist()\n",
        "        if filter_pred is not None:\n",
        "            self.examples = filter(filter_pred, self.examples)\n",
        "        self.fields = dict(fields)\n",
        "        # Unpack field tuples\n",
        "        for n, f in list(self.fields.items()):\n",
        "            if isinstance(n, tuple):\n",
        "                self.fields.update(zip(n, f))\n",
        "                del self.fields[n]\n",
        "\n",
        "\n",
        "class SeriesExample(Example):\n",
        "    \"\"\"Class to convert a pandas Series to an Example\"\"\"\n",
        "    @classmethod\n",
        "    def fromSeries(cls, data, fields):\n",
        "        return cls.fromdict(data.to_dict(), fields)\n",
        "\n",
        "    @classmethod\n",
        "    def fromdict(cls, data, fields):\n",
        "        ex = cls()\n",
        "\n",
        "        for key, field in fields.items():\n",
        "            if key not in data:\n",
        "                raise ValueError(\"Specified key {} was not found in \"\n",
        "                                 \"the input data\".format(key))\n",
        "            if field is not None:\n",
        "                setattr(ex, key, field.preprocess(data[key]))\n",
        "            else:\n",
        "                setattr(ex, key, data[key])\n",
        "        return ex\n",
        "\n",
        "\n",
        "# Loading train, validation and test data\n",
        "# For faster training we use num_examples=10000, in practice we would obviously use all the available data\n",
        "num_examples = 4000  # None\n",
        "dfd_train = DataFrameDataset(df_train[:num_examples], fields={'sentence': TEXT, 'label': LABEL})\n",
        "dfd_dev = DataFrameDataset(df_dev, fields={'sentence': TEXT, 'label': LABEL})\n",
        "dfd_test = DataFrameDataset(df_test, fields={'sentence': TEXT, 'label': LABEL})\n",
        "#build vocab with glove embeddings\n",
        "TEXT.build_vocab(dfd_train, max_size=20000, vectors=\"glove.6B.100d\")\n",
        "LABEL.build_vocab(dfd_train)\n",
        "\n",
        "# Override the LABEL vocab\n",
        "from collections import defaultdict\n",
        "LABEL.vocab.stoi = defaultdict(None, {1: 1, 0: 0})\n",
        "\n",
        "\n",
        "# Define the data iterators\n",
        "BATCH_SIZE = 50\n",
        "#speeds up training significantly\n",
        "train_iterator, valid_iterator, test_iterator = data.BucketIterator.splits(\n",
        "    (dfd_train, dfd_dev, dfd_test),\n",
        "    sort_key=lambda x: len(x.sentence),\n",
        "    batch_size=BATCH_SIZE\n",
        ")\n",
        "\n",
        "\n",
        "# Now we need to modify our MLP with an EmbeddingBag Layer\n",
        "class MLPEmbedding(torch.nn.Module):\n",
        "    def __init__(self, input_size, embedding_size, hidden_size_1, hidden_size_2, output_size=1):\n",
        "        super(MLPEmbedding, self).__init__()\n",
        "        self.input_size = input_size\n",
        "        self.embedding_size = embedding_size\n",
        "        self.hidden_size_1  = hidden_size_1\n",
        "        self.hidden_size_2  = hidden_size_2\n",
        "        self.output_size = output_size\n",
        "        \n",
        "        self.embedding = torch.nn.EmbeddingBag(input_size, embedding_size)\n",
        "        self.fc1 = torch.nn.Linear(self.embedding_size, self.hidden_size_1)\n",
        "        self.fc2 = torch.nn.Linear(self.hidden_size_1, self.hidden_size_2)\n",
        "        self.fc3 = torch.nn.Linear(self.hidden_size_2, self.output_size)  # single output node\n",
        "        self.relu = torch.nn.ReLU()\n",
        "        self.sigmoid = torch.nn.Sigmoid()\n",
        "        \n",
        "    def forward(self, x):\n",
        "        embedded = self.embedding(x)\n",
        "        hidden_1 = self.fc1(embedded)\n",
        "        activation_1 = self.relu(hidden_1)\n",
        "        hidden_2 = self.fc2(activation_1)\n",
        "        activation_2 = self.relu(hidden_2)\n",
        "        output = self.fc3(activation_2) \n",
        "        output = self.sigmoid(output)  # Now we have probabilities\n",
        "        return output \n",
        "    \n",
        "    def predict(self, x, threshold=0.5):\n",
        "        return (self.forward(x) >= threshold).float() * 1\n",
        "\n",
        "\n",
        "INPUT_SIZE = len(TEXT.vocab)\n",
        "EMBEDDING_SIZE = TEXT.vocab.vectors.shape[1]  # 100\n",
        "\n",
        "# Define the model\n",
        "model = MLPEmbedding(INPUT_SIZE, EMBEDDING_SIZE, 5, 5)\n",
        "model.embedding.weight.data = TEXT.vocab.vectors  # set the model embedding layer weight matrix\n",
        "\n",
        "# Define the loss function and optimizer\n",
        "criterion = torch.nn.BCELoss()\n",
        "optimizer = torch.optim.Adam(model.parameters(), lr = 0.001) #change learning rate !!\n",
        "\n",
        "\n",
        "if IN_COLAB:\n",
        "    !pip install pyprind\n",
        "import pyprind\n",
        "\n",
        "def train(model, iterator, criterion, optimizer):\n",
        "    epoch_loss = 0\n",
        "    epoch_acc = 0\n",
        "    \n",
        "    model.train()\n",
        "    bar = pyprind.ProgBar(len(iterator), bar_char='█')\n",
        "    for batch in iterator:\n",
        "        optimizer.zero_grad()\n",
        "        \n",
        "        predictions = model(batch.sentence.T).squeeze()\n",
        "        labels = batch.label.float()\n",
        "        \n",
        "        loss = criterion(predictions, labels)\n",
        "        acc = accuracy(predict(predictions), labels)\n",
        "        \n",
        "        loss.backward()\n",
        "        optimizer.step()\n",
        "        \n",
        "        epoch_loss += loss.item()\n",
        "        epoch_acc += acc\n",
        "        bar.update()\n",
        "    return epoch_loss / len(iterator), epoch_acc / len(iterator)\n",
        "\n",
        "def evaluate(model, iterator, criterion):\n",
        "    epoch_loss = 0\n",
        "    epoch_acc = 0\n",
        "    \n",
        "    model.eval()\n",
        "    with torch.no_grad():\n",
        "        bar = pyprind.ProgBar(len(iterator), bar_char='█')\n",
        "        for batch in iterator:\n",
        "            predictions = model(batch.sentence.T).squeeze()\n",
        "            labels = batch.label.float()\n",
        "            \n",
        "            loss = criterion(predictions, labels)\n",
        "            acc = accuracy(predict(predictions), labels)\n",
        "\n",
        "            epoch_loss += loss.item()\n",
        "            epoch_acc += acc\n",
        "            bar.update()\n",
        "    return epoch_loss / len(iterator), epoch_acc / len(iterator) \n",
        "\n",
        "\n",
        "# Train the model\n",
        "N_EPOCHS = 20\n",
        "train_losses, valid_losses = [], []\n",
        "train_accuracy, valid_accuracy =  [], []\n",
        "test_accuracy = []\n",
        "\n",
        "for epoch in range(N_EPOCHS):\n",
        "    train_loss, train_acc = train(model, train_iterator, criterion, optimizer)\n",
        "    valid_loss, valid_acc = evaluate(model, valid_iterator, criterion)\n",
        "    train_losses.append(train_loss)\n",
        "    valid_losses.append(valid_loss)\n",
        "    train_accuracy.append(train_acc)\n",
        "    valid_accuracy.append(valid_acc)\n",
        "    test_accuracy.append(test_accuracy)\n",
        "    print(f'Epoch: {epoch+1:02} | Train Loss: {train_loss:.3f} | Train Acc: {train_acc:.2f}% | Val. Loss: {valid_loss:.3f} | Val. Acc: {valid_acc:.2f}%')\n",
        "\n",
        "# Plot the training and validation losses\n",
        "fig = plt.figure(figsize=(18, 8))\n",
        "x = list(range(1, 1+len(train_losses)))\n",
        "\n",
        "plt.plot(x, train_losses, 'b', linewidth=2)\n",
        "plt.plot(x, valid_losses, 'r', linewidth=2)\n",
        "plt.xlabel('Epoch #')\n",
        "plt.ylabel('Binary Cross-Entropy Loss')\n",
        "plt.legend(('Training Loss', 'Validation Loss'))\n",
        "plt.show()\n",
        "\n",
        "\n",
        "\n",
        "# Plot the training and validation accuracy\n",
        "fig = plt.figure(figsize=(18, 8))\n",
        "x = list(range(1, 1+len(train_accuracy)))\n",
        "\n",
        "plt.plot(x, train_accuracy, 'b', linewidth=2)\n",
        "plt.plot(x, valid_accuracy, 'r', linewidth=2)\n",
        "plt.xlabel('Epoch #')\n",
        "plt.ylabel('Binary Cross-Entropy Loss')\n",
        "plt.legend(('Training Accuracy', 'Validation Accuracy'))\n",
        "plt.show()\n",
        "\n",
        "\n",
        "\n",
        "#Error analysis \n",
        "# Get the model predictions\n",
        "def predict_sentiment(sentence):\n",
        "    model.eval()\n",
        "    with torch.no_grad():\n",
        "        tokenised = tokenise(sentence)\n",
        "        indexed = [TEXT.vocab.stoi[t] for t in tokenised]\n",
        "        input_tensor = torch.LongTensor(indexed).unsqueeze(1)\n",
        "        y_pred_proba = model(input_tensor.T).squeeze()\n",
        "        y_pred = predict(y_pred_proba)\n",
        "        return int(y_pred.numpy())\n",
        "#Validation Accuracy \n",
        "df_dev_predict = df_dev.copy()\n",
        "df_dev_predict['prediction'] = df_dev_predict['sentence'].apply(predict_sentiment)\n",
        "model_val_acc = accuracy(df_dev_predict['label'].values, df_dev_predict['prediction'].values)\n",
        "print(\"The model's validation accuracy score is {:.2f}%\".format(model_val_acc))\n",
        "\n",
        "#Test accuracy\n",
        "df_test_predict = df_test.copy()\n",
        "df_test_predict['prediction'] = df_test_predict['sentence'].apply(predict_sentiment)\n",
        "model_test_acc = accuracy(df_test_predict['label'].values, df_test_predict['prediction'].values)\n",
        "print(\"The model's test accuracy score is {:.2f}%\".format(model_test_acc))\n",
        "\n",
        "\n"
      ],
      "execution_count": 24,
      "outputs": [
        {
          "output_type": "stream",
          "text": [
            "The binary cross-entropy loss of our model is 0.7121.\n",
            "The model's accuracy score is 44.34%\n",
            "Epoch 0: Train loss: 0.675438\n",
            "Epoch 1: Train loss: 0.584183\n",
            "Epoch 2: Train loss: 0.545827\n",
            "Epoch 3: Train loss: 0.538224\n",
            "Epoch 4: Train loss: 0.536835\n",
            "Epoch 5: Train loss: 0.536399\n",
            "Epoch 6: Train loss: 0.536249\n",
            "Epoch 7: Train loss: 0.536000\n",
            "Epoch 8: Train loss: 0.535552\n",
            "Epoch 9: Train loss: 0.535279\n",
            "Epoch 10: Train loss: 0.535202\n",
            "Epoch 11: Train loss: 0.534829\n",
            "Epoch 12: Train loss: 0.534584\n",
            "Epoch 13: Train loss: 0.534381\n",
            "Epoch 14: Train loss: 0.534050\n",
            "Epoch 15: Train loss: 0.533993\n",
            "Epoch 16: Train loss: 0.533907\n",
            "Epoch 17: Train loss: 0.533633\n",
            "Epoch 18: Train loss: 0.533530\n",
            "Epoch 19: Train loss: 0.533449\n",
            "The binary cross-entropy loss of our model is 0.5336.\n"
          ],
          "name": "stdout"
        },
        {
          "output_type": "stream",
          "text": [
            "\r.vector_cache/glove.6B.zip: 0.00B [00:00, ?B/s]"
          ],
          "name": "stderr"
        },
        {
          "output_type": "stream",
          "text": [
            "The model's accuracy score is 71.77%\n"
          ],
          "name": "stdout"
        },
        {
          "output_type": "stream",
          "text": [
            ".vector_cache/glove.6B.zip: 862MB [02:43, 5.28MB/s]                           \n",
            "100%|█████████▉| 399624/400000 [00:22<00:00, 17804.59it/s]\n"
          ],
          "name": "stderr"
        },
        {
          "output_type": "stream",
          "text": [
            "Collecting pyprind\n",
            "  Downloading https://files.pythonhosted.org/packages/1e/30/e76fb0c45da8aef49ea8d2a90d4e7a6877b45894c25f12fb961f009a891e/PyPrind-2.11.2-py3-none-any.whl\n",
            "Installing collected packages: pyprind\n",
            "Successfully installed pyprind-2.11.2\n"
          ],
          "name": "stdout"
        },
        {
          "output_type": "stream",
          "text": [
            "0% [██████████████████████████████] 100% | ETA: 00:00:00\n",
            "Total time elapsed: 00:00:00\n",
            "0% [█████████] 100% | ETA: 00:00:00"
          ],
          "name": "stderr"
        },
        {
          "output_type": "stream",
          "text": [
            "Epoch: 01 | Train Loss: 0.706 | Train Acc: 45.50% | Val. Loss: 0.687 | Val. Acc: 52.77%\n"
          ],
          "name": "stdout"
        },
        {
          "output_type": "stream",
          "text": [
            "\n",
            "Total time elapsed: 00:00:00\n",
            "0% [██████████████████████████████] 100% | ETA: 00:00:00\n",
            "Total time elapsed: 00:00:00\n",
            "0% [█████████] 100% | ETA: 00:00:00"
          ],
          "name": "stderr"
        },
        {
          "output_type": "stream",
          "text": [
            "Epoch: 02 | Train Loss: 0.683 | Train Acc: 55.35% | Val. Loss: 0.680 | Val. Acc: 50.77%\n"
          ],
          "name": "stdout"
        },
        {
          "output_type": "stream",
          "text": [
            "\n",
            "Total time elapsed: 00:00:00\n",
            "0% [██████████████████████████████] 100% | ETA: 00:00:00\n",
            "Total time elapsed: 00:00:00\n",
            "0% [█████████] 100% | ETA: 00:00:00"
          ],
          "name": "stderr"
        },
        {
          "output_type": "stream",
          "text": [
            "Epoch: 03 | Train Loss: 0.666 | Train Acc: 56.52% | Val. Loss: 0.643 | Val. Acc: 66.31%\n"
          ],
          "name": "stdout"
        },
        {
          "output_type": "stream",
          "text": [
            "\n",
            "Total time elapsed: 00:00:00\n",
            "0% [██████████████████████████████] 100% | ETA: 00:00:00\n",
            "Total time elapsed: 00:00:00\n",
            "0% [█████████] 100% | ETA: 00:00:00"
          ],
          "name": "stderr"
        },
        {
          "output_type": "stream",
          "text": [
            "Epoch: 04 | Train Loss: 0.629 | Train Acc: 63.98% | Val. Loss: 0.605 | Val. Acc: 68.53%\n"
          ],
          "name": "stdout"
        },
        {
          "output_type": "stream",
          "text": [
            "\n",
            "Total time elapsed: 00:00:00\n",
            "0% [██████████████████████████████] 100% | ETA: 00:00:00\n",
            "Total time elapsed: 00:00:00\n",
            "0% [█████████] 100% | ETA: 00:00:00"
          ],
          "name": "stderr"
        },
        {
          "output_type": "stream",
          "text": [
            "Epoch: 05 | Train Loss: 0.565 | Train Acc: 72.75% | Val. Loss: 0.596 | Val. Acc: 68.75%\n"
          ],
          "name": "stdout"
        },
        {
          "output_type": "stream",
          "text": [
            "\n",
            "Total time elapsed: 00:00:00\n",
            "0% [██████████████████████████████] 100% | ETA: 00:00:00\n",
            "Total time elapsed: 00:00:00\n",
            "0% [█████████] 100% | ETA: 00:00:00"
          ],
          "name": "stderr"
        },
        {
          "output_type": "stream",
          "text": [
            "Epoch: 06 | Train Loss: 0.484 | Train Acc: 81.45% | Val. Loss: 0.606 | Val. Acc: 72.57%\n"
          ],
          "name": "stdout"
        },
        {
          "output_type": "stream",
          "text": [
            "\n",
            "Total time elapsed: 00:00:00\n",
            "0% [██████████████████████████████] 100% | ETA: 00:00:00\n",
            "Total time elapsed: 00:00:00\n",
            "0% [█████████] 100% | ETA: 00:00:00"
          ],
          "name": "stderr"
        },
        {
          "output_type": "stream",
          "text": [
            "Epoch: 07 | Train Loss: 0.411 | Train Acc: 87.65% | Val. Loss: 0.638 | Val. Acc: 73.77%\n"
          ],
          "name": "stdout"
        },
        {
          "output_type": "stream",
          "text": [
            "\n",
            "Total time elapsed: 00:00:00\n",
            "0% [██████████████████████████████] 100% | ETA: 00:00:00\n",
            "Total time elapsed: 00:00:00\n",
            "0% [█████████] 100% | ETA: 00:00:00"
          ],
          "name": "stderr"
        },
        {
          "output_type": "stream",
          "text": [
            "Epoch: 08 | Train Loss: 0.354 | Train Acc: 91.85% | Val. Loss: 0.716 | Val. Acc: 75.32%\n"
          ],
          "name": "stdout"
        },
        {
          "output_type": "stream",
          "text": [
            "\n",
            "Total time elapsed: 00:00:00\n",
            "0% [██████████████████████████████] 100% | ETA: 00:00:00\n",
            "Total time elapsed: 00:00:00\n",
            "0% [█████████] 100% | ETA: 00:00:00"
          ],
          "name": "stderr"
        },
        {
          "output_type": "stream",
          "text": [
            "Epoch: 09 | Train Loss: 0.307 | Train Acc: 94.42% | Val. Loss: 0.803 | Val. Acc: 75.63%\n"
          ],
          "name": "stdout"
        },
        {
          "output_type": "stream",
          "text": [
            "\n",
            "Total time elapsed: 00:00:00\n",
            "0% [██████████████████████████████] 100% | ETA: 00:00:00\n",
            "Total time elapsed: 00:00:00\n",
            "0% [█████████] 100% | ETA: 00:00:00"
          ],
          "name": "stderr"
        },
        {
          "output_type": "stream",
          "text": [
            "Epoch: 10 | Train Loss: 0.272 | Train Acc: 95.75% | Val. Loss: 0.864 | Val. Acc: 74.43%\n"
          ],
          "name": "stdout"
        },
        {
          "output_type": "stream",
          "text": [
            "\n",
            "Total time elapsed: 00:00:00\n",
            "0% [██████████████████████████████] 100% | ETA: 00:00:00\n",
            "Total time elapsed: 00:00:00\n",
            "0% [█████████] 100% | ETA: 00:00:00"
          ],
          "name": "stderr"
        },
        {
          "output_type": "stream",
          "text": [
            "Epoch: 11 | Train Loss: 0.243 | Train Acc: 96.97% | Val. Loss: 0.971 | Val. Acc: 73.85%\n"
          ],
          "name": "stdout"
        },
        {
          "output_type": "stream",
          "text": [
            "\n",
            "Total time elapsed: 00:00:00\n",
            "0% [██████████████████████████████] 100% | ETA: 00:00:00\n",
            "Total time elapsed: 00:00:00\n",
            "0% [█████████] 100% | ETA: 00:00:00"
          ],
          "name": "stderr"
        },
        {
          "output_type": "stream",
          "text": [
            "Epoch: 12 | Train Loss: 0.219 | Train Acc: 97.50% | Val. Loss: 0.917 | Val. Acc: 74.74%\n"
          ],
          "name": "stdout"
        },
        {
          "output_type": "stream",
          "text": [
            "\n",
            "Total time elapsed: 00:00:00\n",
            "0% [██████████████████████████████] 100% | ETA: 00:00:00\n",
            "Total time elapsed: 00:00:00\n",
            "0% [█████████] 100% | ETA: 00:00:00"
          ],
          "name": "stderr"
        },
        {
          "output_type": "stream",
          "text": [
            "Epoch: 13 | Train Loss: 0.199 | Train Acc: 97.90% | Val. Loss: 1.065 | Val. Acc: 74.07%\n"
          ],
          "name": "stdout"
        },
        {
          "output_type": "stream",
          "text": [
            "\n",
            "Total time elapsed: 00:00:00\n",
            "0% [██████████████████████████████] 100% | ETA: 00:00:00\n",
            "Total time elapsed: 00:00:00\n",
            "0% [█████████] 100% | ETA: 00:00:00"
          ],
          "name": "stderr"
        },
        {
          "output_type": "stream",
          "text": [
            "Epoch: 14 | Train Loss: 0.184 | Train Acc: 98.35% | Val. Loss: 1.113 | Val. Acc: 74.52%\n"
          ],
          "name": "stdout"
        },
        {
          "output_type": "stream",
          "text": [
            "\n",
            "Total time elapsed: 00:00:00\n",
            "0% [██████████████████████████████] 100% | ETA: 00:00:00\n",
            "Total time elapsed: 00:00:00\n",
            "0% [█████████] 100% | ETA: 00:00:00"
          ],
          "name": "stderr"
        },
        {
          "output_type": "stream",
          "text": [
            "Epoch: 15 | Train Loss: 0.170 | Train Acc: 98.55% | Val. Loss: 1.184 | Val. Acc: 74.16%\n"
          ],
          "name": "stdout"
        },
        {
          "output_type": "stream",
          "text": [
            "\n",
            "Total time elapsed: 00:00:00\n",
            "0% [██████████████████████████████] 100% | ETA: 00:00:00\n",
            "Total time elapsed: 00:00:00\n",
            "0% [█████████] 100% | ETA: 00:00:00"
          ],
          "name": "stderr"
        },
        {
          "output_type": "stream",
          "text": [
            "Epoch: 16 | Train Loss: 0.157 | Train Acc: 98.80% | Val. Loss: 1.239 | Val. Acc: 73.94%\n"
          ],
          "name": "stdout"
        },
        {
          "output_type": "stream",
          "text": [
            "\n",
            "Total time elapsed: 00:00:00\n",
            "0% [██████████████████████████████] 100% | ETA: 00:00:00\n",
            "Total time elapsed: 00:00:00\n",
            "0% [█████████] 100% | ETA: 00:00:00"
          ],
          "name": "stderr"
        },
        {
          "output_type": "stream",
          "text": [
            "Epoch: 17 | Train Loss: 0.148 | Train Acc: 98.85% | Val. Loss: 1.316 | Val. Acc: 73.49%\n"
          ],
          "name": "stdout"
        },
        {
          "output_type": "stream",
          "text": [
            "\n",
            "Total time elapsed: 00:00:00\n",
            "0% [██████████████████████████████] 100% | ETA: 00:00:00\n",
            "Total time elapsed: 00:00:00\n",
            "0% [█████████] 100% | ETA: 00:00:00"
          ],
          "name": "stderr"
        },
        {
          "output_type": "stream",
          "text": [
            "Epoch: 18 | Train Loss: 0.139 | Train Acc: 98.88% | Val. Loss: 1.288 | Val. Acc: 74.38%\n"
          ],
          "name": "stdout"
        },
        {
          "output_type": "stream",
          "text": [
            "\n",
            "Total time elapsed: 00:00:00\n",
            "0% [██████████████████████████████] 100% | ETA: 00:00:00\n",
            "Total time elapsed: 00:00:00\n",
            "0% [█████████] 100% | ETA: 00:00:00"
          ],
          "name": "stderr"
        },
        {
          "output_type": "stream",
          "text": [
            "Epoch: 19 | Train Loss: 0.131 | Train Acc: 99.03% | Val. Loss: 1.429 | Val. Acc: 73.49%\n"
          ],
          "name": "stdout"
        },
        {
          "output_type": "stream",
          "text": [
            "\n",
            "Total time elapsed: 00:00:00\n",
            "0% [██████████████████████████████] 100% | ETA: 00:00:00\n",
            "Total time elapsed: 00:00:00\n",
            "0% [█████████] 100% | ETA: 00:00:00\n",
            "Total time elapsed: 00:00:00\n"
          ],
          "name": "stderr"
        },
        {
          "output_type": "stream",
          "text": [
            "Epoch: 20 | Train Loss: 0.122 | Train Acc: 99.05% | Val. Loss: 1.379 | Val. Acc: 75.14%\n"
          ],
          "name": "stdout"
        },
        {
          "output_type": "display_data",
          "data": {
            "image/png": "[encoded data removed]",
            "text/plain": [
              "<Figure size 1296x576 with 1 Axes>"
            ]
          },
          "metadata": {
            "tags": [],
            "needs_background": "light"
          }
        },
        {
          "output_type": "display_data",
          "data": {
            "image/png": "[encoded data removed]",
            "text/plain": [
              "<Figure size 1296x576 with 1 Axes>"
            ]
          },
          "metadata": {
            "tags": [],
            "needs_background": "light"
          }
        },
        {
          "output_type": "stream",
          "text": [
            "The model's validation accuracy score is 75.23%\n",
            "The model's test accuracy score is 77.52%\n"
          ],
          "name": "stdout"
        }
      ]
    },
    {
      "cell_type": "markdown",
      "metadata": {
        "id": "yV3BgEv8oisK"
      },
      "source": [
        "<hr />"
      ]
    },
    {
      "cell_type": "markdown",
      "metadata": {
        "id": "YLW7yj-rofT0"
      },
      "source": [
        "## Q7: Multiple Choice Quiz [10 points]\n",
        "\n",
        "Answer the following questions by selecting the correct answer:\n",
        "\n",
        "1. What is the Bag-of-Words (BOW) representation of the sentence `I love NLP` given the vocab defined by the tokens `['OOV', 'a', 'I', 'must', 'love']`?\n",
        "2. What is the seventy-fourth element (index `73`) of the GloVe 6B 100-dimensional word embedding for `language`?\n",
        "3. You are collecting data for a sentiment classification task. You've asked two expert workers to classify `20` sentences. Both workers agree on `11` positive examples and `4` negative examples. However, **worker A** labels `3` examples positive that **worker B** considered negative, while **worker B** labels `2` examples positive that **worker A** considered negative. What is the value of Cohen's Kappa?\n",
        "4. In the sentence `I am enjoying this Natural Language Processing assignment`, what type of phrase is `am enjoying`?\n",
        "5. Which of the following is **not** an example of an **activation function**?\n",
        "6. What is the purpose of retaining a **held-out test set**?\n",
        "7. What is the value of the gradient at the steepest point on a **logistic sigmoid curve**?\n",
        "8. What probability will a non-OOV aware Uniform Language Model assign to the word `NLP` if it's vocabulary consists of the words `['NLP', 'is', 'so', 'intriguing']`?\n",
        "9. Gradients in a neural network can sometimes be unstable and **vanish** or **explode**. Which of the following is an example of a reasonable way to deal with **exploding gradients**?\n",
        "10. Which of the following is **not** an example of an **objective (or loss) function**?"
      ]
    },
    {
      "cell_type": "code",
      "metadata": {
        "id": "5axsUSQIoock"
      },
      "source": [
        "#@title Answers { run: \"auto\" }\n",
        "Q1 = \"[0, 0, 1, 0, 1]\" #@param [\"Please select..\", \"[1, 0, 1, 0, 1]\", \"[0, 0, 1, 0, 1]\", \"[1, 0, 1]\", \"[1, 1, 1]\", \"[0, 0, 0, 1]\", \"None of the above\"]\n",
        "Q2 = \"-0.39014\" #@param [\"Please select..\", \"-0.04817\", \"0.89017\", \"-0.10938\", \"0.46719\", \"-0.39014\", \"None of the above\"]\n",
        "Q3 = \"0.432\" #@param [\"Please select..\", \"0.390\", \"0.432\", \"0.500\", \"0.709\", \"0.782\", \"None of the above\"]\n",
        "Q4 = \"Verb Phrase (VP)\" #@param [\"Please select..\", \"Noun Phrase (NP)\", \"Verb Phrase (VP)\", \"Prepositional Phrase (PP)\", \"Determiner (Det)\", \"Parse Tree\", \"None of the above\"]\n",
        "Q5 = \"None of the above\" #@param [\"Please select..\", \"Sigmoid\", \"ReLU\", \"Tanh\", \"Leaky ReLU\", \"ELU\", \"None of the above\"]\n",
        "Q6 = \"To estimate the model's generalisation capability\" #@param [\"Please select..\", \"To allow us to tune hyper-parameters\", \"To train on if we don't have enough data\", \"To enable cross-validation\", \"To be able to show loss plots\", \"To estimate the model's generalisation capability\", \"None of the above\"]\n",
        "Q7 = \"0.5\" #@param [\"Please select..\", \"0.1\", \"0.25\", \"0.5\", \"0.75\", \"1.0\", \"None of the above\"]\n",
        "Q8 = \"0.25\" #@param [\"Please select..\", \"0.1\", \"0.25\", \"0.5\", \"0.75\", \"1.0\", \"None of the above\"]\n",
        "Q9 = \"Gradient clipping\" #@param [\"Please select..\", \"Backpropagation Through Time (BPTT)\", \"Gradient clipping\", \"Dropout\", \"Re-initialisation\", \"LSTMs\", \"None of the above\"]\n",
        "Q10 = \"Indefinite loss\" #@param [\"Please select..\", \"Mean Squared Error (MSE) loss\", \"Exponential loss\", \"Indefinite loss\", \"Hinge loss\", \"Cross-entropy loss\", \"None of the above\"]"
      ],
      "execution_count": 25,
      "outputs": []
    },
    {
      "cell_type": "markdown",
      "metadata": {
        "id": "TxJd7xpVmcLk"
      },
      "source": [
        "<hr />"
      ]
    },
    {
      "cell_type": "markdown",
      "metadata": {
        "id": "ZYpKA33BmhNm"
      },
      "source": [
        "# Automatic Evaluation [don't change!]"
      ]
    },
    {
      "cell_type": "markdown",
      "metadata": {
        "id": "_3QE1TztmpH1"
      },
      "source": [
        "## Validity Check\n",
        "This is a way for you to check whether you accidentially renamed answer variables or functions that we will use for automatic evaluation. Note that this is not a comprehensive list and we do not check here whether you accidentially changed the function signatures, so failing this validity check is only a sufficient condition for telling you something went wrong."
      ]
    },
    {
      "cell_type": "code",
      "metadata": {
        "id": "ws-pYNoAxI-g",
        "colab": {
          "base_uri": "https://localhost:8080/"
        },
        "outputId": "b8e41283-5614-4bde-dfec-d9993db30ad6"
      },
      "source": [
        "# Validity checks\n",
        "for fn in [\n",
        "    word_tokenize, \n",
        "    remove_stopwords, \n",
        "    is_good,\n",
        "    is_bad,\n",
        "    get_similarity\n",
        "    ]:\n",
        "  assert callable(fn)\n",
        "\n",
        "for answer in [similarity_tfidf, similarity_glove, similarity_elmo, similarity_bert]:\n",
        "  assert isinstance(answer, (np.floating, float)), f\"{answer} is of type {type(answer)}\"\n",
        "\n",
        "for answer in [Q1, Q2, Q3, Q4, Q5, Q6, Q7, Q8, Q9, Q10]:\n",
        "  assert isinstance(answer, str), f\"{answer} is of type {type(answer)}\"\n",
        "\n",
        "print(\"Validity checks passed!\")"
      ],
      "execution_count": 26,
      "outputs": [
        {
          "output_type": "stream",
          "text": [
            "Validity checks passed!\n"
          ],
          "name": "stdout"
        }
      ]
    },
    {
      "cell_type": "markdown",
      "metadata": {
        "id": "oq26NkLTmiwt"
      },
      "source": [
        "<hr />"
      ]
    }
  ]
}